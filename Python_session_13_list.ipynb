{
 "cells": [
  {
   "cell_type": "markdown",
   "id": "b0bb473d-3d6e-4354-98e8-e914e9f4b66f",
   "metadata": {},
   "source": [
    "**Representations**"
   ]
  },
  {
   "cell_type": "markdown",
   "id": "a35fa695-9e31-4c86-80a1-4fb4d1ea572c",
   "metadata": {},
   "source": [
    "- String representations with quotes\n",
    "- list represent with square brackets"
   ]
  },
  {
   "cell_type": "code",
   "execution_count": 1,
   "id": "577b6c3c-054f-4570-ab47-e8e64ed8c5f0",
   "metadata": {},
   "outputs": [
    {
     "data": {
      "text/plain": [
       "[1, 2, 3, 4]"
      ]
     },
     "execution_count": 1,
     "metadata": {},
     "output_type": "execute_result"
    }
   ],
   "source": [
    "l1=[1,2,3,4]\n",
    "l1"
   ]
  },
  {
   "cell_type": "code",
   "execution_count": 2,
   "id": "ddf5c2e4-a168-4538-b29e-1bb3ae3f12e2",
   "metadata": {},
   "outputs": [
    {
     "data": {
      "text/plain": [
       "list"
      ]
     },
     "execution_count": 2,
     "metadata": {},
     "output_type": "execute_result"
    }
   ],
   "source": [
    "type(l1)"
   ]
  },
  {
   "cell_type": "code",
   "execution_count": 4,
   "id": "771e266b-e397-4753-88fa-86590fe287c8",
   "metadata": {},
   "outputs": [
    {
     "data": {
      "text/plain": [
       "['A', 'B', 'C', 'D']"
      ]
     },
     "execution_count": 4,
     "metadata": {},
     "output_type": "execute_result"
    }
   ],
   "source": [
    "l2=['A','B','C','D']\n",
    "l2"
   ]
  },
  {
   "cell_type": "code",
   "execution_count": 5,
   "id": "d0e10d3f-54c4-4d0c-b5d0-507c5f9aa8d7",
   "metadata": {},
   "outputs": [
    {
     "data": {
      "text/plain": [
       "[1, 2, 3, 4, 'A', 'B', 'C', 'D']"
      ]
     },
     "execution_count": 5,
     "metadata": {},
     "output_type": "execute_result"
    }
   ],
   "source": [
    "l3=[1,2,3,4,'A','B','C','D']\n",
    "l3"
   ]
  },
  {
   "cell_type": "code",
   "execution_count": 6,
   "id": "f28b5598-ba7c-4039-bcaf-c39fd91a472f",
   "metadata": {},
   "outputs": [
    {
     "data": {
      "text/plain": [
       "[1, 2, 3, 'Apple', 'Ball', 'Cat', True, False]"
      ]
     },
     "execution_count": 6,
     "metadata": {},
     "output_type": "execute_result"
    }
   ],
   "source": [
    "l4=[1,2,3,'Apple','Ball','Cat',True,False]\n",
    "l4"
   ]
  },
  {
   "cell_type": "code",
   "execution_count": 7,
   "id": "e6bc159b-6c99-4d3e-a326-c01b6d59f76a",
   "metadata": {},
   "outputs": [
    {
     "data": {
      "text/plain": [
       "['naresh it']"
      ]
     },
     "execution_count": 7,
     "metadata": {},
     "output_type": "execute_result"
    }
   ],
   "source": [
    "name='naresh it'\n",
    "l5=[name]\n",
    "l5"
   ]
  },
  {
   "cell_type": "code",
   "execution_count": 8,
   "id": "efe3f97e-81cb-4934-b5f5-895d25461f58",
   "metadata": {},
   "outputs": [
    {
     "data": {
      "text/plain": [
       "[100, 100, 100]"
      ]
     },
     "execution_count": 8,
     "metadata": {},
     "output_type": "execute_result"
    }
   ],
   "source": [
    "l6=[100,100,100]\n",
    "l6"
   ]
  },
  {
   "cell_type": "code",
   "execution_count": 10,
   "id": "9c7be8a5-cc7e-454e-a409-143875a5b870",
   "metadata": {},
   "outputs": [
    {
     "data": {
      "text/plain": [
       "[100, 'apple', ['a', 2]]"
      ]
     },
     "execution_count": 10,
     "metadata": {},
     "output_type": "execute_result"
    }
   ],
   "source": [
    "l7=[100,'apple',['a',2]]\n",
    "l7"
   ]
  },
  {
   "cell_type": "code",
   "execution_count": 12,
   "id": "0986c8d2-28e0-4ea2-ba4f-1d20a6df57b3",
   "metadata": {},
   "outputs": [
    {
     "data": {
      "text/plain": [
       "['@', '#', '$', '%']"
      ]
     },
     "execution_count": 12,
     "metadata": {},
     "output_type": "execute_result"
    }
   ],
   "source": [
    "l8=['@','#','$','%']\n",
    "l8"
   ]
  },
  {
   "cell_type": "markdown",
   "id": "6b53790b-bd7f-485e-afdd-e0e2610a1428",
   "metadata": {},
   "source": [
    "- Liat are array of elements \n",
    "- List elements are heterogeneous all the data types we can represent in a list\n",
    "- List elements are allowed duplicates \n",
    "- List in list is possible \n",
    "- Variable assignment also possible in the list"
   ]
  },
  {
   "cell_type": "markdown",
   "id": "449b4e3d-58f8-4c03-8a5f-28755f241262",
   "metadata": {},
   "source": [
    "- len \n",
    "- max\n",
    "- min\n",
    "- sorted\n",
    "- reversed"
   ]
  },
  {
   "cell_type": "markdown",
   "id": "63f70e68-158c-41e7-a8db-370e223a79e5",
   "metadata": {},
   "source": [
    "**len**"
   ]
  },
  {
   "cell_type": "code",
   "execution_count": 13,
   "id": "84bd4b1e-4f69-4a40-838c-a0bc6c8c0b5d",
   "metadata": {},
   "outputs": [
    {
     "data": {
      "text/plain": [
       "4"
      ]
     },
     "execution_count": 13,
     "metadata": {},
     "output_type": "execute_result"
    }
   ],
   "source": [
    "l1=[1,2,3,4]\n",
    "len(l1)"
   ]
  },
  {
   "cell_type": "code",
   "execution_count": 14,
   "id": "71884635-0df6-4667-a0f0-4a73388a8794",
   "metadata": {},
   "outputs": [
    {
     "data": {
      "text/plain": [
       "4"
      ]
     },
     "execution_count": 14,
     "metadata": {},
     "output_type": "execute_result"
    }
   ],
   "source": [
    "l2=['A','B','C','D']\n",
    "len(l2)"
   ]
  },
  {
   "cell_type": "code",
   "execution_count": 15,
   "id": "3e57ac42-b377-4c35-bd55-b2882188246a",
   "metadata": {},
   "outputs": [
    {
     "data": {
      "text/plain": [
       "8"
      ]
     },
     "execution_count": 15,
     "metadata": {},
     "output_type": "execute_result"
    }
   ],
   "source": [
    "l3=[1,2,3,4,'A','B','C','D']\n",
    "len(l3)"
   ]
  },
  {
   "cell_type": "code",
   "execution_count": 16,
   "id": "80d9cd57-d2c3-4e0e-9726-730e9f84aa31",
   "metadata": {},
   "outputs": [
    {
     "data": {
      "text/plain": [
       "8"
      ]
     },
     "execution_count": 16,
     "metadata": {},
     "output_type": "execute_result"
    }
   ],
   "source": [
    "l4=[1,2,3,'Apple','Ball','Cat',True,False]\n",
    "len(l4)"
   ]
  },
  {
   "cell_type": "code",
   "execution_count": 17,
   "id": "d0c3d3cd-146e-45fd-a6a4-4aedb16f5964",
   "metadata": {},
   "outputs": [
    {
     "data": {
      "text/plain": [
       "1"
      ]
     },
     "execution_count": 17,
     "metadata": {},
     "output_type": "execute_result"
    }
   ],
   "source": [
    "name='naresh it'\n",
    "l5=[name]\n",
    "len(l5)"
   ]
  },
  {
   "cell_type": "code",
   "execution_count": 18,
   "id": "8a3671aa-56ae-4973-85b3-57c2a597bd61",
   "metadata": {},
   "outputs": [
    {
     "data": {
      "text/plain": [
       "3"
      ]
     },
     "execution_count": 18,
     "metadata": {},
     "output_type": "execute_result"
    }
   ],
   "source": [
    "l6=[100,100,100]\n",
    "len(l6)"
   ]
  },
  {
   "cell_type": "code",
   "execution_count": 19,
   "id": "48798a30-5112-48b7-a523-1b1263dc4feb",
   "metadata": {},
   "outputs": [
    {
     "data": {
      "text/plain": [
       "3"
      ]
     },
     "execution_count": 19,
     "metadata": {},
     "output_type": "execute_result"
    }
   ],
   "source": [
    "l7=[100,'apple',['a',2]]\n",
    "len(l7) "
   ]
  },
  {
   "cell_type": "code",
   "execution_count": 20,
   "id": "0742247b-2cce-40d3-8bda-37837179f95f",
   "metadata": {},
   "outputs": [
    {
     "data": {
      "text/plain": [
       "4"
      ]
     },
     "execution_count": 20,
     "metadata": {},
     "output_type": "execute_result"
    }
   ],
   "source": [
    "l8=['@','#','$','%']\n",
    "len(l8)"
   ]
  },
  {
   "cell_type": "markdown",
   "id": "ad45410d-b86e-460b-9f50-6a4f594254c1",
   "metadata": {},
   "source": [
    "**Max**"
   ]
  },
  {
   "cell_type": "code",
   "execution_count": 32,
   "id": "82f789b1-db21-47d4-86bb-34395a7f5627",
   "metadata": {},
   "outputs": [
    {
     "name": "stdout",
     "output_type": "stream",
     "text": [
      "4\n"
     ]
    }
   ],
   "source": [
    "l1=[1,2,3,4]\n",
    "l2=['A','B','C','D']\n",
    "l3=[1,2,3,4,'A','B','C','D']\n",
    "l4=[1,2,3,'Apple','Ball','Cat',True,False]\n",
    "name='naresh it'\n",
    "l5=[name]\n",
    "l6=[100,100,100]\n",
    "l7=[100,'apple',['a',2]]\n",
    "l8=['@','#','$','%']\n",
    "print(max(l1))\n"
   ]
  },
  {
   "cell_type": "code",
   "execution_count": 33,
   "id": "eeadfbe4-15e1-4639-98f1-ac9bdc2619c3",
   "metadata": {},
   "outputs": [
    {
     "name": "stdout",
     "output_type": "stream",
     "text": [
      "D\n"
     ]
    }
   ],
   "source": [
    "print(max(l2))"
   ]
  },
  {
   "cell_type": "code",
   "execution_count": 34,
   "id": "c2bf371c-4773-4404-b855-1a7cf8aaac6a",
   "metadata": {},
   "outputs": [
    {
     "ename": "TypeError",
     "evalue": "'>' not supported between instances of 'str' and 'int'",
     "output_type": "error",
     "traceback": [
      "\u001b[1;31m---------------------------------------------------------------------------\u001b[0m",
      "\u001b[1;31mTypeError\u001b[0m                                 Traceback (most recent call last)",
      "Cell \u001b[1;32mIn[34], line 1\u001b[0m\n\u001b[1;32m----> 1\u001b[0m \u001b[38;5;28mprint\u001b[39m(\u001b[38;5;28mmax\u001b[39m(l3))\n",
      "\u001b[1;31mTypeError\u001b[0m: '>' not supported between instances of 'str' and 'int'"
     ]
    }
   ],
   "source": [
    "print(max(l3))"
   ]
  },
  {
   "cell_type": "code",
   "execution_count": 35,
   "id": "8deef567-8117-4a8f-bd40-f5af7b15df7f",
   "metadata": {},
   "outputs": [
    {
     "ename": "TypeError",
     "evalue": "'>' not supported between instances of 'str' and 'int'",
     "output_type": "error",
     "traceback": [
      "\u001b[1;31m---------------------------------------------------------------------------\u001b[0m",
      "\u001b[1;31mTypeError\u001b[0m                                 Traceback (most recent call last)",
      "Cell \u001b[1;32mIn[35], line 1\u001b[0m\n\u001b[1;32m----> 1\u001b[0m \u001b[38;5;28mprint\u001b[39m(\u001b[38;5;28mmax\u001b[39m(l4))\n",
      "\u001b[1;31mTypeError\u001b[0m: '>' not supported between instances of 'str' and 'int'"
     ]
    }
   ],
   "source": [
    "print(max(l4))"
   ]
  },
  {
   "cell_type": "code",
   "execution_count": 36,
   "id": "b5581405-9752-484a-94fe-bb630d1c3dcd",
   "metadata": {},
   "outputs": [
    {
     "name": "stdout",
     "output_type": "stream",
     "text": [
      "naresh it\n"
     ]
    }
   ],
   "source": [
    "print(max(l5))"
   ]
  },
  {
   "cell_type": "code",
   "execution_count": 37,
   "id": "54630ec6-63fb-4cd0-8210-717b712faa58",
   "metadata": {},
   "outputs": [
    {
     "name": "stdout",
     "output_type": "stream",
     "text": [
      "100\n"
     ]
    }
   ],
   "source": [
    "print(max(l6))"
   ]
  },
  {
   "cell_type": "code",
   "execution_count": 38,
   "id": "15268e4e-0737-4763-bc5e-5dee43d60f4c",
   "metadata": {},
   "outputs": [
    {
     "ename": "TypeError",
     "evalue": "'>' not supported between instances of 'str' and 'int'",
     "output_type": "error",
     "traceback": [
      "\u001b[1;31m---------------------------------------------------------------------------\u001b[0m",
      "\u001b[1;31mTypeError\u001b[0m                                 Traceback (most recent call last)",
      "Cell \u001b[1;32mIn[38], line 1\u001b[0m\n\u001b[1;32m----> 1\u001b[0m \u001b[38;5;28mprint\u001b[39m(\u001b[38;5;28mmax\u001b[39m(l7))\n",
      "\u001b[1;31mTypeError\u001b[0m: '>' not supported between instances of 'str' and 'int'"
     ]
    }
   ],
   "source": [
    "print(max(l7))"
   ]
  },
  {
   "cell_type": "code",
   "execution_count": 39,
   "id": "89c576ed-1e21-4f13-bc3b-82f1ece1ae1f",
   "metadata": {},
   "outputs": [
    {
     "name": "stdout",
     "output_type": "stream",
     "text": [
      "@\n"
     ]
    }
   ],
   "source": [
    "print(max(l8))"
   ]
  },
  {
   "cell_type": "markdown",
   "id": "adc13a89-7739-4507-9cea-1773b63d7ba8",
   "metadata": {},
   "source": [
    "**Min**"
   ]
  },
  {
   "cell_type": "code",
   "execution_count": null,
   "id": "68b97245-4733-484d-a687-1663296655a1",
   "metadata": {},
   "outputs": [],
   "source": [
    "l1=[1,2,3,4]\n",
    "l2=['A','B','C','D']\n",
    "l3=[1,2,3,4,'A','B','C','D']\n",
    "l4=[1,2,3,'Apple','Ball','Cat',True,False]\n",
    "name='naresh it'\n",
    "l5=[name]\n",
    "l6=[100,100,100]\n",
    "l7=[100,'apple',['a',2]]\n",
    "l8=['@','#','$','%']"
   ]
  },
  {
   "cell_type": "code",
   "execution_count": 40,
   "id": "5ac8afd4-b8f4-43a8-a28c-2eae9b6f67de",
   "metadata": {},
   "outputs": [
    {
     "data": {
      "text/plain": [
       "1"
      ]
     },
     "execution_count": 40,
     "metadata": {},
     "output_type": "execute_result"
    }
   ],
   "source": [
    "min(l1)"
   ]
  },
  {
   "cell_type": "code",
   "execution_count": 41,
   "id": "9dede449-862b-429f-ae4c-76975f0311df",
   "metadata": {},
   "outputs": [
    {
     "data": {
      "text/plain": [
       "'A'"
      ]
     },
     "execution_count": 41,
     "metadata": {},
     "output_type": "execute_result"
    }
   ],
   "source": [
    "min(l2)"
   ]
  },
  {
   "cell_type": "code",
   "execution_count": 42,
   "id": "e82038d0-c330-436b-ab01-5f05e581d452",
   "metadata": {},
   "outputs": [
    {
     "ename": "TypeError",
     "evalue": "'<' not supported between instances of 'str' and 'int'",
     "output_type": "error",
     "traceback": [
      "\u001b[1;31m---------------------------------------------------------------------------\u001b[0m",
      "\u001b[1;31mTypeError\u001b[0m                                 Traceback (most recent call last)",
      "Cell \u001b[1;32mIn[42], line 1\u001b[0m\n\u001b[1;32m----> 1\u001b[0m \u001b[38;5;28mmin\u001b[39m(l3)\n",
      "\u001b[1;31mTypeError\u001b[0m: '<' not supported between instances of 'str' and 'int'"
     ]
    }
   ],
   "source": [
    "min(l3)"
   ]
  },
  {
   "cell_type": "code",
   "execution_count": 43,
   "id": "7d0158ee-870e-4c4e-8e45-4c8282bacb37",
   "metadata": {},
   "outputs": [
    {
     "ename": "TypeError",
     "evalue": "'<' not supported between instances of 'str' and 'int'",
     "output_type": "error",
     "traceback": [
      "\u001b[1;31m---------------------------------------------------------------------------\u001b[0m",
      "\u001b[1;31mTypeError\u001b[0m                                 Traceback (most recent call last)",
      "Cell \u001b[1;32mIn[43], line 1\u001b[0m\n\u001b[1;32m----> 1\u001b[0m \u001b[38;5;28mmin\u001b[39m(l4)\n",
      "\u001b[1;31mTypeError\u001b[0m: '<' not supported between instances of 'str' and 'int'"
     ]
    }
   ],
   "source": [
    "min(l4)"
   ]
  },
  {
   "cell_type": "code",
   "execution_count": 44,
   "id": "333603a6-7327-4bd1-a32a-cd22b94c1a53",
   "metadata": {},
   "outputs": [
    {
     "data": {
      "text/plain": [
       "'naresh it'"
      ]
     },
     "execution_count": 44,
     "metadata": {},
     "output_type": "execute_result"
    }
   ],
   "source": [
    "min(l5)"
   ]
  },
  {
   "cell_type": "code",
   "execution_count": 45,
   "id": "8c7b6d28-eb97-436d-8005-aec30a6a6350",
   "metadata": {},
   "outputs": [
    {
     "data": {
      "text/plain": [
       "100"
      ]
     },
     "execution_count": 45,
     "metadata": {},
     "output_type": "execute_result"
    }
   ],
   "source": [
    "min(l6)"
   ]
  },
  {
   "cell_type": "code",
   "execution_count": 46,
   "id": "d05cca83-bb82-4a83-b168-af718d213018",
   "metadata": {},
   "outputs": [
    {
     "ename": "TypeError",
     "evalue": "'<' not supported between instances of 'str' and 'int'",
     "output_type": "error",
     "traceback": [
      "\u001b[1;31m---------------------------------------------------------------------------\u001b[0m",
      "\u001b[1;31mTypeError\u001b[0m                                 Traceback (most recent call last)",
      "Cell \u001b[1;32mIn[46], line 1\u001b[0m\n\u001b[1;32m----> 1\u001b[0m \u001b[38;5;28mmin\u001b[39m(l7)\n",
      "\u001b[1;31mTypeError\u001b[0m: '<' not supported between instances of 'str' and 'int'"
     ]
    }
   ],
   "source": [
    "min(l7)"
   ]
  },
  {
   "cell_type": "code",
   "execution_count": 47,
   "id": "6b21ffb4-d008-4c71-8baa-b3252958efc6",
   "metadata": {},
   "outputs": [
    {
     "data": {
      "text/plain": [
       "'#'"
      ]
     },
     "execution_count": 47,
     "metadata": {},
     "output_type": "execute_result"
    }
   ],
   "source": [
    "min(l8)"
   ]
  },
  {
   "cell_type": "markdown",
   "id": "cf9ff808-c1ab-490e-885d-85bd3ac4cf66",
   "metadata": {},
   "source": [
    "**Sorted**"
   ]
  },
  {
   "cell_type": "code",
   "execution_count": 57,
   "id": "eba432fc-9ca4-4fb0-8503-6fa1e0bb11ac",
   "metadata": {},
   "outputs": [],
   "source": [
    "l1=[2,4,3,1]\n",
    "l2=['A','B','C','D']\n",
    "l3=[1,2,3,4,'A','B','C','D']\n",
    "l4=[1,2,3,'Apple','Ball','Cat',True,False]\n",
    "name='naresh it'\n",
    "l5=[name]\n",
    "l6=[100,100,100]\n",
    "l7=[100,'apple',['a',2]]\n",
    "l8=['@','#','$','%']"
   ]
  },
  {
   "cell_type": "code",
   "execution_count": 50,
   "id": "85b8a0da-bb56-49d5-89b2-8eedb9696f67",
   "metadata": {},
   "outputs": [
    {
     "data": {
      "text/plain": [
       "[1, 2, 3, 4]"
      ]
     },
     "execution_count": 50,
     "metadata": {},
     "output_type": "execute_result"
    }
   ],
   "source": [
    "sorted(l1)"
   ]
  },
  {
   "cell_type": "code",
   "execution_count": 51,
   "id": "ae89683a-b601-48b4-b983-ec4b81d4c074",
   "metadata": {},
   "outputs": [
    {
     "data": {
      "text/plain": [
       "['A', 'B', 'C', 'D']"
      ]
     },
     "execution_count": 51,
     "metadata": {},
     "output_type": "execute_result"
    }
   ],
   "source": [
    "sorted(l2)"
   ]
  },
  {
   "cell_type": "code",
   "execution_count": 52,
   "id": "3fbf9b2c-beb4-44f6-adf8-05bd6e021a0b",
   "metadata": {},
   "outputs": [
    {
     "ename": "TypeError",
     "evalue": "'<' not supported between instances of 'str' and 'int'",
     "output_type": "error",
     "traceback": [
      "\u001b[1;31m---------------------------------------------------------------------------\u001b[0m",
      "\u001b[1;31mTypeError\u001b[0m                                 Traceback (most recent call last)",
      "Cell \u001b[1;32mIn[52], line 1\u001b[0m\n\u001b[1;32m----> 1\u001b[0m \u001b[38;5;28msorted\u001b[39m(l3)\n",
      "\u001b[1;31mTypeError\u001b[0m: '<' not supported between instances of 'str' and 'int'"
     ]
    }
   ],
   "source": [
    "sorted(l3)"
   ]
  },
  {
   "cell_type": "code",
   "execution_count": 53,
   "id": "3e5f0041-8527-4332-a6c2-f46824c58e5c",
   "metadata": {},
   "outputs": [
    {
     "ename": "TypeError",
     "evalue": "'<' not supported between instances of 'str' and 'int'",
     "output_type": "error",
     "traceback": [
      "\u001b[1;31m---------------------------------------------------------------------------\u001b[0m",
      "\u001b[1;31mTypeError\u001b[0m                                 Traceback (most recent call last)",
      "Cell \u001b[1;32mIn[53], line 1\u001b[0m\n\u001b[1;32m----> 1\u001b[0m \u001b[38;5;28msorted\u001b[39m(l4)\n",
      "\u001b[1;31mTypeError\u001b[0m: '<' not supported between instances of 'str' and 'int'"
     ]
    }
   ],
   "source": [
    "sorted(l4)"
   ]
  },
  {
   "cell_type": "code",
   "execution_count": 54,
   "id": "1ee39814-79dd-4c36-a9c2-a312b3fc808f",
   "metadata": {},
   "outputs": [
    {
     "data": {
      "text/plain": [
       "['naresh it']"
      ]
     },
     "execution_count": 54,
     "metadata": {},
     "output_type": "execute_result"
    }
   ],
   "source": [
    "sorted(l5)"
   ]
  },
  {
   "cell_type": "code",
   "execution_count": 55,
   "id": "35640cd5-70c1-4fec-8952-7ca9e86f0c23",
   "metadata": {},
   "outputs": [
    {
     "data": {
      "text/plain": [
       "[100, 100, 100]"
      ]
     },
     "execution_count": 55,
     "metadata": {},
     "output_type": "execute_result"
    }
   ],
   "source": [
    "sorted(l6)"
   ]
  },
  {
   "cell_type": "code",
   "execution_count": 58,
   "id": "ab286334-dc15-407f-ac02-69b53e19a44e",
   "metadata": {},
   "outputs": [
    {
     "ename": "TypeError",
     "evalue": "'<' not supported between instances of 'str' and 'int'",
     "output_type": "error",
     "traceback": [
      "\u001b[1;31m---------------------------------------------------------------------------\u001b[0m",
      "\u001b[1;31mTypeError\u001b[0m                                 Traceback (most recent call last)",
      "Cell \u001b[1;32mIn[58], line 1\u001b[0m\n\u001b[1;32m----> 1\u001b[0m \u001b[38;5;28msorted\u001b[39m(l7)\n",
      "\u001b[1;31mTypeError\u001b[0m: '<' not supported between instances of 'str' and 'int'"
     ]
    }
   ],
   "source": [
    "sorted(l7)"
   ]
  },
  {
   "cell_type": "code",
   "execution_count": 59,
   "id": "cfe5bc8c-8274-4b12-ac06-5762270f76a0",
   "metadata": {},
   "outputs": [
    {
     "data": {
      "text/plain": [
       "['#', '$', '%', '@']"
      ]
     },
     "execution_count": 59,
     "metadata": {},
     "output_type": "execute_result"
    }
   ],
   "source": [
    "sorted(l8)"
   ]
  },
  {
   "cell_type": "markdown",
   "id": "c24eba93-4d93-4392-9e0b-0e716e42f617",
   "metadata": {},
   "source": [
    "**Reversed**"
   ]
  },
  {
   "cell_type": "code",
   "execution_count": 60,
   "id": "3b110b2c-a606-446d-8545-30e53c921448",
   "metadata": {},
   "outputs": [],
   "source": [
    "l1=[1,2,3,4]\n",
    "l2=['A','B','C','D']\n",
    "l3=[1,2,3,4,'A','B','C','D']\n",
    "l4=[1,2,3,'Apple','Ball','Cat',True,False]\n",
    "name='naresh it'\n",
    "l5=[name]\n",
    "l6=[100,100,100]\n",
    "l7=[100,'apple',['a',2]]\n",
    "l8=['@','#','$','%']"
   ]
  },
  {
   "cell_type": "code",
   "execution_count": 62,
   "id": "97e94d2b-ecf4-4659-be61-a0486dd77ead",
   "metadata": {},
   "outputs": [
    {
     "name": "stdout",
     "output_type": "stream",
     "text": [
      "4\n",
      "3\n",
      "2\n",
      "1\n"
     ]
    }
   ],
   "source": [
    "output=reversed(l1)\n",
    "for i in output:\n",
    "    print(i)"
   ]
  },
  {
   "cell_type": "code",
   "execution_count": 63,
   "id": "b1f5d2c4-cc19-42de-b714-db4082cc6c09",
   "metadata": {},
   "outputs": [
    {
     "name": "stdout",
     "output_type": "stream",
     "text": [
      "D\n",
      "C\n",
      "B\n",
      "A\n"
     ]
    }
   ],
   "source": [
    "output=reversed(l2)\n",
    "for i in output:\n",
    "    print(i)"
   ]
  },
  {
   "cell_type": "code",
   "execution_count": 64,
   "id": "3f7723c0-520e-4135-8566-df5274f3cd8d",
   "metadata": {},
   "outputs": [
    {
     "name": "stdout",
     "output_type": "stream",
     "text": [
      "D\n",
      "C\n",
      "B\n",
      "A\n",
      "4\n",
      "3\n",
      "2\n",
      "1\n"
     ]
    }
   ],
   "source": [
    "output=reversed(l3)\n",
    "for i in output:\n",
    "    print(i)"
   ]
  },
  {
   "cell_type": "code",
   "execution_count": 65,
   "id": "42e01de3-5f9b-4684-bb93-4cdefdd389f0",
   "metadata": {},
   "outputs": [
    {
     "name": "stdout",
     "output_type": "stream",
     "text": [
      "False\n",
      "True\n",
      "Cat\n",
      "Ball\n",
      "Apple\n",
      "3\n",
      "2\n",
      "1\n"
     ]
    }
   ],
   "source": [
    "output=reversed(l4)\n",
    "for i in output:\n",
    "    print(i)"
   ]
  },
  {
   "cell_type": "code",
   "execution_count": 66,
   "id": "26efe43c-4c92-49f5-a64b-c562fe9d2c9c",
   "metadata": {},
   "outputs": [
    {
     "name": "stdout",
     "output_type": "stream",
     "text": [
      "naresh it\n"
     ]
    }
   ],
   "source": [
    "output=reversed(l5)\n",
    "for i in output:\n",
    "    print(i)"
   ]
  },
  {
   "cell_type": "code",
   "execution_count": 67,
   "id": "2323ef36-3546-4c18-8d6c-48787e93f9b7",
   "metadata": {},
   "outputs": [
    {
     "name": "stdout",
     "output_type": "stream",
     "text": [
      "100\n",
      "100\n",
      "100\n"
     ]
    }
   ],
   "source": [
    "output=reversed(l6)\n",
    "for i in output:\n",
    "    print(i)"
   ]
  },
  {
   "cell_type": "code",
   "execution_count": 68,
   "id": "d10fa6b9-e568-4a35-be63-499e7db3a71e",
   "metadata": {},
   "outputs": [
    {
     "name": "stdout",
     "output_type": "stream",
     "text": [
      "['a', 2]\n",
      "apple\n",
      "100\n"
     ]
    }
   ],
   "source": [
    "output=reversed(l7)\n",
    "for i in output:\n",
    "    print(i)"
   ]
  },
  {
   "cell_type": "code",
   "execution_count": 69,
   "id": "4bee7b67-49b5-40bd-8664-a78509efa248",
   "metadata": {},
   "outputs": [
    {
     "name": "stdout",
     "output_type": "stream",
     "text": [
      "%\n",
      "$\n",
      "#\n",
      "@\n"
     ]
    }
   ],
   "source": [
    "output=reversed(l8)\n",
    "for i in output:\n",
    "    print(i)"
   ]
  },
  {
   "cell_type": "code",
   "execution_count": 71,
   "id": "e8ecf582-0dad-4f2e-80dc-01294a1bf9a0",
   "metadata": {},
   "outputs": [
    {
     "data": {
      "text/plain": [
       "[False, True, 'Cat', 'Ball', 'Apple', 3, 2, 1]"
      ]
     },
     "execution_count": 71,
     "metadata": {},
     "output_type": "execute_result"
    }
   ],
   "source": [
    "list(reversed(l4))  # like this also we can use in list"
   ]
  },
  {
   "cell_type": "code",
   "execution_count": 75,
   "id": "be08836d-ed50-4b41-9c9a-064ce85f0a21",
   "metadata": {},
   "outputs": [
    {
     "name": "stdout",
     "output_type": "stream",
     "text": [
      "Adithya\n",
      "girik\n"
     ]
    }
   ],
   "source": [
    "name=['adhithya','Adithya','girik','Girik']\n",
    "print(min(name))\n",
    "print(max(name))\n",
    "# First compare all first letters\n",
    "# if all first letters ascii values same\n",
    "# then compare with second letters\n",
    "# continue the process"
   ]
  },
  {
   "cell_type": "code",
   "execution_count": 78,
   "id": "91cd4164-1089-435e-8edd-49c35a243ee8",
   "metadata": {},
   "outputs": [
    {
     "data": {
      "text/plain": [
       "['Apple', 1, ['cherry', 'banana']]"
      ]
     },
     "execution_count": 78,
     "metadata": {},
     "output_type": "execute_result"
    }
   ],
   "source": [
    "list=['Apple',\n",
    "        1,\n",
    "    ['cherry','banana']]\n",
    "list"
   ]
  },
  {
   "cell_type": "code",
   "execution_count": 80,
   "id": "1c4ce9d2-8c36-486f-b92c-ff15916522ab",
   "metadata": {},
   "outputs": [
    {
     "data": {
      "text/plain": [
       "65"
      ]
     },
     "execution_count": 80,
     "metadata": {},
     "output_type": "execute_result"
    }
   ],
   "source": [
    "list1=[65,33]\n",
    "max(list1)"
   ]
  },
  {
   "cell_type": "markdown",
   "id": "fb7c5d7f-4045-43c6-9488-cfbac669d8d4",
   "metadata": {},
   "source": [
    "**Indexing** "
   ]
  },
  {
   "cell_type": "code",
   "execution_count": 101,
   "id": "ed672f9a-b9cf-4cc4-870c-13db9b13c1ac",
   "metadata": {},
   "outputs": [],
   "source": [
    "l1=[1,2,3,4]\n",
    "l2=['A','B','C','D']\n",
    "l3=[1,2,3,4,'A','B','C','D']\n",
    "l4=[1,2,3,'Apple','Ball','Cat',True,False]\n",
    "name='naresh it'\n",
    "l5=[name]\n",
    "l6=[100,100,100]\n",
    "l7=[100,'apple',['a',2]]\n",
    "l8=['@','#','$','%']"
   ]
  },
  {
   "cell_type": "code",
   "execution_count": 106,
   "id": "e84a9d49-9032-4678-a721-14d8146c1ea7",
   "metadata": {},
   "outputs": [
    {
     "name": "stdout",
     "output_type": "stream",
     "text": [
      "The positive index of 1 is 0\n",
      "The positive index of 2 is 1\n",
      "The positive index of 3 is 2\n",
      "The positive index of 4 is 3\n"
     ]
    }
   ],
   "source": [
    "n=len(l1)\n",
    "for i in range(n):\n",
    "    print(f'The positive index of {l1[i]} is {i}')"
   ]
  },
  {
   "cell_type": "code",
   "execution_count": null,
   "id": "1142625a-7640-4d5b-84d9-c24a0d1ea14f",
   "metadata": {},
   "outputs": [],
   "source": [
    "l4=[1,2,3,'Apple','Ball','Cat',True,False]\n",
    "\n",
    "# -8 -7 -6   -5     -4    -3   -2     -1\n",
    "#  1  2  3  Apple  Ball  Cat  True  False\n",
    "#  0  1  2    3     4     5     6     7"
   ]
  },
  {
   "cell_type": "code",
   "execution_count": 81,
   "id": "5ef78d70-bc04-4773-955c-6952bd9edb12",
   "metadata": {},
   "outputs": [
    {
     "data": {
      "text/plain": [
       "('Apple', 'Apple')"
      ]
     },
     "execution_count": 81,
     "metadata": {},
     "output_type": "execute_result"
    }
   ],
   "source": [
    "l4[3],l4[-5]"
   ]
  },
  {
   "cell_type": "markdown",
   "id": "5ec338ef-edd5-410f-82c6-9dd46e18af22",
   "metadata": {},
   "source": [
    "**slicing**"
   ]
  },
  {
   "cell_type": "code",
   "execution_count": 105,
   "id": "7cb24382-490a-4fb6-833d-e698a6cde9fe",
   "metadata": {},
   "outputs": [
    {
     "name": "stdout",
     "output_type": "stream",
     "text": [
      "D A\n",
      "3\n"
     ]
    }
   ],
   "source": [
    "l1=[1,2,3,4]\n",
    "l2=['A','B','C','D']\n",
    "l3=[1,2,3,4,'A','B','C','D']\n",
    "l4=[1,2,3,'Apple','Ball','Cat',True,False]\n",
    "name='naresh it'\n",
    "l5=[name]\n",
    "l6=[100,100,100]\n",
    "l7=[100,'apple',['a',2]]\n",
    "l8=['@','#','$','%']\n",
    "\n",
    "\n",
    "print(l2[3],l2[-4])\n",
    "print(l1[2])"
   ]
  },
  {
   "cell_type": "code",
   "execution_count": 82,
   "id": "f5d70f87-a2bf-4cb6-8555-06b42ea842ea",
   "metadata": {},
   "outputs": [
    {
     "data": {
      "text/plain": [
       "2"
      ]
     },
     "execution_count": 82,
     "metadata": {},
     "output_type": "execute_result"
    }
   ],
   "source": [
    "l1=[1,[2]]\n",
    "l1[1][0]"
   ]
  },
  {
   "cell_type": "code",
   "execution_count": 85,
   "id": "37278c3a-ecb8-4e87-8a6e-81dd0caa22ae",
   "metadata": {},
   "outputs": [
    {
     "data": {
      "text/plain": [
       "3"
      ]
     },
     "execution_count": 85,
     "metadata": {},
     "output_type": "execute_result"
    }
   ],
   "source": [
    "l1=[1,[2],[3]]\n",
    "new=l1[2]\n",
    "new[0]"
   ]
  },
  {
   "cell_type": "code",
   "execution_count": 86,
   "id": "42297ce3-11c3-4dbe-a6c4-11950478883b",
   "metadata": {},
   "outputs": [
    {
     "data": {
      "text/plain": [
       "'A'"
      ]
     },
     "execution_count": 86,
     "metadata": {},
     "output_type": "execute_result"
    }
   ],
   "source": [
    "l1=[1,[2,'A']]\n",
    "l1[1][1]\n",
    "# 'A' is presented at index 1\n",
    "# so we given l1[1] : [2,'A'] it is also a list\n",
    "# The list has two elements\n",
    "# 'A' at 1st index\n",
    "# l1[1][1]"
   ]
  },
  {
   "cell_type": "code",
   "execution_count": 104,
   "id": "dbbb8833-d402-4614-aa2a-8f87711355ea",
   "metadata": {},
   "outputs": [
    {
     "data": {
      "text/plain": [
       "'B'"
      ]
     },
     "execution_count": 104,
     "metadata": {},
     "output_type": "execute_result"
    }
   ],
   "source": [
    "l1=[1,[2,['A','B']]]\n",
    "len(l1)\n",
    "l1[1][1][1]"
   ]
  },
  {
   "cell_type": "code",
   "execution_count": 109,
   "id": "faf25d69-120e-4165-992b-34bc6bc27ec6",
   "metadata": {},
   "outputs": [
    {
     "data": {
      "text/plain": [
       "'APPLE'"
      ]
     },
     "execution_count": 109,
     "metadata": {},
     "output_type": "execute_result"
    }
   ],
   "source": [
    "l1=[1,2,[3,[4,[5,['APPLE']]]]]\n",
    "l1[2][1][1][1][0]"
   ]
  },
  {
   "cell_type": "code",
   "execution_count": 111,
   "id": "611fca5f-a9d6-4268-a975-b5c2276539dc",
   "metadata": {},
   "outputs": [
    {
     "data": {
      "text/plain": [
       "'Banana'"
      ]
     },
     "execution_count": 111,
     "metadata": {},
     "output_type": "execute_result"
    }
   ],
   "source": [
    "list1=['Apple',1,'Solapur',['cherry','papaya',70,[123,'Banana'],'tomato'],'python'] \n",
    "list1[3][3][1]"
   ]
  },
  {
   "cell_type": "code",
   "execution_count": 3,
   "id": "359fb1c9-4111-4ac3-be3e-6b16db4f2bc8",
   "metadata": {},
   "outputs": [
    {
     "data": {
      "text/plain": [
       "'Cherry'"
      ]
     },
     "execution_count": 3,
     "metadata": {},
     "output_type": "execute_result"
    }
   ],
   "source": [
    "list1=[[[[[[[1,'Cherry']]]]]]]\n",
    "len(list1)\n",
    "list1[0][0][0][0][0][0][1]"
   ]
  },
  {
   "cell_type": "code",
   "execution_count": 7,
   "id": "e86b002a-adb3-4a0b-9345-da930f533050",
   "metadata": {},
   "outputs": [
    {
     "data": {
      "text/plain": [
       "'shambaji'"
      ]
     },
     "execution_count": 7,
     "metadata": {},
     "output_type": "execute_result"
    }
   ],
   "source": [
    "list1=['MH',\n",
    "       ['Nagpur',['Orange',['likes',['king'],['shivaji',['Son',['shambaji']]]]]\n",
    "       ]]\n",
    "len(list1)\n",
    "list1[1][1][1][2][1][1][0]"
   ]
  },
  {
   "cell_type": "code",
   "execution_count": 126,
   "id": "5e53d6ad-81b7-4e0d-81cc-eb62f9e6f0af",
   "metadata": {},
   "outputs": [],
   "source": [
    "# In operator\n",
    "# index\n",
    "# mutability check\n",
    "# slicing\n",
    "# positive index\n",
    "# negatiue index\n",
    "# concatination"
   ]
  },
  {
   "cell_type": "markdown",
   "id": "987dbe70-d73d-4b21-847a-803ddaeeb848",
   "metadata": {},
   "source": [
    "**List Methods**"
   ]
  },
  {
   "cell_type": "code",
   "execution_count": 8,
   "id": "c5cff3b9-98bf-4a19-aa9c-d6a60122d4d5",
   "metadata": {},
   "outputs": [
    {
     "data": {
      "text/plain": [
       "['__add__',\n",
       " '__class__',\n",
       " '__class_getitem__',\n",
       " '__contains__',\n",
       " '__delattr__',\n",
       " '__delitem__',\n",
       " '__dir__',\n",
       " '__doc__',\n",
       " '__eq__',\n",
       " '__format__',\n",
       " '__ge__',\n",
       " '__getattribute__',\n",
       " '__getitem__',\n",
       " '__getstate__',\n",
       " '__gt__',\n",
       " '__hash__',\n",
       " '__iadd__',\n",
       " '__imul__',\n",
       " '__init__',\n",
       " '__init_subclass__',\n",
       " '__iter__',\n",
       " '__le__',\n",
       " '__len__',\n",
       " '__lt__',\n",
       " '__mul__',\n",
       " '__ne__',\n",
       " '__new__',\n",
       " '__reduce__',\n",
       " '__reduce_ex__',\n",
       " '__repr__',\n",
       " '__reversed__',\n",
       " '__rmul__',\n",
       " '__setattr__',\n",
       " '__setitem__',\n",
       " '__sizeof__',\n",
       " '__str__',\n",
       " '__subclasshook__',\n",
       " 'append',\n",
       " 'clear',\n",
       " 'copy',\n",
       " 'count',\n",
       " 'extend',\n",
       " 'index',\n",
       " 'insert',\n",
       " 'pop',\n",
       " 'remove',\n",
       " 'reverse',\n",
       " 'sort']"
      ]
     },
     "execution_count": 8,
     "metadata": {},
     "output_type": "execute_result"
    }
   ],
   "source": [
    "dir(list)"
   ]
  },
  {
   "cell_type": "code",
   "execution_count": null,
   "id": "e858967e-6e53-4131-a884-8b554d67f02b",
   "metadata": {},
   "outputs": [],
   "source": [
    " 'append',\n",
    " 'clear',\n",
    " 'copy',\n",
    " 'count',\n",
    " 'extend',\n",
    " 'index',\n",
    " 'insert',\n",
    " 'pop',\n",
    " 'remove',\n",
    " 'reverse',\n",
    " 'sort"
   ]
  },
  {
   "cell_type": "markdown",
   "id": "2cf53ca7-62b2-41d5-bc59-fc17b1abcff3",
   "metadata": {},
   "source": [
    "**Append**\n",
    "\n",
    "- Adding elements in a list at last index\n",
    "- append method is very important\n",
    "- most of the time we will use append in real time projects\n",
    "- when you add the value the originalk list will be overwrite"
   ]
  },
  {
   "cell_type": "code",
   "execution_count": 11,
   "id": "e800fc53-07a1-469d-86c4-9caeb465404d",
   "metadata": {},
   "outputs": [
    {
     "data": {
      "text/plain": [
       "['Apple', 'Ball', 'Cat']"
      ]
     },
     "execution_count": 11,
     "metadata": {},
     "output_type": "execute_result"
    }
   ],
   "source": [
    "l=['Apple','Ball','Cat']\n",
    "l"
   ]
  },
  {
   "cell_type": "code",
   "execution_count": null,
   "id": "3123b3dc-7773-4961-ae53-e9b1e0d3d6ea",
   "metadata": {},
   "outputs": [],
   "source": [
    "# You want to add Doll in a given list\n",
    "# keywords   vs   methods\n",
    "len()\n",
    "max()\n",
    "min()\n",
    "reversed()\n",
    "sorted()\n",
    "\n",
    "# Methods\n",
    "<package>.<methods>()\n"
   ]
  },
  {
   "cell_type": "code",
   "execution_count": 22,
   "id": "31de7540-53d0-4699-8eb8-8d077bc9a864",
   "metadata": {},
   "outputs": [
    {
     "data": {
      "text/plain": [
       "['Apple', 'Ball', 'Cat', 'Doll']"
      ]
     },
     "execution_count": 22,
     "metadata": {},
     "output_type": "execute_result"
    }
   ],
   "source": [
    "l=['Apple','Ball','Cat']\n",
    "l.append('Doll')\n",
    "l"
   ]
  },
  {
   "cell_type": "code",
   "execution_count": 23,
   "id": "1fdba909-2a34-47a6-9668-7278d1e2f4fd",
   "metadata": {},
   "outputs": [
    {
     "data": {
      "text/plain": [
       "['Apple', 'Ball', 'Cat', 'Doll', 'Eagle']"
      ]
     },
     "execution_count": 23,
     "metadata": {},
     "output_type": "execute_result"
    }
   ],
   "source": [
    "l.append('Eagle')\n",
    "l"
   ]
  },
  {
   "cell_type": "code",
   "execution_count": 24,
   "id": "00794289-c7b3-4fb4-acb0-761296237f3d",
   "metadata": {},
   "outputs": [
    {
     "data": {
      "text/plain": [
       "[1, 2, 3, 4, 100]"
      ]
     },
     "execution_count": 24,
     "metadata": {},
     "output_type": "execute_result"
    }
   ],
   "source": [
    "l1=[1,2,3,4]\n",
    "l1.append(100)\n",
    "l1"
   ]
  },
  {
   "cell_type": "code",
   "execution_count": 25,
   "id": "e7f7ad94-224c-4c5b-84d8-34a9b35a938f",
   "metadata": {},
   "outputs": [
    {
     "data": {
      "text/plain": [
       "[10, 20, 'Apple', ['A', 1], True]"
      ]
     },
     "execution_count": 25,
     "metadata": {},
     "output_type": "execute_result"
    }
   ],
   "source": [
    "l2=[]\n",
    "l2.append(10)\n",
    "l2.append(20)\n",
    "l2.append('Apple')\n",
    "l2.append(['A',1])\n",
    "l2.append(True)\n",
    "l2"
   ]
  },
  {
   "cell_type": "code",
   "execution_count": 27,
   "id": "ab9bafd3-be46-46af-946e-3eff9dff86a8",
   "metadata": {},
   "outputs": [
    {
     "data": {
      "text/plain": [
       "[10,\n",
       " 20,\n",
       " 'Apple',\n",
       " ['A', 1],\n",
       " True,\n",
       " 'Ball',\n",
       " 'B',\n",
       " 'Cat',\n",
       " 'C',\n",
       " 'Dog',\n",
       " 'D',\n",
       " 'Ball',\n",
       " 'B',\n",
       " 'Cat',\n",
       " 'C',\n",
       " 'Dog',\n",
       " 'D']"
      ]
     },
     "execution_count": 27,
     "metadata": {},
     "output_type": "execute_result"
    }
   ],
   "source": [
    "l2.append('Ball')\n",
    "l2.append('B')\n",
    "l2.append('Cat')\n",
    "l2.append('C')\n",
    "l2.append('Dog')\n",
    "l2.append('D')\n",
    "l2"
   ]
  },
  {
   "cell_type": "markdown",
   "id": "cf12cf68-2e4b-4b6e-b5ad-54a43b9c3cb6",
   "metadata": {},
   "source": [
    "**Append method used to save the output in a list**"
   ]
  },
  {
   "cell_type": "code",
   "execution_count": 28,
   "id": "0f0882fc-8fe8-4237-931d-880bdde89b3c",
   "metadata": {},
   "outputs": [
    {
     "name": "stdout",
     "output_type": "stream",
     "text": [
      "1\n",
      "4\n",
      "9\n",
      "16\n",
      "25\n"
     ]
    }
   ],
   "source": [
    "for i in range(1,6):\n",
    "    print(i*i)"
   ]
  },
  {
   "cell_type": "code",
   "execution_count": 30,
   "id": "def07fff-f8cf-4b3e-9f3a-848e607fa61f",
   "metadata": {},
   "outputs": [
    {
     "data": {
      "text/plain": [
       "[1, 4, 9, 16, 25]"
      ]
     },
     "execution_count": 30,
     "metadata": {},
     "output_type": "execute_result"
    }
   ],
   "source": [
    "square_list=[]\n",
    "for i in range(1,6):\n",
    "    square_list.append(i*i)\n",
    "square_list"
   ]
  },
  {
   "cell_type": "code",
   "execution_count": 32,
   "id": "ce0b91b7-92b1-4934-98c1-16a4f20f2951",
   "metadata": {},
   "outputs": [
    {
     "data": {
      "text/plain": [
       "[1, 4, 9, 16, 25, 36, 49, 64, 81]"
      ]
     },
     "execution_count": 32,
     "metadata": {},
     "output_type": "execute_result"
    }
   ],
   "source": [
    "list=[]\n",
    "for i in range(1,10):\n",
    "    list.append(i*i)\n",
    "list"
   ]
  },
  {
   "cell_type": "code",
   "execution_count": 42,
   "id": "1925357e-ebca-4897-b648-7f9bab9ffc50",
   "metadata": {},
   "outputs": [
    {
     "data": {
      "text/plain": [
       "([1, 5, 9], 15)"
      ]
     },
     "execution_count": 42,
     "metadata": {},
     "output_type": "execute_result"
    }
   ],
   "source": [
    "# Q1) str='hai hai hai'\n",
    "# what are index of 'a'\n",
    "# save that index numbers in a list\n",
    "str1='hai hai hai'\n",
    "id_list=[]\n",
    "for i in range(len(str1)):\n",
    "    if str1[i]=='a':\n",
    "        id_list.append(i)\n",
    "        \n",
    "id_list,sum(id_list)\n"
   ]
  },
  {
   "cell_type": "code",
   "execution_count": 38,
   "id": "e4554eb0-c592-4b4d-8380-d37002b2b0a4",
   "metadata": {},
   "outputs": [
    {
     "data": {
      "text/plain": [
       "15"
      ]
     },
     "execution_count": 38,
     "metadata": {},
     "output_type": "execute_result"
    }
   ],
   "source": [
    "summ=0\n",
    "str1='hai hai hai'\n",
    "for i in range(len(str1)):\n",
    "    if str1[i]=='a':\n",
    "        summ=summ+i\n",
    "summ"
   ]
  },
  {
   "cell_type": "code",
   "execution_count": 1,
   "id": "3ce7afbb-4f2c-48ec-90ef-efa19ae6524d",
   "metadata": {},
   "outputs": [
    {
     "data": {
      "text/plain": [
       "True"
      ]
     },
     "execution_count": 1,
     "metadata": {},
     "output_type": "execute_result"
    }
   ],
   "source": [
    "'nadeem' in '#'   # 'nadeem' is availabe in '#'\n",
    "'#' in 'nadeem'   # is '#'  availabe in 'nadeem'\n",
    "'nad##m' in '#'   # is 'nad##m' available in '#'\n",
    "'#' in 'nad##n'   # is '#'  availabe  in 'nad##m'"
   ]
  },
  {
   "cell_type": "markdown",
   "id": "2d5c188c-631c-44a2-b099-66147cd8ad53",
   "metadata": {},
   "source": [
    "**Split - Join**"
   ]
  },
  {
   "cell_type": "markdown",
   "id": "d0f80199-1cfa-4df9-a3e0-354440fcf795",
   "metadata": {},
   "source": [
    "- Split will apply for strings, to divide the words or characters \n",
    "- when we split the elements will be stored in a list format \n",
    "- Join is used to combine the elements of  list in a string format\n",
    "- **split-string**\n",
    "- **Join-list**"
   ]
  },
  {
   "cell_type": "code",
   "execution_count": 69,
   "id": "cfefa669-ade2-4d23-8026-7e5a4ef7eccf",
   "metadata": {},
   "outputs": [
    {
     "name": "stdout",
     "output_type": "stream",
     "text": [
      "['Hello', 'Im', 'Learning', 'Python']\n",
      "Hello Im Learning Python\n"
     ]
    }
   ],
   "source": [
    "str1='hello im learning python'\n",
    "words=str1.split()\n",
    "new_words=[]\n",
    "for i in words:\n",
    "    new_words.append(i.capitalize())\n",
    "print(new_words)   ##splitting on string\n",
    "print(' '.join(new_words))   # joing we are applying on words"
   ]
  },
  {
   "cell_type": "code",
   "execution_count": 19,
   "id": "b65f8ce9-7519-4988-bca3-c1b44e604d53",
   "metadata": {},
   "outputs": [
    {
     "name": "stdout",
     "output_type": "stream",
     "text": [
      "4.242640687119285\n"
     ]
    }
   ],
   "source": [
    "# calculate the distance between 2 points\n",
    "# a=[1,2]\n",
    "# b=[4,5]\n",
    "# a=[x1,x2]\n",
    "# b=[y1,y2]\n",
    "\n",
    "# step1:v1= x2-x1=a[2]-a[1]\n",
    "# step2:v2= y2-y1=b[2]-b[1]\n",
    "# step3: v11=v1**2\n",
    "# step4: v22=v2**2\n",
    "# step5: ans=math.sqrt(v11+v22)\n",
    "\n",
    "import math \n",
    "a=[1,2]     #   [x1,y2]\n",
    "b=[4,5]     #   [x2,y2]\n",
    "\n",
    "v1=b[0]-a[0]\n",
    "v2=b[1]-a[1]\n",
    "v11=v1**2\n",
    "v22=v2**2\n",
    "print(math.sqrt(v11+v22))"
   ]
  },
  {
   "cell_type": "code",
   "execution_count": 33,
   "id": "4642c439-7a4e-4b95-beb4-3e5ba5f86eac",
   "metadata": {},
   "outputs": [
    {
     "name": "stdout",
     "output_type": "stream",
     "text": [
      "Distance to point (3, 4): 1.4142135623730951\n",
      "Distance to point (3, 4): 1.4142135623730951\n",
      "Distance to point (3, 4): 1.4142135623730951\n",
      "\n",
      "Maximum Distance: 1.4142135623730951\n"
     ]
    }
   ],
   "source": [
    "import math\n",
    "\n",
    "points = [[1, 2], [2, 3], [3, 4]]\n",
    "val = [2, 3]\n",
    "\n",
    "max_distance = 0\n",
    "\n",
    "for i in points:\n",
    "  x1, y1 = point  # Unpack coordinates from point\n",
    "  x2, y2 = val     # Unpack coordinates from val\n",
    "\n",
    "  # Calculate difference between coordinates\n",
    "  diff_x = x2 - x1\n",
    "  diff_y = y2 - y1\n",
    "\n",
    "  # Calculate squared distance\n",
    "  squared_distance = diff_x**2 + diff_y**2\n",
    "\n",
    "  # Calculate actual distance\n",
    "  distance = math.sqrt(squared_distance)\n",
    "\n",
    "  print(f\"Distance to point ({x1}, {y1}): {distance}\")\n",
    "\n",
    "  # Update maximum distance if current distance is greater\n",
    "  if distance > max_distance:\n",
    "    max_distance = distance\n",
    "\n",
    "print(f\"\\nMaximum Distance: {max_distance}\")"
   ]
  },
  {
   "cell_type": "code",
   "execution_count": null,
   "id": "78b5cfe7-2a05-43c4-96de-154950be5403",
   "metadata": {},
   "outputs": [],
   "source": [
    "# calculate the distance between val[2,3] to each and every point \n",
    "# and find the maximum distance\n",
    "import math\n",
    "\n",
    "points=[[1,2],[2,3],[3,4]]\n",
    "val=[2,3]\n",
    "\n",
    "for i in points:\n",
    "    print(i[0],i[1])\n",
    "    print(val[0],val[1])\n",
    "    o1=val[0]-i[0]\n",
    "    o2=val[1]-i[0]\n",
    "    print(f'{val[1]}-{i[0]}={o1},{val[0]}-{i[0]}={o2}')\n",
    "    v11=o1**2\n",
    "    v22=o2**2\n",
    "    print(math.sqrt(v11+v22))"
   ]
  },
  {
   "cell_type": "code",
   "execution_count": 1,
   "id": "c4da2bf1-aaf2-4788-a1df-ab07426cbbe9",
   "metadata": {},
   "outputs": [
    {
     "data": {
      "text/plain": [
       "['__add__',\n",
       " '__class__',\n",
       " '__class_getitem__',\n",
       " '__contains__',\n",
       " '__delattr__',\n",
       " '__delitem__',\n",
       " '__dir__',\n",
       " '__doc__',\n",
       " '__eq__',\n",
       " '__format__',\n",
       " '__ge__',\n",
       " '__getattribute__',\n",
       " '__getitem__',\n",
       " '__getstate__',\n",
       " '__gt__',\n",
       " '__hash__',\n",
       " '__iadd__',\n",
       " '__imul__',\n",
       " '__init__',\n",
       " '__init_subclass__',\n",
       " '__iter__',\n",
       " '__le__',\n",
       " '__len__',\n",
       " '__lt__',\n",
       " '__mul__',\n",
       " '__ne__',\n",
       " '__new__',\n",
       " '__reduce__',\n",
       " '__reduce_ex__',\n",
       " '__repr__',\n",
       " '__reversed__',\n",
       " '__rmul__',\n",
       " '__setattr__',\n",
       " '__setitem__',\n",
       " '__sizeof__',\n",
       " '__str__',\n",
       " '__subclasshook__',\n",
       " 'append',\n",
       " 'clear',\n",
       " 'copy',\n",
       " 'count',\n",
       " 'extend',\n",
       " 'index',\n",
       " 'insert',\n",
       " 'pop',\n",
       " 'remove',\n",
       " 'reverse',\n",
       " 'sort']"
      ]
     },
     "execution_count": 1,
     "metadata": {},
     "output_type": "execute_result"
    }
   ],
   "source": []
  },
  {
   "cell_type": "code",
   "execution_count": null,
   "id": "6c2e2c7d-5e35-461c-8bec-5208753fe144",
   "metadata": {},
   "outputs": [],
   "source": [
    "'clear',\n",
    "'copy',\n",
    "'count',\n",
    "'extend',\n",
    "'index',\n",
    "'insert',\n",
    "'pop',\n",
    "'remove',\n",
    "'reverse',\n",
    "'sort'\n",
    "\n"
   ]
  },
  {
   "cell_type": "markdown",
   "id": "bdcd7e4b-0d75-418d-90e4-70d33338702e",
   "metadata": {},
   "source": [
    "**Clear**"
   ]
  },
  {
   "cell_type": "code",
   "execution_count": 65,
   "id": "b19cb773-7153-446d-b64b-5263d6e44bb7",
   "metadata": {},
   "outputs": [
    {
     "data": {
      "text/plain": [
       "['apple', 'ball', 'cat']"
      ]
     },
     "execution_count": 65,
     "metadata": {},
     "output_type": "execute_result"
    }
   ],
   "source": [
    "l1=['apple','ball','cat']\n",
    "l2=l1.copy()\n",
    "l2"
   ]
  },
  {
   "cell_type": "markdown",
   "id": "023a8431-62be-40d5-84cc-1932922331f7",
   "metadata": {},
   "source": [
    "**Copy**"
   ]
  },
  {
   "cell_type": "code",
   "execution_count": 63,
   "id": "1b8535fc-7dfb-4ead-9ed5-7399b0a055a5",
   "metadata": {},
   "outputs": [
    {
     "data": {
      "text/plain": [
       "(['apple', 'ball', 'cat'], ['apple', 'ball', 'cat'])"
      ]
     },
     "execution_count": 63,
     "metadata": {},
     "output_type": "execute_result"
    }
   ],
   "source": [
    "l1=['apple','ball','cat']\n",
    "l2=l1.copy()\n",
    "l1,l2"
   ]
  },
  {
   "cell_type": "code",
   "execution_count": 22,
   "id": "8a31ff64-6d52-4b8a-b27a-4a138c85f3a9",
   "metadata": {},
   "outputs": [
    {
     "data": {
      "text/plain": [
       "[1, 2, 3, 4, [5, 6], 7]"
      ]
     },
     "execution_count": 22,
     "metadata": {},
     "output_type": "execute_result"
    }
   ],
   "source": [
    "l=[1,2,3,4,[5,6],7]\n",
    "l.count([5,6])\n",
    "l"
   ]
  },
  {
   "cell_type": "code",
   "execution_count": 26,
   "id": "24ef4b4a-9cff-46d9-b65d-a2c4ff999e2b",
   "metadata": {},
   "outputs": [
    {
     "data": {
      "text/plain": [
       "['apple', 'ball', 'cat', 'd', 'o', 'l', 'l']"
      ]
     },
     "execution_count": 26,
     "metadata": {},
     "output_type": "execute_result"
    }
   ],
   "source": [
    "l=['apple','ball','cat']\n",
    "l.extend('doll')\n",
    "l"
   ]
  },
  {
   "cell_type": "code",
   "execution_count": 61,
   "id": "6fcd8353-7163-4cfb-a287-5f86d53bb61c",
   "metadata": {},
   "outputs": [
    {
     "ename": "ValueError",
     "evalue": "0 is not in list",
     "output_type": "error",
     "traceback": [
      "\u001b[1;31m---------------------------------------------------------------------------\u001b[0m",
      "\u001b[1;31mValueError\u001b[0m                                Traceback (most recent call last)",
      "Cell \u001b[1;32mIn[61], line 2\u001b[0m\n\u001b[0;32m      1\u001b[0m l\u001b[38;5;241m=\u001b[39m[\u001b[38;5;241m0\u001b[39m,\u001b[38;5;241m1\u001b[39m,\u001b[38;5;241m2\u001b[39m,\u001b[38;5;241m3\u001b[39m,\u001b[38;5;241m4\u001b[39m,\u001b[38;5;241m5\u001b[39m,\u001b[38;5;241m6\u001b[39m,\u001b[38;5;241m7\u001b[39m]\n\u001b[1;32m----> 2\u001b[0m l\u001b[38;5;241m.\u001b[39mindex(\u001b[38;5;241m0\u001b[39m,\u001b[38;5;241m4\u001b[39m)\n\u001b[0;32m      3\u001b[0m l\n",
      "\u001b[1;31mValueError\u001b[0m: 0 is not in list"
     ]
    }
   ],
   "source": [
    "l=[0,1,2,3,4,5,6,7]\n",
    "l.index(0,4)\n",
    "l"
   ]
  },
  {
   "cell_type": "code",
   "execution_count": 31,
   "id": "d761ce8f-7eb7-493b-b004-1935d014de07",
   "metadata": {},
   "outputs": [
    {
     "data": {
      "text/plain": [
       "['apple', 'ball', 'cat', 'doll']"
      ]
     },
     "execution_count": 31,
     "metadata": {},
     "output_type": "execute_result"
    }
   ],
   "source": [
    "l=['apple','ball','cat']\n",
    "l.insert(3,'doll')\n",
    "l"
   ]
  },
  {
   "cell_type": "code",
   "execution_count": 39,
   "id": "af1a3d4d-22f3-47b2-966c-79ba0a168558",
   "metadata": {},
   "outputs": [
    {
     "data": {
      "text/plain": [
       "['apple', 'cat']"
      ]
     },
     "execution_count": 39,
     "metadata": {},
     "output_type": "execute_result"
    }
   ],
   "source": [
    "l=['apple','ball','cat']\n",
    "l.pop(1)\n",
    "l"
   ]
  },
  {
   "cell_type": "code",
   "execution_count": 56,
   "id": "28dcb7a4-e9d0-4176-9943-c67e7591b7ab",
   "metadata": {},
   "outputs": [
    {
     "data": {
      "text/plain": [
       "['apple', 'cat']"
      ]
     },
     "execution_count": 56,
     "metadata": {},
     "output_type": "execute_result"
    }
   ],
   "source": [
    "l=['apple','ball','cat']\n",
    "l.remove('ball')\n",
    "l"
   ]
  },
  {
   "cell_type": "markdown",
   "id": "b9cc510a-4c4f-4516-a873-cbc934adf204",
   "metadata": {},
   "source": [
    "**pop vs remove**\n",
    "\n",
    "- In 'pop' we have to give the index number to remove the element from the list\n",
    "- Whereas in 'remove' we have to enter the element name to remove from the list"
   ]
  },
  {
   "cell_type": "code",
   "execution_count": 42,
   "id": "b2806c71-4ad0-4f7c-b2a4-bb067a04120f",
   "metadata": {},
   "outputs": [
    {
     "data": {
      "text/plain": [
       "['cat', 'ball', 'apple']"
      ]
     },
     "execution_count": 42,
     "metadata": {},
     "output_type": "execute_result"
    }
   ],
   "source": [
    "l=['apple','ball','cat']\n",
    "l.reverse()\n",
    "l"
   ]
  },
  {
   "cell_type": "code",
   "execution_count": 51,
   "id": "f714ca65-2324-4124-a0df-082f96d6de7e",
   "metadata": {},
   "outputs": [
    {
     "data": {
      "text/plain": [
       "['cat', 'ball', 'apple']"
      ]
     },
     "execution_count": 51,
     "metadata": {},
     "output_type": "execute_result"
    }
   ],
   "source": [
    "l=['apple','ball','cat']\n",
    "l.sort(reverse=True)\n",
    "l"
   ]
  },
  {
   "cell_type": "markdown",
   "id": "4ad02483-88b7-4c23-92e9-e08610be8a5c",
   "metadata": {},
   "source": [
    "**append - extend - concatination - insert**"
   ]
  },
  {
   "cell_type": "code",
   "execution_count": 67,
   "id": "410f0f70-15ca-45af-b212-95924c65e156",
   "metadata": {},
   "outputs": [
    {
     "name": "stdout",
     "output_type": "stream",
     "text": [
      "[1, 2, 3, 4, ['A', 'B', 'C', 'D']]\n",
      "['A', 'B', 'C', 'D']\n"
     ]
    }
   ],
   "source": [
    "l1=[1,2,3,4]\n",
    "l2=['A','B','C','D']\n",
    "l1.append(l2)\n",
    "print(l1)\n",
    "print(l2)\n",
    "\n",
    "# l1 list is overwrite with l2 values"
   ]
  },
  {
   "cell_type": "code",
   "execution_count": 70,
   "id": "643465cb-5a44-4904-96f6-ec9db32cc535",
   "metadata": {},
   "outputs": [
    {
     "name": "stdout",
     "output_type": "stream",
     "text": [
      "[1, 2, 3, 4]\n",
      "['A', 'B', 'C', 'D', 1, 2, 3, 4]\n"
     ]
    }
   ],
   "source": [
    "l1=[1,2,3,4]\n",
    "l2=['A','B','C','D']\n",
    "l2.extend(l1)\n",
    "print(l1)\n",
    "print(l2)"
   ]
  },
  {
   "cell_type": "code",
   "execution_count": 71,
   "id": "f958f591-79e9-42c5-841b-f0c9db2346eb",
   "metadata": {},
   "outputs": [
    {
     "data": {
      "text/plain": [
       "[1, 2, 3, 4, 'A', 'B', 'C', 'D']"
      ]
     },
     "execution_count": 71,
     "metadata": {},
     "output_type": "execute_result"
    }
   ],
   "source": [
    "l1=[1,2,3,4]\n",
    "l2=['A','B','C','D']\n",
    "l1+l2"
   ]
  },
  {
   "cell_type": "code",
   "execution_count": 73,
   "id": "ea0a19e5-6369-4fb6-b9e4-d569fb770db2",
   "metadata": {},
   "outputs": [
    {
     "name": "stdout",
     "output_type": "stream",
     "text": [
      "[1, 2, 3, 4, 'A', 'B', 'C', 'D']\n",
      "['A', 'B', 'C', 'D', 1, 2, 3, 4]\n",
      "[1, 2, 3, 4, 1, 2, 3, 4]\n",
      "['A', 'B', 'C', 'D', 'A', 'B', 'C', 'D']\n",
      "[1, 2, 3, 4]\n",
      "['A', 'B', 'C', 'D']\n"
     ]
    }
   ],
   "source": [
    "l1=[1,2,3,4]\n",
    "l2=['A','B','C','D']\n",
    "print(l1+l2)\n",
    "print(l2+l1)\n",
    "print(l1+l1)\n",
    "print(l2+l2)\n",
    "print(l1)\n",
    "print(l2)"
   ]
  },
  {
   "cell_type": "markdown",
   "id": "2aa8e1b7-2993-4395-8942-84933741951b",
   "metadata": {},
   "source": [
    "- append just append the value with base data type\n",
    "- extend is concatenate the value, and the list will be overwrite with new values \n",
    "- extend can take any iterable format type i.e. string, list tuple\n",
    "- extend and concatenation both are same \n",
    "- the list will ot overwrite in concatenation"
   ]
  },
  {
   "cell_type": "markdown",
   "id": "bbe9cbbd-f064-42c1-a6ae-7ea448751e16",
   "metadata": {},
   "source": [
    "**Index**\n",
    "\n",
    "- Same like string only"
   ]
  },
  {
   "cell_type": "code",
   "execution_count": 82,
   "id": "62c8e924-8e5c-41f2-949f-f26400b8367e",
   "metadata": {},
   "outputs": [
    {
     "data": {
      "text/plain": [
       "(3, 6)"
      ]
     },
     "execution_count": 82,
     "metadata": {},
     "output_type": "execute_result"
    }
   ],
   "source": [
    "l1=[1,2,3,'Apple',10,20,'Apple',40]\n",
    "l1.index(2)\n",
    "i1=l1.index('Apple')\n",
    "i2=l1.index('Apple',i1+1)\n",
    "i1,i2"
   ]
  },
  {
   "cell_type": "markdown",
   "id": "1881cbd1-7ed1-47ac-8cc3-fe5e606f2006",
   "metadata": {},
   "source": [
    "- Case-1: Directly get the index\n",
    "- Case-2: Next value index, by providing start\n",
    "- Case-3: Between the values"
   ]
  },
  {
   "cell_type": "markdown",
   "id": "44c7cc70-7ea1-4c54-8f3d-31ca8a367b9a",
   "metadata": {},
   "source": [
    "**Insert**\n",
    "\n",
    "- will insert the element based on index\n",
    "- append will add the element at last only"
   ]
  },
  {
   "cell_type": "code",
   "execution_count": 17,
   "id": "3fd2dca6-ccf3-449c-bd54-8b9633ceb9e4",
   "metadata": {},
   "outputs": [
    {
     "data": {
      "text/plain": [
       "[1, 2, 3, 'Apple', 10, 20, 'Apple', 'cherry', 40]"
      ]
     },
     "execution_count": 17,
     "metadata": {},
     "output_type": "execute_result"
    }
   ],
   "source": [
    "l1=[1,2,3,'Apple',10,20,'Apple',40]\n",
    "i1=l1.index(40)      # Apple index = 3\n",
    "l1.insert(i1,'cherry')     #  insert banana before index  il(3)\n",
    "l1"
   ]
  },
  {
   "cell_type": "code",
   "execution_count": 22,
   "id": "7f56b4a9-c0aa-4d80-a689-2f0b7004e30e",
   "metadata": {},
   "outputs": [
    {
     "data": {
      "text/plain": [
       "[1, 2, 3, 'Apple', 10, 20, 'cherry', 'Apple', 'cherry', 40]"
      ]
     },
     "execution_count": 22,
     "metadata": {},
     "output_type": "execute_result"
    }
   ],
   "source": [
    "i1=l1.index('Apple')\n",
    "i2=l1.index('Apple',i1+1)\n",
    "l1.insert(i2,'cherry')\n",
    "l1"
   ]
  },
  {
   "cell_type": "markdown",
   "id": "f9335358-ab16-4902-ba81-db6183d3eba3",
   "metadata": {},
   "source": [
    "**Pop - remove - del**\n",
    "\n",
    "- pop will remove the item\n",
    "- pop also display the item which is removing\n",
    "- pop will take one argument index\n",
    "- pop will remove the item based on index\n",
    "- if you dont provide any index, by default it will remove last value\n",
    "- Because the default index value is -1"
   ]
  },
  {
   "cell_type": "code",
   "execution_count": 49,
   "id": "e1600b42-b205-40fc-9a73-e989dc705598",
   "metadata": {},
   "outputs": [
    {
     "data": {
      "text/plain": [
       "[1, 2, 3, 10, 20, 'Apple', 40]"
      ]
     },
     "execution_count": 49,
     "metadata": {},
     "output_type": "execute_result"
    }
   ],
   "source": [
    "l1=[1,2,3,'Apple',10,20,'Apple',40]\n",
    "i1=l1.index('Apple')\n",
    "l1.pop(i1)\n",
    "l1"
   ]
  },
  {
   "cell_type": "code",
   "execution_count": 52,
   "id": "713bdad0-bacf-4175-a52c-ad7163e7283c",
   "metadata": {},
   "outputs": [
    {
     "data": {
      "text/plain": [
       "[1, 2, 3, 'Apple', 10, 20, 40]"
      ]
     },
     "execution_count": 52,
     "metadata": {},
     "output_type": "execute_result"
    }
   ],
   "source": [
    "l1=[1,2,3,'Apple',10,20,'Apple',40]\n",
    "i1=l1.index('Apple')\n",
    "i2=l1.index('Apple',i1+1)\n",
    "l1.pop(i2)\n",
    "l1"
   ]
  },
  {
   "cell_type": "code",
   "execution_count": 58,
   "id": "57fbf8f2-d490-433a-b15e-1c41137f584a",
   "metadata": {},
   "outputs": [
    {
     "data": {
      "text/plain": [
       "[1, 2, 3, 10, 20, 40]"
      ]
     },
     "execution_count": 58,
     "metadata": {},
     "output_type": "execute_result"
    }
   ],
   "source": [
    "# to remove multiple 'Apple' from the list \n",
    "\n",
    "l1=[1,2,3,'Apple',10,20,'Apple',40,'Apple']\n",
    "i1=l1.index('Apple')\n",
    "l1.pop(i1)\n",
    "i1=l1.index('Apple')\n",
    "l1.pop(i1)\n",
    "i1=l1.index('Apple')\n",
    "l1.pop(i1)\n",
    "l1"
   ]
  },
  {
   "cell_type": "code",
   "execution_count": 75,
   "id": "ad8dd959-ab18-4f75-b6d8-b676f56eaea3",
   "metadata": {},
   "outputs": [
    {
     "data": {
      "text/plain": [
       "'hai how are you im good thank you'"
      ]
     },
     "execution_count": 75,
     "metadata": {},
     "output_type": "execute_result"
    }
   ],
   "source": [
    "# str='hai apple how are you apple im good apple thank you apple'\n",
    "# o/p = 'hai how are you im good thank you'\n",
    "# step-1 : split\n",
    "# iterate it \n",
    "# pop it\n",
    "# join it\n",
    "\n",
    "str='hai apple how are you apple im good apple thank you apple'\n",
    "list1=str.split()\n",
    "count=list1.count('apple')\n",
    "for i in range(count):\n",
    "    i1=list1.index('apple')\n",
    "    list1.pop(i1)\n",
    "' '.join(list1)"
   ]
  },
  {
   "cell_type": "markdown",
   "id": "ba9d8eb5-285b-43f4-8148-cbbf77376090",
   "metadata": {},
   "source": [
    "- pop will take the index\n",
    "- remove will take the value \n",
    "- remove will delete the first occurence of element "
   ]
  },
  {
   "cell_type": "code",
   "execution_count": 78,
   "id": "c967599e-0f8b-4cb2-9ef6-de963cc24c63",
   "metadata": {},
   "outputs": [
    {
     "data": {
      "text/plain": [
       "[1, 2, 3, 10, 20, 'Apple', 40]"
      ]
     },
     "execution_count": 78,
     "metadata": {},
     "output_type": "execute_result"
    }
   ],
   "source": [
    "l1=[1,2,3,'Apple',10,20,'Apple',40]\n",
    "l1.remove('Apple')\n",
    "l1"
   ]
  },
  {
   "cell_type": "code",
   "execution_count": 79,
   "id": "907deb0d-7b8b-489b-89d0-139135426c7b",
   "metadata": {},
   "outputs": [
    {
     "data": {
      "text/plain": [
       "'hai how are you im good thank you'"
      ]
     },
     "execution_count": 79,
     "metadata": {},
     "output_type": "execute_result"
    }
   ],
   "source": [
    "str='hai apple how are you apple im good apple thank you apple'\n",
    "list1=str.split()\n",
    "count=list1.count('apple')\n",
    "for i in range(count):\n",
    "    list1.remove('apple')\n",
    "' '.join(list1)"
   ]
  },
  {
   "cell_type": "markdown",
   "id": "6051b8e0-680b-4e57-960d-2af9f86a0b9c",
   "metadata": {},
   "source": [
    "**del**"
   ]
  },
  {
   "cell_type": "code",
   "execution_count": 90,
   "id": "77f63010-88ac-4b28-9e93-744a5ae4826a",
   "metadata": {},
   "outputs": [
    {
     "data": {
      "text/plain": [
       "[1, 2, 3, 10, 20, 'Apple', 40]"
      ]
     },
     "execution_count": 90,
     "metadata": {},
     "output_type": "execute_result"
    }
   ],
   "source": [
    "l1=[1,2,3,'Apple',10,20,'Apple',40]\n",
    "del(l1[3])\n",
    "l1"
   ]
  },
  {
   "cell_type": "markdown",
   "id": "0573a8a8-f446-4e39-9c5e-9f409dc7ad5b",
   "metadata": {},
   "source": [
    "- append / extend / insert / Concatination\n",
    "- Pop / remove / del\n",
    "- sort / sorted\n",
    "- reverse / reversed\n",
    "- count and index"
   ]
  },
  {
   "cell_type": "code",
   "execution_count": null,
   "id": "9efd00c6-6dc8-46fb-824e-f89c684c3226",
   "metadata": {},
   "outputs": [],
   "source": []
  },
  {
   "cell_type": "code",
   "execution_count": null,
   "id": "1c4bb100-01a5-4c6e-a741-3a9e6a58ac7a",
   "metadata": {},
   "outputs": [],
   "source": []
  }
 ],
 "metadata": {
  "kernelspec": {
   "display_name": "Python 3 (ipykernel)",
   "language": "python",
   "name": "python3"
  },
  "language_info": {
   "codemirror_mode": {
    "name": "ipython",
    "version": 3
   },
   "file_extension": ".py",
   "mimetype": "text/x-python",
   "name": "python",
   "nbconvert_exporter": "python",
   "pygments_lexer": "ipython3",
   "version": "3.11.7"
  }
 },
 "nbformat": 4,
 "nbformat_minor": 5
}

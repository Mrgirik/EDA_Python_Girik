{
 "cells": [
  {
   "cell_type": "markdown",
   "id": "52090639-3887-423a-918e-259c135ca223",
   "metadata": {},
   "source": [
    "## variables\n",
    "- variables are used to store the value\n",
    "- and the values can be change"
   ]
  },
  {
   "cell_type": "code",
   "execution_count": 3,
   "id": "5dd5cb9a-048b-4920-a864-890e804d15ce",
   "metadata": {},
   "outputs": [
    {
     "data": {
      "text/plain": [
       "100"
      ]
     },
     "execution_count": 3,
     "metadata": {},
     "output_type": "execute_result"
    }
   ],
   "source": [
    "number=100 #value 100 stored in a variable called number\n",
    "number"
   ]
  },
  {
   "cell_type": "code",
   "execution_count": 5,
   "id": "7cf0f07a-523a-4371-aeef-f2286072b6ec",
   "metadata": {},
   "outputs": [
    {
     "data": {
      "text/plain": [
       "200"
      ]
     },
     "execution_count": 5,
     "metadata": {},
     "output_type": "execute_result"
    }
   ],
   "source": [
    "number=200 #value 200 stated in a variable name called number\n",
    "number"
   ]
  },
  {
   "cell_type": "markdown",
   "id": "3b391670-7f29-4abe-9cc2-2c4ef62b7331",
   "metadata": {},
   "source": [
    "**Note**\n",
    "- python is a step by step process\n",
    "- python will take last output as the latest value \n",
    "- In above code we are using same variable number but value changed two times\n",
    "- first time 100\n",
    "- second time 200\n",
    "- latest value 200"
   ]
  },
  {
   "cell_type": "code",
   "execution_count": 2,
   "id": "6a6a9466-65d2-42b4-b542-37566901f19c",
   "metadata": {},
   "outputs": [
    {
     "data": {
      "text/plain": [
       "200"
      ]
     },
     "execution_count": 2,
     "metadata": {},
     "output_type": "execute_result"
    }
   ],
   "source": [
    "NUMBER=200\n",
    "NUMBER"
   ]
  },
  {
   "cell_type": "code",
   "execution_count": 7,
   "id": "bf729dd1-bc9d-4460-b333-7d29403fb43a",
   "metadata": {},
   "outputs": [
    {
     "data": {
      "text/plain": [
       "(200, 200)"
      ]
     },
     "execution_count": 7,
     "metadata": {},
     "output_type": "execute_result"
    }
   ],
   "source": [
    "number,NUMBER"
   ]
  },
  {
   "cell_type": "markdown",
   "id": "802697ba-f3b0-423e-99eb-adbaf189da7e",
   "metadata": {},
   "source": [
    "### IMPORTANT POINTS \n",
    "- Python variables are case sensitive \n",
    "- Variables can be declare as capital letters \n",
    "- Variables can be declare as small letters \n",
    "- Variables cannot start with numbers (prefix)\n",
    "- Numbers can be suffix of the variables\n",
    "- Variables cannot have sepcial characters except **underscore**\n",
    "- Variables does not have space between the names\n",
    "- Only underscore is possibles\n",
    "- Key words or reserved words cannot be assigned as a variable\n",
    "- Two values can assign to a sinlge variable\n",
    "- One value cannot assign to two variables\n",
    "- All black colors are variables\n"
   ]
  },
  {
   "cell_type": "code",
   "execution_count": null,
   "id": "d2b4cccc-3317-479e-b681-fc896b347f32",
   "metadata": {},
   "outputs": [],
   "source": []
  }
 ],
 "metadata": {
  "kernelspec": {
   "display_name": "Python 3 (ipykernel)",
   "language": "python",
   "name": "python3"
  },
  "language_info": {
   "codemirror_mode": {
    "name": "ipython",
    "version": 3
   },
   "file_extension": ".py",
   "mimetype": "text/x-python",
   "name": "python",
   "nbconvert_exporter": "python",
   "pygments_lexer": "ipython3",
   "version": "3.11.7"
  }
 },
 "nbformat": 4,
 "nbformat_minor": 5
}

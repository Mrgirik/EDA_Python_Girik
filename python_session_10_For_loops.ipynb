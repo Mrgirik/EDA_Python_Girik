{
 "cells": [
  {
   "cell_type": "markdown",
   "id": "ccc3b2a3-cc50-412f-9419-8dfffa67ec40",
   "metadata": {},
   "source": [
    "**LOOPS**"
   ]
  },
  {
   "cell_type": "markdown",
   "id": "2a5eab22-286c-441b-a4c3-52db93d9d373",
   "metadata": {},
   "source": [
    "- Iterate a piece of code untill the condition satisfy\n",
    "- we can run a code normally\n",
    "- we can run a code by using function wrapper \n",
    "- we can run a code multiple times (loops)\n",
    "- we can run a code by using condition (conditions)"
   ]
  },
  {
   "cell_type": "code",
   "execution_count": 2,
   "id": "64fc5181-af0e-4df8-9115-32a9e0125703",
   "metadata": {},
   "outputs": [
    {
     "name": "stdin",
     "output_type": "stream",
     "text": [
      "enter the salary: 2000\n",
      "enter the salary: 2\n"
     ]
    },
    {
     "name": "stdout",
     "output_type": "stream",
     "text": [
      "40.0\n"
     ]
    }
   ],
   "source": [
    "salary = eval(input('enter the salary:'))\n",
    "tax_per = eval(input('enter the salary:'))\n",
    "tax_amount=salary*tax_per/100\n",
    "print(tax_amount)"
   ]
  },
  {
   "cell_type": "code",
   "execution_count": null,
   "id": "900e190f-87af-4910-b457-6cdaa1c98e43",
   "metadata": {},
   "outputs": [],
   "source": [
    "def tax():\n",
    "    salary = eval(input('enter the salary:'))\n",
    "    tax_per = eval(input('enter the salary:'))\n",
    "    tax_amount=salary*tax_per/100\n",
    "    print(tax_amount)\n",
    "tax()"
   ]
  },
  {
   "cell_type": "markdown",
   "id": "0860a1d8-befc-4ba3-9816-87abe3870463",
   "metadata": {},
   "source": [
    "- For loop\n",
    "- While loop\n",
    "- Any loop\n",
    "    - Intital point to start the loop\n",
    "    - increment or decrement\n",
    "    - condition to stop the loop"
   ]
  },
  {
   "cell_type": "markdown",
   "id": "de1fdd0b-aa7c-4de3-b9c1-f4f37f5fb721",
   "metadata": {},
   "source": [
    "## FOR LOOP"
   ]
  },
  {
   "cell_type": "markdown",
   "id": "01e03833-d181-461f-a4d8-f0da97bf5e09",
   "metadata": {},
   "source": [
    "***Pattern-1***"
   ]
  },
  {
   "cell_type": "markdown",
   "id": "8632dbfc-140c-4eb7-a3fe-f3f811ca8410",
   "metadata": {},
   "source": [
    "**range(stop)**"
   ]
  },
  {
   "cell_type": "code",
   "execution_count": null,
   "id": "81e7a8f2-2dfc-4600-ab9b-a57a3c34f9d3",
   "metadata": {},
   "outputs": [],
   "source": [
    "#  syntax\n",
    "for i in ramge(<value>):\n",
    "    # start write code"
   ]
  },
  {
   "cell_type": "markdown",
   "id": "4e83afc7-2f0b-4e26-b438-357b4601abdf",
   "metadata": {},
   "source": [
    "- whenever you see the word range it belongs to math family \n",
    "- inside range we need to provide one value ex: range(3)\n",
    "- if you provide only one value\n",
    "    - start value=0\n",
    "    - increment =+1\n",
    "    - last value = stop-1\n",
    "- range(3)\n",
    "    - start value=0\n",
    "    - increment = 1\n",
    "    - last = 3-1 = 2\n",
    "    - answers are : 0 1 2\n",
    "  \n",
    "**Note**: In python the index always start with zero"
   ]
  },
  {
   "cell_type": "code",
   "execution_count": 4,
   "id": "e895e706-ebba-4914-91db-b6dfcb321ad0",
   "metadata": {},
   "outputs": [
    {
     "name": "stdout",
     "output_type": "stream",
     "text": [
      "0\n",
      "1\n",
      "2\n"
     ]
    }
   ],
   "source": [
    "for i in range(3):\n",
    "    print(i)"
   ]
  },
  {
   "cell_type": "code",
   "execution_count": 5,
   "id": "d2d8ff39-5350-4714-b2a5-113566ef2d11",
   "metadata": {},
   "outputs": [
    {
     "name": "stdout",
     "output_type": "stream",
     "text": [
      "2\n"
     ]
    }
   ],
   "source": [
    "print(i)"
   ]
  },
  {
   "cell_type": "code",
   "execution_count": 6,
   "id": "41741121-9acd-4a94-8302-649edb0a17b0",
   "metadata": {},
   "outputs": [
    {
     "name": "stdout",
     "output_type": "stream",
     "text": [
      "hello\n",
      "hello\n",
      "hello\n",
      "hello\n",
      "hello\n"
     ]
    }
   ],
   "source": [
    "# i want to print hello 5 times\n",
    "for i in range(5):\n",
    "    print('hello')"
   ]
  },
  {
   "cell_type": "code",
   "execution_count": 2,
   "id": "d3383a9b-a884-403a-afb6-4816732f1a20",
   "metadata": {},
   "outputs": [
    {
     "name": "stdout",
     "output_type": "stream",
     "text": [
      "49 is an odd number\n"
     ]
    }
   ],
   "source": [
    "# For example \n",
    "# take a random number between 1 to 100\n",
    "# print it is a even number and odd number\n",
    "# you need to generate 3 random number\n",
    "\n",
    "import random\n",
    "num=random.randint(1,100)\n",
    "if num%2==0:\n",
    "    print(f'{num} is an even number')\n",
    "else:\n",
    "    print(f'{num} is an odd number')"
   ]
  },
  {
   "cell_type": "code",
   "execution_count": 3,
   "id": "9629f20f-6b7e-4d9e-aa7e-a50916e5ac67",
   "metadata": {},
   "outputs": [
    {
     "name": "stdout",
     "output_type": "stream",
     "text": [
      "84 is an even number\n",
      "56 is an even number\n",
      "100 is an even number\n"
     ]
    }
   ],
   "source": [
    "import random\n",
    "for i in range(3):\n",
    "    num=random.randint(1,100)\n",
    "    if num%2==0:\n",
    "        print(f'{num} is an even number')\n",
    "    else:\n",
    "        print(f'{num} is an odd number')"
   ]
  },
  {
   "cell_type": "code",
   "execution_count": 22,
   "id": "7bcc835f-a4ec-4929-a025-7bf3c2ad72c1",
   "metadata": {},
   "outputs": [
    {
     "name": "stdout",
     "output_type": "stream",
     "text": [
      "0 1 2 3 4 5 6 7 8 9 "
     ]
    }
   ],
   "source": [
    "for i in range(10):\n",
    "    print(i,end=' ')"
   ]
  },
  {
   "cell_type": "code",
   "execution_count": null,
   "id": "c62be5e3-bebd-42c1-b7a7-cdb608af9d5a",
   "metadata": {},
   "outputs": [],
   "source": [
    "#sep: will sepefate multiple values in same print statements\n",
    "# end : combine the multiple print statements"
   ]
  },
  {
   "cell_type": "markdown",
   "id": "648355b0-0c05-442e-9520-5fb408b62ec3",
   "metadata": {},
   "source": [
    "$pattern-2$\n",
    "\n",
    "**range(start,stop)**\n",
    "\n",
    "- range(10,20)\n",
    "    - start value=10\n",
    "    - increment =1\n",
    "    - last = stop-1 = 20-1=19\n",
    "    - ans: 10 11 12 13 14 15 16 17 18 19"
   ]
  },
  {
   "cell_type": "code",
   "execution_count": 27,
   "id": "2d24ef6f-cc29-447a-b322-37dd1165160d",
   "metadata": {},
   "outputs": [
    {
     "name": "stdout",
     "output_type": "stream",
     "text": [
      "10 11 12 13 14 15 16 17 18 19 "
     ]
    }
   ],
   "source": [
    "for i in range(10,20):\n",
    "    print(i,end=' ')"
   ]
  },
  {
   "cell_type": "code",
   "execution_count": 34,
   "id": "4e8910bd-7541-4e9c-a538-ce148daa28eb",
   "metadata": {},
   "outputs": [
    {
     "name": "stdout",
     "output_type": "stream",
     "text": [
      "The square of 20 is: 400\n",
      "The square of 21 is: 441\n",
      "The square of 22 is: 484\n",
      "The square of 23 is: 529\n",
      "The square of 24 is: 576\n",
      "The square of 25 is: 625\n"
     ]
    }
   ],
   "source": [
    "# wap ask the user print the square of the number between \n",
    "# 20 to 25\n",
    "for i in range(20,26):\n",
    "    print(f\"The square of {i} is: {i*i}\")"
   ]
  },
  {
   "cell_type": "code",
   "execution_count": 35,
   "id": "df13588f-b8ce-4558-8038-11facf617077",
   "metadata": {},
   "outputs": [
    {
     "name": "stdout",
     "output_type": "stream",
     "text": [
      "10 is even number\n",
      "11 is odd  number\n",
      "12 is even number\n",
      "13 is odd  number\n",
      "14 is even number\n",
      "15 is odd  number\n",
      "16 is even number\n",
      "17 is odd  number\n",
      "18 is even number\n",
      "19 is odd  number\n"
     ]
    }
   ],
   "source": [
    "# wap ask the user print the number is even or odd between 10 to 20\n",
    "for i in range(10,20):\n",
    "    if i%2==0:\n",
    "        print(f'{i} is even number')\n",
    "    else:\n",
    "        print(f'{i} is odd  number')"
   ]
  },
  {
   "cell_type": "markdown",
   "id": "7c12e1d0-2f5f-45ca-a763-cbdc1c577b9a",
   "metadata": {},
   "source": [
    "$Pattern-3$\n",
    "\n",
    "**range(start,stop,step)**\n",
    "\n",
    "- start value = start values\n",
    "\n",
    "- step value\n",
    "\n",
    "    - positive step value\n",
    "      \n",
    "        - if step value is positive : increment\n",
    "      \n",
    "        - last = stop-1\n",
    "  \n",
    "    - negative step value\n",
    "      \n",
    "        - if step value is negative : decrement\n",
    "          \n",
    "        - last=stop+1"
   ]
  },
  {
   "cell_type": "code",
   "execution_count": 37,
   "id": "6c6da122-0dad-4ae5-ac78-997e6017818a",
   "metadata": {},
   "outputs": [
    {
     "name": "stdout",
     "output_type": "stream",
     "text": [
      "2 4 6 8 10 12 14 16 18 "
     ]
    }
   ],
   "source": [
    "# case 1\n",
    "for i in range(2,20,2):\n",
    "    print(i,end=' ')\n",
    "\n",
    "# start=2\n",
    "# step=+ve 2\n",
    "# last =stop-1=20-1=19\n",
    "# 2 4 6 8 10 12 14 16 18"
   ]
  },
  {
   "cell_type": "code",
   "execution_count": 40,
   "id": "392b1af0-9991-4971-b5ac-35def2131c66",
   "metadata": {},
   "outputs": [
    {
     "name": "stdout",
     "output_type": "stream",
     "text": [
      "5 10 15 20 25 30 35 40 45 "
     ]
    }
   ],
   "source": [
    "for i in range(5,50,5):\n",
    "    print(i,end=' ')\n",
    "    \n",
    "# start=5\n",
    "# step=+ve = 5\n",
    "# last =stop-1=50-1=49\n",
    "# 5 10 15 20 25 30 35 40 45"
   ]
  },
  {
   "cell_type": "code",
   "execution_count": 45,
   "id": "5b9563e9-d757-437c-81f3-c348d47c6c46",
   "metadata": {},
   "outputs": [],
   "source": [
    "# case-2:\n",
    "for i in range(2,20,-2):\n",
    "    print(i,end=' ')\n",
    "\n",
    "# start=2\n",
    "# step= -ve = -2\n",
    "# last =stop+1=20+1=21"
   ]
  },
  {
   "cell_type": "code",
   "execution_count": 46,
   "id": "efbc600d-4ffb-4cba-b321-edd19eae12ac",
   "metadata": {},
   "outputs": [
    {
     "name": "stdout",
     "output_type": "stream",
     "text": [
      "20 18 16 14 12 10 8 6 4 "
     ]
    }
   ],
   "source": [
    "# case-3:\n",
    "for i in range(20,2,-2):\n",
    "    print(i,end=' ')\n"
   ]
  },
  {
   "cell_type": "code",
   "execution_count": 48,
   "id": "a9881aea-8a31-417a-9ad4-32ba823887ea",
   "metadata": {},
   "outputs": [],
   "source": [
    "# case-4\n",
    "for i in range(-20,2,-2):\n",
    "    print(i,end=' ')\n",
    "\n",
    "# start =-20\n",
    "# stop=-2 neg\n",
    "# last = stop+1=2+1=3"
   ]
  },
  {
   "cell_type": "code",
   "execution_count": null,
   "id": "1bee4dd3-524f-4f59-8f0a-e128aee9ae6e",
   "metadata": {},
   "outputs": [],
   "source": [
    "# 1)\n",
    "import random\n",
    "for i in range(3):\n",
    "    num=random.randint(1,100)\n",
    "    if num%2==0:\n",
    "        print(f'{num} is an even number')\n",
    "    else:\n",
    "        print(f'{num} is an odd number')"
   ]
  },
  {
   "cell_type": "code",
   "execution_count": null,
   "id": "ed417e05-10b9-4947-9b20-1a929dab66ff",
   "metadata": {},
   "outputs": [],
   "source": [
    "# 2) wap ask the user print the number is even or odd between 10 to 20\n",
    "for i in range(10,20):\n",
    "    if i%2==0:\n",
    "        print(f'{i} is even number')\n",
    "    else:\n",
    "        print(f'{i} is odd  number')"
   ]
  },
  {
   "cell_type": "code",
   "execution_count": null,
   "id": "bd1e0d23-884e-46e7-a72f-beccada7eecd",
   "metadata": {},
   "outputs": [],
   "source": [
    "# 3) wap ask the user print the square of the number between \n",
    "# 20 to 25\n",
    "for i in range(20,26):\n",
    "    print(f\"The square of {i} is: {i*i}\")"
   ]
  },
  {
   "cell_type": "code",
   "execution_count": 1,
   "id": "176b449f-7a78-4ab0-aeda-0d1bd1d41ea9",
   "metadata": {},
   "outputs": [
    {
     "name": "stdin",
     "output_type": "stream",
     "text": [
      "enter the number 3\n"
     ]
    },
    {
     "name": "stdout",
     "output_type": "stream",
     "text": [
      "the square of 3 is 9\n"
     ]
    },
    {
     "name": "stdin",
     "output_type": "stream",
     "text": [
      "enter the number 8\n"
     ]
    },
    {
     "name": "stdout",
     "output_type": "stream",
     "text": [
      "the square of 8 is 64\n"
     ]
    },
    {
     "name": "stdin",
     "output_type": "stream",
     "text": [
      "enter the number 20\n"
     ]
    },
    {
     "name": "stdout",
     "output_type": "stream",
     "text": [
      "the square of 20 is 400\n"
     ]
    }
   ],
   "source": [
    "# 4) WAP ask the user enter number three times find the square of the number\n",
    "\n",
    "for i in range(3):\n",
    "    num=eval(input('enter the number'))\n",
    "    print(f'the square of {num} is {num*num}')"
   ]
  },
  {
   "cell_type": "code",
   "execution_count": 7,
   "id": "1f3e99de-93ab-4fc8-ad6d-1a6f65398745",
   "metadata": {},
   "outputs": [
    {
     "name": "stdin",
     "output_type": "stream",
     "text": [
      "enter the table which you want to see: 4\n"
     ]
    },
    {
     "name": "stdout",
     "output_type": "stream",
     "text": [
      "Multiplication table of 4:\n",
      "4 x 1 = 4\n",
      "4 x 2 = 8\n",
      "4 x 3 = 12\n",
      "4 x 4 = 16\n",
      "4 x 5 = 20\n",
      "4 x 6 = 24\n",
      "4 x 7 = 28\n",
      "4 x 8 = 32\n",
      "4 x 9 = 36\n",
      "4 x 10 = 40\n"
     ]
    }
   ],
   "source": [
    "# 5) print the 14th table \n",
    "number = eval(input('enter the table which you want to see:'))\n",
    "\n",
    "print(f\"Multiplication table of {number}:\")\n",
    "for i in range(1, 11):\n",
    "    print(f\"{number} x {i} = {number * i}\")"
   ]
  },
  {
   "cell_type": "code",
   "execution_count": 11,
   "id": "d19d8092-8b33-464b-a370-038401063b71",
   "metadata": {},
   "outputs": [
    {
     "name": "stdin",
     "output_type": "stream",
     "text": [
      "enter the factor which you want to know: 75\n"
     ]
    },
    {
     "name": "stdout",
     "output_type": "stream",
     "text": [
      "1 is the divisor of 75\n",
      "3 is the divisor of 75\n",
      "5 is the divisor of 75\n",
      "15 is the divisor of 75\n",
      "25 is the divisor of 75\n",
      "75 is the divisor of 75\n"
     ]
    }
   ],
   "source": [
    "# 6) find the factors of 75\n",
    "factor=eval(input('enter the factor which you want to know:'))\n",
    "for i in range(1,factor+1):\n",
    "    if factor%i==0:\n",
    "        print(f'{i} is the divisor of {factor}')\n"
   ]
  },
  {
   "cell_type": "code",
   "execution_count": 29,
   "id": "3ad459a9-94d5-4cb5-ac8b-d6e3a27ddca5",
   "metadata": {},
   "outputs": [
    {
     "name": "stdin",
     "output_type": "stream",
     "text": [
      "enter a number 4\n"
     ]
    },
    {
     "name": "stdout",
     "output_type": "stream",
     "text": [
      "Sum of the first 4 natural numbers is: 10\n"
     ]
    }
   ],
   "source": [
    "# 7) write the sum of first 10 natural numbers \n",
    "n = eval(input('enter a number')) \n",
    "sum_first_n = 0\n",
    "for i in range(1, n + 1):\n",
    "    sum_first_n += i\n",
    "print(\"Sum of the first\", n, \"natural numbers is:\", sum_first_n)"
   ]
  },
  {
   "cell_type": "markdown",
   "id": "30593284-e098-41de-88c4-899708ac7c45",
   "metadata": {},
   "source": [
    "**Summation wrapper**\n",
    "\n",
    "- Initially we need to keep sum=0\n",
    "- make sure that do not provide **sum**\n",
    "- Beause sum is a keyword\n",
    "- inside for loop : summ=summ+i"
   ]
  },
  {
   "cell_type": "code",
   "execution_count": 31,
   "id": "040beef3-c591-4e87-a191-655a78604652",
   "metadata": {},
   "outputs": [
    {
     "name": "stdout",
     "output_type": "stream",
     "text": [
      "0+1=1\n",
      "1+2=3\n",
      "3+3=6\n",
      "6+4=10\n",
      "10+5=15\n",
      "15+6=21\n",
      "21+7=28\n",
      "28+8=36\n",
      "36+9=45\n",
      "45+10=55\n"
     ]
    }
   ],
   "source": [
    "summ=0\n",
    "for i in range(1,11):\n",
    "    summ=summ+i\n",
    "    print(f'{summ-i}+{i}={summ}')"
   ]
  },
  {
   "cell_type": "markdown",
   "id": "3cee9407-a152-4bdc-a79f-ef5e625a4a96",
   "metadata": {},
   "source": [
    "**Note**\n",
    "\n",
    "- If we print answer from out of for loop, last answer will print"
   ]
  },
  {
   "cell_type": "code",
   "execution_count": 38,
   "id": "eacf71f7-0980-4de4-a520-1c0e5c3fdc09",
   "metadata": {},
   "outputs": [
    {
     "name": "stdin",
     "output_type": "stream",
     "text": [
      "Enter the number: 10\n"
     ]
    },
    {
     "name": "stdout",
     "output_type": "stream",
     "text": [
      "5.5\n"
     ]
    }
   ],
   "source": [
    "# 8) average of first 10 numbers\n",
    "# avg = summation of all the numbers / total numbers\n",
    "summ=0\n",
    "N=eval(input('Enter the number:'))\n",
    "for i in range(1,N+1):\n",
    "    summ=summ+i\n",
    "print(summ/N)"
   ]
  },
  {
   "cell_type": "markdown",
   "id": "71d667c1-b863-482f-a316-7c71d8a89368",
   "metadata": {},
   "source": [
    "**Counter Wrapper**\n",
    "\n",
    "- Before for loop initialize with count=0\n",
    "- under for loop count =count+1\n",
    "- counter always increase by 1 only"
   ]
  },
  {
   "cell_type": "code",
   "execution_count": 47,
   "id": "19bd58ea-ddac-48d0-803c-93febc130b43",
   "metadata": {},
   "outputs": [
    {
     "name": "stdin",
     "output_type": "stream",
     "text": [
      "Enter the number: 75\n"
     ]
    },
    {
     "name": "stdout",
     "output_type": "stream",
     "text": [
      "the number of divisors for 75 is 6\n"
     ]
    }
   ],
   "source": [
    "# 9) Find the number of divisors of 75\n",
    "count=0\n",
    "F=eval(input('Enter the number:'))\n",
    "for i in range(1,F+1):\n",
    "    if num%i==0:\n",
    "        count=count+1\n",
    "print(f'the number of divisors for {F} is {count}')"
   ]
  },
  {
   "cell_type": "code",
   "execution_count": 51,
   "id": "22ae33ba-d397-47c2-9eef-46987bf3a70a",
   "metadata": {},
   "outputs": [
    {
     "name": "stdin",
     "output_type": "stream",
     "text": [
      "enter number between 1 to 10:  10\n"
     ]
    },
    {
     "name": "stdout",
     "output_type": "stream",
     "text": [
      "you won\n"
     ]
    },
    {
     "name": "stdin",
     "output_type": "stream",
     "text": [
      "enter number between 1 to 10:  1\n"
     ]
    },
    {
     "name": "stdout",
     "output_type": "stream",
     "text": [
      "you lost\n"
     ]
    },
    {
     "name": "stdin",
     "output_type": "stream",
     "text": [
      "enter number between 1 to 10:  10\n"
     ]
    },
    {
     "name": "stdout",
     "output_type": "stream",
     "text": [
      "you lost\n"
     ]
    }
   ],
   "source": [
    "# 10) get a random number between 1 to 10 : num1\n",
    "# Ask the user enter a number : num2\n",
    "# if num1==num2 then print won\n",
    "# else print fail\n",
    "# give 3 chances \n",
    "import random\n",
    "for i in range(0,3):\n",
    "    num1=eval(input('enter number between 1 to 10: '))\n",
    "    num2=random.randint(1,10)\n",
    "    if num1==num2:\n",
    "        print('you won')\n",
    "    else:\n",
    "        print('you lost')"
   ]
  },
  {
   "cell_type": "code",
   "execution_count": 57,
   "id": "0c04215b-cf8e-46b6-98c6-d11731db7b0f",
   "metadata": {},
   "outputs": [
    {
     "name": "stdin",
     "output_type": "stream",
     "text": [
      "enter number between 1 to 10:  1\n"
     ]
    },
    {
     "name": "stdout",
     "output_type": "stream",
     "text": [
      "you lost\n"
     ]
    },
    {
     "name": "stdin",
     "output_type": "stream",
     "text": [
      "enter number between 1 to 10:  1\n"
     ]
    },
    {
     "name": "stdout",
     "output_type": "stream",
     "text": [
      "you lost\n"
     ]
    },
    {
     "name": "stdin",
     "output_type": "stream",
     "text": [
      "enter number between 1 to 10:  1\n"
     ]
    },
    {
     "name": "stdout",
     "output_type": "stream",
     "text": [
      "you lost\n"
     ]
    }
   ],
   "source": [
    "# case-2\n",
    "import random\n",
    "for i in range(0,3):\n",
    "    num1=eval(input('enter number between 1 to 10: '))\n",
    "    num2=random.randint(1,10)\n",
    "    if num1==num2:\n",
    "        print('you won')\n",
    "        break\n",
    "    else:\n",
    "        print('you lost')"
   ]
  },
  {
   "cell_type": "code",
   "execution_count": 7,
   "id": "11d31411-00e2-45e5-82c9-90516897d2e0",
   "metadata": {},
   "outputs": [
    {
     "name": "stdin",
     "output_type": "stream",
     "text": [
      "enter number between 1 to 10:  2\n"
     ]
    },
    {
     "name": "stdout",
     "output_type": "stream",
     "text": [
      "you lost \n",
      "Wrong! Chances left: 3\n"
     ]
    },
    {
     "name": "stdin",
     "output_type": "stream",
     "text": [
      "enter number between 1 to 10:  3\n"
     ]
    },
    {
     "name": "stdout",
     "output_type": "stream",
     "text": [
      "you won\n"
     ]
    }
   ],
   "source": [
    "# case-3\n",
    "# suppose i want to give 4 chances \n",
    "# every time you fail i want to display \n",
    "# number of chances left\n",
    "# if all the chances you are used \n",
    "# try again after 24 hours \n",
    "# if you are win\n",
    "# print you win\n",
    "import random\n",
    "chances=4\n",
    "for i in range(0,4):\n",
    "    num1=eval(input('enter number between 1 to 10: '))\n",
    "    num2=random.randint(1,10)    \n",
    "    if num1==num2:\n",
    "        print('you won')\n",
    "        break\n",
    "                          \n",
    "    else:\n",
    "        print('you lost ')\n",
    "        chances -= 1\n",
    "        print(f\"Wrong! Chances left: {chances}\")\n",
    "        if chances==0:\n",
    "            print('try again after 24 hours')\n"
   ]
  },
  {
   "cell_type": "code",
   "execution_count": 4,
   "id": "37da1f32-9583-4768-a5a3-ffefb0d8d356",
   "metadata": {},
   "outputs": [
    {
     "name": "stdout",
     "output_type": "stream",
     "text": [
      "The total numbers of even numbers are : 2\n",
      "The total numbers of odd numbers are : 3\n"
     ]
    }
   ],
   "source": [
    "# Wap ask the user get 5 random numbers \n",
    "# Get whether it is an even number or odd number \n",
    "# Also count how many even numbers are there \n",
    "# and count how many odd numbers are there \n",
    "\n",
    "# Idea \n",
    "# Take two counters one even and odd count \n",
    "# For loop 5 times \n",
    "# each time take the random number \n",
    "# If condition \n",
    "#      True counter update\n",
    "# else\n",
    "#      Update the counter \n",
    "\n",
    "import random\n",
    "even_count,odd_count=0,0\n",
    "for i in range(5):\n",
    "    num=random.randint(1,20)\n",
    "    if num%2==0:\n",
    "        even_count=even_count+1\n",
    "    else:\n",
    "        odd_count=odd_count+1\n",
    "print(f'The total numbers of even numbers are : {even_count}')\n",
    "print(f'The total numbers of odd numbers are : {odd_count}')"
   ]
  },
  {
   "cell_type": "code",
   "execution_count": 12,
   "id": "71d6eaf5-4acc-4d5a-8f67-95033dad3f02",
   "metadata": {},
   "outputs": [
    {
     "name": "stdout",
     "output_type": "stream",
     "text": [
      "The total numbers of even numbers are : 2\n",
      "The total numbers of odd numbers are : 3\n",
      "the summation of all even numbers are : 26\n",
      "the summation of all odd numbers are : 33\n"
     ]
    }
   ],
   "source": [
    "# Wap ask the user get 5 random numbers \n",
    "# Get whether it is an even number or odd number \n",
    "# Also count how many even numbers are there \n",
    "# and count how many odd numbers are there \n",
    "#  find even sum and odd sum\n",
    "\n",
    "import random\n",
    "even_count,odd_count=0,0\n",
    "odd_sum,even_sum=0,0\n",
    "for i in range(5):\n",
    "    num=random.randint(1,20)\n",
    "    if num%2==0:\n",
    "        even_count=even_count+1\n",
    "        even_sum=even_sum+num\n",
    "    else:\n",
    "        odd_count=odd_count+1\n",
    "        odd_sum=odd_sum+num\n",
    "print(f'The total numbers of even numbers are : {even_count}')\n",
    "print(f'The total numbers of odd numbers are : {odd_count}')\n",
    "print(f'the summation of all even numbers are : {even_sum}')\n",
    "print(f'the summation of all odd numbers are : {odd_sum}')"
   ]
  },
  {
   "cell_type": "code",
   "execution_count": 26,
   "id": "a012a296-5a4e-4e56-8752-d2cb5b565409",
   "metadata": {},
   "outputs": [
    {
     "name": "stdout",
     "output_type": "stream",
     "text": [
      "The total numbers of even numbers are : 1\n",
      "The total numbers of odd numbers are : 4\n",
      "the summation of all even numbers are : 20\n",
      "the summation of all odd numbers are : 44\n"
     ]
    }
   ],
   "source": [
    "# Wap ask the user get 5 random numbers \n",
    "# Get whether it is an even number or odd number \n",
    "# Also count how many even numbers are there \n",
    "# and count how many odd numbers are there \n",
    "#  find even sum and odd sum\n",
    "# create a function \n",
    "# return all 4\n",
    "# print all 4\n",
    "\n",
    "import random\n",
    "def even_odd():\n",
    "    even_count,odd_count=0,0\n",
    "    odd_sum,even_sum=0,0\n",
    "    for i in range(5):\n",
    "        num=random.randint(1,20)\n",
    "        if num%2==0:\n",
    "            even_count=even_count+1\n",
    "            even_sum=even_sum+num\n",
    "        else:\n",
    "            odd_count=odd_count+1\n",
    "            odd_sum=odd_sum+num\n",
    "    return(even_count,even_sum,odd_count,odd_sum)\n",
    "even_count,even_sum,odd_count,odd_sum=even_odd()\n",
    "print(f'The total numbers of even numbers are : {even_count}')\n",
    "print(f'The total numbers of odd numbers are : {odd_count}')\n",
    "print(f'the summation of all even numbers are : {even_sum}')\n",
    "print(f'the summation of all odd numbers are : {odd_sum}')"
   ]
  },
  {
   "cell_type": "markdown",
   "id": "b1e1f408-41f4-4bc3-91a0-048da8e0c6bb",
   "metadata": {},
   "source": [
    "**In Operator**"
   ]
  },
  {
   "cell_type": "code",
   "execution_count": 44,
   "id": "4070813a-0a9e-477b-9aa2-5294fd2169d4",
   "metadata": {},
   "outputs": [
    {
     "data": {
      "text/plain": [
       "True"
      ]
     },
     "execution_count": 44,
     "metadata": {},
     "output_type": "execute_result"
    }
   ],
   "source": [
    "string1='python'\n",
    "'p' in string1\n",
    "'y' in string1\n",
    "'t' in string1\n",
    "\n",
    "i in string1"
   ]
  },
  {
   "cell_type": "code",
   "execution_count": 40,
   "id": "7274b38b-aa9d-4bc5-bb49-faf73efbcc1a",
   "metadata": {},
   "outputs": [
    {
     "name": "stdout",
     "output_type": "stream",
     "text": [
      "p\n",
      "y\n",
      "t\n",
      "h\n",
      "o\n",
      "n\n"
     ]
    }
   ],
   "source": [
    "for i in string1:\n",
    "    print(i)"
   ]
  },
  {
   "cell_type": "markdown",
   "id": "086a728b-d0a9-45b5-b9a5-802aaafcce50",
   "metadata": {},
   "source": [
    "**Difference between in operator and range operator**\n",
    "\n",
    "- range belongs to math family\n",
    "- inside range we need to keep numbers only \n",
    "- whenever if we want iterate through a english letters\n",
    "- we need to choose $in$ operator\n",
    "- range means numbers \n",
    "- in means string"
   ]
  },
  {
   "cell_type": "code",
   "execution_count": 41,
   "id": "ecaee680-c523-4347-893d-d09cb0fd0751",
   "metadata": {},
   "outputs": [
    {
     "data": {
      "text/plain": [
       "True"
      ]
     },
     "execution_count": 41,
     "metadata": {},
     "output_type": "execute_result"
    }
   ],
   "source": [
    "'p'>'P'"
   ]
  },
  {
   "cell_type": "markdown",
   "id": "531f1d12-28de-4f8b-a121-7142250f2e19",
   "metadata": {},
   "source": [
    "- every english letter \n",
    "- every spl characters how machine will understand\n",
    "- machine language always consider as numbers\n",
    "- Every non numeric assign a number \n",
    "- ASCII: American Standard Code for Information Interchange\n",
    "-A:65, a:97"
   ]
  },
  {
   "cell_type": "markdown",
   "id": "c740b52a-4283-41ae-b646-0d055e214dd6",
   "metadata": {},
   "source": [
    "**Ord-chr**"
   ]
  },
  {
   "cell_type": "code",
   "execution_count": null,
   "id": "854ef523-1307-49fc-b7cf-7c7b12b76ec7",
   "metadata": {},
   "outputs": [],
   "source": [
    "A ==== 65 ==== 0b1000001 "
   ]
  },
  {
   "cell_type": "code",
   "execution_count": 48,
   "id": "0dee219c-e8c8-4c47-a5d8-0ecefba1594c",
   "metadata": {},
   "outputs": [
    {
     "data": {
      "text/plain": [
       "(65, 97)"
      ]
     },
     "execution_count": 48,
     "metadata": {},
     "output_type": "execute_result"
    }
   ],
   "source": [
    "ord('A'),ord('a')"
   ]
  },
  {
   "cell_type": "code",
   "execution_count": 49,
   "id": "ef9453dc-f43e-4c6d-ab0c-61097e8b5216",
   "metadata": {},
   "outputs": [
    {
     "data": {
      "text/plain": [
       "(66, 98)"
      ]
     },
     "execution_count": 49,
     "metadata": {},
     "output_type": "execute_result"
    }
   ],
   "source": [
    "ord('B'),ord('b')"
   ]
  },
  {
   "cell_type": "code",
   "execution_count": 51,
   "id": "5b546146-8eff-4b9a-8b2f-bb28253b8dc9",
   "metadata": {},
   "outputs": [
    {
     "data": {
      "text/plain": [
       "(112, 80)"
      ]
     },
     "execution_count": 51,
     "metadata": {},
     "output_type": "execute_result"
    }
   ],
   "source": [
    "ord('p'),ord('P')"
   ]
  },
  {
   "cell_type": "code",
   "execution_count": 62,
   "id": "4fe4eddd-16ca-4b25-99cb-e67df42093a9",
   "metadata": {},
   "outputs": [
    {
     "data": {
      "text/plain": [
       "('p', 'P', 'A', 'a', 'z')"
      ]
     },
     "execution_count": 62,
     "metadata": {},
     "output_type": "execute_result"
    }
   ],
   "source": [
    "chr(112),chr(80),chr(65),chr(97),chr(122)"
   ]
  },
  {
   "cell_type": "code",
   "execution_count": 67,
   "id": "c839962d-de44-4a18-b8c9-ea5452420945",
   "metadata": {},
   "outputs": [
    {
     "name": "stdout",
     "output_type": "stream",
     "text": [
      "The ASCII number for p is 112\n",
      "The ASCII number for y is 121\n",
      "The ASCII number for t is 116\n",
      "The ASCII number for h is 104\n",
      "The ASCII number for o is 111\n",
      "The ASCII number for n is 110\n"
     ]
    }
   ],
   "source": [
    "# I want string1:'python'\n",
    "# print all ascii numers for 'python'\n",
    "for i in 'python':\n",
    "    print(f'The ASCII number for {i} is {ord(i)}')\n",
    "    "
   ]
  },
  {
   "cell_type": "code",
   "execution_count": 69,
   "id": "6e6c2067-6684-49ea-816a-4d71d65d4abb",
   "metadata": {},
   "outputs": [
    {
     "name": "stdout",
     "output_type": "stream",
     "text": [
      "The summation is 674\n"
     ]
    }
   ],
   "source": [
    "# I want string1:'python'\n",
    "# print all ascii numers for 'python'\n",
    "# Sum of all ASCII numbers \n",
    "\n",
    "ascii_sum=0\n",
    "for i in 'python':\n",
    "    ascii_sum=ascii_sum+ord(i)\n",
    "print(f'The summation is {ascii_sum}')"
   ]
  },
  {
   "cell_type": "code",
   "execution_count": 88,
   "id": "7ab1048f-6d0a-48e6-ab36-e9c185fc5359",
   "metadata": {},
   "outputs": [
    {
     "name": "stdout",
     "output_type": "stream",
     "text": [
      "A\n",
      "B\n",
      "C\n",
      "D\n",
      "E\n",
      "F\n",
      "G\n",
      "H\n",
      "I\n",
      "J\n",
      "K\n",
      "L\n",
      "M\n",
      "N\n",
      "O\n",
      "P\n",
      "Q\n",
      "R\n",
      "S\n",
      "T\n",
      "U\n",
      "V\n",
      "W\n",
      "X\n",
      "Y\n",
      "Z\n"
     ]
    }
   ],
   "source": [
    "# print all ASCII numbers from A to Z\n",
    "for i in string.ascii_uppercase:\n",
    "    print(i)\n",
    "    "
   ]
  },
  {
   "cell_type": "code",
   "execution_count": 73,
   "id": "17c434e4-d02f-4a03-9cd3-186acfa109ba",
   "metadata": {},
   "outputs": [
    {
     "data": {
      "text/plain": [
       "['Formatter',\n",
       " 'Template',\n",
       " '_ChainMap',\n",
       " '__all__',\n",
       " '__builtins__',\n",
       " '__cached__',\n",
       " '__doc__',\n",
       " '__file__',\n",
       " '__loader__',\n",
       " '__name__',\n",
       " '__package__',\n",
       " '__spec__',\n",
       " '_re',\n",
       " '_sentinel_dict',\n",
       " '_string',\n",
       " 'ascii_letters',\n",
       " 'ascii_lowercase',\n",
       " 'ascii_uppercase',\n",
       " 'capwords',\n",
       " 'digits',\n",
       " 'hexdigits',\n",
       " 'octdigits',\n",
       " 'printable',\n",
       " 'punctuation',\n",
       " 'whitespace']"
      ]
     },
     "execution_count": 73,
     "metadata": {},
     "output_type": "execute_result"
    }
   ],
   "source": [
    "# package called: string\n",
    "# import the package\n",
    "# apply the dir\n",
    "# there are some methods\n",
    "# in that one method will capital letters \n",
    "\n",
    "# step-1: import <pacakge_name>\n",
    "# step-2: dir(<package_name>)\n",
    "# step-3: Identify the methods\n",
    "import string \n",
    "dir (string)\n"
   ]
  },
  {
   "cell_type": "code",
   "execution_count": null,
   "id": "2df90ed8-ff41-4751-a747-d418fd68eac2",
   "metadata": {},
   "outputs": [],
   "source": [
    "import string \n",
    "dir (string)"
   ]
  },
  {
   "cell_type": "code",
   "execution_count": 87,
   "id": "832e3aef-7b2c-46d6-b937-51b275b16281",
   "metadata": {},
   "outputs": [
    {
     "name": "stdout",
     "output_type": "stream",
     "text": [
      "a\n",
      "b\n",
      "c\n",
      "d\n",
      "e\n",
      "f\n",
      "g\n",
      "h\n",
      "i\n",
      "j\n",
      "k\n",
      "l\n",
      "m\n",
      "n\n",
      "o\n",
      "p\n",
      "q\n",
      "r\n",
      "s\n",
      "t\n",
      "u\n",
      "v\n",
      "w\n",
      "x\n",
      "y\n",
      "z\n",
      "A\n",
      "B\n",
      "C\n",
      "D\n",
      "E\n",
      "F\n",
      "G\n",
      "H\n",
      "I\n",
      "J\n",
      "K\n",
      "L\n",
      "M\n",
      "N\n",
      "O\n",
      "P\n",
      "Q\n",
      "R\n",
      "S\n",
      "T\n",
      "U\n",
      "V\n",
      "W\n",
      "X\n",
      "Y\n",
      "Z\n"
     ]
    }
   ],
   "source": [
    "for i in string.ascii_letters:\n",
    "    print(i)"
   ]
  },
  {
   "cell_type": "code",
   "execution_count": 89,
   "id": "96fafb0d-a645-47e7-9878-bd57674aed5c",
   "metadata": {},
   "outputs": [
    {
     "data": {
      "text/plain": [
       "'!\"#$%&\\'()*+,-./:;<=>?@[\\\\]^_`{|}~'"
      ]
     },
     "execution_count": 89,
     "metadata": {},
     "output_type": "execute_result"
    }
   ],
   "source": [
    "string.punctuation"
   ]
  },
  {
   "cell_type": "code",
   "execution_count": 91,
   "id": "38388f53-4d84-46aa-820f-2ec03f949f7c",
   "metadata": {},
   "outputs": [
    {
     "name": "stdout",
     "output_type": "stream",
     "text": [
      "The ASCII values ! is 33\n",
      "The ASCII values \" is 34\n",
      "The ASCII values # is 35\n",
      "The ASCII values $ is 36\n",
      "The ASCII values % is 37\n",
      "The ASCII values & is 38\n",
      "The ASCII values ' is 39\n",
      "The ASCII values ( is 40\n",
      "The ASCII values ) is 41\n",
      "The ASCII values * is 42\n",
      "The ASCII values + is 43\n",
      "The ASCII values , is 44\n",
      "The ASCII values - is 45\n",
      "The ASCII values . is 46\n",
      "The ASCII values / is 47\n",
      "The ASCII values : is 58\n",
      "The ASCII values ; is 59\n",
      "The ASCII values < is 60\n",
      "The ASCII values = is 61\n",
      "The ASCII values > is 62\n",
      "The ASCII values ? is 63\n",
      "The ASCII values @ is 64\n",
      "The ASCII values [ is 91\n",
      "The ASCII values \\ is 92\n",
      "The ASCII values ] is 93\n",
      "The ASCII values ^ is 94\n",
      "The ASCII values _ is 95\n",
      "The ASCII values ` is 96\n",
      "The ASCII values { is 123\n",
      "The ASCII values | is 124\n",
      "The ASCII values } is 125\n",
      "The ASCII values ~ is 126\n"
     ]
    }
   ],
   "source": [
    "import string\n",
    "for i in string.punctuation:\n",
    "    print(f'The ASCII values {i} is {ord(i)}')"
   ]
  },
  {
   "cell_type": "code",
   "execution_count": 95,
   "id": "92ed3f08-97e0-480a-9102-a5a88254a71f",
   "metadata": {},
   "outputs": [
    {
     "name": "stdout",
     "output_type": "stream",
     "text": [
      "The ASCII values 0 is 48\n",
      "The ASCII values 1 is 49\n",
      "The ASCII values 2 is 50\n",
      "The ASCII values 3 is 51\n",
      "The ASCII values 4 is 52\n",
      "The ASCII values 5 is 53\n",
      "The ASCII values 6 is 54\n",
      "The ASCII values 7 is 55\n",
      "The ASCII values 8 is 56\n",
      "The ASCII values 9 is 57\n",
      "The ASCII values a is 97\n",
      "The ASCII values b is 98\n",
      "The ASCII values c is 99\n",
      "The ASCII values d is 100\n",
      "The ASCII values e is 101\n",
      "The ASCII values f is 102\n",
      "The ASCII values g is 103\n",
      "The ASCII values h is 104\n",
      "The ASCII values i is 105\n",
      "The ASCII values j is 106\n",
      "The ASCII values k is 107\n",
      "The ASCII values l is 108\n",
      "The ASCII values m is 109\n",
      "The ASCII values n is 110\n",
      "The ASCII values o is 111\n",
      "The ASCII values p is 112\n",
      "The ASCII values q is 113\n",
      "The ASCII values r is 114\n",
      "The ASCII values s is 115\n",
      "The ASCII values t is 116\n",
      "The ASCII values u is 117\n",
      "The ASCII values v is 118\n",
      "The ASCII values w is 119\n",
      "The ASCII values x is 120\n",
      "The ASCII values y is 121\n",
      "The ASCII values z is 122\n",
      "The ASCII values A is 65\n",
      "The ASCII values B is 66\n",
      "The ASCII values C is 67\n",
      "The ASCII values D is 68\n",
      "The ASCII values E is 69\n",
      "The ASCII values F is 70\n",
      "The ASCII values G is 71\n",
      "The ASCII values H is 72\n",
      "The ASCII values I is 73\n",
      "The ASCII values J is 74\n",
      "The ASCII values K is 75\n",
      "The ASCII values L is 76\n",
      "The ASCII values M is 77\n",
      "The ASCII values N is 78\n",
      "The ASCII values O is 79\n",
      "The ASCII values P is 80\n",
      "The ASCII values Q is 81\n",
      "The ASCII values R is 82\n",
      "The ASCII values S is 83\n",
      "The ASCII values T is 84\n",
      "The ASCII values U is 85\n",
      "The ASCII values V is 86\n",
      "The ASCII values W is 87\n",
      "The ASCII values X is 88\n",
      "The ASCII values Y is 89\n",
      "The ASCII values Z is 90\n",
      "The ASCII values ! is 33\n",
      "The ASCII values \" is 34\n",
      "The ASCII values # is 35\n",
      "The ASCII values $ is 36\n",
      "The ASCII values % is 37\n",
      "The ASCII values & is 38\n",
      "The ASCII values ' is 39\n",
      "The ASCII values ( is 40\n",
      "The ASCII values ) is 41\n",
      "The ASCII values * is 42\n",
      "The ASCII values + is 43\n",
      "The ASCII values , is 44\n",
      "The ASCII values - is 45\n",
      "The ASCII values . is 46\n",
      "The ASCII values / is 47\n",
      "The ASCII values : is 58\n",
      "The ASCII values ; is 59\n",
      "The ASCII values < is 60\n",
      "The ASCII values = is 61\n",
      "The ASCII values > is 62\n",
      "The ASCII values ? is 63\n",
      "The ASCII values @ is 64\n",
      "The ASCII values [ is 91\n",
      "The ASCII values \\ is 92\n",
      "The ASCII values ] is 93\n",
      "The ASCII values ^ is 94\n",
      "The ASCII values _ is 95\n",
      "The ASCII values ` is 96\n",
      "The ASCII values { is 123\n",
      "The ASCII values | is 124\n",
      "The ASCII values } is 125\n",
      "The ASCII values ~ is 126\n",
      "The ASCII values   is 32\n",
      "The ASCII values \t is 9\n",
      "The ASCII values \n",
      " is 10\n",
      " is 13CII values \n",
      "The ASCII values \u000b",
      " is 11\n",
      "The ASCII values \f",
      " is 12\n"
     ]
    }
   ],
   "source": [
    "import string\n",
    "for i in string.printable:\n",
    "    print(f'The ASCII values {i} is {ord(i)}')"
   ]
  },
  {
   "cell_type": "code",
   "execution_count": 97,
   "id": "1c098b3e-1fd7-44bd-b12f-ee1393e893e5",
   "metadata": {},
   "outputs": [
    {
     "name": "stdout",
     "output_type": "stream",
     "text": [
      "33 !==>34 \"==>35 #==>36 $==>37 %==>38 &==>39 '==>40 (==>41 )==>42 *==>43 +==>44 ,==>45 -==>46 .==>47 /==>48 0==>49 1==>50 2==>51 3==>52 4==>53 5==>54 6==>55 7==>56 8==>57 9==>58 :==>59 ;==>60 <==>61 ===>62 >==>63 ?==>64 @==>65 A==>66 B==>67 C==>68 D==>69 E==>70 F==>71 G==>72 H==>73 I==>74 J==>75 K==>76 L==>77 M==>78 N==>79 O==>80 P==>81 Q==>82 R==>83 S==>84 T==>85 U==>86 V==>87 W==>88 X==>89 Y==>90 Z==>91 [==>92 \\==>93 ]==>94 ^==>95 _==>96 `==>97 a==>98 b==>99 c==>100 d==>101 e==>102 f==>103 g==>104 h==>105 i==>106 j==>107 k==>108 l==>109 m==>110 n==>111 o==>112 p==>113 q==>114 r==>115 s==>116 t==>117 u==>118 v==>119 w==>120 x==>121 y==>122 z==>123 {==>124 |==>125 }==>126 ~==>127 ==>128 ==>129 ==>130 ==>131 ==>132 ==>133 ",
      "==>134 ==>135 ==>136 ==>137 ==>138 ==>139 ==>140 ==>141 ==>142 ==>143 ==>144 ==>145 ==>146 ==>147 ==>148 ==>149 ==>150 ==>151 ==>152 ==>153 ==>154 ==>155 ==>156 ==>157 ==>158 ==>159 ==>160  ==>161 ¡==>162 ¢==>163 £==>164 ¤==>165 ¥==>166 ¦==>167 §==>168 ¨==>169 ©==>170 ª==>171 «==>172 ¬==>173 ­==>174 ®==>175 ¯==>176 °==>177 ±==>178 ²==>179 ³==>180 ´==>181 µ==>182 ¶==>183 ·==>184 ¸==>185 ¹==>186 º==>187 »==>188 ¼==>189 ½==>190 ¾==>191 ¿==>192 À==>193 Á==>194 Â==>195 Ã==>196 Ä==>197 Å==>198 Æ==>199 Ç==>"
     ]
    }
   ],
   "source": [
    "for i in range(33,200):\n",
    "    print(i,chr(i),end='==>')"
   ]
  },
  {
   "cell_type": "code",
   "execution_count": 98,
   "id": "225e2792-c321-41d7-8900-9a07ab966158",
   "metadata": {},
   "outputs": [
    {
     "name": "stdout",
     "output_type": "stream",
     "text": [
      "900 ΄==>901 ΅==>902 Ά==>903 ·==>904 Έ==>905 Ή==>906 Ί==>907 ΋==>908 Ό==>909 ΍==>910 Ύ==>911 Ώ==>912 ΐ==>913 Α==>914 Β==>915 Γ==>916 Δ==>917 Ε==>918 Ζ==>919 Η==>920 Θ==>921 Ι==>922 Κ==>923 Λ==>924 Μ==>925 Ν==>926 Ξ==>927 Ο==>928 Π==>929 Ρ==>930 ΢==>931 Σ==>932 Τ==>933 Υ==>934 Φ==>935 Χ==>936 Ψ==>937 Ω==>938 Ϊ==>939 Ϋ==>940 ά==>941 έ==>942 ή==>943 ί==>944 ΰ==>945 α==>946 β==>947 γ==>948 δ==>949 ε==>950 ζ==>951 η==>952 θ==>953 ι==>954 κ==>955 λ==>956 μ==>957 ν==>958 ξ==>959 ο==>960 π==>961 ρ==>962 ς==>963 σ==>964 τ==>965 υ==>966 φ==>967 χ==>968 ψ==>969 ω==>970 ϊ==>971 ϋ==>972 ό==>973 ύ==>974 ώ==>975 Ϗ==>976 ϐ==>977 ϑ==>978 ϒ==>979 ϓ==>980 ϔ==>981 ϕ==>982 ϖ==>983 ϗ==>984 Ϙ==>985 ϙ==>986 Ϛ==>987 ϛ==>988 Ϝ==>989 ϝ==>990 Ϟ==>991 ϟ==>992 Ϡ==>993 ϡ==>994 Ϣ==>995 ϣ==>996 Ϥ==>997 ϥ==>998 Ϧ==>999 ϧ==>"
     ]
    }
   ],
   "source": [
    "for i in range(900,1000):\n",
    "    print(i,chr(i),end='==>')"
   ]
  },
  {
   "cell_type": "code",
   "execution_count": 99,
   "id": "2a81fbf1-1db6-4fd6-9fcd-268e40aefe99",
   "metadata": {},
   "outputs": [
    {
     "name": "stdout",
     "output_type": "stream",
     "text": [
      "1000 Ϩ==>1001 ϩ==>1002 Ϫ==>1003 ϫ==>1004 Ϭ==>1005 ϭ==>1006 Ϯ==>1007 ϯ==>1008 ϰ==>1009 ϱ==>1010 ϲ==>1011 ϳ==>1012 ϴ==>1013 ϵ==>1014 ϶==>1015 Ϸ==>1016 ϸ==>1017 Ϲ==>1018 Ϻ==>1019 ϻ==>1020 ϼ==>1021 Ͻ==>1022 Ͼ==>1023 Ͽ==>1024 Ѐ==>1025 Ё==>1026 Ђ==>1027 Ѓ==>1028 Є==>1029 Ѕ==>1030 І==>1031 Ї==>1032 Ј==>1033 Љ==>1034 Њ==>1035 Ћ==>1036 Ќ==>1037 Ѝ==>1038 Ў==>1039 Џ==>1040 А==>1041 Б==>1042 В==>1043 Г==>1044 Д==>1045 Е==>1046 Ж==>1047 З==>1048 И==>1049 Й==>1050 К==>1051 Л==>1052 М==>1053 Н==>1054 О==>1055 П==>1056 Р==>1057 С==>1058 Т==>1059 У==>1060 Ф==>1061 Х==>1062 Ц==>1063 Ч==>1064 Ш==>1065 Щ==>1066 Ъ==>1067 Ы==>1068 Ь==>1069 Э==>1070 Ю==>1071 Я==>1072 а==>1073 б==>1074 в==>1075 г==>1076 д==>1077 е==>1078 ж==>1079 з==>1080 и==>1081 й==>1082 к==>1083 л==>1084 м==>1085 н==>1086 о==>1087 п==>1088 р==>1089 с==>1090 т==>1091 у==>1092 ф==>1093 х==>1094 ц==>1095 ч==>1096 ш==>1097 щ==>1098 ъ==>1099 ы==>1100 ь==>1101 э==>1102 ю==>1103 я==>1104 ѐ==>1105 ё==>1106 ђ==>1107 ѓ==>1108 є==>1109 ѕ==>1110 і==>1111 ї==>1112 ј==>1113 љ==>1114 њ==>1115 ћ==>1116 ќ==>1117 ѝ==>1118 ў==>1119 џ==>1120 Ѡ==>1121 ѡ==>1122 Ѣ==>1123 ѣ==>1124 Ѥ==>1125 ѥ==>1126 Ѧ==>1127 ѧ==>1128 Ѩ==>1129 ѩ==>1130 Ѫ==>1131 ѫ==>1132 Ѭ==>1133 ѭ==>1134 Ѯ==>1135 ѯ==>1136 Ѱ==>1137 ѱ==>1138 Ѳ==>1139 ѳ==>1140 Ѵ==>1141 ѵ==>1142 Ѷ==>1143 ѷ==>1144 Ѹ==>1145 ѹ==>1146 Ѻ==>1147 ѻ==>1148 Ѽ==>1149 ѽ==>1150 Ѿ==>1151 ѿ==>1152 Ҁ==>1153 ҁ==>1154 ҂==>1155 ҃==>1156 ҄==>1157 ҅==>1158 ҆==>1159 ҇==>1160 ҈==>1161 ҉==>1162 Ҋ==>1163 ҋ==>1164 Ҍ==>1165 ҍ==>1166 Ҏ==>1167 ҏ==>1168 Ґ==>1169 ґ==>1170 Ғ==>1171 ғ==>1172 Ҕ==>1173 ҕ==>1174 Җ==>1175 җ==>1176 Ҙ==>1177 ҙ==>1178 Қ==>1179 қ==>1180 Ҝ==>1181 ҝ==>1182 Ҟ==>1183 ҟ==>1184 Ҡ==>1185 ҡ==>1186 Ң==>1187 ң==>1188 Ҥ==>1189 ҥ==>1190 Ҧ==>1191 ҧ==>1192 Ҩ==>1193 ҩ==>1194 Ҫ==>1195 ҫ==>1196 Ҭ==>1197 ҭ==>1198 Ү==>1199 ү==>1200 Ұ==>1201 ұ==>1202 Ҳ==>1203 ҳ==>1204 Ҵ==>1205 ҵ==>1206 Ҷ==>1207 ҷ==>1208 Ҹ==>1209 ҹ==>1210 Һ==>1211 һ==>1212 Ҽ==>1213 ҽ==>1214 Ҿ==>1215 ҿ==>1216 Ӏ==>1217 Ӂ==>1218 ӂ==>1219 Ӄ==>1220 ӄ==>1221 Ӆ==>1222 ӆ==>1223 Ӈ==>1224 ӈ==>1225 Ӊ==>1226 ӊ==>1227 Ӌ==>1228 ӌ==>1229 Ӎ==>1230 ӎ==>1231 ӏ==>1232 Ӑ==>1233 ӑ==>1234 Ӓ==>1235 ӓ==>1236 Ӕ==>1237 ӕ==>1238 Ӗ==>1239 ӗ==>1240 Ә==>1241 ә==>1242 Ӛ==>1243 ӛ==>1244 Ӝ==>1245 ӝ==>1246 Ӟ==>1247 ӟ==>1248 Ӡ==>1249 ӡ==>1250 Ӣ==>1251 ӣ==>1252 Ӥ==>1253 ӥ==>1254 Ӧ==>1255 ӧ==>1256 Ө==>1257 ө==>1258 Ӫ==>1259 ӫ==>1260 Ӭ==>1261 ӭ==>1262 Ӯ==>1263 ӯ==>1264 Ӱ==>1265 ӱ==>1266 Ӳ==>1267 ӳ==>1268 Ӵ==>1269 ӵ==>1270 Ӷ==>1271 ӷ==>1272 Ӹ==>1273 ӹ==>1274 Ӻ==>1275 ӻ==>1276 Ӽ==>1277 ӽ==>1278 Ӿ==>1279 ӿ==>1280 Ԁ==>1281 ԁ==>1282 Ԃ==>1283 ԃ==>1284 Ԅ==>1285 ԅ==>1286 Ԇ==>1287 ԇ==>1288 Ԉ==>1289 ԉ==>1290 Ԋ==>1291 ԋ==>1292 Ԍ==>1293 ԍ==>1294 Ԏ==>1295 ԏ==>1296 Ԑ==>1297 ԑ==>1298 Ԓ==>1299 ԓ==>1300 Ԕ==>1301 ԕ==>1302 Ԗ==>1303 ԗ==>1304 Ԙ==>1305 ԙ==>1306 Ԛ==>1307 ԛ==>1308 Ԝ==>1309 ԝ==>1310 Ԟ==>1311 ԟ==>1312 Ԡ==>1313 ԡ==>1314 Ԣ==>1315 ԣ==>1316 Ԥ==>1317 ԥ==>1318 Ԧ==>1319 ԧ==>1320 Ԩ==>1321 ԩ==>1322 Ԫ==>1323 ԫ==>1324 Ԭ==>1325 ԭ==>1326 Ԯ==>1327 ԯ==>1328 ԰==>1329 Ա==>1330 Բ==>1331 Գ==>1332 Դ==>1333 Ե==>1334 Զ==>1335 Է==>1336 Ը==>1337 Թ==>1338 Ժ==>1339 Ի==>1340 Լ==>1341 Խ==>1342 Ծ==>1343 Կ==>1344 Հ==>1345 Ձ==>1346 Ղ==>1347 Ճ==>1348 Մ==>1349 Յ==>1350 Ն==>1351 Շ==>1352 Ո==>1353 Չ==>1354 Պ==>1355 Ջ==>1356 Ռ==>1357 Ս==>1358 Վ==>1359 Տ==>1360 Ր==>1361 Ց==>1362 Ւ==>1363 Փ==>1364 Ք==>1365 Օ==>1366 Ֆ==>1367 ՗==>1368 ՘==>1369 ՙ==>1370 ՚==>1371 ՛==>1372 ՜==>1373 ՝==>1374 ՞==>1375 ՟==>1376 ՠ==>1377 ա==>1378 բ==>1379 գ==>1380 դ==>1381 ե==>1382 զ==>1383 է==>1384 ը==>1385 թ==>1386 ժ==>1387 ի==>1388 լ==>1389 խ==>1390 ծ==>1391 կ==>1392 հ==>1393 ձ==>1394 ղ==>1395 ճ==>1396 մ==>1397 յ==>1398 ն==>1399 շ==>1400 ո==>1401 չ==>1402 պ==>1403 ջ==>1404 ռ==>1405 ս==>1406 վ==>1407 տ==>1408 ր==>1409 ց==>1410 ւ==>1411 փ==>1412 ք==>1413 օ==>1414 ֆ==>1415 և==>1416 ֈ==>1417 ։==>1418 ֊==>1419 ֋==>1420 ֌==>1421 ֍==>1422 ֎==>1423 ֏==>1424 ֐==>1425 ֑==>1426 ֒==>1427 ֓==>1428 ֔==>1429 ֕==>1430 ֖==>1431 ֗==>1432 ֘==>1433 ֙==>1434 ֚==>1435 ֛==>1436 ֜==>1437 ֝==>1438 ֞==>1439 ֟==>1440 ֠==>1441 ֡==>1442 ֢==>1443 ֣==>1444 ֤==>1445 ֥==>1446 ֦==>1447 ֧==>1448 ֨==>1449 ֩==>1450 ֪==>1451 ֫==>1452 ֬==>1453 ֭==>1454 ֮==>1455 ֯==>1456 ְ==>1457 ֱ==>1458 ֲ==>1459 ֳ==>1460 ִ==>1461 ֵ==>1462 ֶ==>1463 ַ==>1464 ָ==>1465 ֹ==>1466 ֺ==>1467 ֻ==>1468 ּ==>1469 ֽ==>1470 ־==>1471 ֿ==>1472 ׀==>1473 ׁ==>1474 ׂ==>1475 ׃==>1476 ׄ==>1477 ׅ==>1478 ׆==>1479 ׇ==>1480 ׈==>1481 ׉==>1482 ׊==>1483 ׋==>1484 ׌==>1485 ׍==>1486 ׎==>1487 ׏==>1488 א==>1489 ב==>1490 ג==>1491 ד==>1492 ה==>1493 ו==>1494 ז==>1495 ח==>1496 ט==>1497 י==>1498 ך==>1499 כ==>1500 ל==>1501 ם==>1502 מ==>1503 ן==>1504 נ==>1505 ס==>1506 ע==>1507 ף==>1508 פ==>1509 ץ==>1510 צ==>1511 ק==>1512 ר==>1513 ש==>1514 ת==>1515 ׫==>1516 ׬==>1517 ׭==>1518 ׮==>1519 ׯ==>1520 װ==>1521 ױ==>1522 ײ==>1523 ׳==>1524 ״==>1525 ׵==>1526 ׶==>1527 ׷==>1528 ׸==>1529 ׹==>1530 ׺==>1531 ׻==>1532 ׼==>1533 ׽==>1534 ׾==>1535 ׿==>1536 ؀==>1537 ؁==>1538 ؂==>1539 ؃==>1540 ؄==>1541 ؅==>1542 ؆==>1543 ؇==>1544 ؈==>1545 ؉==>1546 ؊==>1547 ؋==>1548 ،==>1549 ؍==>1550 ؎==>1551 ؏==>1552 ؐ==>1553 ؑ==>1554 ؒ==>1555 ؓ==>1556 ؔ==>1557 ؕ==>1558 ؖ==>1559 ؗ==>1560 ؘ==>1561 ؙ==>1562 ؚ==>1563 ؛==>1564 ؜==>1565 ؝==>1566 ؞==>1567 ؟==>1568 ؠ==>1569 ء==>1570 آ==>1571 أ==>1572 ؤ==>1573 إ==>1574 ئ==>1575 ا==>1576 ب==>1577 ة==>1578 ت==>1579 ث==>1580 ج==>1581 ح==>1582 خ==>1583 د==>1584 ذ==>1585 ر==>1586 ز==>1587 س==>1588 ش==>1589 ص==>1590 ض==>1591 ط==>1592 ظ==>1593 ع==>1594 غ==>1595 ػ==>1596 ؼ==>1597 ؽ==>1598 ؾ==>1599 ؿ==>1600 ـ==>1601 ف==>1602 ق==>1603 ك==>1604 ل==>1605 م==>1606 ن==>1607 ه==>1608 و==>1609 ى==>1610 ي==>1611 ً==>1612 ٌ==>1613 ٍ==>1614 َ==>1615 ُ==>1616 ِ==>1617 ّ==>1618 ْ==>1619 ٓ==>1620 ٔ==>1621 ٕ==>1622 ٖ==>1623 ٗ==>1624 ٘==>1625 ٙ==>1626 ٚ==>1627 ٛ==>1628 ٜ==>1629 ٝ==>1630 ٞ==>1631 ٟ==>1632 ٠==>1633 ١==>1634 ٢==>1635 ٣==>1636 ٤==>1637 ٥==>1638 ٦==>1639 ٧==>1640 ٨==>1641 ٩==>1642 ٪==>1643 ٫==>1644 ٬==>1645 ٭==>1646 ٮ==>1647 ٯ==>1648 ٰ==>1649 ٱ==>1650 ٲ==>1651 ٳ==>1652 ٴ==>1653 ٵ==>1654 ٶ==>1655 ٷ==>1656 ٸ==>1657 ٹ==>1658 ٺ==>1659 ٻ==>1660 ټ==>1661 ٽ==>1662 پ==>1663 ٿ==>1664 ڀ==>1665 ځ==>1666 ڂ==>1667 ڃ==>1668 ڄ==>1669 څ==>1670 چ==>1671 ڇ==>1672 ڈ==>1673 ډ==>1674 ڊ==>1675 ڋ==>1676 ڌ==>1677 ڍ==>1678 ڎ==>1679 ڏ==>1680 ڐ==>1681 ڑ==>1682 ڒ==>1683 ړ==>1684 ڔ==>1685 ڕ==>1686 ږ==>1687 ڗ==>1688 ژ==>1689 ڙ==>1690 ښ==>1691 ڛ==>1692 ڜ==>1693 ڝ==>1694 ڞ==>1695 ڟ==>1696 ڠ==>1697 ڡ==>1698 ڢ==>1699 ڣ==>1700 ڤ==>1701 ڥ==>1702 ڦ==>1703 ڧ==>1704 ڨ==>1705 ک==>1706 ڪ==>1707 ګ==>1708 ڬ==>1709 ڭ==>1710 ڮ==>1711 گ==>1712 ڰ==>1713 ڱ==>1714 ڲ==>1715 ڳ==>1716 ڴ==>1717 ڵ==>1718 ڶ==>1719 ڷ==>1720 ڸ==>1721 ڹ==>1722 ں==>1723 ڻ==>1724 ڼ==>1725 ڽ==>1726 ھ==>1727 ڿ==>1728 ۀ==>1729 ہ==>1730 ۂ==>1731 ۃ==>1732 ۄ==>1733 ۅ==>1734 ۆ==>1735 ۇ==>1736 ۈ==>1737 ۉ==>1738 ۊ==>1739 ۋ==>1740 ی==>1741 ۍ==>1742 ێ==>1743 ۏ==>1744 ې==>1745 ۑ==>1746 ے==>1747 ۓ==>1748 ۔==>1749 ە==>1750 ۖ==>1751 ۗ==>1752 ۘ==>1753 ۙ==>1754 ۚ==>1755 ۛ==>1756 ۜ==>1757 ۝==>1758 ۞==>1759 ۟==>1760 ۠==>1761 ۡ==>1762 ۢ==>1763 ۣ==>1764 ۤ==>1765 ۥ==>1766 ۦ==>1767 ۧ==>1768 ۨ==>1769 ۩==>1770 ۪==>1771 ۫==>1772 ۬==>1773 ۭ==>1774 ۮ==>1775 ۯ==>1776 ۰==>1777 ۱==>1778 ۲==>1779 ۳==>1780 ۴==>1781 ۵==>1782 ۶==>1783 ۷==>1784 ۸==>1785 ۹==>1786 ۺ==>1787 ۻ==>1788 ۼ==>1789 ۽==>1790 ۾==>1791 ۿ==>1792 ܀==>1793 ܁==>1794 ܂==>1795 ܃==>1796 ܄==>1797 ܅==>1798 ܆==>1799 ܇==>1800 ܈==>1801 ܉==>1802 ܊==>1803 ܋==>1804 ܌==>1805 ܍==>1806 ܎==>1807 ܏==>1808 ܐ==>1809 ܑ==>1810 ܒ==>1811 ܓ==>1812 ܔ==>1813 ܕ==>1814 ܖ==>1815 ܗ==>1816 ܘ==>1817 ܙ==>1818 ܚ==>1819 ܛ==>1820 ܜ==>1821 ܝ==>1822 ܞ==>1823 ܟ==>1824 ܠ==>1825 ܡ==>1826 ܢ==>1827 ܣ==>1828 ܤ==>1829 ܥ==>1830 ܦ==>1831 ܧ==>1832 ܨ==>1833 ܩ==>1834 ܪ==>1835 ܫ==>1836 ܬ==>1837 ܭ==>1838 ܮ==>1839 ܯ==>1840 ܰ==>1841 ܱ==>1842 ܲ==>1843 ܳ==>1844 ܴ==>1845 ܵ==>1846 ܶ==>1847 ܷ==>1848 ܸ==>1849 ܹ==>1850 ܺ==>1851 ܻ==>1852 ܼ==>1853 ܽ==>1854 ܾ==>1855 ܿ==>1856 ݀==>1857 ݁==>1858 ݂==>1859 ݃==>1860 ݄==>1861 ݅==>1862 ݆==>1863 ݇==>1864 ݈==>1865 ݉==>1866 ݊==>1867 ݋==>1868 ݌==>1869 ݍ==>1870 ݎ==>1871 ݏ==>1872 ݐ==>1873 ݑ==>1874 ݒ==>1875 ݓ==>1876 ݔ==>1877 ݕ==>1878 ݖ==>1879 ݗ==>1880 ݘ==>1881 ݙ==>1882 ݚ==>1883 ݛ==>1884 ݜ==>1885 ݝ==>1886 ݞ==>1887 ݟ==>1888 ݠ==>1889 ݡ==>1890 ݢ==>1891 ݣ==>1892 ݤ==>1893 ݥ==>1894 ݦ==>1895 ݧ==>1896 ݨ==>1897 ݩ==>1898 ݪ==>1899 ݫ==>1900 ݬ==>1901 ݭ==>1902 ݮ==>1903 ݯ==>1904 ݰ==>1905 ݱ==>1906 ݲ==>1907 ݳ==>1908 ݴ==>1909 ݵ==>1910 ݶ==>1911 ݷ==>1912 ݸ==>1913 ݹ==>1914 ݺ==>1915 ݻ==>1916 ݼ==>1917 ݽ==>1918 ݾ==>1919 ݿ==>1920 ހ==>1921 ށ==>1922 ނ==>1923 ރ==>1924 ބ==>1925 ޅ==>1926 ކ==>1927 އ==>1928 ވ==>1929 މ==>1930 ފ==>1931 ދ==>1932 ތ==>1933 ލ==>1934 ގ==>1935 ޏ==>1936 ސ==>1937 ޑ==>1938 ޒ==>1939 ޓ==>1940 ޔ==>1941 ޕ==>1942 ޖ==>1943 ޗ==>1944 ޘ==>1945 ޙ==>1946 ޚ==>1947 ޛ==>1948 ޜ==>1949 ޝ==>1950 ޞ==>1951 ޟ==>1952 ޠ==>1953 ޡ==>1954 ޢ==>1955 ޣ==>1956 ޤ==>1957 ޥ==>1958 ަ==>1959 ާ==>1960 ި==>1961 ީ==>1962 ު==>1963 ޫ==>1964 ެ==>1965 ޭ==>1966 ޮ==>1967 ޯ==>1968 ް==>1969 ޱ==>1970 ޲==>1971 ޳==>1972 ޴==>1973 ޵==>1974 ޶==>1975 ޷==>1976 ޸==>1977 ޹==>1978 ޺==>1979 ޻==>1980 ޼==>1981 ޽==>1982 ޾==>1983 ޿==>1984 ߀==>1985 ߁==>1986 ߂==>1987 ߃==>1988 ߄==>1989 ߅==>1990 ߆==>1991 ߇==>1992 ߈==>1993 ߉==>1994 ߊ==>1995 ߋ==>1996 ߌ==>1997 ߍ==>1998 ߎ==>1999 ߏ==>"
     ]
    }
   ],
   "source": [
    "for i in range(1000,2000):\n",
    "    print(i,chr(i),end='==>')"
   ]
  },
  {
   "cell_type": "code",
   "execution_count": 101,
   "id": "aad67358-59ee-470b-8b74-feb346e95808",
   "metadata": {},
   "outputs": [
    {
     "name": "stdout",
     "output_type": "stream",
     "text": [
      "3077 అ==>3078 ఆ==>3079 ఇ==>3080 ఈ==>3081 ఉ==>3082 ఊ==>3083 ఋ==>3084 ఌ==>3085 ఍==>3086 ఎ==>3087 ఏ==>3088 ఐ==>3089 ఑==>3090 ఒ==>3091 ఓ==>3092 ఔ==>3093 క==>3094 ఖ==>3095 గ==>3096 ఘ==>3097 ఙ==>3098 చ==>3099 ఛ==>3100 జ==>3101 ఝ==>3102 ఞ==>3103 ట==>3104 ఠ==>3105 డ==>3106 ఢ==>3107 ణ==>3108 త==>3109 థ==>3110 ద==>3111 ధ==>3112 న==>3113 ఩==>3114 ప==>3115 ఫ==>3116 బ==>3117 భ==>3118 మ==>3119 య==>3120 ర==>3121 ఱ==>3122 ల==>3123 ళ==>3124 ఴ==>3125 వ==>3126 శ==>3127 ష==>3128 స==>3129 హ==>3130 ఺==>3131 ఻==>3132 ఼==>3133 ఽ==>3134 ా==>3135 ి==>3136 ీ==>3137 ు==>3138 ూ==>3139 ృ==>3140 ౄ==>3141 ౅==>3142 ె==>3143 ే==>3144 ై==>3145 ౉==>3146 ొ==>3147 ో==>3148 ౌ==>3149 ్==>3150 ౎==>3151 ౏==>3152 ౐==>3153 ౑==>3154 ౒==>3155 ౓==>3156 ౔==>3157 ౕ==>3158 ౖ==>3159 ౗==>3160 ౘ==>3161 ౙ==>3162 ౚ==>3163 ౛==>3164 ౜==>3165 ౝ==>3166 ౞==>3167 ౟==>3168 ౠ==>3169 ౡ==>3170 ౢ==>3171 ౣ==>3172 ౤==>3173 ౥==>3174 ౦==>3175 ౧==>3176 ౨==>3177 ౩==>"
     ]
    }
   ],
   "source": [
    "for i in range(3077,3178):\n",
    "    print(i,chr(i),end='==>')"
   ]
  },
  {
   "cell_type": "code",
   "execution_count": null,
   "id": "245f82b1-4c41-4274-8089-f0459f557ef1",
   "metadata": {},
   "outputs": [],
   "source": []
  }
 ],
 "metadata": {
  "kernelspec": {
   "display_name": "Python 3 (ipykernel)",
   "language": "python",
   "name": "python3"
  },
  "language_info": {
   "codemirror_mode": {
    "name": "ipython",
    "version": 3
   },
   "file_extension": ".py",
   "mimetype": "text/x-python",
   "name": "python",
   "nbconvert_exporter": "python",
   "pygments_lexer": "ipython3",
   "version": "3.11.7"
  }
 },
 "nbformat": 4,
 "nbformat_minor": 5
}

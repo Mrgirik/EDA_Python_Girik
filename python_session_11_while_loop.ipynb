{
 "cells": [
  {
   "cell_type": "markdown",
   "id": "79931585-8906-4800-a303-59f1001da08c",
   "metadata": {},
   "source": [
    "**Loops**\n",
    "\n",
    "- For loop \n",
    "- While loop : If you want to run an infinite iterations will choose while loop\n",
    "- Every loop we need 3 things \n",
    "    - initial point ( starting point )\n",
    "    - increment or decrement \n",
    "    - condition(Stop point)"
   ]
  },
  {
   "cell_type": "code",
   "execution_count": 2,
   "id": "9411772b-0f4c-4954-94e1-fab6dc4b300e",
   "metadata": {},
   "outputs": [
    {
     "name": "stdout",
     "output_type": "stream",
     "text": [
      "1 3 5 7 9 "
     ]
    }
   ],
   "source": [
    "for i in range(1,10,2):   #(start point, end point, increment/decrement)\n",
    "    print(i,end=' ')"
   ]
  },
  {
   "cell_type": "markdown",
   "id": "7bccddf3-f67a-4e30-99a4-5f81abcd024f",
   "metadata": {},
   "source": [
    "- In for loop all three things mentioned in a single line: range(start,stop,step)\n",
    "- In while loop we will use these three things in as three lines"
   ]
  },
  {
   "cell_type": "code",
   "execution_count": null,
   "id": "8c116243-c282-487b-82d4-6dbd070c759a",
   "metadata": {},
   "outputs": [],
   "source": [
    "<start point>\n",
    "while <how to stop>:\n",
    "    codeline1\n",
    "    codeline2\n",
    "    <increment or decrement>"
   ]
  },
  {
   "cell_type": "code",
   "execution_count": 4,
   "id": "a3107cc7-47ab-40ec-a477-3c329e190b62",
   "metadata": {},
   "outputs": [
    {
     "name": "stdout",
     "output_type": "stream",
     "text": [
      "1 2 3 4 5 6 7 8 9 10 "
     ]
    }
   ],
   "source": [
    "i=1\n",
    "while i<11:\n",
    "    print(i,end=' ')\n",
    "    i=i+1"
   ]
  },
  {
   "cell_type": "code",
   "execution_count": 13,
   "id": "02414598-a8db-4b80-a34d-7e315fca2896",
   "metadata": {},
   "outputs": [
    {
     "name": "stdout",
     "output_type": "stream",
     "text": [
      "1 "
     ]
    }
   ],
   "source": [
    "i=1\n",
    "while i<2:\n",
    "    print(i,end=' ')\n",
    "    i=i+1\n",
    "\n",
    "# Step-1: i=1 while 1<2 True print(1) i=1+1 i=2\n",
    "# step-2: i=2 while 2<2 False"
   ]
  },
  {
   "cell_type": "code",
   "execution_count": 16,
   "id": "8d3538bf-f576-44bf-b2e1-b41d93d8e88c",
   "metadata": {},
   "outputs": [],
   "source": [
    "i=1\n",
    "while i<0:\n",
    "    print(i,end=' ')\n",
    "    i=i+1"
   ]
  },
  {
   "cell_type": "code",
   "execution_count": 17,
   "id": "8b0c9594-50c8-4bf3-8918-ab74e0e2e7cb",
   "metadata": {},
   "outputs": [],
   "source": [
    "i=1\n",
    "while i==10:\n",
    "    print(i,end=' ')\n",
    "    i=i+1"
   ]
  },
  {
   "cell_type": "code",
   "execution_count": 18,
   "id": "f2ec44c2-0d73-4b80-8b2f-a5afa04067cf",
   "metadata": {},
   "outputs": [
    {
     "name": "stdout",
     "output_type": "stream",
     "text": [
      "1 0 -1 -2 -3 -4 -5 -6 -7 -8 -9 "
     ]
    }
   ],
   "source": [
    "i=1\n",
    "while i<11:\n",
    "    print(i,end=' ')\n",
    "    i=i-1\n",
    "    if i==-10:\n",
    "        break"
   ]
  },
  {
   "cell_type": "code",
   "execution_count": 33,
   "id": "38b7dab5-f927-48cf-a30d-4ebb91e518c9",
   "metadata": {},
   "outputs": [
    {
     "name": "stdout",
     "output_type": "stream",
     "text": [
      "20 19 18 17 16 15 14 13 12 11 10 9 8 7 6 5 4 3 2 1 "
     ]
    }
   ],
   "source": [
    "# 20 to 1\n",
    "# -20 to 0\n",
    "\n",
    "i=20\n",
    "while i>0:\n",
    "    print(i,end=' ')\n",
    "    i=i-1"
   ]
  },
  {
   "cell_type": "markdown",
   "id": "577b0488-d171-413a-8847-5cb78dd165b9",
   "metadata": {},
   "source": [
    "**True**\n",
    "\n",
    "- If you dont know about valid condition to enter inside while loop\n",
    "- Then use **True**\n",
    "- True will give entry pass irrespective of the condition\n",
    "- But if you want to come out we need pply if condition and break inside the while loop\n",
    "- if you dont apply the break inside, then it becomes infinite loop"
   ]
  },
  {
   "cell_type": "code",
   "execution_count": 34,
   "id": "3952ca83-d9df-4366-a88f-72ee7f87f22d",
   "metadata": {},
   "outputs": [
    {
     "name": "stdout",
     "output_type": "stream",
     "text": [
      "-20 -19 -18 -17 -16 -15 -14 -13 -12 -11 -10 -9 -8 -7 -6 -5 -4 -3 -2 -1 "
     ]
    }
   ],
   "source": [
    "#-20 to 0\n",
    "\n",
    "i=-20\n",
    "while i<0:\n",
    "    print(i,end=' ')\n",
    "    i=i+1"
   ]
  },
  {
   "cell_type": "code",
   "execution_count": 39,
   "id": "5a1356c8-2697-489e-bd9f-e153dafceac2",
   "metadata": {},
   "outputs": [
    {
     "name": "stdout",
     "output_type": "stream",
     "text": [
      "-20 -19 -18 -17 -16 -15 -14 -13 -12 -11 -10 -9 -8 -7 -6 -5 -4 -3 -2 -1 "
     ]
    }
   ],
   "source": [
    "i=-20\n",
    "while True:\n",
    "    print(i,end=' ')\n",
    "    i=i+1\n",
    "    if i>-1:\n",
    "        break"
   ]
  },
  {
   "cell_type": "code",
   "execution_count": 43,
   "id": "a1118bf0-00fd-4cf1-8377-0893ef5f4163",
   "metadata": {},
   "outputs": [
    {
     "name": "stdout",
     "output_type": "stream",
     "text": [
      "20 19 18 17 16 15 14 13 12 11 10 9 8 7 6 5 4 3 2 1 "
     ]
    }
   ],
   "source": [
    "i=20\n",
    "while True:\n",
    "    print(i,end=' ')\n",
    "    i=i-1\n",
    "    if i<1:\n",
    "        break\n",
    "        "
   ]
  },
  {
   "cell_type": "code",
   "execution_count": 44,
   "id": "4c7f8d29-5c2c-4c5c-81a4-6add88a3ef47",
   "metadata": {},
   "outputs": [
    {
     "name": "stdout",
     "output_type": "stream",
     "text": [
      "1 0 -1 -2 -3 -4 -5 -6 -7 -8 -9 "
     ]
    }
   ],
   "source": [
    "i=1\n",
    "while True:\n",
    "    print(i,end=' ')\n",
    "    i=i-1\n",
    "    if i==-10:\n",
    "        break"
   ]
  },
  {
   "cell_type": "code",
   "execution_count": 47,
   "id": "717940ea-15a0-4a67-b2a0-8258d1db9bf8",
   "metadata": {},
   "outputs": [
    {
     "name": "stdout",
     "output_type": "stream",
     "text": [
      "-19 -18 -17 -16 -15 -14 -13 -12 -11 -10 -9 -8 -7 -6 -5 -4 -3 -2 -1 0 "
     ]
    }
   ],
   "source": [
    "i=-20\n",
    "while i<0:\n",
    "    i=i+1\n",
    "    print(i,end=' ')\n",
    "    "
   ]
  },
  {
   "cell_type": "code",
   "execution_count": 54,
   "id": "fcc54595-0e46-4d75-9b8b-50668220e181",
   "metadata": {},
   "outputs": [
    {
     "name": "stdout",
     "output_type": "stream",
     "text": [
      "the 47 is odd number\n",
      "the 25 is odd number\n",
      "the 100 is even number\n"
     ]
    }
   ],
   "source": [
    "# ALL For loop need to convert into while loop\n",
    "#1Q) For example\n",
    "# take a random number between  1 to 100\n",
    "# print it is a even number and odd number\n",
    "# you need to generate 3 random number\n",
    "import random\n",
    "i=0\n",
    "while i<3:\n",
    "        num=random.randint(1,100)\n",
    "        if num%2==0:\n",
    "            print(f'{num} is even number')\n",
    "        else:\n",
    "            print(f'{num} is odd number')\n",
    "        i=i+1"
   ]
  },
  {
   "cell_type": "code",
   "execution_count": null,
   "id": "f6a7d384-60b2-4bcb-9ad2-79a1e455f7fb",
   "metadata": {},
   "outputs": [],
   "source": []
  }
 ],
 "metadata": {
  "kernelspec": {
   "display_name": "Python 3 (ipykernel)",
   "language": "python",
   "name": "python3"
  },
  "language_info": {
   "codemirror_mode": {
    "name": "ipython",
    "version": 3
   },
   "file_extension": ".py",
   "mimetype": "text/x-python",
   "name": "python",
   "nbconvert_exporter": "python",
   "pygments_lexer": "ipython3",
   "version": "3.11.7"
  }
 },
 "nbformat": 4,
 "nbformat_minor": 5
}

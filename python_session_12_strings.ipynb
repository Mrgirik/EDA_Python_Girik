{
 "cells": [
  {
   "cell_type": "markdown",
   "id": "e4bea20f-6d36-4791-b950-4ed8232c3b1b",
   "metadata": {},
   "source": [
    "######### Python Divided into 3 parts ################\n",
    "------ Basics\n",
    "1) variables\n",
    "2) Data types\n",
    "3) Type conversions\n",
    "4) eval input\n",
    "5) pacakages\n",
    "6) conditional statements \n",
    "7) try-execpt\n",
    "8) Functions \n",
    "9) For \n",
    "10) While\n",
    "\n",
    "-------- Intermediate part\n",
    "\n",
    "11) Strings\n",
    "12) Lists\n",
    "13) Dictionary\n",
    "14) Tuples\n",
    "15) Sets\n",
    "16) Lambda Functions\n",
    "17) File handling session\n",
    "\n",
    "--------Advanced\n",
    "\n",
    "18) OOPS"
   ]
  },
  {
   "cell_type": "markdown",
   "id": "e89beea5-fe21-4a48-9816-04e8e3937ca5",
   "metadata": {},
   "source": [
    "================== PART-1 =====================\n",
    "- Initialization\n",
    "- type\n",
    "- len\n",
    "- max\n",
    "- min\n",
    "- sorted\n",
    "- reveresed\n",
    "- in\n",
    "- for loop using in\n",
    "- index\n",
    "- for loop using index\n",
    "- mutable\n",
    "- concatenation\n",
    "- slicing\n",
    "\n",
    "================== PART-2 ======================\n",
    "\n",
    "#Methods"
   ]
  },
  {
   "cell_type": "markdown",
   "id": "cf02edc5-969c-4139-844b-1cec2f16d2c0",
   "metadata": {},
   "source": [
    "**Initialization**"
   ]
  },
  {
   "cell_type": "code",
   "execution_count": 3,
   "id": "8df55bfb-d724-4be2-96e1-4a5ce2369038",
   "metadata": {},
   "outputs": [
    {
     "data": {
      "text/plain": [
       "'Python'"
      ]
     },
     "execution_count": 3,
     "metadata": {},
     "output_type": "execute_result"
    }
   ],
   "source": [
    "str1='Python'\n",
    "str1"
   ]
  },
  {
   "cell_type": "code",
   "execution_count": 4,
   "id": "36ae92f5-87f8-4f93-bc46-42b8c65d65af",
   "metadata": {},
   "outputs": [
    {
     "data": {
      "text/plain": [
       "'Python'"
      ]
     },
     "execution_count": 4,
     "metadata": {},
     "output_type": "execute_result"
    }
   ],
   "source": [
    "str2='Python'\n",
    "str2"
   ]
  },
  {
   "cell_type": "code",
   "execution_count": 5,
   "id": "3911ff8c-9e9f-4532-849e-2ac9e8aa1f74",
   "metadata": {},
   "outputs": [
    {
     "name": "stdout",
     "output_type": "stream",
     "text": [
      "Python\n"
     ]
    }
   ],
   "source": [
    "print(str1) # Do not confuse im not seeing the quotes"
   ]
  },
  {
   "cell_type": "markdown",
   "id": "2b247da6-77c2-4e96-9003-2fd0c3a2e054",
   "metadata": {},
   "source": [
    "**Note**\n",
    "\n",
    "- If we mentioned single quotes or double quotes by default python provides in single quotes only 1\n",
    "- If we print the strings, we will answer without quotes\n",
    "- Trple quotes are using for doc string\n",
    "- in order to convey the information about coding part we will use doc string\n",
    "- anything inside a single or double quotes is considered as string in python"
   ]
  },
  {
   "cell_type": "markdown",
   "id": "2e2b274b-9c3d-4c59-86a8-d0ad579cb0d5",
   "metadata": {},
   "source": [
    "**Triple Quotes**"
   ]
  },
  {
   "cell_type": "code",
   "execution_count": 7,
   "id": "cfd3a3b3-e0ed-4751-a77e-36cfc5bbcf91",
   "metadata": {},
   "outputs": [
    {
     "data": {
      "text/plain": [
       "'hi how are you \\n        Im Good'"
      ]
     },
     "execution_count": 7,
     "metadata": {},
     "output_type": "execute_result"
    }
   ],
   "source": [
    "str3=\"\"\"hi how are you \n",
    "        Im Good\"\"\"\n",
    "str3"
   ]
  },
  {
   "cell_type": "markdown",
   "id": "10194b30-3ef0-4d90-b45b-f7e0d5bee172",
   "metadata": {},
   "source": [
    "**Type**"
   ]
  },
  {
   "cell_type": "code",
   "execution_count": 8,
   "id": "826fd447-8cd4-4aca-a1cf-d00805f25288",
   "metadata": {},
   "outputs": [
    {
     "data": {
      "text/plain": [
       "str"
      ]
     },
     "execution_count": 8,
     "metadata": {},
     "output_type": "execute_result"
    }
   ],
   "source": [
    "type(str1) # type is string time"
   ]
  },
  {
   "cell_type": "code",
   "execution_count": 9,
   "id": "298cc070-8c29-4cbc-a43e-bc08c6f903d0",
   "metadata": {},
   "outputs": [],
   "source": [
    "str4='10'  # integer value in the form of string\n",
    "str5='10.5'  # Float value in the form of string \n",
    "str6='123abc'  # Alpha numeric in the form of string\n",
    "str7='True'  # Boolean in the form of string\n",
    "str8='Sinx'\n",
    "# anything inside a single or double quotes is considered as string in python"
   ]
  },
  {
   "cell_type": "markdown",
   "id": "21ba26f4-1956-408c-b1b2-fc4bb06e1c10",
   "metadata": {},
   "source": [
    "**Len**"
   ]
  },
  {
   "cell_type": "code",
   "execution_count": 10,
   "id": "7e0824f2-5e9d-40c8-91cd-79f3b219855d",
   "metadata": {},
   "outputs": [
    {
     "data": {
      "text/plain": [
       "6"
      ]
     },
     "execution_count": 10,
     "metadata": {},
     "output_type": "execute_result"
    }
   ],
   "source": [
    "str1='python'\n",
    "len(str1)"
   ]
  },
  {
   "cell_type": "code",
   "execution_count": 12,
   "id": "1c3a8dd2-a37b-4ead-b840-dadb0f1cb922",
   "metadata": {},
   "outputs": [
    {
     "data": {
      "text/plain": [
       "23"
      ]
     },
     "execution_count": 12,
     "metadata": {},
     "output_type": "execute_result"
    }
   ],
   "source": [
    "str9='TUMMALA GIRIK SAI RAHUL'\n",
    "len(str9)"
   ]
  },
  {
   "cell_type": "markdown",
   "id": "55fb9cae-f8ca-4eec-adb5-859f1c14bbb0",
   "metadata": {},
   "source": [
    "**Max and Min**"
   ]
  },
  {
   "cell_type": "code",
   "execution_count": 13,
   "id": "2d75dc4d-d9f1-46e4-beac-fd8cfdc0f743",
   "metadata": {},
   "outputs": [
    {
     "data": {
      "text/plain": [
       "'y'"
      ]
     },
     "execution_count": 13,
     "metadata": {},
     "output_type": "execute_result"
    }
   ],
   "source": [
    "str1='python'\n",
    "max(str1)"
   ]
  },
  {
   "cell_type": "code",
   "execution_count": 14,
   "id": "d99ce850-75d4-47d7-bb06-8c027ea494d8",
   "metadata": {},
   "outputs": [
    {
     "data": {
      "text/plain": [
       "(112, 121, 116, 104, 111, 104)"
      ]
     },
     "execution_count": 14,
     "metadata": {},
     "output_type": "execute_result"
    }
   ],
   "source": [
    "ord('p'),ord('y'),ord('t'),ord('h'),ord('o'),ord('h')"
   ]
  },
  {
   "cell_type": "code",
   "execution_count": 15,
   "id": "e2fabe1d-ced8-4be8-9fbc-c0fcc611b741",
   "metadata": {},
   "outputs": [
    {
     "data": {
      "text/plain": [
       "'h'"
      ]
     },
     "execution_count": 15,
     "metadata": {},
     "output_type": "execute_result"
    }
   ],
   "source": [
    "str1='python'\n",
    "min(str1)"
   ]
  },
  {
   "cell_type": "code",
   "execution_count": 16,
   "id": "07783363-4b44-44dc-a8b6-f4649ef6d105",
   "metadata": {},
   "outputs": [
    {
     "data": {
      "text/plain": [
       "('u', 'G')"
      ]
     },
     "execution_count": 16,
     "metadata": {},
     "output_type": "execute_result"
    }
   ],
   "source": [
    "str10='GirikSaiRahul'\n",
    "max(str10),min(str10)"
   ]
  },
  {
   "cell_type": "markdown",
   "id": "f29d8d63-951a-4c45-add6-5bf1fb3135fc",
   "metadata": {},
   "source": [
    "**Keywords vs Methods**"
   ]
  },
  {
   "cell_type": "code",
   "execution_count": null,
   "id": "44be1ac8-17c4-4e4b-b6cf-63347976513b",
   "metadata": {},
   "outputs": [],
   "source": [
    "type(<>)\n",
    "print(<>)\n",
    "len(<>)\n",
    "max(<>)\n",
    "min(<>)\n",
    "eval(<>)\n",
    "input(<>)\n",
    "sum(<>)"
   ]
  },
  {
   "cell_type": "code",
   "execution_count": null,
   "id": "12df8e01-6d7f-418d-8b59-212b8b7fff80",
   "metadata": {},
   "outputs": [],
   "source": [
    "- in order to use method we need to call package\n",
    "\n",
    "import random\n",
    "random.randint()\n",
    "\n",
    "import math \n",
    "math.sqrt()\n",
    "\n",
    "import time\n",
    "time.sleep()"
   ]
  },
  {
   "cell_type": "code",
   "execution_count": 17,
   "id": "6f95ab96-e133-4a29-a7f1-5ca919bc30e0",
   "metadata": {},
   "outputs": [
    {
     "data": {
      "text/plain": [
       "'y'"
      ]
     },
     "execution_count": 17,
     "metadata": {},
     "output_type": "execute_result"
    }
   ],
   "source": [
    "str1='python123'\n",
    "max(str1)"
   ]
  },
  {
   "cell_type": "markdown",
   "id": "c8771279-8d0b-41a8-8ba4-d762fce945ee",
   "metadata": {},
   "source": [
    "**Sum**"
   ]
  },
  {
   "cell_type": "code",
   "execution_count": 18,
   "id": "4b26bf1a-0d45-4563-9f74-437eb49538e9",
   "metadata": {},
   "outputs": [
    {
     "ename": "TypeError",
     "evalue": "unsupported operand type(s) for +: 'int' and 'str'",
     "output_type": "error",
     "traceback": [
      "\u001b[1;31m---------------------------------------------------------------------------\u001b[0m",
      "\u001b[1;31mTypeError\u001b[0m                                 Traceback (most recent call last)",
      "Cell \u001b[1;32mIn[18], line 2\u001b[0m\n\u001b[0;32m      1\u001b[0m str1\u001b[38;5;241m=\u001b[39m\u001b[38;5;124m'\u001b[39m\u001b[38;5;124mpython\u001b[39m\u001b[38;5;124m'\u001b[39m\n\u001b[1;32m----> 2\u001b[0m \u001b[38;5;28msum\u001b[39m(str1)\n",
      "\u001b[1;31mTypeError\u001b[0m: unsupported operand type(s) for +: 'int' and 'str'"
     ]
    }
   ],
   "source": [
    "str1='python'\n",
    "sum(str1)"
   ]
  },
  {
   "cell_type": "code",
   "execution_count": 21,
   "id": "e2b744c6-293e-4e0b-86b2-7ab96b36af0a",
   "metadata": {},
   "outputs": [
    {
     "data": {
      "text/plain": [
       "'py'"
      ]
     },
     "execution_count": 21,
     "metadata": {},
     "output_type": "execute_result"
    }
   ],
   "source": [
    "'p'+'y'"
   ]
  },
  {
   "cell_type": "code",
   "execution_count": 22,
   "id": "eee7ef9a-9842-4de5-9532-0f1e2ae87365",
   "metadata": {},
   "outputs": [
    {
     "data": {
      "text/plain": [
       "6"
      ]
     },
     "execution_count": 22,
     "metadata": {},
     "output_type": "execute_result"
    }
   ],
   "source": [
    "sum([1,2,3])"
   ]
  },
  {
   "cell_type": "markdown",
   "id": "860a3243-ed5a-473b-8b43-f32918497985",
   "metadata": {},
   "source": [
    "**Sorted**"
   ]
  },
  {
   "cell_type": "code",
   "execution_count": null,
   "id": "cefa72d3-d9f4-41c0-b793-fdbbfecbc8f7",
   "metadata": {},
   "outputs": [],
   "source": [
    "len('python')\n",
    "max('python')\n",
    "print('python')\n",
    "min('python')\n",
    "max('python')"
   ]
  },
  {
   "cell_type": "code",
   "execution_count": 23,
   "id": "7e09a80b-c00c-44a5-92ae-1f276752dc28",
   "metadata": {},
   "outputs": [
    {
     "data": {
      "text/plain": [
       "['h', 'n', 'o', 'p', 't', 'y']"
      ]
     },
     "execution_count": 23,
     "metadata": {},
     "output_type": "execute_result"
    }
   ],
   "source": [
    "sorted('python')"
   ]
  },
  {
   "cell_type": "markdown",
   "id": "ccec7129-4969-4a31-b844-72df7bf63e95",
   "metadata": {},
   "source": [
    "- Sorted gives ascending order basec on ASCII numbers\n",
    "- Sorted is kind of afunction\n",
    "- every function we have arguments\n",
    "- In that one default argument is **reverse=False**\n",
    "- by default sorted output gives **ascending order**\n",
    "- we an change the order, by provideing **reverse=True**\n",
    "- **If we do not mention anything it will give the default answer**"
   ]
  },
  {
   "cell_type": "code",
   "execution_count": 25,
   "id": "f3edfdbb-d321-471b-97c1-58dfc602a482",
   "metadata": {},
   "outputs": [
    {
     "data": {
      "text/plain": [
       "['y', 't', 'p', 'o', 'n', 'h', '/']"
      ]
     },
     "execution_count": 25,
     "metadata": {},
     "output_type": "execute_result"
    }
   ],
   "source": [
    "sorted('python/',reverse=True)"
   ]
  },
  {
   "cell_type": "code",
   "execution_count": 26,
   "id": "7f492df6-b132-45e9-a8e7-5ca0f42e4eb0",
   "metadata": {},
   "outputs": [
    {
     "data": {
      "text/plain": [
       "0j"
      ]
     },
     "execution_count": 26,
     "metadata": {},
     "output_type": "execute_result"
    }
   ],
   "source": [
    "complex()   # 0+0j"
   ]
  },
  {
   "cell_type": "code",
   "execution_count": 27,
   "id": "aebc30f7-3ce6-4067-8e7b-fb6b2078d209",
   "metadata": {},
   "outputs": [
    {
     "data": {
      "text/plain": [
       "(10+20j)"
      ]
     },
     "execution_count": 27,
     "metadata": {},
     "output_type": "execute_result"
    }
   ],
   "source": [
    "complex(10,20)"
   ]
  },
  {
   "cell_type": "code",
   "execution_count": 28,
   "id": "75cf9bfe-0ef7-49f9-ab9d-e9da2dfa910d",
   "metadata": {},
   "outputs": [
    {
     "data": {
      "text/plain": [
       "(10+30j)"
      ]
     },
     "execution_count": 28,
     "metadata": {},
     "output_type": "execute_result"
    }
   ],
   "source": [
    "complex(real=10,imag=30)"
   ]
  },
  {
   "cell_type": "code",
   "execution_count": 30,
   "id": "98ecd3be-8c5a-4bd7-bd20-4521218f66fb",
   "metadata": {},
   "outputs": [
    {
     "data": {
      "text/plain": [
       "['G', 'R', 'S', 'a', 'a', 'h', 'i', 'i', 'i', 'k', 'l', 'r', 'u']"
      ]
     },
     "execution_count": 30,
     "metadata": {},
     "output_type": "execute_result"
    }
   ],
   "source": [
    "sorted('GirikSaiRahul')"
   ]
  },
  {
   "cell_type": "code",
   "execution_count": null,
   "id": "66ea3319-6d4f-4c9f-87e9-b14c6835dcc8",
   "metadata": {},
   "outputs": [],
   "source": [
    "function()      # Answer\n",
    "function(a,b)   # this might return error, if we dont give the value of a,b\n",
    "function(a=10,b=20)     # Ans"
   ]
  },
  {
   "cell_type": "code",
   "execution_count": 41,
   "id": "4074c3bf-4c07-430c-83d9-415bbc9f6301",
   "metadata": {},
   "outputs": [
    {
     "data": {
      "text/plain": [
       "0.5158071294458946"
      ]
     },
     "execution_count": 41,
     "metadata": {},
     "output_type": "execute_result"
    }
   ],
   "source": [
    "import random\n",
    "random.random() # we will get answer is not in our hands"
   ]
  },
  {
   "cell_type": "code",
   "execution_count": 36,
   "id": "f74138d0-cea0-463b-af62-710bef5654d2",
   "metadata": {},
   "outputs": [
    {
     "data": {
      "text/plain": [
       "20"
      ]
     },
     "execution_count": 36,
     "metadata": {},
     "output_type": "execute_result"
    }
   ],
   "source": [
    "import random\n",
    "random.randint(10,20)  # Answer we can change"
   ]
  },
  {
   "cell_type": "code",
   "execution_count": 33,
   "id": "aee959bb-9cd2-4c99-8bf7-fab633699f77",
   "metadata": {},
   "outputs": [
    {
     "data": {
      "text/plain": [
       "0j"
      ]
     },
     "execution_count": 33,
     "metadata": {},
     "output_type": "execute_result"
    }
   ],
   "source": [
    "complex()  # By default 0,0"
   ]
  },
  {
   "cell_type": "code",
   "execution_count": 35,
   "id": "bfa5b36a-f013-48f8-86b1-98d77b6d47ac",
   "metadata": {},
   "outputs": [
    {
     "data": {
      "text/plain": [
       "(10+20j)"
      ]
     },
     "execution_count": 35,
     "metadata": {},
     "output_type": "execute_result"
    }
   ],
   "source": [
    "complex(10,20)"
   ]
  },
  {
   "cell_type": "code",
   "execution_count": 45,
   "id": "fc7155f2-9ad1-4161-9555-35dccb6de758",
   "metadata": {},
   "outputs": [
    {
     "ename": "TypeError",
     "evalue": "sorted expected 1 argument, got 0",
     "output_type": "error",
     "traceback": [
      "\u001b[1;31m---------------------------------------------------------------------------\u001b[0m",
      "\u001b[1;31mTypeError\u001b[0m                                 Traceback (most recent call last)",
      "Cell \u001b[1;32mIn[45], line 1\u001b[0m\n\u001b[1;32m----> 1\u001b[0m \u001b[38;5;28msorted\u001b[39m(iterable\u001b[38;5;241m=\u001b[39m\u001b[38;5;124m'\u001b[39m\u001b[38;5;124mpython\u001b[39m\u001b[38;5;124m'\u001b[39m)\n",
      "\u001b[1;31mTypeError\u001b[0m: sorted expected 1 argument, got 0"
     ]
    }
   ],
   "source": [
    "sorted(iterable='python')  # Error"
   ]
  },
  {
   "cell_type": "code",
   "execution_count": 43,
   "id": "d5624bc4-a22a-409a-bd03-dc822f1fb0a7",
   "metadata": {},
   "outputs": [
    {
     "data": {
      "text/plain": [
       "12"
      ]
     },
     "execution_count": 43,
     "metadata": {},
     "output_type": "execute_result"
    }
   ],
   "source": [
    "random.randint(a=10,b=30)  # Answer"
   ]
  },
  {
   "cell_type": "markdown",
   "id": "4ae284d6-82cc-43d3-b93c-5d931c8a3078",
   "metadata": {},
   "source": [
    "**Note**\n",
    "\n",
    "- we have arguments before / and after slash\n",
    "\n",
    "- we can use the argument names after / only\n",
    "\n",
    "- For example sorted has two arguments one is iterable and another one is reverse\n",
    "\n",
    "- iterable is mentioned before / symbol\n",
    "\n",
    "- reverse is mentioned after / symbol\n",
    "\n",
    "- so we can use only reverse argument name while we are doing the work\n",
    "\n",
    "- we cannot use iterable argument name \n",
    "\n",
    "- instead of using iterable name we can provide direct value at that position"
   ]
  },
  {
   "cell_type": "markdown",
   "id": "ebe0235b-6fe6-42dd-9432-0848c6c113d4",
   "metadata": {},
   "source": [
    "**Reversed**"
   ]
  },
  {
   "cell_type": "code",
   "execution_count": null,
   "id": "692fa692-978d-43c2-9b38-89197d524ead",
   "metadata": {},
   "outputs": [],
   "source": [
    "type()\n",
    "len()\n",
    "max()\n",
    "min()\n",
    "print()\n",
    "sorted()\n",
    "reversed()"
   ]
  },
  {
   "cell_type": "code",
   "execution_count": 46,
   "id": "057a75e8-1a12-475e-a49c-8bacdb8b6eab",
   "metadata": {},
   "outputs": [
    {
     "data": {
      "text/plain": [
       "<reversed at 0x1e6b80838e0>"
      ]
     },
     "execution_count": 46,
     "metadata": {},
     "output_type": "execute_result"
    }
   ],
   "source": [
    "reversed('python')"
   ]
  },
  {
   "cell_type": "markdown",
   "id": "1b36890c-62e1-46e3-b5f2-b04abd1e1cbe",
   "metadata": {},
   "source": [
    "- I already done my work\n",
    "- your output is stored in that memory loction\n",
    "- whenever you see this kind of answer less than greater than symbol or memory\n",
    "- use for loop to see the answer"
   ]
  },
  {
   "cell_type": "code",
   "execution_count": 48,
   "id": "9fc78b4a-3287-4ecc-a9ab-e0b33ae6c89a",
   "metadata": {},
   "outputs": [
    {
     "name": "stdout",
     "output_type": "stream",
     "text": [
      "n\n",
      "o\n",
      "h\n",
      "t\n",
      "y\n",
      "p\n"
     ]
    }
   ],
   "source": [
    "str1='python'\n",
    "output=reversed(str1)\n",
    "for i in output:\n",
    "    print(i)"
   ]
  },
  {
   "cell_type": "code",
   "execution_count": 49,
   "id": "d5b2a793-861b-49ed-ae10-cbc777eb64e2",
   "metadata": {},
   "outputs": [
    {
     "data": {
      "text/plain": [
       "['a', 'c', 'd', 'y', 'z']"
      ]
     },
     "execution_count": 49,
     "metadata": {},
     "output_type": "execute_result"
    }
   ],
   "source": [
    "sorted('azycd')"
   ]
  },
  {
   "cell_type": "code",
   "execution_count": 50,
   "id": "80f27ac5-dc4a-4222-81b3-f9915f22f503",
   "metadata": {},
   "outputs": [
    {
     "data": {
      "text/plain": [
       "<reversed at 0x1e6b8084b50>"
      ]
     },
     "execution_count": 50,
     "metadata": {},
     "output_type": "execute_result"
    }
   ],
   "source": [
    "reversed('azycd')"
   ]
  },
  {
   "cell_type": "code",
   "execution_count": 1,
   "id": "4f42974c-359c-469b-b4d2-c8b5301ce6f2",
   "metadata": {},
   "outputs": [
    {
     "name": "stdout",
     "output_type": "stream",
     "text": [
      "d c y z a "
     ]
    }
   ],
   "source": [
    "str11='azycd'\n",
    "output=reversed(str11)\n",
    "for i in output:\n",
    "    print(i,end=' ')"
   ]
  },
  {
   "cell_type": "markdown",
   "id": "bee0ed6c-38c4-47d2-905b-022a0e6bc829",
   "metadata": {},
   "source": [
    "- Initialization\n",
    "- type\n",
    "- len\n",
    "- max\n",
    "- min\n",
    "- sorted\n",
    "- reveresed"
   ]
  },
  {
   "cell_type": "code",
   "execution_count": null,
   "id": "ce70929c-2a49-4744-a4df-14db948f782b",
   "metadata": {},
   "outputs": [],
   "source": [
    "type(<value>)\n",
    "eval(<value>)\n",
    "input(<value>)\n",
    "max(<value>)\n",
    "min(<value>)\n",
    "sum(<value>)\n",
    "sorted(<value>)\n",
    "reversed(<value>)"
   ]
  },
  {
   "cell_type": "code",
   "execution_count": 5,
   "id": "e3a35810-756e-475c-bee5-ae9fc4c0a538",
   "metadata": {},
   "outputs": [
    {
     "data": {
      "text/plain": [
       "['s', 'r', 'n', 'h', 'e', 'a']"
      ]
     },
     "execution_count": 5,
     "metadata": {},
     "output_type": "execute_result"
    }
   ],
   "source": [
    "sorted('naresh',reverse=True)\n"
   ]
  },
  {
   "cell_type": "code",
   "execution_count": 7,
   "id": "44135eff-90b4-4dde-8299-5483b8300fad",
   "metadata": {},
   "outputs": [
    {
     "name": "stdout",
     "output_type": "stream",
     "text": [
      "h\n",
      "s\n",
      "e\n",
      "r\n",
      "a\n",
      "n\n"
     ]
    }
   ],
   "source": [
    "for i in reversed('naresh'):\n",
    "    print(i)"
   ]
  },
  {
   "cell_type": "code",
   "execution_count": 9,
   "id": "06367708-1b2c-49cc-a4dd-a3869e459d40",
   "metadata": {},
   "outputs": [
    {
     "data": {
      "text/plain": [
       "[1, 2, 10, 20, 30]"
      ]
     },
     "execution_count": 9,
     "metadata": {},
     "output_type": "execute_result"
    }
   ],
   "source": [
    "sorted([1,10,2,20,30])"
   ]
  },
  {
   "cell_type": "code",
   "execution_count": 10,
   "id": "69cb06dd-cdfd-4aba-92e5-a44c99deb424",
   "metadata": {},
   "outputs": [
    {
     "data": {
      "text/plain": [
       "[30, 20, 10, 2, 1]"
      ]
     },
     "execution_count": 10,
     "metadata": {},
     "output_type": "execute_result"
    }
   ],
   "source": [
    "sorted([1,10,2,20,30],reverse=True)"
   ]
  },
  {
   "cell_type": "markdown",
   "id": "557f60b6-4aa6-445f-a8b9-af7004a20b11",
   "metadata": {},
   "source": [
    "**In Operator**"
   ]
  },
  {
   "cell_type": "code",
   "execution_count": 11,
   "id": "6ac7fa8d-2a48-4e0b-be42-27fb134e84c5",
   "metadata": {},
   "outputs": [
    {
     "data": {
      "text/plain": [
       "True"
      ]
     },
     "execution_count": 11,
     "metadata": {},
     "output_type": "execute_result"
    }
   ],
   "source": [
    "str1='naresh'\n",
    "'n' in str1"
   ]
  },
  {
   "cell_type": "code",
   "execution_count": 15,
   "id": "f8e0fb30-076e-4ef2-ae6c-4def99fd9fc0",
   "metadata": {},
   "outputs": [],
   "source": [
    "# strings\n",
    "# list \n",
    "# tuples\n",
    "# sets\n",
    "# dictionary"
   ]
  },
  {
   "cell_type": "code",
   "execution_count": 13,
   "id": "7c2a644e-080f-423d-ad80-bf61415466c6",
   "metadata": {},
   "outputs": [
    {
     "data": {
      "text/plain": [
       "True"
      ]
     },
     "execution_count": 13,
     "metadata": {},
     "output_type": "execute_result"
    }
   ],
   "source": [
    "str1='naresh'\n",
    "'nn' not in str1"
   ]
  },
  {
   "cell_type": "code",
   "execution_count": 14,
   "id": "e6195c2f-b35c-4e2e-a74f-97c2c6f46c23",
   "metadata": {},
   "outputs": [
    {
     "name": "stdout",
     "output_type": "stream",
     "text": [
      "n\n",
      "a\n",
      "r\n",
      "e\n",
      "s\n",
      "h\n"
     ]
    }
   ],
   "source": [
    "for i in str1:\n",
    "    print(i)"
   ]
  },
  {
   "cell_type": "markdown",
   "id": "b3cac2dc-a7b1-4104-aea0-ce580ec76143",
   "metadata": {},
   "source": [
    "**Note**\n",
    "\n",
    "- In operator directly access the letters"
   ]
  },
  {
   "cell_type": "code",
   "execution_count": 1,
   "id": "ec9adc35-5651-440e-a78d-250cde3a6cbf",
   "metadata": {},
   "outputs": [
    {
     "name": "stdout",
     "output_type": "stream",
     "text": [
      "3\n"
     ]
    }
   ],
   "source": [
    "# Q1) WAP ask the user count how many 'a' are present in a given string\n",
    "# str1='hai naresh how are you'\n",
    "# Idea: counter wrapper\n",
    "# step-1: count =0\n",
    "# step-2: using for loop in operator iterate through given string \n",
    "# step-3: apply the if condition, whenever the letter equal to 'a'\n",
    "# step-4 count=count+1\n",
    "\n",
    "count=0\n",
    "str1='hai naresh how are you'\n",
    "for i in str1:\n",
    "    if i=='a':\n",
    "        count=count+1\n",
    "print(count)"
   ]
  },
  {
   "cell_type": "code",
   "execution_count": 37,
   "id": "e9f7b141-a26b-4649-9d63-be9cb2fb334c",
   "metadata": {},
   "outputs": [
    {
     "name": "stdout",
     "output_type": "stream",
     "text": [
      "9\n"
     ]
    }
   ],
   "source": [
    "# Q2) WAP ask the user how many vowels are there in a string\n",
    "# str1='hai naresh how are you'\n",
    "\n",
    "count=0\n",
    "str2='hai naresh how are you'\n",
    "\n",
    "for i in str2:\n",
    "    if i=='a' or i=='e' or i=='i' or i=='o' or i=='u':\n",
    "        count=count+1\n",
    "print(count)"
   ]
  },
  {
   "cell_type": "code",
   "execution_count": 2,
   "id": "1624ca30-3293-42f9-9479-5f8835b1e9ad",
   "metadata": {},
   "outputs": [
    {
     "name": "stdout",
     "output_type": "stream",
     "text": [
      "the count is : 9\n"
     ]
    }
   ],
   "source": [
    "count=0\n",
    "str2='hai naresh how are you'\n",
    "\n",
    "for i in str2:\n",
    "    if i in 'aeiou':\n",
    "        count=count+1\n",
    "print('the count is :',count)"
   ]
  },
  {
   "cell_type": "code",
   "execution_count": 2,
   "id": "2c2a15d0-5dc4-4170-af5a-a9dbcb8fe4fa",
   "metadata": {},
   "outputs": [
    {
     "name": "stdout",
     "output_type": "stream",
     "text": [
      "Count of unique vowels: 5\n",
      "Unique vowels: aieou\n"
     ]
    }
   ],
   "source": [
    "# Q3) home work\n",
    "# str1='hai naresh how are you'\n",
    "# repeated vowels are there\n",
    "# we dont want repeaed vowels\n",
    "# count the vowels avoid the repeatation: unique vowels\n",
    "# step-1: count=0\n",
    "# step-2: take one mire empty string ex=s2=''\n",
    "# step-3: using for loop in operator iterate through given string \n",
    "# step-4: condition-1: That letter should not available in s2\n",
    "# step-5       condition-2: vowel check condition\n",
    "# step-6:                 count=coun+1\n",
    "# step-7:                 update the s2= s2+<letter>\n",
    "\n",
    "\n",
    "str5='hai naresh how are you'\n",
    "s4=''\n",
    "count=0\n",
    "for i in str5:\n",
    "     if i not in s4:\n",
    "         if i in 'aeiou':\n",
    "             count=count+1\n",
    "             s4=s4+i\n",
    "print(\"Count of unique vowels:\", count)\n",
    "print(\"Unique vowels:\", s4)"
   ]
  },
  {
   "cell_type": "markdown",
   "id": "09cfd0ee-3122-4dd7-80dc-8edd59879de6",
   "metadata": {},
   "source": [
    "**How to update the empty strings**"
   ]
  },
  {
   "cell_type": "code",
   "execution_count": 45,
   "id": "ec536bd5-af39-49b4-be5e-73d9a7840ab4",
   "metadata": {},
   "outputs": [
    {
     "data": {
      "text/plain": [
       "'python'"
      ]
     },
     "execution_count": 45,
     "metadata": {},
     "output_type": "execute_result"
    }
   ],
   "source": [
    "s1='python'\n",
    "s2=''\n",
    "\n",
    "for i in s1:\n",
    "    s2=s2+i  # concatenation\n",
    "s2"
   ]
  },
  {
   "cell_type": "markdown",
   "id": "e5b6d296-9042-4909-9b91-69a1a02c7ede",
   "metadata": {},
   "source": [
    "**Concatenation**"
   ]
  },
  {
   "cell_type": "code",
   "execution_count": 46,
   "id": "a50c0eda-836f-4808-9810-33b4fc17d507",
   "metadata": {},
   "outputs": [
    {
     "data": {
      "text/plain": [
       "'hello bye'"
      ]
     },
     "execution_count": 46,
     "metadata": {},
     "output_type": "execute_result"
    }
   ],
   "source": [
    "s1='hello'\n",
    "s2=' bye'\n",
    "s1+s2"
   ]
  },
  {
   "cell_type": "code",
   "execution_count": 47,
   "id": "a079b56c-3381-4696-ab38-7a04100d0ede",
   "metadata": {},
   "outputs": [
    {
     "data": {
      "text/plain": [
       "'hello  bye'"
      ]
     },
     "execution_count": 47,
     "metadata": {},
     "output_type": "execute_result"
    }
   ],
   "source": [
    "s1='hello'\n",
    "s3=' '\n",
    "s2=' bye'\n",
    "s1+s3+s2"
   ]
  },
  {
   "cell_type": "code",
   "execution_count": 49,
   "id": "3c328a0d-8f61-43a4-8a15-905e3d98e212",
   "metadata": {},
   "outputs": [
    {
     "ename": "TypeError",
     "evalue": "can't multiply sequence by non-int of type 'str'",
     "output_type": "error",
     "traceback": [
      "\u001b[1;31m---------------------------------------------------------------------------\u001b[0m",
      "\u001b[1;31mTypeError\u001b[0m                                 Traceback (most recent call last)",
      "Cell \u001b[1;32mIn[49], line 3\u001b[0m\n\u001b[0;32m      1\u001b[0m s1\u001b[38;5;241m=\u001b[39m\u001b[38;5;124m'\u001b[39m\u001b[38;5;124mhello\u001b[39m\u001b[38;5;124m'\u001b[39m\n\u001b[0;32m      2\u001b[0m s2\u001b[38;5;241m=\u001b[39m\u001b[38;5;124m'\u001b[39m\u001b[38;5;124mbye\u001b[39m\u001b[38;5;124m'\u001b[39m\n\u001b[1;32m----> 3\u001b[0m s1\u001b[38;5;241m*\u001b[39ms2\n",
      "\u001b[1;31mTypeError\u001b[0m: can't multiply sequence by non-int of type 'str'"
     ]
    }
   ],
   "source": [
    "s1='hello'\n",
    "s2='bye'\n",
    "s1*s2"
   ]
  },
  {
   "cell_type": "code",
   "execution_count": 50,
   "id": "e35357c3-9152-4508-8634-fd9bf7bbdc6f",
   "metadata": {},
   "outputs": [
    {
     "ename": "TypeError",
     "evalue": "unsupported operand type(s) for /: 'str' and 'str'",
     "output_type": "error",
     "traceback": [
      "\u001b[1;31m---------------------------------------------------------------------------\u001b[0m",
      "\u001b[1;31mTypeError\u001b[0m                                 Traceback (most recent call last)",
      "Cell \u001b[1;32mIn[50], line 3\u001b[0m\n\u001b[0;32m      1\u001b[0m s1\u001b[38;5;241m=\u001b[39m\u001b[38;5;124m'\u001b[39m\u001b[38;5;124mhello\u001b[39m\u001b[38;5;124m'\u001b[39m\n\u001b[0;32m      2\u001b[0m s2\u001b[38;5;241m=\u001b[39m\u001b[38;5;124m'\u001b[39m\u001b[38;5;124mbye\u001b[39m\u001b[38;5;124m'\u001b[39m\n\u001b[1;32m----> 3\u001b[0m s1\u001b[38;5;241m/\u001b[39ms2\n",
      "\u001b[1;31mTypeError\u001b[0m: unsupported operand type(s) for /: 'str' and 'str'"
     ]
    }
   ],
   "source": [
    "s1='hello'\n",
    "s2='bye'\n",
    "s1/s2"
   ]
  },
  {
   "cell_type": "code",
   "execution_count": 51,
   "id": "503bcc1d-6356-4eed-93ba-6a5133c40e87",
   "metadata": {},
   "outputs": [
    {
     "ename": "TypeError",
     "evalue": "unsupported operand type(s) for -: 'str' and 'str'",
     "output_type": "error",
     "traceback": [
      "\u001b[1;31m---------------------------------------------------------------------------\u001b[0m",
      "\u001b[1;31mTypeError\u001b[0m                                 Traceback (most recent call last)",
      "Cell \u001b[1;32mIn[51], line 3\u001b[0m\n\u001b[0;32m      1\u001b[0m s1\u001b[38;5;241m=\u001b[39m\u001b[38;5;124m'\u001b[39m\u001b[38;5;124mhello\u001b[39m\u001b[38;5;124m'\u001b[39m\n\u001b[0;32m      2\u001b[0m s2\u001b[38;5;241m=\u001b[39m\u001b[38;5;124m'\u001b[39m\u001b[38;5;124mbye\u001b[39m\u001b[38;5;124m'\u001b[39m\n\u001b[1;32m----> 3\u001b[0m s1\u001b[38;5;241m-\u001b[39ms2\n",
      "\u001b[1;31mTypeError\u001b[0m: unsupported operand type(s) for -: 'str' and 'str'"
     ]
    }
   ],
   "source": [
    "s1='hello'\n",
    "s2='bye'\n",
    "s1-s2"
   ]
  },
  {
   "cell_type": "code",
   "execution_count": 52,
   "id": "f190bb69-f562-4e36-9dde-d87d8d300ec6",
   "metadata": {},
   "outputs": [],
   "source": [
    "# s1*s2 = can't multiply sequence by non-int of type 'str'\n",
    "# s1-s2 = unsupported operand type(s) for -: 'str' and 'str'\n",
    "# s1/s2 = unsupported operand type(s) for /: 'str' and 'str'"
   ]
  },
  {
   "cell_type": "code",
   "execution_count": 55,
   "id": "81ed05ee-3e92-47df-9061-102e65e83eb9",
   "metadata": {},
   "outputs": [
    {
     "data": {
      "text/plain": [
       "'hellohello'"
      ]
     },
     "execution_count": 55,
     "metadata": {},
     "output_type": "execute_result"
    }
   ],
   "source": [
    "s1='hello'\n",
    "s2=2\n",
    "s1*s2"
   ]
  },
  {
   "cell_type": "markdown",
   "id": "129fa240-ddb6-451a-8ac1-2ba2926836fd",
   "metadata": {},
   "source": [
    "**Index**"
   ]
  },
  {
   "cell_type": "markdown",
   "id": "b5bcd69b-0c08-4953-8ccc-3c959adb81f7",
   "metadata": {},
   "source": [
    "- Index meaning a number attached to a letter\n",
    "- In python index starts with zero\n",
    "- We have ywo directions\n",
    "    - positive direction\n",
    "        - positive numbers starts with zero\n",
    "    - negative direction\n",
    "        - negative numbers starts with -1,applicable to last letter"
   ]
  },
  {
   "cell_type": "code",
   "execution_count": null,
   "id": "ca1bdfb7-3c8a-4f2a-9438-915b1734a534",
   "metadata": {},
   "outputs": [],
   "source": [
    "s1='python'\n",
    "\n",
    "# -6  -5  -4  -3  -2  -1  ====> negative\n",
    "#  p   y   t   h   o   n\n",
    "#  0   1   2   3   4   5  ====> positive"
   ]
  },
  {
   "cell_type": "code",
   "execution_count": 61,
   "id": "f8da0ee3-e9e0-49bd-bfec-a2387dfed186",
   "metadata": {},
   "outputs": [
    {
     "data": {
      "text/plain": [
       "('p', 'y', 't', 'h', 'o', 'n')"
      ]
     },
     "execution_count": 61,
     "metadata": {},
     "output_type": "execute_result"
    }
   ],
   "source": [
    "s1='python'\n",
    "s1[0],s1[1],s1[2],s1[3],s1[4],s1[5]"
   ]
  },
  {
   "cell_type": "code",
   "execution_count": 62,
   "id": "763775a5-7bd5-4652-9684-f5ed94afe48e",
   "metadata": {},
   "outputs": [
    {
     "data": {
      "text/plain": [
       "('n', 'o', 'h', 't', 'y', 'p')"
      ]
     },
     "execution_count": 62,
     "metadata": {},
     "output_type": "execute_result"
    }
   ],
   "source": [
    "s1='python'\n",
    "s1[5],s1[4],s1[3],s1[2],s1[1],s1[0]"
   ]
  },
  {
   "cell_type": "markdown",
   "id": "20aec4fe-0557-49f6-b9ea-9b7660948875",
   "metadata": {},
   "source": [
    "**Mutable-Immutable**\n",
    "\n",
    "- Mutable : can change\n",
    "    - we can change using indexing\n",
    "- Immutable : cannot change\n",
    "    - we cannot change using indexing "
   ]
  },
  {
   "cell_type": "code",
   "execution_count": 3,
   "id": "e863120f-24fa-4cfd-b95b-9ec8c91e0cb4",
   "metadata": {},
   "outputs": [
    {
     "ename": "TypeError",
     "evalue": "'str' object does not support item assignment",
     "output_type": "error",
     "traceback": [
      "\u001b[1;31m---------------------------------------------------------------------------\u001b[0m",
      "\u001b[1;31mTypeError\u001b[0m                                 Traceback (most recent call last)",
      "Cell \u001b[1;32mIn[3], line 5\u001b[0m\n\u001b[0;32m      1\u001b[0m s\u001b[38;5;241m=\u001b[39m\u001b[38;5;124m'\u001b[39m\u001b[38;5;124mwelcome\u001b[39m\u001b[38;5;124m'\u001b[39m\n\u001b[0;32m      2\u001b[0m \u001b[38;5;66;03m# I want to replace 'l' with 'L'\u001b[39;00m\n\u001b[0;32m      3\u001b[0m \u001b[38;5;66;03m# Possible\u001b[39;00m\n\u001b[0;32m      4\u001b[0m \u001b[38;5;66;03m# Not possible\u001b[39;00m\n\u001b[1;32m----> 5\u001b[0m s[\u001b[38;5;241m2\u001b[39m]\u001b[38;5;241m=\u001b[39m\u001b[38;5;124m'\u001b[39m\u001b[38;5;124mL\u001b[39m\u001b[38;5;124m'\u001b[39m\n",
      "\u001b[1;31mTypeError\u001b[0m: 'str' object does not support item assignment"
     ]
    }
   ],
   "source": [
    "s='welcome'\n",
    "# I want to replace 'l' with 'L'\n",
    "# Possible\n",
    "# Not possible\n",
    "s[2]='L'"
   ]
  },
  {
   "cell_type": "markdown",
   "id": "65a6da01-5c38-4bf3-acaa-134db7cb542a",
   "metadata": {},
   "source": [
    "**Strings are immutable**"
   ]
  },
  {
   "cell_type": "code",
   "execution_count": 6,
   "id": "fac40a40-96ec-457e-8ea2-d2d4fe22840c",
   "metadata": {},
   "outputs": [
    {
     "data": {
      "text/plain": [
       "[1, 200, 3, 4]"
      ]
     },
     "execution_count": 6,
     "metadata": {},
     "output_type": "execute_result"
    }
   ],
   "source": [
    "l=[1,2,3,4]    # 2=200\n",
    "l[1]=200\n",
    "l"
   ]
  },
  {
   "cell_type": "code",
   "execution_count": null,
   "id": "cc11a74d-c136-45ce-89f7-23dea9f90d67",
   "metadata": {},
   "outputs": [],
   "source": [
    "s='Welcome'\n",
    "s[2]='L'\n",
    "###########################\n",
    "l=[1,2,3,4]\n",
    "l[1]=200\n",
    "l"
   ]
  },
  {
   "cell_type": "markdown",
   "id": "13f0e40b-732d-4cfe-956c-ec04ed19bf48",
   "metadata": {},
   "source": [
    "- Range belongs to which family\n",
    "    - math family\n",
    "- inside range bracket what we need to provide \n",
    "    - number \n",
    "- How many numbers we need to provide\n",
    "    - Number of leter : len(String)\n",
    "- How to access the letter using number \n",
    "    - by using Index"
   ]
  },
  {
   "cell_type": "code",
   "execution_count": 11,
   "id": "e3980e0a-a3af-4137-9a2d-5d833f3ccdd1",
   "metadata": {},
   "outputs": [
    {
     "name": "stdout",
     "output_type": "stream",
     "text": [
      "welcome"
     ]
    }
   ],
   "source": [
    "# Q4) print each letter using for loop range\n",
    "\n",
    "s='welcome'\n",
    "for i in range(7):\n",
    "    print(s[i],end='')\n",
    "# i=0    s[0]=w\n",
    "# i=1   s[1]=e"
   ]
  },
  {
   "cell_type": "code",
   "execution_count": 41,
   "id": "2fbc88a1-3ce8-4ae9-9616-40ba0a9c5891",
   "metadata": {},
   "outputs": [
    {
     "name": "stdout",
     "output_type": "stream",
     "text": [
      "welcome"
     ]
    }
   ],
   "source": [
    "s='welcome'\n",
    "n=len(s)\n",
    "for i in range(n):\n",
    "    print(s[i],end='')"
   ]
  },
  {
   "cell_type": "markdown",
   "id": "3e6a8557-de31-48fe-ba43-9f69bdafe319",
   "metadata": {},
   "source": [
    "- **for-in** directly access the letter \n",
    "- **for-range** will access using index"
   ]
  },
  {
   "cell_type": "code",
   "execution_count": 16,
   "id": "8adcd381-401d-4c67-a285-47a71c244615",
   "metadata": {},
   "outputs": [
    {
     "name": "stdout",
     "output_type": "stream",
     "text": [
      "welcome to naresh it"
     ]
    }
   ],
   "source": [
    "for i in s:\n",
    "    print(i,end='')"
   ]
  },
  {
   "cell_type": "code",
   "execution_count": 18,
   "id": "3e7c259a-5af1-42da-a2ce-b2d7e10fdc47",
   "metadata": {},
   "outputs": [
    {
     "name": "stdout",
     "output_type": "stream",
     "text": [
      "welcome to naresh it"
     ]
    }
   ],
   "source": [
    "n=len(s)\n",
    "for i in range(n):\n",
    "    print(s[i],end='')"
   ]
  },
  {
   "cell_type": "code",
   "execution_count": 40,
   "id": "f359c526-0f97-4596-94c0-c4ffe293ec74",
   "metadata": {},
   "outputs": [
    {
     "name": "stdout",
     "output_type": "stream",
     "text": [
      "The positive index of w is 0\n",
      "The positive index of e is 1\n",
      "The positive index of l is 2\n",
      "The positive index of c is 3\n",
      "The positive index of o is 4\n",
      "The positive index of m is 5\n",
      "The positive index of e is 6\n"
     ]
    }
   ],
   "source": [
    "# Q5) WAP ask the user iterate using a string\n",
    "# string='welcome'\n",
    "# print the positive index of w is 0\n",
    "#       the positive index of e is 1\n",
    "p='welcome'\n",
    "n=len(p)\n",
    "for i in range(n):\n",
    "    print(f'The positive index of {p[i]} is {i}')"
   ]
  },
  {
   "cell_type": "code",
   "execution_count": 42,
   "id": "b8960ff8-29da-43b9-ace9-ddf93ebd7ecf",
   "metadata": {},
   "outputs": [
    {
     "name": "stdout",
     "output_type": "stream",
     "text": [
      "The negative index of w is -7\n",
      "The negative index of e is -6\n",
      "The negative index of l is -5\n",
      "The negative index of c is -4\n",
      "The negative index of o is -3\n",
      "The negative index of m is -2\n",
      "The negative index of e is -1\n"
     ]
    }
   ],
   "source": [
    "#  Q6) WAP ask the user iterate using a string \n",
    "# string='welcome'\n",
    "# print the negative index of w is -7\n",
    "#       the negative index of e is -6\n",
    "#       the negative index of l is -5\n",
    "p='welcome'\n",
    "n=len(p)\n",
    "for i in range(len(p)):\n",
    "    print(f'The negative index of {p[i]} is {i-len(p)}')"
   ]
  },
  {
   "cell_type": "code",
   "execution_count": 45,
   "id": "258c7260-aebe-4752-aedc-ff1b4e1a9555",
   "metadata": {},
   "outputs": [
    {
     "name": "stdout",
     "output_type": "stream",
     "text": [
      "The positive index of w is 0 the negative index of w is -7\n",
      "The positive index of e is 1 the negative index of e is -6\n",
      "The positive index of l is 2 the negative index of l is -5\n",
      "The positive index of c is 3 the negative index of c is -4\n",
      "The positive index of o is 4 the negative index of o is -3\n",
      "The positive index of m is 5 the negative index of m is -2\n",
      "The positive index of e is 6 the negative index of e is -1\n"
     ]
    }
   ],
   "source": [
    "#  Q7) WAP ask the user iterate using a string \n",
    "# string='welcome'\n",
    "# positive index is zero and negative index is -7 for w\n",
    "s='welcome'\n",
    "n=len(s)\n",
    "for i in range(len(s)):\n",
    "    print(f'The positive index of {s[i]} is {i} the negative index of {s[i]} is {i-len(s)}')"
   ]
  },
  {
   "cell_type": "code",
   "execution_count": 57,
   "id": "63ebbca1-046a-46cb-b44f-ce25047d5179",
   "metadata": {},
   "outputs": [
    {
     "name": "stdout",
     "output_type": "stream",
     "text": [
      "index of a = 1\n",
      "index of a = 8\n",
      "index of a = 18\n"
     ]
    }
   ],
   "source": [
    "# 8Q) WAP ask the user get the index of each 'a' in a given string\n",
    "# s='hai how are you i am good'\n",
    "\n",
    "s='hai how are you i am good'\n",
    "for i in range(len(s)):\n",
    "    if s[i]=='a':\n",
    "        print('index of a =',i)"
   ]
  },
  {
   "cell_type": "code",
   "execution_count": 59,
   "id": "25ea9e3e-49b7-4b56-969d-4f2e9a5b3080",
   "metadata": {},
   "outputs": [
    {
     "name": "stdout",
     "output_type": "stream",
     "text": [
      "3\n"
     ]
    }
   ],
   "source": [
    "# Q9) WAP ask the user to get count of number of 'a' in a given string \n",
    "#  using for-range\n",
    "s='hai how are you i am good'\n",
    "count=0\n",
    "for i in range(len(s)):\n",
    "    if s[i]=='a':\n",
    "        count=count+1\n",
    "print(count)"
   ]
  },
  {
   "cell_type": "code",
   "execution_count": 63,
   "id": "d4208df2-7769-44d5-b298-dc39ce2ce3b9",
   "metadata": {},
   "outputs": [
    {
     "name": "stdout",
     "output_type": "stream",
     "text": [
      "27\n"
     ]
    }
   ],
   "source": [
    "# Q10) WAP ask the user get the sum of all index numbers of 'a'\n",
    "# 1+8+18=27\n",
    "s='hai how are you i am good'\n",
    "summ=0\n",
    "count=0\n",
    "for i in range(len(s)):\n",
    "    if s[i]=='a':\n",
    "        count=count+1\n",
    "        summ=summ+i\n",
    "print(summ)"
   ]
  },
  {
   "cell_type": "code",
   "execution_count": 64,
   "id": "e182a577-3204-4ff6-8903-53e24fa4396c",
   "metadata": {},
   "outputs": [
    {
     "name": "stdout",
     "output_type": "stream",
     "text": [
      "a\n",
      "i\n",
      "o\n",
      "a\n",
      "e\n",
      "o\n",
      "u\n",
      "i\n",
      "a\n",
      "o\n",
      "o\n",
      "The number of vowels are: 11\n"
     ]
    }
   ],
   "source": [
    "# Q11) WAP ask the user get the vowels from a given string using for-range\n",
    "s= 'hai how are you iam good'\n",
    "count=0\n",
    "for i in range(len(s)):\n",
    "    if s[i] in 'aeiou':\n",
    "        print(s[i])\n",
    "        count=count+1\n",
    "print('The number of vowels are:',count)"
   ]
  },
  {
   "cell_type": "code",
   "execution_count": 70,
   "id": "c34fcfbb-6e31-498c-bd78-bc60c757a1d0",
   "metadata": {},
   "outputs": [
    {
     "name": "stdout",
     "output_type": "stream",
     "text": [
      "a\n",
      "i\n",
      "o\n",
      "e\n",
      "u\n",
      "The number of unique vowels are: 5\n"
     ]
    }
   ],
   "source": [
    "# Q12) WAP ask the user get the unique vowels from a given string using for-range\n",
    "s= 'hai how are you iam good'\n",
    "s1=''\n",
    "count=0\n",
    "for i in range(len(s)):\n",
    "    if s[i] not in s1:\n",
    "        if s[i] in 'aeiou':\n",
    "            print(s[i])\n",
    "            s1=s1+s[i]\n",
    "            count=count+1\n",
    "\n",
    "print('The number of unique vowels are:',count)"
   ]
  },
  {
   "cell_type": "code",
   "execution_count": 75,
   "id": "330073c4-5df1-4e86-939e-36a9a99d317c",
   "metadata": {},
   "outputs": [
    {
     "name": "stdout",
     "output_type": "stream",
     "text": [
      "a\n",
      "i\n",
      "o\n",
      "e\n",
      "u\n",
      "The number of unique vowels are: 5\n"
     ]
    }
   ],
   "source": [
    "# Q13) updated Q12 WAP ask the user get the unique vowels from a given string using for-range\n",
    "s= 'hai how are you iam good'\n",
    "s1=''\n",
    "count=0\n",
    "for i in range(len(s)):\n",
    "    if s[i] not in s1 and s[i] in 'aeiou':\n",
    "        print(s[i])\n",
    "        s1=s1+s[i]\n",
    "        count=count+1\n",
    "\n",
    "print('The number of unique vowels are:',count)"
   ]
  },
  {
   "cell_type": "markdown",
   "id": "1c9de383-f49c-43a7-a05d-6cd1ef5a3731",
   "metadata": {},
   "source": [
    "**Slice**"
   ]
  },
  {
   "cell_type": "markdown",
   "id": "0a210244-7bb9-41ed-8810-d925ecc201ed",
   "metadata": {},
   "source": [
    "- we can cut into pieces\n",
    "- similar to range concept\n",
    "- start,stop,step here also"
   ]
  },
  {
   "cell_type": "code",
   "execution_count": null,
   "id": "91b2ece1-df21-4e3c-92fb-cd345cb094e7",
   "metadata": {},
   "outputs": [],
   "source": [
    "str1='hai how are you'"
   ]
  },
  {
   "cell_type": "code",
   "execution_count": null,
   "id": "e3fdd6c5-9dbf-4bab-b550-48ffb880e2be",
   "metadata": {},
   "outputs": [],
   "source": [
    "-15 -14 -13 -12 -11 -10 -9 -8 -7 -6 -5 -4 -3 -2 -1\n",
    " h   a   i        h   o  w     a  r  e     y  o  u\n",
    " 1   2   3    4   5   6  7  8  9  10 11 12 13 14 15"
   ]
  },
  {
   "cell_type": "code",
   "execution_count": null,
   "id": "80ed1493-f993-4911-88f9-0fbf2700c613",
   "metadata": {},
   "outputs": [],
   "source": [
    "str1[start:stop:step]"
   ]
  },
  {
   "cell_type": "markdown",
   "id": "9d29b405-46f1-4834-92c3-64513edb003b",
   "metadata": {},
   "source": [
    "$Pattern-1$\n",
    "\n",
    "**str1[start:]**\n",
    "\n",
    "- By default start value = start only\n",
    "- Last value nothing mentioned automatically it will go till = last only\n",
    "- Step nothing mentioned means, it is a positive direction and increment by 1"
   ]
  },
  {
   "cell_type": "code",
   "execution_count": 14,
   "id": "24dfce4c-be00-4ab3-a3f4-1acb44a759d0",
   "metadata": {},
   "outputs": [
    {
     "data": {
      "text/plain": [
       "'e you'"
      ]
     },
     "execution_count": 14,
     "metadata": {},
     "output_type": "execute_result"
    }
   ],
   "source": [
    "#-15 -14 -13 -12 -11 -10 -9 -8 -7 -6 -5 -4 -3 -2 -1\n",
    "# h   a   i        h   o  w     a  r  e     y  o  u\n",
    "# 0   1   2   3    4   5  6  7  8  9 10 11 12 13 14\n",
    "str1='hai how are you'\n",
    "str1[-5:]     #[start:]"
   ]
  },
  {
   "cell_type": "code",
   "execution_count": 15,
   "id": "f75a0c61-8064-40d7-90fa-bd9163182226",
   "metadata": {},
   "outputs": [
    {
     "data": {
      "text/plain": [
       "'you'"
      ]
     },
     "execution_count": 15,
     "metadata": {},
     "output_type": "execute_result"
    }
   ],
   "source": [
    "str1[-3:]"
   ]
  },
  {
   "cell_type": "code",
   "execution_count": 16,
   "id": "2f5d6787-81b2-4f54-810e-c7463f9f5b4b",
   "metadata": {},
   "outputs": [
    {
     "data": {
      "text/plain": [
       "(' how are you', 'how are you')"
      ]
     },
     "execution_count": 16,
     "metadata": {},
     "output_type": "execute_result"
    }
   ],
   "source": [
    "str1[3:],str1[-11:]"
   ]
  },
  {
   "cell_type": "markdown",
   "id": "d7c12013-32be-4dfa-9569-b48c988ea960",
   "metadata": {},
   "source": [
    "$Pattern-2$\n",
    "\n",
    "str1[start:stop]\n",
    "\n",
    "- Start value means by default start only\n",
    "- step is not mentioned positive direction\n",
    "- last = stop-1"
   ]
  },
  {
   "cell_type": "code",
   "execution_count": 17,
   "id": "490ad6c3-8a8a-49bd-b036-d0a2c5ab440c",
   "metadata": {},
   "outputs": [
    {
     "data": {
      "text/plain": [
       "'ow are yo'"
      ]
     },
     "execution_count": 17,
     "metadata": {},
     "output_type": "execute_result"
    }
   ],
   "source": [
    "#-15 -14 -13 -12 -11 -10 -9 -8 -7 -6 -5 -4 -3 -2 -1\n",
    "# h   a   i        h   o  w     a  r  e     y  o  u\n",
    "# 0   1   2   3    4   5  6  7  8  9 10 11 12 13 14\n",
    "str1='hai how are you'\n",
    "str1[5:14]     #[start:stop]"
   ]
  },
  {
   "cell_type": "code",
   "execution_count": 26,
   "id": "29fab234-ff2e-403c-961f-c1c4a5f53cb1",
   "metadata": {},
   "outputs": [
    {
     "data": {
      "text/plain": [
       "'e yo'"
      ]
     },
     "execution_count": 26,
     "metadata": {},
     "output_type": "execute_result"
    }
   ],
   "source": [
    "str1[-5:14]"
   ]
  },
  {
   "cell_type": "code",
   "execution_count": 29,
   "id": "caf5a876-8382-4345-9fec-47c264074622",
   "metadata": {},
   "outputs": [
    {
     "data": {
      "text/plain": [
       "'w are yo'"
      ]
     },
     "execution_count": 29,
     "metadata": {},
     "output_type": "execute_result"
    }
   ],
   "source": [
    "str1[6:14]"
   ]
  },
  {
   "cell_type": "code",
   "execution_count": 30,
   "id": "1aff7cff-9436-4311-b903-e4b5d5df6cd8",
   "metadata": {},
   "outputs": [
    {
     "data": {
      "text/plain": [
       "'ai how are you'"
      ]
     },
     "execution_count": 30,
     "metadata": {},
     "output_type": "execute_result"
    }
   ],
   "source": [
    "str1[1:100]"
   ]
  },
  {
   "cell_type": "markdown",
   "id": "d07a9fae-cf59-4546-9999-2f2eae295041",
   "metadata": {},
   "source": [
    "**Truncation Behaviour**\n",
    "\n",
    "- Whenever string range is limited, but we provided unlimited number \n",
    "- String will consider till the range we have\n",
    "- In the above example our range only 15 letters \n",
    "- We provideed 500, then 500 will truncate to till 15 letters only"
   ]
  },
  {
   "cell_type": "code",
   "execution_count": 36,
   "id": "2018721b-df8e-4d5f-a584-56a80691a10e",
   "metadata": {},
   "outputs": [
    {
     "data": {
      "text/plain": [
       "'ow are you'"
      ]
     },
     "execution_count": 36,
     "metadata": {},
     "output_type": "execute_result"
    }
   ],
   "source": [
    "str1[5:500]"
   ]
  },
  {
   "cell_type": "code",
   "execution_count": 32,
   "id": "442c2c09-ff65-44ea-9518-e784eb2db79a",
   "metadata": {},
   "outputs": [
    {
     "data": {
      "text/plain": [
       "'hai how are you'"
      ]
     },
     "execution_count": 32,
     "metadata": {},
     "output_type": "execute_result"
    }
   ],
   "source": [
    "str1[-500:500]"
   ]
  },
  {
   "cell_type": "code",
   "execution_count": 33,
   "id": "6c82ebb1-4426-4163-88c1-bcc153ce2977",
   "metadata": {},
   "outputs": [
    {
     "data": {
      "text/plain": [
       "'u'"
      ]
     },
     "execution_count": 33,
     "metadata": {},
     "output_type": "execute_result"
    }
   ],
   "source": [
    "str1[-1:500]"
   ]
  },
  {
   "cell_type": "code",
   "execution_count": 34,
   "id": "e13194d3-e84a-45e2-b843-102fdef4692d",
   "metadata": {},
   "outputs": [
    {
     "data": {
      "text/plain": [
       "''"
      ]
     },
     "execution_count": 34,
     "metadata": {},
     "output_type": "execute_result"
    }
   ],
   "source": [
    "str1[500:]"
   ]
  },
  {
   "cell_type": "code",
   "execution_count": 37,
   "id": "02799218-4cd0-404a-949a-fb5f4dd19ccc",
   "metadata": {},
   "outputs": [
    {
     "data": {
      "text/plain": [
       "''"
      ]
     },
     "execution_count": 37,
     "metadata": {},
     "output_type": "execute_result"
    }
   ],
   "source": [
    "str1[-500:-100]"
   ]
  },
  {
   "cell_type": "markdown",
   "id": "88f55a67-06d5-4a4d-b96b-908ca07b0f98",
   "metadata": {},
   "source": [
    "$Pattern-3$\n",
    "\n",
    "**str1[start:stop:step]**\n",
    "\n",
    "- start value means start only\n",
    "- If step value positive\n",
    "    - last value = stop-1\n",
    "- If step value negative\n",
    "    - last value = stop+1"
   ]
  },
  {
   "cell_type": "code",
   "execution_count": 39,
   "id": "307132d9-d923-4845-b173-d226437f444c",
   "metadata": {},
   "outputs": [
    {
     "data": {
      "text/plain": [
       "'ihwaey'"
      ]
     },
     "execution_count": 39,
     "metadata": {},
     "output_type": "execute_result"
    }
   ],
   "source": [
    "#-15 -14 -13 -12 -11 -10 -9 -8 -7 -6 -5 -4 -3 -2 -1\n",
    "# h   a   i        h   o  w     a  r  e     y  o  u\n",
    "# 0   1   2   3    4   5  6  7  8  9 10 11 12 13 14\n",
    "str1[2:13:2]"
   ]
  },
  {
   "cell_type": "code",
   "execution_count": 40,
   "id": "0c821f9d-89a3-4fab-8ff6-9dce4df8e89c",
   "metadata": {},
   "outputs": [
    {
     "data": {
      "text/plain": [
       "''"
      ]
     },
     "execution_count": 40,
     "metadata": {},
     "output_type": "execute_result"
    }
   ],
   "source": [
    "str1[2:13:-2]"
   ]
  },
  {
   "cell_type": "code",
   "execution_count": 54,
   "id": "f5bd0c96-69fa-4542-85f6-cd9777846d1c",
   "metadata": {},
   "outputs": [
    {
     "data": {
      "text/plain": [
       "''"
      ]
     },
     "execution_count": 54,
     "metadata": {},
     "output_type": "execute_result"
    }
   ],
   "source": [
    "str1[2:-13:2]"
   ]
  },
  {
   "cell_type": "code",
   "execution_count": 42,
   "id": "ee42366f-8c83-4f22-a4c9-b1bdca7340ef",
   "metadata": {},
   "outputs": [
    {
     "data": {
      "text/plain": [
       "''"
      ]
     },
     "execution_count": 42,
     "metadata": {},
     "output_type": "execute_result"
    }
   ],
   "source": [
    "str1[2:-13:-2]"
   ]
  },
  {
   "cell_type": "code",
   "execution_count": 43,
   "id": "07b647c2-6435-4d05-accb-629580e409ab",
   "metadata": {},
   "outputs": [
    {
     "data": {
      "text/plain": [
       "''"
      ]
     },
     "execution_count": 43,
     "metadata": {},
     "output_type": "execute_result"
    }
   ],
   "source": [
    "str1[-2:13:2]"
   ]
  },
  {
   "cell_type": "code",
   "execution_count": 44,
   "id": "00eacb57-c52a-4ab7-bcc3-a612575df13d",
   "metadata": {},
   "outputs": [
    {
     "data": {
      "text/plain": [
       "''"
      ]
     },
     "execution_count": 44,
     "metadata": {},
     "output_type": "execute_result"
    }
   ],
   "source": [
    "str1[-2:-13:2]"
   ]
  },
  {
   "cell_type": "code",
   "execution_count": 45,
   "id": "2aa502ef-e8e7-4978-b361-c5dcbb5f1214",
   "metadata": {},
   "outputs": [
    {
     "data": {
      "text/plain": [
       "'o r o '"
      ]
     },
     "execution_count": 45,
     "metadata": {},
     "output_type": "execute_result"
    }
   ],
   "source": [
    "str1[-2:-13:-2]"
   ]
  },
  {
   "cell_type": "code",
   "execution_count": 46,
   "id": "43ef18d4-0e3c-4536-9759-de13216f24e7",
   "metadata": {},
   "outputs": [
    {
     "data": {
      "text/plain": [
       "''"
      ]
     },
     "execution_count": 46,
     "metadata": {},
     "output_type": "execute_result"
    }
   ],
   "source": [
    "str1[13:2:2]"
   ]
  },
  {
   "cell_type": "code",
   "execution_count": 47,
   "id": "7846e339-fa9a-45e8-8f0d-fcadd67553a6",
   "metadata": {},
   "outputs": [
    {
     "data": {
      "text/plain": [
       "''"
      ]
     },
     "execution_count": 47,
     "metadata": {},
     "output_type": "execute_result"
    }
   ],
   "source": [
    "str1[-13:2:2]"
   ]
  },
  {
   "cell_type": "code",
   "execution_count": 48,
   "id": "431299e7-c4ab-487f-a42c-e983df6f02b8",
   "metadata": {},
   "outputs": [
    {
     "data": {
      "text/plain": [
       "'ihwaey'"
      ]
     },
     "execution_count": 48,
     "metadata": {},
     "output_type": "execute_result"
    }
   ],
   "source": [
    "str1[-13:-2:2]"
   ]
  },
  {
   "cell_type": "code",
   "execution_count": 50,
   "id": "5d46bcee-78ef-4215-a4e3-264d40a486f1",
   "metadata": {},
   "outputs": [
    {
     "data": {
      "text/plain": [
       "''"
      ]
     },
     "execution_count": 50,
     "metadata": {},
     "output_type": "execute_result"
    }
   ],
   "source": [
    "str1[-13:-2:-2]"
   ]
  },
  {
   "cell_type": "code",
   "execution_count": 51,
   "id": "eb0ab57e-dfde-41ac-ba05-84bb9ef78ff5",
   "metadata": {},
   "outputs": [
    {
     "data": {
      "text/plain": [
       "''"
      ]
     },
     "execution_count": 51,
     "metadata": {},
     "output_type": "execute_result"
    }
   ],
   "source": [
    "str1[-13:2:-2]"
   ]
  },
  {
   "cell_type": "code",
   "execution_count": 55,
   "id": "27422692-112b-44f5-9972-1977a848be3f",
   "metadata": {},
   "outputs": [
    {
     "data": {
      "text/plain": [
       "'i'"
      ]
     },
     "execution_count": 55,
     "metadata": {},
     "output_type": "execute_result"
    }
   ],
   "source": [
    "str1[2:3:2]"
   ]
  },
  {
   "cell_type": "code",
   "execution_count": null,
   "id": "9f195d53-fcd0-4147-b84f-e08548c2f321",
   "metadata": {},
   "outputs": [],
   "source": [
    "str1[:]     #Complete string\n",
    "str1[::]   # complete string\n",
    "str1[<start>::-1]  # Reverse start value=-1\n",
    "str[<start>:5:-2]"
   ]
  },
  {
   "cell_type": "markdown",
   "id": "77c1b5ee-9579-4011-a511-839e912e6743",
   "metadata": {},
   "source": [
    "================== PART-2 ======================"
   ]
  },
  {
   "cell_type": "markdown",
   "id": "fbd1b199-e2c2-4b8e-9550-277441f22f3a",
   "metadata": {},
   "source": [
    "**Methods**\n",
    "\n",
    "- Strings lists tuple dictionary every data type has its owm methods\n",
    "- we already seen packages has different method\n",
    "- For example random package: randint method\n",
    "- Math package: sqrt\n",
    "- In the same way strings also have methods\n",
    "- In order to see methods for the packages\n",
    "    - we are importing the package\n",
    "    - we are applying dir\n",
    "- In the similar way in order to see the methods of string, we need to apply dir only"
   ]
  },
  {
   "cell_type": "code",
   "execution_count": 56,
   "id": "4e2058c4-d0f4-4dff-8ab3-74a715b1161d",
   "metadata": {},
   "outputs": [
    {
     "data": {
      "text/plain": [
       "['__add__',\n",
       " '__class__',\n",
       " '__contains__',\n",
       " '__delattr__',\n",
       " '__dir__',\n",
       " '__doc__',\n",
       " '__eq__',\n",
       " '__format__',\n",
       " '__ge__',\n",
       " '__getattribute__',\n",
       " '__getitem__',\n",
       " '__getnewargs__',\n",
       " '__getstate__',\n",
       " '__gt__',\n",
       " '__hash__',\n",
       " '__init__',\n",
       " '__init_subclass__',\n",
       " '__iter__',\n",
       " '__le__',\n",
       " '__len__',\n",
       " '__lt__',\n",
       " '__mod__',\n",
       " '__mul__',\n",
       " '__ne__',\n",
       " '__new__',\n",
       " '__reduce__',\n",
       " '__reduce_ex__',\n",
       " '__repr__',\n",
       " '__rmod__',\n",
       " '__rmul__',\n",
       " '__setattr__',\n",
       " '__sizeof__',\n",
       " '__str__',\n",
       " '__subclasshook__',\n",
       " 'capitalize',\n",
       " 'casefold',\n",
       " 'center',\n",
       " 'count',\n",
       " 'encode',\n",
       " 'endswith',\n",
       " 'expandtabs',\n",
       " 'find',\n",
       " 'format',\n",
       " 'format_map',\n",
       " 'index',\n",
       " 'isalnum',\n",
       " 'isalpha',\n",
       " 'isascii',\n",
       " 'isdecimal',\n",
       " 'isdigit',\n",
       " 'isidentifier',\n",
       " 'islower',\n",
       " 'isnumeric',\n",
       " 'isprintable',\n",
       " 'isspace',\n",
       " 'istitle',\n",
       " 'isupper',\n",
       " 'join',\n",
       " 'ljust',\n",
       " 'lower',\n",
       " 'lstrip',\n",
       " 'maketrans',\n",
       " 'partition',\n",
       " 'removeprefix',\n",
       " 'removesuffix',\n",
       " 'replace',\n",
       " 'rfind',\n",
       " 'rindex',\n",
       " 'rjust',\n",
       " 'rpartition',\n",
       " 'rsplit',\n",
       " 'rstrip',\n",
       " 'split',\n",
       " 'splitlines',\n",
       " 'startswith',\n",
       " 'strip',\n",
       " 'swapcase',\n",
       " 'title',\n",
       " 'translate',\n",
       " 'upper',\n",
       " 'zfill']"
      ]
     },
     "execution_count": 56,
     "metadata": {},
     "output_type": "execute_result"
    }
   ],
   "source": [
    "dir('')"
   ]
  },
  {
   "cell_type": "code",
   "execution_count": 58,
   "id": "5da2e2e4-0111-4d89-922c-3189aa7fa075",
   "metadata": {},
   "outputs": [
    {
     "data": {
      "text/plain": [
       "['__add__',\n",
       " '__class__',\n",
       " '__contains__',\n",
       " '__delattr__',\n",
       " '__dir__',\n",
       " '__doc__',\n",
       " '__eq__',\n",
       " '__format__',\n",
       " '__ge__',\n",
       " '__getattribute__',\n",
       " '__getitem__',\n",
       " '__getnewargs__',\n",
       " '__getstate__',\n",
       " '__gt__',\n",
       " '__hash__',\n",
       " '__init__',\n",
       " '__init_subclass__',\n",
       " '__iter__',\n",
       " '__le__',\n",
       " '__len__',\n",
       " '__lt__',\n",
       " '__mod__',\n",
       " '__mul__',\n",
       " '__ne__',\n",
       " '__new__',\n",
       " '__reduce__',\n",
       " '__reduce_ex__',\n",
       " '__repr__',\n",
       " '__rmod__',\n",
       " '__rmul__',\n",
       " '__setattr__',\n",
       " '__sizeof__',\n",
       " '__str__',\n",
       " '__subclasshook__',\n",
       " 'capitalize',\n",
       " 'casefold',\n",
       " 'center',\n",
       " 'count',\n",
       " 'encode',\n",
       " 'endswith',\n",
       " 'expandtabs',\n",
       " 'find',\n",
       " 'format',\n",
       " 'format_map',\n",
       " 'index',\n",
       " 'isalnum',\n",
       " 'isalpha',\n",
       " 'isascii',\n",
       " 'isdecimal',\n",
       " 'isdigit',\n",
       " 'isidentifier',\n",
       " 'islower',\n",
       " 'isnumeric',\n",
       " 'isprintable',\n",
       " 'isspace',\n",
       " 'istitle',\n",
       " 'isupper',\n",
       " 'join',\n",
       " 'ljust',\n",
       " 'lower',\n",
       " 'lstrip',\n",
       " 'maketrans',\n",
       " 'partition',\n",
       " 'removeprefix',\n",
       " 'removesuffix',\n",
       " 'replace',\n",
       " 'rfind',\n",
       " 'rindex',\n",
       " 'rjust',\n",
       " 'rpartition',\n",
       " 'rsplit',\n",
       " 'rstrip',\n",
       " 'split',\n",
       " 'splitlines',\n",
       " 'startswith',\n",
       " 'strip',\n",
       " 'swapcase',\n",
       " 'title',\n",
       " 'translate',\n",
       " 'upper',\n",
       " 'zfill']"
      ]
     },
     "execution_count": 58,
     "metadata": {},
     "output_type": "execute_result"
    }
   ],
   "source": [
    "str1='apple'\n",
    "dir(str1)"
   ]
  },
  {
   "cell_type": "markdown",
   "id": "f39826c5-c155-49a1-8407-2929b4c6a06a",
   "metadata": {},
   "source": [
    "- Lower\n",
    "\n",
    "- Upper\n",
    "\n",
    "- Capitalize\n",
    "\n",
    "- Title\n",
    "\n",
    "- Casefold\n",
    "\n",
    "- Center"
   ]
  },
  {
   "cell_type": "markdown",
   "id": "57e21dd3-54a9-43ff-9738-2ecf93cb8683",
   "metadata": {},
   "source": [
    "**Upper**"
   ]
  },
  {
   "cell_type": "code",
   "execution_count": 78,
   "id": "7fee6b2e-c7e6-4956-984a-0d3b6f5b585a",
   "metadata": {},
   "outputs": [],
   "source": [
    "str1='Hai How Are You'"
   ]
  },
  {
   "cell_type": "code",
   "execution_count": 79,
   "id": "d32c1bbe-4f29-4b0b-b8d8-5bd31d476d75",
   "metadata": {},
   "outputs": [
    {
     "data": {
      "text/plain": [
       "'HAI HOW ARE YOU'"
      ]
     },
     "execution_count": 79,
     "metadata": {},
     "output_type": "execute_result"
    }
   ],
   "source": [
    "str1.upper()"
   ]
  },
  {
   "cell_type": "markdown",
   "id": "153243e2-2cbb-4395-989d-cd12eec16503",
   "metadata": {},
   "source": [
    "**Lower**"
   ]
  },
  {
   "cell_type": "code",
   "execution_count": 80,
   "id": "0e16649b-2d60-4696-a3ac-e1f914d655d5",
   "metadata": {},
   "outputs": [
    {
     "data": {
      "text/plain": [
       "'hai how are you'"
      ]
     },
     "execution_count": 80,
     "metadata": {},
     "output_type": "execute_result"
    }
   ],
   "source": [
    "str1.lower()"
   ]
  },
  {
   "cell_type": "markdown",
   "id": "5aa3fc2a-468e-41d1-b8c8-841dd131df1d",
   "metadata": {},
   "source": [
    "**Casefold**"
   ]
  },
  {
   "cell_type": "code",
   "execution_count": 65,
   "id": "04068d16-39af-4072-b5c4-2c97fdf53ca9",
   "metadata": {},
   "outputs": [
    {
     "data": {
      "text/plain": [
       "'hai how are you'"
      ]
     },
     "execution_count": 65,
     "metadata": {},
     "output_type": "execute_result"
    }
   ],
   "source": [
    "str1.casefold()"
   ]
  },
  {
   "cell_type": "markdown",
   "id": "b2162932-e880-4dce-95e9-7f6c7004e7f8",
   "metadata": {},
   "source": [
    "**Title**"
   ]
  },
  {
   "cell_type": "code",
   "execution_count": 66,
   "id": "4e54dda0-298d-4fac-bb49-ce3cd5013226",
   "metadata": {},
   "outputs": [
    {
     "data": {
      "text/plain": [
       "'Hai How Are You'"
      ]
     },
     "execution_count": 66,
     "metadata": {},
     "output_type": "execute_result"
    }
   ],
   "source": [
    "str1.title()"
   ]
  },
  {
   "cell_type": "markdown",
   "id": "79d8473f-184e-4d4a-b229-5a79f7f808f6",
   "metadata": {},
   "source": [
    "**Capitalize**"
   ]
  },
  {
   "cell_type": "code",
   "execution_count": 69,
   "id": "12ff4258-0a74-4223-b874-ce7db8bd0f9c",
   "metadata": {},
   "outputs": [
    {
     "data": {
      "text/plain": [
       "'Hai how are you'"
      ]
     },
     "execution_count": 69,
     "metadata": {},
     "output_type": "execute_result"
    }
   ],
   "source": [
    "str1.capitalize()"
   ]
  },
  {
   "cell_type": "markdown",
   "id": "4ef20d24-a71d-4a05-9f79-81145548b1ef",
   "metadata": {},
   "source": [
    "**Center**"
   ]
  },
  {
   "cell_type": "code",
   "execution_count": 81,
   "id": "59784244-6c69-4d99-9ad7-e016eb13d8ba",
   "metadata": {},
   "outputs": [
    {
     "data": {
      "text/plain": [
       "'Hai How Are You'"
      ]
     },
     "execution_count": 81,
     "metadata": {},
     "output_type": "execute_result"
    }
   ],
   "source": [
    "str1.center(len(str1))"
   ]
  },
  {
   "cell_type": "markdown",
   "id": "80ee23b0-d07f-423e-99a7-4e0686b1daa9",
   "metadata": {},
   "source": [
    "- Center has two arguments\n",
    "    - width\n",
    "    - fill char\n",
    "- Original string already : 15 letters\n",
    "- We want to create a new string with 20 letters\n",
    "- Remaining 5 letters by default empty\n",
    "- we can fill with characters also"
   ]
  },
  {
   "cell_type": "code",
   "execution_count": 82,
   "id": "4b77818b-b92c-43f4-9b4e-7e8ba03d3462",
   "metadata": {},
   "outputs": [
    {
     "data": {
      "text/plain": [
       "'*****Hai How Are You******'"
      ]
     },
     "execution_count": 82,
     "metadata": {},
     "output_type": "execute_result"
    }
   ],
   "source": [
    "str1.center(26,'*')"
   ]
  },
  {
   "cell_type": "markdown",
   "id": "da3b0449-d1ac-4e23-af96-3f6e9c8c3acb",
   "metadata": {},
   "source": [
    "**Count**"
   ]
  },
  {
   "cell_type": "code",
   "execution_count": null,
   "id": "f5f588f7-993f-47d6-83e8-47cb7929fe8f",
   "metadata": {},
   "outputs": [],
   "source": [
    "str1='hai how are you'\n",
    "# How many 'a's are there"
   ]
  },
  {
   "cell_type": "code",
   "execution_count": 5,
   "id": "3c6736b6-3d13-4c54-b55b-521d64990313",
   "metadata": {},
   "outputs": [
    {
     "name": "stdout",
     "output_type": "stream",
     "text": [
      "2\n"
     ]
    }
   ],
   "source": [
    "str1='hai how are you'\n",
    "count=0\n",
    "for i in str1:\n",
    "    if i=='a':\n",
    "        count=count+1\n",
    "print(count)"
   ]
  },
  {
   "cell_type": "code",
   "execution_count": 3,
   "id": "efd9d053-8ec8-428b-b2bb-a143f81f4d1b",
   "metadata": {},
   "outputs": [
    {
     "data": {
      "text/plain": [
       "2"
      ]
     },
     "execution_count": 3,
     "metadata": {},
     "output_type": "execute_result"
    }
   ],
   "source": [
    "str1.count('a')"
   ]
  },
  {
   "cell_type": "code",
   "execution_count": 9,
   "id": "d6aab0e9-c2f9-46d8-b510-20dd70417e80",
   "metadata": {},
   "outputs": [
    {
     "data": {
      "text/plain": [
       "3"
      ]
     },
     "execution_count": 9,
     "metadata": {},
     "output_type": "execute_result"
    }
   ],
   "source": [
    "str1='hai hai hai'\n",
    "str1.count('a')"
   ]
  },
  {
   "cell_type": "markdown",
   "id": "ccc50308-f990-4d15-8eb4-e65b019d0bf1",
   "metadata": {},
   "source": [
    "- we want a from a specific index\n",
    "- we want number of a between two indexes"
   ]
  },
  {
   "cell_type": "code",
   "execution_count": 10,
   "id": "ce7902d8-b0b9-4d6b-b274-5ef513d0e2c1",
   "metadata": {},
   "outputs": [
    {
     "data": {
      "text/plain": [
       "2"
      ]
     },
     "execution_count": 10,
     "metadata": {},
     "output_type": "execute_result"
    }
   ],
   "source": [
    "# h  a  i     h  a  i     h  a  i\n",
    "# 0  1  2  3  4  5  6  7  8  9  10\n",
    "str1.count('a')\n",
    "str1.count('a',5)"
   ]
  },
  {
   "cell_type": "code",
   "execution_count": 19,
   "id": "cbd3ee2e-db94-4d28-86a4-07024336cb9c",
   "metadata": {},
   "outputs": [
    {
     "data": {
      "text/plain": [
       "3"
      ]
     },
     "execution_count": 19,
     "metadata": {},
     "output_type": "execute_result"
    }
   ],
   "source": [
    "str1.count('a')\n",
    "str1.count('a',1)"
   ]
  },
  {
   "cell_type": "code",
   "execution_count": 20,
   "id": "cfc6abb6-bae7-42ee-b14a-35ede5d4a378",
   "metadata": {},
   "outputs": [
    {
     "data": {
      "text/plain": [
       "1"
      ]
     },
     "execution_count": 20,
     "metadata": {},
     "output_type": "execute_result"
    }
   ],
   "source": [
    "# h  a  i     h  a  i     h  a  i\n",
    "# 0  1  2  3  4  5  6  7  8  9  10\n",
    "str1.count('a')\n",
    "str1.count('a',5)\n",
    "str1.count('a',4,8) # we are searching number of 'a' from index=4 to index=8"
   ]
  },
  {
   "cell_type": "code",
   "execution_count": 23,
   "id": "d9592fa9-3816-488a-99a0-286b25f24105",
   "metadata": {},
   "outputs": [
    {
     "data": {
      "text/plain": [
       "1"
      ]
     },
     "execution_count": 23,
     "metadata": {},
     "output_type": "execute_result"
    }
   ],
   "source": [
    "str1.count('a',-5,-1)"
   ]
  },
  {
   "cell_type": "code",
   "execution_count": 24,
   "id": "81994344-be3e-4f70-bb10-1ddfdc68ab5c",
   "metadata": {},
   "outputs": [
    {
     "data": {
      "text/plain": [
       "3"
      ]
     },
     "execution_count": 24,
     "metadata": {},
     "output_type": "execute_result"
    }
   ],
   "source": [
    "str1='ola ola ola'\n",
    "str1.count('ola')      # In the interviews he will ask without using methods\n",
    "                       # after getting job we need to use methods"
   ]
  },
  {
   "cell_type": "code",
   "execution_count": 33,
   "id": "c0ab5fa7-9d5e-47c6-abd6-74f9f0f4cfb2",
   "metadata": {},
   "outputs": [
    {
     "name": "stdout",
     "output_type": "stream",
     "text": [
      "0\n"
     ]
    }
   ],
   "source": [
    "count=0\n",
    "str1='ola ola ola'\n",
    "for i in str1:\n",
    "    if i=='ola':\n",
    "        count=count+1\n",
    "print(count)"
   ]
  },
  {
   "cell_type": "markdown",
   "id": "0dddb998-d29b-4596-8f73-aea8f20588ea",
   "metadata": {},
   "source": [
    "**Window method**"
   ]
  },
  {
   "cell_type": "code",
   "execution_count": 36,
   "id": "020f77c4-671b-4573-a216-ff7f98d917d3",
   "metadata": {},
   "outputs": [
    {
     "name": "stdout",
     "output_type": "stream",
     "text": [
      "4\n"
     ]
    }
   ],
   "source": [
    "str1='ola ola ola ola'\n",
    "count=0\n",
    "for i in range(len(str1)):\n",
    "    if str1[i:i+3]=='ola':\n",
    "        count=count+1\n",
    "print(count)\n",
    "\n",
    "# step-1: count=0   i=0   str1[0:3]=='ola'   True   count=1\n",
    "# step-2:           i=1   str1[1:4]"
   ]
  },
  {
   "cell_type": "code",
   "execution_count": 43,
   "id": "9b9b6c81-7595-48ce-a7d5-104e43e0f7e3",
   "metadata": {},
   "outputs": [
    {
     "data": {
      "text/plain": [
       "1"
      ]
     },
     "execution_count": 43,
     "metadata": {},
     "output_type": "execute_result"
    }
   ],
   "source": [
    "str1='ola ola ola'\n",
    "str1.count('ola ola')"
   ]
  },
  {
   "cell_type": "code",
   "execution_count": 44,
   "id": "0f7341eb-4fa7-4101-9a19-0c1c66074219",
   "metadata": {},
   "outputs": [
    {
     "data": {
      "text/plain": [
       "0"
      ]
     },
     "execution_count": 44,
     "metadata": {},
     "output_type": "execute_result"
    }
   ],
   "source": [
    "str1.count('z')"
   ]
  },
  {
   "cell_type": "markdown",
   "id": "bdb9d03f-a5df-4601-8215-dd14b192a497",
   "metadata": {},
   "source": [
    "**Replace**"
   ]
  },
  {
   "cell_type": "code",
   "execution_count": 47,
   "id": "aa8de644-c659-4a55-804a-74d798115b54",
   "metadata": {},
   "outputs": [
    {
     "data": {
      "text/plain": [
       "'weLcome'"
      ]
     },
     "execution_count": 47,
     "metadata": {},
     "output_type": "execute_result"
    }
   ],
   "source": [
    "str1='welcome'\n",
    "# I want to replace 'l' with 'L'\n",
    "s1=str1[0:2]\n",
    "s2=str1[3:]\n",
    "s1+'L'+s2"
   ]
  },
  {
   "cell_type": "code",
   "execution_count": 46,
   "id": "732afd91-ca2d-46ea-affa-939a8087a485",
   "metadata": {},
   "outputs": [],
   "source": [
    "# we know that strings are immutable\n",
    "# we cannot use index operations alse\n",
    "# slice and concatination\n",
    "# Divide welcome:   we    come\n",
    "#s1='we'\n",
    "#s2='come'\n",
    "#print(s1+'L'+s2)\n",
    "\n"
   ]
  },
  {
   "cell_type": "code",
   "execution_count": 48,
   "id": "08aef0bc-50da-47d0-864b-485d9a5f3f8a",
   "metadata": {},
   "outputs": [
    {
     "data": {
      "text/plain": [
       "'L'"
      ]
     },
     "execution_count": 48,
     "metadata": {},
     "output_type": "execute_result"
    }
   ],
   "source": [
    "chr(ord('l')-32)"
   ]
  },
  {
   "cell_type": "code",
   "execution_count": 49,
   "id": "e40ff7d2-fb80-4019-8b63-dcd7fc10ef1a",
   "metadata": {},
   "outputs": [
    {
     "data": {
      "text/plain": [
       "'weLcome'"
      ]
     },
     "execution_count": 49,
     "metadata": {},
     "output_type": "execute_result"
    }
   ],
   "source": [
    "str1='welcome'\n",
    "str1.replace('l','L')"
   ]
  },
  {
   "cell_type": "code",
   "execution_count": 55,
   "id": "7f022afa-e03d-4a8c-a462-a6a9b941712d",
   "metadata": {},
   "outputs": [
    {
     "data": {
      "text/plain": [
       "'weLlcome'"
      ]
     },
     "execution_count": 55,
     "metadata": {},
     "output_type": "execute_result"
    }
   ],
   "source": [
    "str1='wellcome'\n",
    "str1.replace('l','L',1)"
   ]
  },
  {
   "cell_type": "markdown",
   "id": "dc047deb-f609-4796-a7bb-2688e43489ec",
   "metadata": {},
   "source": [
    "- By default replace will change all the occurences \n",
    "- Count=-1 is responsible for that \n",
    "- Which means we can provide some count also, which how many I want to change\n",
    "- Give welllcome and change count=1 and count=2 explore "
   ]
  },
  {
   "cell_type": "code",
   "execution_count": 56,
   "id": "6a999663-07ba-4c26-93e0-c5126b3b1130",
   "metadata": {},
   "outputs": [
    {
     "data": {
      "text/plain": [
       "'weLllcome'"
      ]
     },
     "execution_count": 56,
     "metadata": {},
     "output_type": "execute_result"
    }
   ],
   "source": [
    "str1='welllcome'\n",
    "str1.replace('l','L',1)\n",
    "\n",
    "# when we write count=1\n",
    "# It will change only one letter \n",
    "# that to first occurence only\n"
   ]
  },
  {
   "cell_type": "code",
   "execution_count": 57,
   "id": "4770e437-fd33-4b7e-b48a-c4fc47556385",
   "metadata": {},
   "outputs": [
    {
     "data": {
      "text/plain": [
       "'weLLlcome'"
      ]
     },
     "execution_count": 57,
     "metadata": {},
     "output_type": "execute_result"
    }
   ],
   "source": [
    "str1='welllcome'\n",
    "str1.replace('l','L',2)"
   ]
  },
  {
   "cell_type": "code",
   "execution_count": 78,
   "id": "22cca6b3-2fc6-4bae-985d-d96154cc9a6a",
   "metadata": {},
   "outputs": [
    {
     "data": {
      "text/plain": [
       "'resta$t'"
      ]
     },
     "execution_count": 78,
     "metadata": {},
     "output_type": "execute_result"
    }
   ],
   "source": [
    "str1='restart'\n",
    "s1=str1[:1]\n",
    "s2=str1[1:]\n",
    "s3=s2.replace('r','$')\n",
    "s1+s3"
   ]
  },
  {
   "cell_type": "code",
   "execution_count": 79,
   "id": "d7b418ea-44e9-49ff-beba-766a7584717d",
   "metadata": {},
   "outputs": [
    {
     "data": {
      "text/plain": [
       "'resta$t'"
      ]
     },
     "execution_count": 79,
     "metadata": {},
     "output_type": "execute_result"
    }
   ],
   "source": [
    "str1='restart'\n",
    "str1[::-1].replace('r','$',1)[::-1]"
   ]
  },
  {
   "cell_type": "markdown",
   "id": "3e790200-ef0b-473f-b2b3-7428784cbd55",
   "metadata": {},
   "source": [
    "**Index and Find method**"
   ]
  },
  {
   "cell_type": "code",
   "execution_count": 80,
   "id": "8f76c30e-b881-40b6-b6ae-d8457ae0bfba",
   "metadata": {},
   "outputs": [
    {
     "data": {
      "text/plain": [
       "['__add__',\n",
       " '__class__',\n",
       " '__contains__',\n",
       " '__delattr__',\n",
       " '__dir__',\n",
       " '__doc__',\n",
       " '__eq__',\n",
       " '__format__',\n",
       " '__ge__',\n",
       " '__getattribute__',\n",
       " '__getitem__',\n",
       " '__getnewargs__',\n",
       " '__getstate__',\n",
       " '__gt__',\n",
       " '__hash__',\n",
       " '__init__',\n",
       " '__init_subclass__',\n",
       " '__iter__',\n",
       " '__le__',\n",
       " '__len__',\n",
       " '__lt__',\n",
       " '__mod__',\n",
       " '__mul__',\n",
       " '__ne__',\n",
       " '__new__',\n",
       " '__reduce__',\n",
       " '__reduce_ex__',\n",
       " '__repr__',\n",
       " '__rmod__',\n",
       " '__rmul__',\n",
       " '__setattr__',\n",
       " '__sizeof__',\n",
       " '__str__',\n",
       " '__subclasshook__',\n",
       " 'capitalize',\n",
       " 'casefold',\n",
       " 'center',\n",
       " 'count',\n",
       " 'encode',\n",
       " 'endswith',\n",
       " 'expandtabs',\n",
       " 'find',\n",
       " 'format',\n",
       " 'format_map',\n",
       " 'index',\n",
       " 'isalnum',\n",
       " 'isalpha',\n",
       " 'isascii',\n",
       " 'isdecimal',\n",
       " 'isdigit',\n",
       " 'isidentifier',\n",
       " 'islower',\n",
       " 'isnumeric',\n",
       " 'isprintable',\n",
       " 'isspace',\n",
       " 'istitle',\n",
       " 'isupper',\n",
       " 'join',\n",
       " 'ljust',\n",
       " 'lower',\n",
       " 'lstrip',\n",
       " 'maketrans',\n",
       " 'partition',\n",
       " 'removeprefix',\n",
       " 'removesuffix',\n",
       " 'replace',\n",
       " 'rfind',\n",
       " 'rindex',\n",
       " 'rjust',\n",
       " 'rpartition',\n",
       " 'rsplit',\n",
       " 'rstrip',\n",
       " 'split',\n",
       " 'splitlines',\n",
       " 'startswith',\n",
       " 'strip',\n",
       " 'swapcase',\n",
       " 'title',\n",
       " 'translate',\n",
       " 'upper',\n",
       " 'zfill']"
      ]
     },
     "execution_count": 80,
     "metadata": {},
     "output_type": "execute_result"
    }
   ],
   "source": [
    "dir(str)"
   ]
  },
  {
   "cell_type": "code",
   "execution_count": null,
   "id": "a19c52a9-f7c4-4cbb-8c5c-461fe62e327d",
   "metadata": {},
   "outputs": [],
   "source": [
    "'isalnum',\n",
    "'isalpha',\n",
    "'isascii',\n",
    "'isdecimal',\n",
    "'isdigit',\n",
    "'isidentifier',\n",
    "'islower',\n",
    "'isnumeric',\n",
    "'isprintable',\n",
    "'isspace',\n",
    "'istitle',\n",
    "'isupper',"
   ]
  },
  {
   "cell_type": "markdown",
   "id": "420fa988-88ef-4daa-a4f1-c2fd99e69954",
   "metadata": {},
   "source": [
    "**Index**\n",
    "\n",
    "- Index says that it will give the index of any letter in a given string \n",
    "- We already seen about count: count will give how many letters are there in a string\n",
    "    - at what index you want to count \n",
    "    - between indexes also we an count the letters \n",
    "- Index meaning it will provide the index\n",
    "- Imagine that there same letters repeated \n",
    "- How can we find the next index"
   ]
  },
  {
   "cell_type": "code",
   "execution_count": 6,
   "id": "2380f235-d4b2-4a0f-800c-0f6df5544126",
   "metadata": {},
   "outputs": [
    {
     "data": {
      "text/plain": [
       "1"
      ]
     },
     "execution_count": 6,
     "metadata": {},
     "output_type": "execute_result"
    }
   ],
   "source": [
    "# h  a  i     h  a  i     h  a  i\n",
    "# 0  1  2  3  4  5  6  7  8  9  10\n",
    "str1='hai hai hai'\n",
    "str1.index('a')     # among all the indexes the lowest index is '1'\n",
    "# Return the lowest index in s where substring sub is found"
   ]
  },
  {
   "cell_type": "code",
   "execution_count": 5,
   "id": "17b1deab-3ba2-4e08-b5e7-fdbab074c9ce",
   "metadata": {},
   "outputs": [
    {
     "data": {
      "text/plain": [
       "5"
      ]
     },
     "execution_count": 5,
     "metadata": {},
     "output_type": "execute_result"
    }
   ],
   "source": [
    "# I want to know next 'a' index after 3rd index\n",
    "# h  a  i     h  a  i     h  a  i\n",
    "# 0  1  2  3  4  5  6  7  8  9  10\n",
    "str1='hai hai hai'\n",
    "str1.index('a',3)        # after 3rd index the lowest index of a is '5'"
   ]
  },
  {
   "cell_type": "code",
   "execution_count": 4,
   "id": "549463cb-f5d0-4951-9663-411d4f512e94",
   "metadata": {},
   "outputs": [
    {
     "data": {
      "text/plain": [
       "5"
      ]
     },
     "execution_count": 4,
     "metadata": {},
     "output_type": "execute_result"
    }
   ],
   "source": [
    "# h  a  i     h  a  i     h  a  i\n",
    "# 0  1  2  3  4  5  6  7  8  9  10\n",
    "\n",
    "str1='hai hai hai'\n",
    "str1.index('a',3,7)        # Between 3-7 index the lowest index is 5 only"
   ]
  },
  {
   "cell_type": "code",
   "execution_count": 13,
   "id": "6700a1b3-a8bf-4169-9f52-ecd59ab33161",
   "metadata": {},
   "outputs": [
    {
     "data": {
      "text/plain": [
       "2"
      ]
     },
     "execution_count": 13,
     "metadata": {},
     "output_type": "execute_result"
    }
   ],
   "source": [
    "# h  a  i     h  a  i     h  a  i\n",
    "# 0  1  2  3  4  5  6  7  8  9  10\n",
    "str1='hai hai hai'\n",
    "str1.index('i',-9,-6)"
   ]
  },
  {
   "cell_type": "code",
   "execution_count": 20,
   "id": "c50b69fa-99fb-4f08-ab69-dee2399ce63b",
   "metadata": {},
   "outputs": [
    {
     "name": "stdout",
     "output_type": "stream",
     "text": [
      "3\n",
      "2\n",
      "1\n"
     ]
    }
   ],
   "source": [
    "# h  a  i     h  a  i     h  a  i\n",
    "# 0  1  2  3  4  5  6  7  8  9  10\n",
    "str1='hai hai hai'\n",
    "print(str1.count('a'))\n",
    "print(str1.count('a',3))\n",
    "print(str1.count('a',3,7))"
   ]
  },
  {
   "cell_type": "code",
   "execution_count": 28,
   "id": "ddd7c1c2-351d-4afd-a2fd-34f9d3cf2b39",
   "metadata": {},
   "outputs": [
    {
     "name": "stdout",
     "output_type": "stream",
     "text": [
      "1\n",
      "5\n",
      "5\n"
     ]
    }
   ],
   "source": [
    "# h  a  i     h  a  i     h  a  i\n",
    "# 0  1  2  3  4  5  6  7  8  9  10\n",
    "str1='hai hai hai'\n",
    "print(str1.index('a'))\n",
    "print(str1.index('a',3))\n",
    "print(str1.index('a',3,7))"
   ]
  },
  {
   "cell_type": "code",
   "execution_count": 29,
   "id": "3c407c12-1a5f-45e6-8b7c-987c1544f4c7",
   "metadata": {},
   "outputs": [
    {
     "name": "stdout",
     "output_type": "stream",
     "text": [
      "1\n",
      "5\n",
      "9\n"
     ]
    }
   ],
   "source": [
    "srt1='hai hai hai'\n",
    "# I want to know all the indexes of 'a'\n",
    "for i in range(len(str1)):\n",
    "    if str1[i]=='a':\n",
    "        print(i)"
   ]
  },
  {
   "cell_type": "code",
   "execution_count": 52,
   "id": "469c9983-c98e-4fd4-b024-b352ed45e1f5",
   "metadata": {},
   "outputs": [
    {
     "name": "stdout",
     "output_type": "stream",
     "text": [
      "1\n",
      "5\n",
      "9\n",
      "13\n"
     ]
    }
   ],
   "source": [
    "# h  a  i     h  a  i     h  a  i\n",
    "# 0  1  2  3  4  5  6  7  8  9  10\n",
    "str1='hai hai hai hai'\n",
    "i1=str1.index('a')\n",
    "print(i1)\n",
    "i2=str1.index('a',i1+1)\n",
    "print(i2)\n",
    "i3=str1.index('a',i2+1)\n",
    "print(i3)\n",
    "i4=str1.index('a',i3+1)\n",
    "print(i4)"
   ]
  },
  {
   "cell_type": "code",
   "execution_count": 44,
   "id": "504bc44c-49ad-421b-917a-d65ddabcefef",
   "metadata": {},
   "outputs": [
    {
     "name": "stdout",
     "output_type": "stream",
     "text": [
      "Substring \"hai\" found at index: 0\n",
      "Substring \"hai\" found at index: 4\n",
      "Substring \"hai\" found at index: 8\n"
     ]
    }
   ],
   "source": [
    "# Home work implement above logic to get all the indexes\n",
    "str1='hai hai hai'\n",
    "substring = 'hai'\n",
    "index = -1\n",
    "\n",
    "while True:\n",
    "    index = str1.find(substring, index + 1)\n",
    "    if index == -1:\n",
    "        break\n",
    "    print(f'Substring \"{substring}\" found at index: {index}')"
   ]
  },
  {
   "cell_type": "markdown",
   "id": "4d19ae5e-fc75-4df3-bf65-05b05042e1a7",
   "metadata": {},
   "source": [
    "**Find**"
   ]
  },
  {
   "cell_type": "code",
   "execution_count": 42,
   "id": "46d2d206-05c2-42a7-a6cd-575306464305",
   "metadata": {},
   "outputs": [
    {
     "data": {
      "text/plain": [
       "1"
      ]
     },
     "execution_count": 42,
     "metadata": {},
     "output_type": "execute_result"
    }
   ],
   "source": [
    "str1='hai hai hai'\n",
    "str1.find('a')"
   ]
  },
  {
   "cell_type": "code",
   "execution_count": 51,
   "id": "b6f1fd0a-cf0d-4a64-8f06-98aa43777c6d",
   "metadata": {},
   "outputs": [
    {
     "name": "stdout",
     "output_type": "stream",
     "text": [
      "1\n",
      "5\n",
      "5\n"
     ]
    }
   ],
   "source": [
    "# h  a  i     h  a  i     h  a  i\n",
    "# 0  1  2  3  4  5  6  7  8  9  10\n",
    "str1='hai hai hai'\n",
    "print(str1.find('a'))\n",
    "print(str1.find('a',3))\n",
    "print(str1.find('a',4))"
   ]
  },
  {
   "cell_type": "code",
   "execution_count": 54,
   "id": "69e90648-cf7b-4a32-8840-29ebc52a736d",
   "metadata": {},
   "outputs": [
    {
     "name": "stdout",
     "output_type": "stream",
     "text": [
      "1\n",
      "5\n",
      "9\n",
      "13\n",
      "-1\n"
     ]
    }
   ],
   "source": [
    "# h  a  i     h  a  i     h  a  i\n",
    "# 0  1  2  3  4  5  6  7  8  9  10\n",
    "str1='hai hai hai hai'\n",
    "i1=str1.find('a')\n",
    "print(i1)\n",
    "i2=str1.find('a',i1+1)\n",
    "print(i2)\n",
    "i3=str1.find('a',i2+1)\n",
    "print(i3)\n",
    "i4=str1.find('a',i3+1)\n",
    "print(i4)\n",
    "i5=str1.find('a',i4+1)\n",
    "print(i5)"
   ]
  },
  {
   "cell_type": "code",
   "execution_count": 55,
   "id": "00333eb5-85c5-40bb-bac5-f33afb965c7c",
   "metadata": {},
   "outputs": [
    {
     "data": {
      "text/plain": [
       "'hai hai hai hai'"
      ]
     },
     "execution_count": 55,
     "metadata": {},
     "output_type": "execute_result"
    }
   ],
   "source": [
    "str1='hai hai hai hai'\n",
    "str1.replace('z','Z')"
   ]
  },
  {
   "cell_type": "markdown",
   "id": "b731267d-8aaf-493e-bea2-f9eddfecea17",
   "metadata": {},
   "source": [
    "- If substring not found\n",
    "- count method will give zero\n",
    "- Replace method will give original string \n",
    "- Index will give **substring not found error**\n",
    "- Find will give **-1**"
   ]
  },
  {
   "cell_type": "code",
   "execution_count": 62,
   "id": "23a926bd-beca-43a5-adc9-bb12f45416ad",
   "metadata": {},
   "outputs": [
    {
     "name": "stdin",
     "output_type": "stream",
     "text": [
      "enter the email id allu.arjun@pushpa.com\n"
     ]
    },
    {
     "name": "stdout",
     "output_type": "stream",
     "text": [
      "First Name: allu\n",
      "Last Name: arjun@pushpa\n",
      "Company Name: pushpa\n"
     ]
    }
   ],
   "source": [
    "str1=input('enter the email id')\n",
    "# first name = omkar\n",
    "# second name = nallagoni \n",
    "# company name = cognizant\n",
    "# Idea: find the triggers\n",
    "# For first name .\n",
    "# second name    . and @\n",
    "# company name    @ and second\n",
    "\n",
    "i1 = str1.index('.')\n",
    "i2 = str1.index('.', i1 + 1)\n",
    "i3 = str1.index('@')\n",
    "\n",
    "\n",
    "first_name = str1[:i1]\n",
    "last_name = str1[i1 + 1:i2]\n",
    "company_name = str1[i3 + 1:str1.index('.',i3)]\n",
    "\n",
    "\n",
    "print(\"First Name:\", first_name)\n",
    "print(\"Last Name:\", last_name)\n",
    "print(\"Company Name:\", company_name)"
   ]
  },
  {
   "cell_type": "markdown",
   "id": "90682836-f4a1-473c-be14-655fdedb1e93",
   "metadata": {},
   "source": [
    "- Upper/Lower/Casefold\n",
    "- Capitalie/Title\n",
    "- Center\n",
    "- Count\n",
    "- Replace\n",
    "- Index/find\n",
    "- Starts with is "
   ]
  },
  {
   "cell_type": "markdown",
   "id": "55196d45-a8b1-4658-b3d3-655c4f47c3f2",
   "metadata": {},
   "source": [
    "- Split\n",
    "- strip/lstrip/rstrip\n",
    "- startswith/endswith"
   ]
  },
  {
   "cell_type": "code",
   "execution_count": 70,
   "id": "3ee4459a-0c6e-4dc9-a6ac-6a6bd0faa876",
   "metadata": {},
   "outputs": [
    {
     "data": {
      "text/plain": [
       "['', 'ai hai hai hai']"
      ]
     },
     "execution_count": 70,
     "metadata": {},
     "output_type": "execute_result"
    }
   ],
   "source": [
    "str1='hai hai hai hai'\n",
    "str1.split('h',1)"
   ]
  },
  {
   "cell_type": "code",
   "execution_count": null,
   "id": "90560dcd-f1be-41ef-827a-366ab30e5bed",
   "metadata": {},
   "outputs": [],
   "source": []
  }
 ],
 "metadata": {
  "kernelspec": {
   "display_name": "Python 3 (ipykernel)",
   "language": "python",
   "name": "python3"
  },
  "language_info": {
   "codemirror_mode": {
    "name": "ipython",
    "version": 3
   },
   "file_extension": ".py",
   "mimetype": "text/x-python",
   "name": "python",
   "nbconvert_exporter": "python",
   "pygments_lexer": "ipython3",
   "version": "3.11.7"
  }
 },
 "nbformat": 4,
 "nbformat_minor": 5
}

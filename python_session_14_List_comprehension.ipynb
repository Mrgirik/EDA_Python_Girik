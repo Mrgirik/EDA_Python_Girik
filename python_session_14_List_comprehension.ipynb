{
 "cells": [
  {
   "cell_type": "markdown",
   "id": "e17b2011-bf6a-44fe-b967-d46cb7a932fa",
   "metadata": {},
   "source": [
    "# List comprehension"
   ]
  },
  {
   "cell_type": "markdown",
   "id": "19940c34-e693-4f91-8355-d1cabe713e28",
   "metadata": {},
   "source": [
    "- we can store the output values by using append operations\n",
    "- we are taking empty list\n",
    "- we are iterating through elements from a given list\n",
    "- the result we are appending in a new list"
   ]
  },
  {
   "cell_type": "code",
   "execution_count": 1,
   "id": "dd3a8c90-239e-4285-8faa-2f19e1019080",
   "metadata": {},
   "outputs": [
    {
     "data": {
      "text/plain": [
       "[0, 1, 4, 9, 16, 25, 36, 49, 64, 81]"
      ]
     },
     "execution_count": 1,
     "metadata": {},
     "output_type": "execute_result"
    }
   ],
   "source": [
    "square_list=[]\n",
    "for i in range(10):\n",
    "    square_list.append(i*i)\n",
    "square_list"
   ]
  },
  {
   "cell_type": "markdown",
   "id": "8639e429-85a1-4836-854a-80ee17ca9a47",
   "metadata": {},
   "source": [
    "- There are almost 3 lines are there in the process\n",
    "- The three lines we can make into a single line\n",
    "- This is called as LIST COMPREHENTION"
   ]
  },
  {
   "cell_type": "markdown",
   "id": "36ccf4b4-eebb-43c8-af38-b38c7d5ff7bc",
   "metadata": {},
   "source": [
    "$Pattern-1$\n",
    "\n",
    "**Only for loop**"
   ]
  },
  {
   "cell_type": "code",
   "execution_count": 2,
   "id": "37a291fe-29af-4d91-ab26-cc027c43c966",
   "metadata": {},
   "outputs": [],
   "source": [
    "# syntax\n",
    "# [<output>  <for loop>]"
   ]
  },
  {
   "cell_type": "code",
   "execution_count": 6,
   "id": "c5b0d05f-995e-47f1-9f11-7b98e4018d28",
   "metadata": {},
   "outputs": [
    {
     "data": {
      "text/plain": [
       "[0, 1, 4, 9, 16, 25, 36, 49, 64, 81]"
      ]
     },
     "execution_count": 6,
     "metadata": {},
     "output_type": "execute_result"
    }
   ],
   "source": [
    "sq_list=[i*i for i in range(10)]\n",
    "sq_list"
   ]
  },
  {
   "cell_type": "code",
   "execution_count": 7,
   "id": "a8e7c734-5c10-4f3b-a6af-3d24ecc03217",
   "metadata": {},
   "outputs": [
    {
     "data": {
      "text/plain": [
       "[0, 1, 4, 9, 16, 25, 36, 49, 64, 81]"
      ]
     },
     "execution_count": 7,
     "metadata": {},
     "output_type": "execute_result"
    }
   ],
   "source": [
    "# Q1)\n",
    "square_list=[]\n",
    "for i in range(10):\n",
    "    square_list.append(i*i)\n",
    "square_list\n",
    "\n",
    "# Q1)  What is the output  ?  i*i\n",
    "# Q2)  What is the output list name?  square_list\n",
    "# Q3)  What is the for loop?   for i in range(10)\n",
    "# [<output>  <for loop>]\n",
    "sq_list=[i*i for i in range(10)]\n",
    "sq_list"
   ]
  },
  {
   "cell_type": "code",
   "execution_count": 8,
   "id": "b89a4b96-054d-4393-ba6a-03e0566f8ef1",
   "metadata": {},
   "outputs": [
    {
     "data": {
      "text/plain": [
       "['HYD', 'MUMBAI', 'CHENNAI', 'BLR']"
      ]
     },
     "execution_count": 8,
     "metadata": {},
     "output_type": "execute_result"
    }
   ],
   "source": [
    "# Q2) l1=['hyd','mumbai','chennai','blr']\n",
    "# upper_list= ['Hyd','Mumbai','Chennai','Blr']\n",
    "upper_list=[]\n",
    "l1=['hyd','mumbai','chennai','blr']\n",
    "for i in l1:\n",
    "    upper_list.append(i.upper())\n",
    "upper_list"
   ]
  },
  {
   "cell_type": "code",
   "execution_count": 9,
   "id": "af253391-da5d-4ed9-a526-6516e2a0208e",
   "metadata": {},
   "outputs": [
    {
     "data": {
      "text/plain": [
       "['HYD', 'MUMBAI', 'CHENNAI', 'BLR']"
      ]
     },
     "execution_count": 9,
     "metadata": {},
     "output_type": "execute_result"
    }
   ],
   "source": [
    "[i.upper() for i in l1]"
   ]
  },
  {
   "cell_type": "code",
   "execution_count": 10,
   "id": "e9ea5e51-ded1-4a0a-8e8c-c501645c934c",
   "metadata": {},
   "outputs": [
    {
     "data": {
      "text/plain": [
       "['hyd', 'mumbai', 'chennai', 'blr']"
      ]
     },
     "execution_count": 10,
     "metadata": {},
     "output_type": "execute_result"
    }
   ],
   "source": [
    "[i.lower() for i in l1]"
   ]
  },
  {
   "cell_type": "code",
   "execution_count": 11,
   "id": "63e303dd-aab8-4791-bb7e-617ba40c696a",
   "metadata": {},
   "outputs": [
    {
     "data": {
      "text/plain": [
       "['hyd', 'mumbai', 'chennai', 'blr']"
      ]
     },
     "execution_count": 11,
     "metadata": {},
     "output_type": "execute_result"
    }
   ],
   "source": [
    "# Q3) l2=['Hyd','Mumbai','Chennai','Blr']\n",
    "# upper_list= ['hyd','mumbai','chennai','blr']\n",
    "l2=['hyd','mumbai','chennai','blr']\n",
    "[i.lower() for i in l2]"
   ]
  },
  {
   "cell_type": "code",
   "execution_count": 24,
   "id": "ad72ab9c-f38c-4285-95ef-fdb684f88a62",
   "metadata": {},
   "outputs": [
    {
     "data": {
      "text/plain": [
       "[0, 1, 2, 3]"
      ]
     },
     "execution_count": 24,
     "metadata": {},
     "output_type": "execute_result"
    }
   ],
   "source": [
    "# Q4) l3=['Hyd','Mumbai','Chennai','Blr']\n",
    "# sum of the indexes of all elements\n",
    "l3=['Hyd','Mumbai','Chennai','Blr']\n",
    "idx_list=[l3.index(i) for i in l3]\n",
    "idx_list"
   ]
  },
  {
   "cell_type": "code",
   "execution_count": 26,
   "id": "ab67fcdd-0ce3-4b8e-8d48-3c9d2758afa3",
   "metadata": {},
   "outputs": [
    {
     "data": {
      "text/plain": [
       "6"
      ]
     },
     "execution_count": 26,
     "metadata": {},
     "output_type": "execute_result"
    }
   ],
   "source": [
    "idx_list=[l3.index(i) for i in l3]\n",
    "sum(idx_list)"
   ]
  },
  {
   "cell_type": "markdown",
   "id": "8d9b81f6-a958-4801-b16d-1050c8296b34",
   "metadata": {},
   "source": [
    "- making empty list will not works in list comprehension\n",
    "- initializations will not works in list comprehension\n",
    "- assignement operations also not works"
   ]
  },
  {
   "cell_type": "markdown",
   "id": "6797d499-2a9f-4806-bce3-789e7f0dcd3e",
   "metadata": {},
   "source": [
    "$Pattern-2$\n",
    "\n",
    "**For loop - if condition**"
   ]
  },
  {
   "cell_type": "code",
   "execution_count": null,
   "id": "7432bd05-e1ef-48b7-8595-45f31723270c",
   "metadata": {},
   "outputs": [],
   "source": [
    "# syntax\n",
    "# [<output> <for loop> <if condition>]"
   ]
  },
  {
   "cell_type": "code",
   "execution_count": 27,
   "id": "4b40f874-a253-4439-92bb-3cc2f9003dfc",
   "metadata": {},
   "outputs": [
    {
     "name": "stdout",
     "output_type": "stream",
     "text": [
      "Mumbai\n",
      "Chennai\n"
     ]
    }
   ],
   "source": [
    "# Q5) l5=['Hyd','Mumbai','Chennai','Blr']\n",
    "#  ans= ['Mumbai','chennai']\n",
    "#  we want elements which are len of elements >4\n",
    "\n",
    "l5=['Hyd','Mumbai','Chennai','Blr']\n",
    "for i in l5:\n",
    "    if len(i)>4:\n",
    "        print(i)"
   ]
  },
  {
   "cell_type": "code",
   "execution_count": 28,
   "id": "8720b6f6-dd88-44b4-a222-2b0769cdebfe",
   "metadata": {},
   "outputs": [
    {
     "data": {
      "text/plain": [
       "['Mumbai', 'Chennai']"
      ]
     },
     "execution_count": 28,
     "metadata": {},
     "output_type": "execute_result"
    }
   ],
   "source": [
    "[i for i in l5 if len(i)>4]"
   ]
  },
  {
   "cell_type": "code",
   "execution_count": 1,
   "id": "5b9479fa-8c41-4c53-9151-1954d036072a",
   "metadata": {},
   "outputs": [
    {
     "data": {
      "text/plain": [
       "['Mum#bai', 'Chen#nai']"
      ]
     },
     "execution_count": 1,
     "metadata": {},
     "output_type": "execute_result"
    }
   ],
   "source": [
    "# Q6)l6=['Hyd','Mum#bai','Chen#nai','blr']\n",
    "#  ans=['Mum#bai'',Chen#nai']  \n",
    "#  we want lements which are having '#'\n",
    "l6=['Hyd','Mum#bai','Chen#nai','blr']\n",
    "ans=[]\n",
    "[i for i in l6 if '#' in i]"
   ]
  },
  {
   "cell_type": "code",
   "execution_count": 2,
   "id": "a392815e-86c3-4377-a627-a25cd9470444",
   "metadata": {},
   "outputs": [
    {
     "data": {
      "text/plain": [
       "['Hyd', 'Mumbai']"
      ]
     },
     "execution_count": 2,
     "metadata": {},
     "output_type": "execute_result"
    }
   ],
   "source": [
    "# Q7)l7=['Hyd','Mumbai','chennai','blr']\n",
    "#  ans= ['Hyd','Mumbai']\n",
    "#  we want lements which are having first letter capital\n",
    "ans1=[]\n",
    "l7=['Hyd','Mumbai','chennai','blr']\n",
    "op=[i for i in l7 if i[0].isupper()]\n",
    "op"
   ]
  },
  {
   "cell_type": "code",
   "execution_count": 4,
   "id": "531e2702-2b78-4e44-9dd7-c818caa42471",
   "metadata": {},
   "outputs": [
    {
     "data": {
      "text/plain": [
       "['Hyd', 'blr']"
      ]
     },
     "execution_count": 4,
     "metadata": {},
     "output_type": "execute_result"
    }
   ],
   "source": [
    "# Q8)l1=['Hyd','Mum#bai','Chen#nai','blr']\n",
    "#  ans_#=['Mum#bai'',Chen#nai']  \n",
    "#  ans_without_#=['Hyd'','blr']\n",
    "#  we want lements which are having '#'\n",
    "l8=['Hyd','Mum#bai','Chen#nai','blr']\n",
    "op_nohash=[]\n",
    "op_nohash=[i for i in l8 if '#' not in i]\n",
    "op_nohash"
   ]
  },
  {
   "cell_type": "code",
   "execution_count": 14,
   "id": "a5a4ce7f-9ac1-4b42-9573-3028f3cb38c2",
   "metadata": {},
   "outputs": [
    {
     "data": {
      "text/plain": [
       "['virat', ' Rohit', ' KL']"
      ]
     },
     "execution_count": 14,
     "metadata": {},
     "output_type": "execute_result"
    }
   ],
   "source": [
    "# Q9) str1='virat.kohli@rcb.com, Rohit.sharma@mi.co, KL.Rahul@lucknow.com'str1='virat.kohli@rcb.com, Rohit.sharma@mi.co, KL.Rahul@lucknow.com'\n",
    "\n",
    "# Firstname=[]  second name=[]  cname =[]\n",
    "# append first name should be in first name list\n",
    "#        second name shoul be in second name list\n",
    "#        thirs name will be in thirs name list\n",
    "\n",
    "str1='virat.kohli@rcb.com, Rohit.sharma@mi.co, KL.Rahul@lucknow.com'\n",
    "list1=str1.split(',')\n",
    "list1[0][:list1[0].index('.')]\n",
    "list1[1][:list1[1].index('.')]\n",
    "list1[2][:list1[2].index('.')]\n",
    "f_name=[]\n",
    "for i in list1:\n",
    "    f_name.append(i[:i.index('.')])\n",
    "f_name\n",
    "\n",
    "[i[:i.index('.')] for i in list1 ]"
   ]
  },
  {
   "cell_type": "code",
   "execution_count": 15,
   "id": "e6db6e2d-d36e-4112-8d42-72d02228188f",
   "metadata": {},
   "outputs": [
    {
     "data": {
      "text/plain": [
       "['virat', ' Rohit', ' KL']"
      ]
     },
     "execution_count": 15,
     "metadata": {},
     "output_type": "execute_result"
    }
   ],
   "source": [
    "[i[:i.index('.')] for i in list1 ]"
   ]
  },
  {
   "cell_type": "code",
   "execution_count": 20,
   "id": "8e05e689-55f0-4d95-b706-f77a7956295a",
   "metadata": {},
   "outputs": [
    {
     "data": {
      "text/plain": [
       "['.kohli', '.sharma', '.Rahul']"
      ]
     },
     "execution_count": 20,
     "metadata": {},
     "output_type": "execute_result"
    }
   ],
   "source": [
    "[i[i.index('.'):i.index('@')] for i in list1 ]"
   ]
  },
  {
   "cell_type": "code",
   "execution_count": 3,
   "id": "e8922f1a-6573-4065-9a37-10c22ec28e96",
   "metadata": {},
   "outputs": [
    {
     "name": "stdout",
     "output_type": "stream",
     "text": [
      "First name = ['virat', ' Rohit', ' KL']\n",
      "second name = ['kohli', 'sharma', 'Rahul']\n",
      "company name = ['rcb', 'mi', 'lucknow']\n"
     ]
    }
   ],
   "source": [
    "str1='virat.kohli@rcb.com, Rohit.sharma@mi.co, KL.Rahul@lucknow.com'\n",
    "list1=str1.split(',')\n",
    "first_name=[i[:i.index('.')] for i in list1]\n",
    "second_name=[i[i.index('.')+1:i.index('@')] for i in list1]\n",
    "c_name=[i[i.index('@')+1:i.index('.',i.index('.')+1)] for i in list1]\n",
    "print('First name =',first_name)\n",
    "print('second name =',second_name)\n",
    "print('company name =',c_name)"
   ]
  },
  {
   "cell_type": "markdown",
   "id": "d72fd60e-fc01-4177-b18f-67fc39e8996b",
   "metadata": {},
   "source": [
    "$Pattern-3$\n",
    "\n",
    "**if-else**"
   ]
  },
  {
   "cell_type": "code",
   "execution_count": null,
   "id": "4c26c429-09ae-4824-a03b-b74b3bc7b701",
   "metadata": {},
   "outputs": [],
   "source": [
    "[<output> <for loop>]  :  for loop\n",
    "[<output> <for loop> <if condition>] : for-if\n",
    "[<ifoutput> <if> <else> <elseoutput> <for>] : if-else\n"
   ]
  },
  {
   "cell_type": "markdown",
   "id": "6a5c902f-6641-49d4-979d-37907d7a278c",
   "metadata": {},
   "source": [
    "**Even - odd**"
   ]
  },
  {
   "cell_type": "code",
   "execution_count": 13,
   "id": "8bc7d8c6-4e39-4dcc-91b9-5c097cd18f1f",
   "metadata": {},
   "outputs": [
    {
     "data": {
      "text/plain": [
       "['odd:1',\n",
       " 'even:2',\n",
       " 'odd:3',\n",
       " 'even:4',\n",
       " 'odd:5',\n",
       " 'even:6',\n",
       " 'odd:7',\n",
       " 'even:8',\n",
       " 'odd:9',\n",
       " 'even:10',\n",
       " 'odd:11',\n",
       " 'even:12',\n",
       " 'odd:13',\n",
       " 'even:14',\n",
       " 'odd:15',\n",
       " 'even:16',\n",
       " 'odd:17',\n",
       " 'even:18',\n",
       " 'odd:19']"
      ]
     },
     "execution_count": 13,
     "metadata": {},
     "output_type": "execute_result"
    }
   ],
   "source": [
    "op_list=[]\n",
    "for i in range(1,20):\n",
    "    if i%2==0:\n",
    "        op_list.append(f'even:{i}')\n",
    "    else:\n",
    "        op_list.append(f'odd:{i}')\n",
    "op_list"
   ]
  },
  {
   "cell_type": "code",
   "execution_count": 12,
   "id": "ab2ce5bc-8af1-4fb4-9c59-fe94a153e88b",
   "metadata": {},
   "outputs": [
    {
     "data": {
      "text/plain": [
       "['odd:1',\n",
       " 'even:2',\n",
       " 'odd:3',\n",
       " 'even:4',\n",
       " 'odd:5',\n",
       " 'even:6',\n",
       " 'odd:7',\n",
       " 'even:8',\n",
       " 'odd:9',\n",
       " 'even:10',\n",
       " 'odd:11',\n",
       " 'even:12',\n",
       " 'odd:13',\n",
       " 'even:14',\n",
       " 'odd:15',\n",
       " 'even:16',\n",
       " 'odd:17',\n",
       " 'even:18',\n",
       " 'odd:19']"
      ]
     },
     "execution_count": 12,
     "metadata": {},
     "output_type": "execute_result"
    }
   ],
   "source": [
    "[f'even:{i}' if i%2==0 else f'odd:{i}' for i in range(1,20)]"
   ]
  },
  {
   "cell_type": "code",
   "execution_count": null,
   "id": "3b11ce6c-07d0-44c5-b842-fbfc7524183d",
   "metadata": {},
   "outputs": [],
   "source": []
  }
 ],
 "metadata": {
  "kernelspec": {
   "display_name": "Python 3 (ipykernel)",
   "language": "python",
   "name": "python3"
  },
  "language_info": {
   "codemirror_mode": {
    "name": "ipython",
    "version": 3
   },
   "file_extension": ".py",
   "mimetype": "text/x-python",
   "name": "python",
   "nbconvert_exporter": "python",
   "pygments_lexer": "ipython3",
   "version": "3.11.7"
  }
 },
 "nbformat": 4,
 "nbformat_minor": 5
}

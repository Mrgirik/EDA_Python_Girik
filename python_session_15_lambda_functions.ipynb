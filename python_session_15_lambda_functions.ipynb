{
 "cells": [
  {
   "cell_type": "markdown",
   "id": "6a5c42c3-c1fd-49e8-8306-44f179486266",
   "metadata": {},
   "source": [
    "# Lambda functions"
   ]
  },
  {
   "cell_type": "markdown",
   "id": "7af3a409-f71b-4f3c-8310-56a31f7715f1",
   "metadata": {},
   "source": [
    "- Lambda functions represents function concept\n",
    "- But we can write in a single line\n",
    "- like list comprehension, lamda functions similar only \n",
    "- It will decrease the time complexity \n",
    "- always remember if we use many for loops or many conditions using multiple line, the time complexity will increase"
   ]
  },
  {
   "cell_type": "markdown",
   "id": "44a69d07-241b-4d77-ae06-10060a7ee147",
   "metadata": {},
   "source": [
    "**It will use a keyword called lambda**\n",
    "    \n",
    "- lambda  (arguments : expression)"
   ]
  },
  {
   "cell_type": "code",
   "execution_count": 1,
   "id": "5bb9608f-33a5-43c2-9964-8d40ebf07bde",
   "metadata": {},
   "outputs": [
    {
     "data": {
      "text/plain": [
       "20"
      ]
     },
     "execution_count": 1,
     "metadata": {},
     "output_type": "execute_result"
    }
   ],
   "source": [
    "def summ(n):\n",
    "    return(n+10)\n",
    "summ(10)"
   ]
  },
  {
   "cell_type": "markdown",
   "id": "3f02020b-9b7e-429e-ba11-737750b6bd9c",
   "metadata": {},
   "source": [
    "$Pattern - 1$\n",
    "\n",
    "**Function with only one argument**\n",
    "\n",
    "- Function name \n",
    "- argument name \n",
    "- return output"
   ]
  },
  {
   "cell_type": "code",
   "execution_count": 5,
   "id": "55e12b4d-f752-481d-b889-471aac8393cc",
   "metadata": {},
   "outputs": [
    {
     "data": {
      "text/plain": [
       "30"
      ]
     },
     "execution_count": 5,
     "metadata": {},
     "output_type": "execute_result"
    }
   ],
   "source": [
    "# Syntax: <function name>= lambda <argument name>: <return output>\n",
    "summ=lambda n:n+10\n",
    "summ(20)"
   ]
  },
  {
   "cell_type": "code",
   "execution_count": 6,
   "id": "b5a0341d-8ff2-42b2-a57f-a4e3c0954c19",
   "metadata": {},
   "outputs": [
    {
     "data": {
      "text/plain": [
       "1000"
      ]
     },
     "execution_count": 6,
     "metadata": {},
     "output_type": "execute_result"
    }
   ],
   "source": [
    "def cube(n):\n",
    "    return(n**3)\n",
    "cube(10)"
   ]
  },
  {
   "cell_type": "code",
   "execution_count": 7,
   "id": "20471503-818e-4c50-9035-3f87c7a23700",
   "metadata": {},
   "outputs": [
    {
     "data": {
      "text/plain": [
       "1000"
      ]
     },
     "execution_count": 7,
     "metadata": {},
     "output_type": "execute_result"
    }
   ],
   "source": [
    "cube=lambda n:n**3\n",
    "cube(10)"
   ]
  },
  {
   "cell_type": "markdown",
   "id": "e14c3750-feac-4635-9947-fd799ab0f5e0",
   "metadata": {},
   "source": [
    "$Pattern-2$\n",
    "\n",
    "**Two arguments**"
   ]
  },
  {
   "cell_type": "code",
   "execution_count": 8,
   "id": "92f21ddc-ed08-49d3-abe9-efe1a0c69169",
   "metadata": {},
   "outputs": [
    {
     "data": {
      "text/plain": [
       "30"
      ]
     },
     "execution_count": 8,
     "metadata": {},
     "output_type": "execute_result"
    }
   ],
   "source": [
    "# syntax: <function name>=lambda <arg1>,<arg2> : <return output>\n",
    "add=lambda a,b:a+b\n",
    "add(10,20)"
   ]
  },
  {
   "cell_type": "code",
   "execution_count": 15,
   "id": "b682887d-6a6b-46ab-bf48-f7cb13255b17",
   "metadata": {},
   "outputs": [
    {
     "data": {
      "text/plain": [
       "80.67"
      ]
     },
     "execution_count": 15,
     "metadata": {},
     "output_type": "execute_result"
    }
   ],
   "source": [
    "avg=lambda a,b,c:round((a+b+c)/3,2)\n",
    "avg(10,202,30)"
   ]
  },
  {
   "cell_type": "markdown",
   "id": "185773f1-5002-4a1a-82d5-998e1fba07a6",
   "metadata": {},
   "source": [
    "$Pattern - 3$\n",
    "\n",
    "**Default arguments**"
   ]
  },
  {
   "cell_type": "code",
   "execution_count": 18,
   "id": "dc9e3524-cda6-4e75-9175-94f747d1534e",
   "metadata": {},
   "outputs": [
    {
     "data": {
      "text/plain": [
       "170.67"
      ]
     },
     "execution_count": 18,
     "metadata": {},
     "output_type": "execute_result"
    }
   ],
   "source": [
    "avg=lambda a,b,c=300:round((a+b+c)/3,2)\n",
    "avg(10,202)"
   ]
  },
  {
   "cell_type": "markdown",
   "id": "5000b49e-aa3c-4716-b181-3b88e05172c4",
   "metadata": {},
   "source": [
    "$Pattern - 4$\n",
    "\n",
    "**If - else**"
   ]
  },
  {
   "cell_type": "code",
   "execution_count": 20,
   "id": "2e71b1c3-c359-43c7-8dc4-e5a802ff1bb7",
   "metadata": {},
   "outputs": [
    {
     "data": {
      "text/plain": [
       "20"
      ]
     },
     "execution_count": 20,
     "metadata": {},
     "output_type": "execute_result"
    }
   ],
   "source": [
    "def max(a,b):\n",
    "    if a>b:\n",
    "        return(a)\n",
    "    else:\n",
    "        return(b)\n",
    "max(10,20)"
   ]
  },
  {
   "cell_type": "code",
   "execution_count": 23,
   "id": "504fa45f-d5f8-4ac6-8611-e64baffcfd26",
   "metadata": {},
   "outputs": [
    {
     "data": {
      "text/plain": [
       "20"
      ]
     },
     "execution_count": 23,
     "metadata": {},
     "output_type": "execute_result"
    }
   ],
   "source": [
    "# Syntax : function name = lambda <arg1>,<arg2> : <list comprehension>\n",
    "# Syntax : function name = lambda <arg1>,<arg2> : <if_output> <if> <else> <else_output>\n",
    "\n",
    "max=lambda a,b:a if a>b else b \n",
    "max(10,20)"
   ]
  },
  {
   "cell_type": "markdown",
   "id": "4ca9f35b-7c16-4af6-8c3b-7f7745e933cd",
   "metadata": {},
   "source": [
    "$pattern - 5$\n",
    "\n",
    "**Using list**"
   ]
  },
  {
   "cell_type": "code",
   "execution_count": 24,
   "id": "76d41df6-ce44-48e4-a77f-27fa12985bd7",
   "metadata": {},
   "outputs": [
    {
     "data": {
      "text/plain": [
       "['Hyd', 'Chennai', 'Mumbai']"
      ]
     },
     "execution_count": 24,
     "metadata": {},
     "output_type": "execute_result"
    }
   ],
   "source": [
    "l=['hyd','chennai','mumbai']\n",
    "# op=['Hyd','Chennai','Mumbai']\n",
    "op=[]\n",
    "for i in l:\n",
    "    op.append(i.capitalize())\n",
    "op"
   ]
  },
  {
   "cell_type": "code",
   "execution_count": 28,
   "id": "c1a0beac-0353-4b21-bc74-3fb2e55c826b",
   "metadata": {},
   "outputs": [
    {
     "data": {
      "text/plain": [
       "(<function __main__.<lambda>(i)>, ['hyd', 'chennai', 'mumbai'])"
      ]
     },
     "execution_count": 28,
     "metadata": {},
     "output_type": "execute_result"
    }
   ],
   "source": [
    "# lambda <variable>:<op>,<iterator>\n",
    "lambda i:i.capitalize(),l"
   ]
  },
  {
   "cell_type": "markdown",
   "id": "6162d59e-9ab9-4b2a-8ce7-69661222d680",
   "metadata": {},
   "source": [
    "**mapping**\n",
    "\n",
    "- The function and iterator are availabe now\n",
    "- we need to map both"
   ]
  },
  {
   "cell_type": "code",
   "execution_count": 29,
   "id": "1144a200-0d09-4a09-a4fd-164ecbcdcacc",
   "metadata": {},
   "outputs": [
    {
     "data": {
      "text/plain": [
       "<map at 0x1bacabcbee0>"
      ]
     },
     "execution_count": 29,
     "metadata": {},
     "output_type": "execute_result"
    }
   ],
   "source": [
    "l=['hyd','chennai','mumbai']\n",
    "map(lambda i:i.capitalize(),l)"
   ]
  },
  {
   "cell_type": "code",
   "execution_count": 30,
   "id": "dbbdd91f-172f-4e39-94a5-d5f6e5ea4f6e",
   "metadata": {},
   "outputs": [
    {
     "data": {
      "text/plain": [
       "['Hyd', 'Chennai', 'Mumbai']"
      ]
     },
     "execution_count": 30,
     "metadata": {},
     "output_type": "execute_result"
    }
   ],
   "source": [
    "l=['hyd','chennai','mumbai']\n",
    "list(map(lambda i:i.capitalize(),l))"
   ]
  },
  {
   "cell_type": "code",
   "execution_count": 31,
   "id": "7911d4a6-aaee-4f10-8134-bf6e20903ba5",
   "metadata": {},
   "outputs": [
    {
     "data": {
      "text/plain": [
       "('Hyd', 'Chennai', 'Mumbai')"
      ]
     },
     "execution_count": 31,
     "metadata": {},
     "output_type": "execute_result"
    }
   ],
   "source": [
    "l=['hyd','chennai','mumbai']\n",
    "tuple(map(lambda i:i.capitalize(),l))"
   ]
  },
  {
   "cell_type": "code",
   "execution_count": null,
   "id": "313dacb9-9fd3-4119-ac8c-24db9a5a8b89",
   "metadata": {},
   "outputs": [],
   "source": [
    "# step1 : write your normal expression\n",
    "    # for ex: lambda <variable>:<op>  ====>  i:i.capitalize()\n",
    "# step2 : add the iterator\n",
    "    # for ex:lambda <variable>:<op>,<list>   ====>  i:i.capitalize(),list1\n",
    "# step3 : map the both\n",
    "    # for ex:map(lambda <variable>:<op>,<list>)   ====>  map(i:i.capitalize(),list1)\n",
    "# step4 : save the values in a list\n",
    "    # for ex:list(map(lambda <variable>:<op>,<list>)) ====> list(map(i:i.capitalize(),list1))\n",
    "\n",
    "# Note\n",
    "\n",
    "# if list is not working try with tuple"
   ]
  },
  {
   "cell_type": "markdown",
   "id": "8d1e3d4a-43aa-4174-883d-ee41a22ac744",
   "metadata": {},
   "source": [
    "- Case-1: Function call with one argument\n",
    "    - lambda arguments : Exression\n",
    "    - lambda variables : return output\n",
    "- Case-2: Function call with two arguments\n",
    "    - lambda arguments : Exression\n",
    "    - lambda variables : return output\n",
    "- Case-3: Function call with default arguments\n",
    "    - lambda arg1,arg2=500 : Exression\n",
    "    - lambda var1,var2=500 : return output\n",
    "- Case-4: Function call with two arguments and if-else statement\n",
    "    - lambda arg1,arg2 : Expression\n",
    "    - lambda var1,var2 : if_output if_condition else else_output forloop\n",
    "- case-5: lambda operations using list\n",
    "    - lambda arg: Expression,iterator\n",
    "    - map(lambda var: operation,list)\n",
    "    - list(map(lambda var: operation,list))"
   ]
  },
  {
   "cell_type": "code",
   "execution_count": 3,
   "id": "d6cff19c-cbc0-4429-a609-67f0c26086de",
   "metadata": {},
   "outputs": [
    {
     "data": {
      "text/plain": [
       "['HYD', 'CHENNAI', 'MUMBAI']"
      ]
     },
     "execution_count": 3,
     "metadata": {},
     "output_type": "execute_result"
    }
   ],
   "source": [
    "l=['hyd','chennai','mumbai']\n",
    "# op =['HYD','CHENNAI','MUMBAI']\n",
    "#for i in l:\n",
    "#    print(i.upper())\n",
    "\n",
    "list(map(lambda i:i.upper(),l))"
   ]
  },
  {
   "cell_type": "markdown",
   "id": "153219df-9e31-405d-a02e-171fee6d631b",
   "metadata": {},
   "source": [
    "**Filter**\n",
    "\n",
    "- whenever if conditions are there use filter"
   ]
  },
  {
   "cell_type": "code",
   "execution_count": 9,
   "id": "dd21ab93-66fc-4a00-9ffc-2384ffae1553",
   "metadata": {},
   "outputs": [
    {
     "data": {
      "text/plain": [
       "['che#nnai', 'mum#bai']"
      ]
     },
     "execution_count": 9,
     "metadata": {},
     "output_type": "execute_result"
    }
   ],
   "source": [
    "l=['hyd','che#nnai','mum#bai','blr']\n",
    "# op=['che#nnai','mum#bai']\n",
    "\n",
    "list(filter(lambda i:'#' in i,l))"
   ]
  },
  {
   "cell_type": "code",
   "execution_count": 11,
   "id": "80dc213e-0e86-40c8-a285-b9f119efc454",
   "metadata": {},
   "outputs": [
    {
     "data": {
      "text/plain": [
       "[2, 6]"
      ]
     },
     "execution_count": 11,
     "metadata": {},
     "output_type": "execute_result"
    }
   ],
   "source": [
    "# numbers = [1,3,2,7,6]\n",
    "# op=[2,6]\n",
    "numbers = [1,3,2,7,6]\n",
    "list(filter(lambda i:i%2==0,numbers))"
   ]
  },
  {
   "cell_type": "markdown",
   "id": "1c636bdb-3cca-4ff6-9667-89e4c065ee39",
   "metadata": {},
   "source": [
    "**Reduce**\n",
    "\n",
    "- All inbuilt functions can achieve by reduce \n",
    "- Reduce is availabe from function tools pacakage\n",
    "- level-1 : reduce(lambda summ,i:summ+i,l1)\n",
    "- level-2 : filter((lambda summ,i:summ+i,l1,inital_value))\n",
    "- For example we want initialize summ=0 then we choose level-1\n",
    "- for example we want start with other than zero then we choose level-2"
   ]
  },
  {
   "cell_type": "code",
   "execution_count": 13,
   "id": "da98374b-bd6e-4f5d-8fee-40316f69bf8a",
   "metadata": {},
   "outputs": [
    {
     "name": "stdout",
     "output_type": "stream",
     "text": [
      "15\n"
     ]
    }
   ],
   "source": [
    "l1=[1,2,3,4,5]\n",
    "# i want sum of the elements in a list\n",
    "# method-1: sum \n",
    "sum(l1)\n",
    "# method-2: without sum \n",
    "summ=0\n",
    "for i in l1:\n",
    "    summ=summ+i\n",
    "print(summ)"
   ]
  },
  {
   "cell_type": "code",
   "execution_count": 1,
   "id": "25e0d61f-31cc-4b67-9652-b20f0c98bb24",
   "metadata": {},
   "outputs": [
    {
     "data": {
      "text/plain": [
       "(<function __main__.<lambda>(summ, i)>, [1, 2, 3, 4, 5])"
      ]
     },
     "execution_count": 1,
     "metadata": {},
     "output_type": "execute_result"
    }
   ],
   "source": [
    "l1=[1,2,3,4,5]\n",
    "(lambda summ,i:summ+i,l1)"
   ]
  },
  {
   "cell_type": "code",
   "execution_count": 42,
   "id": "7884d14a-876b-4843-a5ba-f4978a882d85",
   "metadata": {},
   "outputs": [
    {
     "data": {
      "text/plain": [
       "['GenericAlias',\n",
       " 'RLock',\n",
       " 'WRAPPER_ASSIGNMENTS',\n",
       " 'WRAPPER_UPDATES',\n",
       " '_CacheInfo',\n",
       " '_HashedSeq',\n",
       " '_NOT_FOUND',\n",
       " '__all__',\n",
       " '__builtins__',\n",
       " '__cached__',\n",
       " '__doc__',\n",
       " '__file__',\n",
       " '__loader__',\n",
       " '__name__',\n",
       " '__package__',\n",
       " '__spec__',\n",
       " '_c3_merge',\n",
       " '_c3_mro',\n",
       " '_compose_mro',\n",
       " '_convert',\n",
       " '_find_impl',\n",
       " '_ge_from_gt',\n",
       " '_ge_from_le',\n",
       " '_ge_from_lt',\n",
       " '_gt_from_ge',\n",
       " '_gt_from_le',\n",
       " '_gt_from_lt',\n",
       " '_initial_missing',\n",
       " '_le_from_ge',\n",
       " '_le_from_gt',\n",
       " '_le_from_lt',\n",
       " '_lru_cache_wrapper',\n",
       " '_lt_from_ge',\n",
       " '_lt_from_gt',\n",
       " '_lt_from_le',\n",
       " '_make_key',\n",
       " '_unwrap_partial',\n",
       " 'cache',\n",
       " 'cached_property',\n",
       " 'cmp_to_key',\n",
       " 'get_cache_token',\n",
       " 'lru_cache',\n",
       " 'namedtuple',\n",
       " 'partial',\n",
       " 'partialmethod',\n",
       " 'recursive_repr',\n",
       " 'reduce',\n",
       " 'singledispatch',\n",
       " 'singledispatchmethod',\n",
       " 'total_ordering',\n",
       " 'update_wrapper',\n",
       " 'wraps']"
      ]
     },
     "execution_count": 42,
     "metadata": {},
     "output_type": "execute_result"
    }
   ],
   "source": [
    "import functools\n",
    "dir(functools)"
   ]
  },
  {
   "cell_type": "code",
   "execution_count": 39,
   "id": "71886919-fa55-4585-8568-a7d2562359d2",
   "metadata": {},
   "outputs": [
    {
     "data": {
      "text/plain": [
       "15"
      ]
     },
     "execution_count": 39,
     "metadata": {},
     "output_type": "execute_result"
    }
   ],
   "source": [
    "l1=[1,2,3,4,5]\n",
    "functools.reduce(lambda summ,i:summ+i,l1)"
   ]
  },
  {
   "cell_type": "code",
   "execution_count": 40,
   "id": "54cbacc6-c1b1-41ed-be95-5e4f9ef969c6",
   "metadata": {},
   "outputs": [
    {
     "data": {
      "text/plain": [
       "15"
      ]
     },
     "execution_count": 40,
     "metadata": {},
     "output_type": "execute_result"
    }
   ],
   "source": [
    "from functools import reduce\n",
    "l1=[1,2,3,4,5]\n",
    "reduce(lambda summ,i:summ+i,l1)"
   ]
  },
  {
   "cell_type": "code",
   "execution_count": 49,
   "id": "61b82332-fc4d-4d7c-ba2c-447f2c788193",
   "metadata": {},
   "outputs": [
    {
     "data": {
      "text/plain": [
       "19"
      ]
     },
     "execution_count": 49,
     "metadata": {},
     "output_type": "execute_result"
    }
   ],
   "source": [
    "import functools as ft\n",
    "l1=[1,2,3,4,5]\n",
    "ft.reduce(lambda summ,i:summ+i,l1,4)"
   ]
  },
  {
   "cell_type": "code",
   "execution_count": 51,
   "id": "e420d89b-f53e-41cf-8126-5ff0f9af426c",
   "metadata": {},
   "outputs": [
    {
     "data": {
      "text/plain": [
       "120"
      ]
     },
     "execution_count": 51,
     "metadata": {},
     "output_type": "execute_result"
    }
   ],
   "source": [
    "ft.reduce(lambda x,y:x*y,l1)"
   ]
  },
  {
   "cell_type": "code",
   "execution_count": 56,
   "id": "085e32b9-b4e4-4dd0-95d7-3d14a076cde2",
   "metadata": {},
   "outputs": [
    {
     "data": {
      "text/plain": [
       "<filter at 0x189828548e0>"
      ]
     },
     "execution_count": 56,
     "metadata": {},
     "output_type": "execute_result"
    }
   ],
   "source": [
    "filter(lambda x,y:x>y,l1)"
   ]
  },
  {
   "cell_type": "code",
   "execution_count": 57,
   "id": "eb253129-8dc0-4dc1-b632-bdbe90418570",
   "metadata": {},
   "outputs": [],
   "source": [
    "import functools"
   ]
  },
  {
   "cell_type": "code",
   "execution_count": 58,
   "id": "26168d27-f442-488d-b08b-ffec5721eebb",
   "metadata": {},
   "outputs": [
    {
     "data": {
      "text/plain": [
       "<module 'functools' from 'C:\\\\Users\\\\Admin-ps\\\\anaconda3\\\\Lib\\\\functools.py'>"
      ]
     },
     "execution_count": 58,
     "metadata": {},
     "output_type": "execute_result"
    }
   ],
   "source": [
    "functools"
   ]
  },
  {
   "cell_type": "code",
   "execution_count": null,
   "id": "4e3bffd3-faf5-4ff6-91c5-88b615d7b9b8",
   "metadata": {},
   "outputs": [],
   "source": [
    "# In lambda function\n",
    "# write if else\n"
   ]
  }
 ],
 "metadata": {
  "kernelspec": {
   "display_name": "Python 3 (ipykernel)",
   "language": "python",
   "name": "python3"
  },
  "language_info": {
   "codemirror_mode": {
    "name": "ipython",
    "version": 3
   },
   "file_extension": ".py",
   "mimetype": "text/x-python",
   "name": "python",
   "nbconvert_exporter": "python",
   "pygments_lexer": "ipython3",
   "version": "3.11.7"
  }
 },
 "nbformat": 4,
 "nbformat_minor": 5
}

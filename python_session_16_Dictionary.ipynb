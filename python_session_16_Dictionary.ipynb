{
 "cells": [
  {
   "cell_type": "markdown",
   "id": "409e885c-816a-4669-a313-e03e3ffdfe69",
   "metadata": {},
   "source": [
    "## Dictionary"
   ]
  },
  {
   "cell_type": "markdown",
   "id": "e403afbc-2005-453a-8f87-6daef4c92ee8",
   "metadata": {},
   "source": [
    "- We already seen many data types\n",
    "\n",
    "- string \n",
    "\n",
    "- list \n",
    "\n",
    "- Tuples\n",
    "\n",
    "- set\n",
    "\n",
    "- Dictionary\n",
    "\n",
    "- Integer\n",
    "\n",
    "- float\n",
    "\n",
    "- bool\n",
    "\n",
    "- complex\n",
    "\n",
    "- range\n",
    "\n",
    "- array"
   ]
  },
  {
   "cell_type": "markdown",
   "id": "22341297-5ec4-4aa0-a7e5-a751aaf05c28",
   "metadata": {},
   "source": [
    "**Zip**"
   ]
  },
  {
   "cell_type": "code",
   "execution_count": 3,
   "id": "9d4cbbd5-42ec-4f71-b88a-4ccd462b384e",
   "metadata": {},
   "outputs": [
    {
     "name": "stdout",
     "output_type": "stream",
     "text": [
      "Ramesh 20\n",
      "Suresh 25\n",
      "Satish 30\n"
     ]
    }
   ],
   "source": [
    "names=['Ramesh','Suresh','Satish']\n",
    "age=[20,25,30]\n",
    "# here i is names and j is age we have to take how many variables\n",
    "# required for the program\n",
    "for i,j in zip(names,age):\n",
    "    print(i,j)"
   ]
  },
  {
   "cell_type": "code",
   "execution_count": 4,
   "id": "2954f310-cb5d-4420-bacd-af8a71fa9e74",
   "metadata": {},
   "outputs": [
    {
     "data": {
      "text/plain": [
       "[('Ramesh', 20), ('Suresh', 25), ('Satish', 30)]"
      ]
     },
     "execution_count": 4,
     "metadata": {},
     "output_type": "execute_result"
    }
   ],
   "source": [
    "list(zip(names,age))"
   ]
  },
  {
   "cell_type": "code",
   "execution_count": 7,
   "id": "cc06541c-3056-4777-a867-1004fd1f2666",
   "metadata": {},
   "outputs": [],
   "source": [
    "dict1={<key>:<value>}\n",
    "names=['Ramesh','Suresh','Satish']\n",
    "age=[20,25,30]\n",
    "# 'Ramesh' is the key ===== 20 its related value\n",
    "dict1={'ramesh': 20,'suresh':25,'satish':30}"
   ]
  },
  {
   "cell_type": "code",
   "execution_count": 5,
   "id": "33e0d15d-201d-4bcd-870b-d6f83c9b1a84",
   "metadata": {},
   "outputs": [
    {
     "data": {
      "text/plain": [
       "dict"
      ]
     },
     "execution_count": 5,
     "metadata": {},
     "output_type": "execute_result"
    }
   ],
   "source": [
    "dict1={'ramesh': 20,'suresh':25,'satish':30}\n",
    "type(dict1)"
   ]
  },
  {
   "cell_type": "markdown",
   "id": "ce365d10-9e79-4f44-b029-452c7bc46edc",
   "metadata": {},
   "source": [
    "- initialization\n",
    "- type \n",
    "- max\n",
    "- min\n",
    "- len\n",
    "- revered\n",
    "- sorted\n",
    "- in \n",
    "- index\n",
    "- mutablility\n",
    "- concatination\n",
    "- slicing\n",
    "- methods"
   ]
  },
  {
   "cell_type": "markdown",
   "id": "6482bb0d-239a-463a-aefc-3a5547e82093",
   "metadata": {},
   "source": [
    "**Create all type of dictionaries**"
   ]
  },
  {
   "cell_type": "code",
   "execution_count": 12,
   "id": "a608c054-4584-4461-84d8-20a5bd97d7c3",
   "metadata": {},
   "outputs": [
    {
     "data": {
      "text/plain": [
       "{'manish': 25, 'shubham': 20, 'Govindh': 15}"
      ]
     },
     "execution_count": 12,
     "metadata": {},
     "output_type": "execute_result"
    }
   ],
   "source": [
    "d1={'manish':25,'shubham':20,'Govindh':15}\n",
    "d1"
   ]
  },
  {
   "cell_type": "code",
   "execution_count": 14,
   "id": "070e2dcf-64c7-41a4-8837-cf7e0e4dac23",
   "metadata": {},
   "outputs": [
    {
     "data": {
      "text/plain": [
       "{'manish': '25', 'shubham': '20', 'Govindh': '15'}"
      ]
     },
     "execution_count": 14,
     "metadata": {},
     "output_type": "execute_result"
    }
   ],
   "source": [
    "d2={'manish':'25','shubham':'20','Govindh':'15'}\n",
    "d2"
   ]
  },
  {
   "cell_type": "code",
   "execution_count": 16,
   "id": "b4c46dba-d317-4d93-907a-8df79854ae49",
   "metadata": {},
   "outputs": [
    {
     "data": {
      "text/plain": [
       "{'manish': 15, 'mainsh': 20}"
      ]
     },
     "execution_count": 16,
     "metadata": {},
     "output_type": "execute_result"
    }
   ],
   "source": [
    "d3={'manish':25,'mainsh':20,'manish':15}\n",
    "d3"
   ]
  },
  {
   "cell_type": "code",
   "execution_count": 17,
   "id": "14f58337-f175-4252-9e3a-5e6c6fa57bd9",
   "metadata": {},
   "outputs": [
    {
     "data": {
      "text/plain": [
       "{30: 'manish', 20: 'mainsh', 25: 'manish'}"
      ]
     },
     "execution_count": 17,
     "metadata": {},
     "output_type": "execute_result"
    }
   ],
   "source": [
    "d4={30:'manish',20:'mainsh',25:'manish'}\n",
    "d4"
   ]
  },
  {
   "cell_type": "code",
   "execution_count": null,
   "id": "4068bd3a-5f11-4bf6-b0b0-70ab6a68a4cd",
   "metadata": {},
   "outputs": [],
   "source": [
    "d1={'Manish': 25, 'Shubam':20, 'Govindh':15}\n",
    "\n",
    "d2={'Manish':'25', 'Shubam': '20', 'Govindh':'15'}\n",
    "\n",
    "d3={25:'Manish', 20:'Shubam', 15:'Govindh'}\n",
    "\n",
    "d4={25:50}\n",
    "\n",
    "d5={'Fruites':['Apple','Cherry']}\n",
    "\n",
    "d6={['Apple','Cherry']:'Fruites'}\n",
    "\n",
    "d7={('Apple', 'Cherry'):'Fruites'}\n",
    "\n",
    "d8={'Ajay':25, 'Ajay':30}\n",
    "\n",
    "d9={25:'Ajay', 30:'Ajay'}\n",
    "\n",
    "d10={'Fruites':{'mangoes':20}}"
   ]
  },
  {
   "cell_type": "code",
   "execution_count": 18,
   "id": "88efed93-1614-4d75-bf77-ae6252aac915",
   "metadata": {},
   "outputs": [
    {
     "data": {
      "text/plain": [
       "{'Manish': 25, 'Shubam': 20, 'Govindh': 15}"
      ]
     },
     "execution_count": 18,
     "metadata": {},
     "output_type": "execute_result"
    }
   ],
   "source": [
    "d1={'Manish': 25, 'Shubam':20, 'Govindh':15}\n",
    "d1"
   ]
  },
  {
   "cell_type": "code",
   "execution_count": 19,
   "id": "b8f4f353-d772-4077-9493-7144cc411117",
   "metadata": {},
   "outputs": [
    {
     "data": {
      "text/plain": [
       "{'Manish': '25', 'Shubam': '20', 'Govindh': '15'}"
      ]
     },
     "execution_count": 19,
     "metadata": {},
     "output_type": "execute_result"
    }
   ],
   "source": [
    "d2={'Manish':'25', 'Shubam': '20', 'Govindh':'15'}\n",
    "d2"
   ]
  },
  {
   "cell_type": "code",
   "execution_count": 20,
   "id": "9bb93268-2913-4ec4-8ff5-e5fe5159917b",
   "metadata": {},
   "outputs": [
    {
     "data": {
      "text/plain": [
       "{25: 'Manish', 20: 'Shubam', 15: 'Govindh'}"
      ]
     },
     "execution_count": 20,
     "metadata": {},
     "output_type": "execute_result"
    }
   ],
   "source": [
    "d3={25:'Manish', 20:'Shubam', 15:'Govindh'}\n",
    "d3"
   ]
  },
  {
   "cell_type": "code",
   "execution_count": 21,
   "id": "5e598540-bdc0-424d-92f9-166db852ec07",
   "metadata": {},
   "outputs": [
    {
     "data": {
      "text/plain": [
       "{25: 50}"
      ]
     },
     "execution_count": 21,
     "metadata": {},
     "output_type": "execute_result"
    }
   ],
   "source": [
    "d4={25:50}\n",
    "d4"
   ]
  },
  {
   "cell_type": "code",
   "execution_count": 22,
   "id": "76e39c27-bd5d-4010-91d4-b01b3a7d8707",
   "metadata": {},
   "outputs": [
    {
     "data": {
      "text/plain": [
       "{'Fruites': ['Apple', 'Cherry']}"
      ]
     },
     "execution_count": 22,
     "metadata": {},
     "output_type": "execute_result"
    }
   ],
   "source": [
    "d5={'Fruites':['Apple','Cherry']}\n",
    "d5"
   ]
  },
  {
   "cell_type": "code",
   "execution_count": 23,
   "id": "694cc084-1568-4a41-9503-da8dd70c8d42",
   "metadata": {},
   "outputs": [
    {
     "ename": "TypeError",
     "evalue": "unhashable type: 'list'",
     "output_type": "error",
     "traceback": [
      "\u001b[1;31m---------------------------------------------------------------------------\u001b[0m",
      "\u001b[1;31mTypeError\u001b[0m                                 Traceback (most recent call last)",
      "Cell \u001b[1;32mIn[23], line 1\u001b[0m\n\u001b[1;32m----> 1\u001b[0m d6\u001b[38;5;241m=\u001b[39m{[\u001b[38;5;124m'\u001b[39m\u001b[38;5;124mApple\u001b[39m\u001b[38;5;124m'\u001b[39m,\u001b[38;5;124m'\u001b[39m\u001b[38;5;124mCherry\u001b[39m\u001b[38;5;124m'\u001b[39m]:\u001b[38;5;124m'\u001b[39m\u001b[38;5;124mFruites\u001b[39m\u001b[38;5;124m'\u001b[39m}\n\u001b[0;32m      2\u001b[0m d6\n",
      "\u001b[1;31mTypeError\u001b[0m: unhashable type: 'list'"
     ]
    }
   ],
   "source": [
    "d6={['Apple','Cherry']:'Fruites'}\n",
    "d6\n",
    "# key=list not possible because list is mutable"
   ]
  },
  {
   "cell_type": "code",
   "execution_count": 24,
   "id": "7972860e-9275-4b2c-8523-6489dbdaa538",
   "metadata": {},
   "outputs": [
    {
     "data": {
      "text/plain": [
       "{('Apple', 'Cherry'): 'Fruites'}"
      ]
     },
     "execution_count": 24,
     "metadata": {},
     "output_type": "execute_result"
    }
   ],
   "source": [
    "d7={('Apple', 'Cherry'):'Fruites'}\n",
    "d7"
   ]
  },
  {
   "cell_type": "code",
   "execution_count": 25,
   "id": "d44b1aea-04ad-42d7-8794-12086354fade",
   "metadata": {},
   "outputs": [
    {
     "data": {
      "text/plain": [
       "{'Ajay': 30}"
      ]
     },
     "execution_count": 25,
     "metadata": {},
     "output_type": "execute_result"
    }
   ],
   "source": [
    "d8={'Ajay':25, 'Ajay':30}\n",
    "d8"
   ]
  },
  {
   "cell_type": "code",
   "execution_count": 26,
   "id": "f960a98f-ecb4-48da-87aa-774a035929cd",
   "metadata": {},
   "outputs": [
    {
     "data": {
      "text/plain": [
       "{25: 'Ajay', 30: 'Ajay'}"
      ]
     },
     "execution_count": 26,
     "metadata": {},
     "output_type": "execute_result"
    }
   ],
   "source": [
    "d9={25:'Ajay', 30:'Ajay'}\n",
    "d9"
   ]
  },
  {
   "cell_type": "code",
   "execution_count": 28,
   "id": "5895fc36-7d05-4845-8547-af42cb5387a0",
   "metadata": {},
   "outputs": [
    {
     "data": {
      "text/plain": [
       "{'Fruites': {'mango': 20}}"
      ]
     },
     "execution_count": 28,
     "metadata": {},
     "output_type": "execute_result"
    }
   ],
   "source": [
    "d10={'Fruites':{'mango':20}}\n",
    "d10"
   ]
  },
  {
   "cell_type": "markdown",
   "id": "f8ea83c4-4da6-491a-898d-25337212c0c0",
   "metadata": {},
   "source": [
    "**Key points**\n",
    "\n",
    "- keys have only latest value\n",
    "- No duplicate key\n",
    "- Keys should be only one \n",
    "- values can be duplicate\n",
    "- which means different keys can have same value\n",
    "- list can not be a key. because lists are mutable\n",
    "- tuple can be a key . becuase tuple are immutable"
   ]
  },
  {
   "cell_type": "markdown",
   "id": "9848bd42-ead9-4352-b23f-63b5577a2d90",
   "metadata": {},
   "source": [
    "**max**"
   ]
  },
  {
   "cell_type": "code",
   "execution_count": 32,
   "id": "72efa01d-a102-4070-bda5-a93bc67ffaab",
   "metadata": {},
   "outputs": [
    {
     "data": {
      "text/plain": [
       "'Shubam'"
      ]
     },
     "execution_count": 32,
     "metadata": {},
     "output_type": "execute_result"
    }
   ],
   "source": [
    "d1={'Manish': 25, 'Shubam':20, 'Govindh':15}\n",
    "\n",
    "d2={'Manish':'25', 'Shubam': '20', 'Govindh':'15'}\n",
    "\n",
    "d3={25:'Manish', 20:'Shubam', 15:'Govindh'}\n",
    "\n",
    "# operations apply on keys\n",
    "# keys are important\n",
    "max(d1)"
   ]
  },
  {
   "cell_type": "code",
   "execution_count": 33,
   "id": "d5343929-b94b-4eea-ad4e-fac2e41b6afb",
   "metadata": {},
   "outputs": [
    {
     "data": {
      "text/plain": [
       "'Shubam'"
      ]
     },
     "execution_count": 33,
     "metadata": {},
     "output_type": "execute_result"
    }
   ],
   "source": [
    "d2={'Manish':'25', 'Shubam': '20', 'Govindh':'15'}\n",
    "max(d2)"
   ]
  },
  {
   "cell_type": "code",
   "execution_count": 34,
   "id": "c074dcaa-2dd6-43c9-8b7a-28cb9233c672",
   "metadata": {},
   "outputs": [
    {
     "data": {
      "text/plain": [
       "25"
      ]
     },
     "execution_count": 34,
     "metadata": {},
     "output_type": "execute_result"
    }
   ],
   "source": [
    "d3={25:'Manish', 20:'Shubam', 15:'Govindh'}\n",
    "max(d3)"
   ]
  },
  {
   "cell_type": "markdown",
   "id": "d4c45e6f-d34c-4273-8a7f-50eed5991dc5",
   "metadata": {},
   "source": [
    "**min**"
   ]
  },
  {
   "cell_type": "code",
   "execution_count": 51,
   "id": "894e6235-bc47-404a-b01b-64d7bfa01ddc",
   "metadata": {},
   "outputs": [
    {
     "data": {
      "text/plain": [
       "20"
      ]
     },
     "execution_count": 51,
     "metadata": {},
     "output_type": "execute_result"
    }
   ],
   "source": [
    "d7= {20:'manish',20:'shubham',20:'govindh'}\n",
    "min(d7)"
   ]
  },
  {
   "cell_type": "markdown",
   "id": "db18b7d0-e0e9-4193-9f57-6305a1809377",
   "metadata": {},
   "source": [
    "**Length**"
   ]
  },
  {
   "cell_type": "code",
   "execution_count": 36,
   "id": "470f43ab-547b-476a-9b18-692c40f0308a",
   "metadata": {},
   "outputs": [
    {
     "data": {
      "text/plain": [
       "3"
      ]
     },
     "execution_count": 36,
     "metadata": {},
     "output_type": "execute_result"
    }
   ],
   "source": [
    "d3={25:'Manish', 20:'Shubam', 15:'Govindh'}\n",
    "len(d3)"
   ]
  },
  {
   "cell_type": "code",
   "execution_count": 37,
   "id": "34868a6c-6623-4bb1-99b8-d682c996b063",
   "metadata": {},
   "outputs": [
    {
     "data": {
      "text/plain": [
       "1"
      ]
     },
     "execution_count": 37,
     "metadata": {},
     "output_type": "execute_result"
    }
   ],
   "source": [
    "d7= {20:'manish',20:'shubham',20:'govindh'}\n",
    "len(d7)"
   ]
  },
  {
   "cell_type": "code",
   "execution_count": null,
   "id": "b1f911ff-b86b-439e-bf6e-35180fcb455b",
   "metadata": {},
   "outputs": [],
   "source": [
    "d1={'Manish': 25, 'Shubam':20, 'Govindh':15} # 'Shubam'\n",
    "\n",
    "d2={'Manish': '25', 'Shubam': '20', 'Govindh': '15'} # 'Shubam'\n",
    "\n",
    "d3={25: 'Manish', 20: 'Shubam', 15: 'Govindh'} # 25\n",
    "\n",
    "d4={'Manish':25, 'Shubam': '20', 'Govindh':15} # 'Shubal\n",
    "\n",
    "d5={25: 'Manish', '20': 'Shubam', 15: 'Govindh'} # Error\n",
    "\n",
    "d6={'Manish': 20, 'Shubam': 20, 'Govindh': 20} # 'Shubam\n",
    "\n",
    "d7={20: 'Manish', 20: 'Shubam', 20: 'Govindh'} # 20"
   ]
  },
  {
   "cell_type": "code",
   "execution_count": 38,
   "id": "17cb2ba1-d1ad-47c7-9651-5c3f3ff5c7f9",
   "metadata": {},
   "outputs": [
    {
     "data": {
      "text/plain": [
       "3"
      ]
     },
     "execution_count": 38,
     "metadata": {},
     "output_type": "execute_result"
    }
   ],
   "source": [
    "d1={'Manish': 25, 'Shubam':20, 'Govindh':15}\n",
    "len(d1)"
   ]
  },
  {
   "cell_type": "code",
   "execution_count": 39,
   "id": "3d418abe-d853-41f9-b2b4-f931b2ab2737",
   "metadata": {},
   "outputs": [
    {
     "data": {
      "text/plain": [
       "3"
      ]
     },
     "execution_count": 39,
     "metadata": {},
     "output_type": "execute_result"
    }
   ],
   "source": [
    "d2={'Manish': '25', 'Shubam': '20', 'Govindh': '15'} \n",
    "len(d2)"
   ]
  },
  {
   "cell_type": "code",
   "execution_count": 41,
   "id": "5a5a955c-8ccd-4585-a6db-7983352c6685",
   "metadata": {},
   "outputs": [
    {
     "data": {
      "text/plain": [
       "3"
      ]
     },
     "execution_count": 41,
     "metadata": {},
     "output_type": "execute_result"
    }
   ],
   "source": [
    "d3={25: 'Manish', 20: 'Shubam', 15: 'Govindh'}\n",
    "len(d3)"
   ]
  },
  {
   "cell_type": "code",
   "execution_count": 42,
   "id": "ccfea55d-386c-4b53-be72-0a966fa09e5f",
   "metadata": {},
   "outputs": [
    {
     "data": {
      "text/plain": [
       "3"
      ]
     },
     "execution_count": 42,
     "metadata": {},
     "output_type": "execute_result"
    }
   ],
   "source": [
    "d4={'Manish':25, 'Shubam': '20', 'Govindh':15} \n",
    "len(d4)"
   ]
  },
  {
   "cell_type": "markdown",
   "id": "2b86d2fe-cdba-44fc-a923-68c2ff2cc010",
   "metadata": {},
   "source": [
    "**Sorted**"
   ]
  },
  {
   "cell_type": "code",
   "execution_count": 54,
   "id": "ec87a9ab-394e-4303-b20c-3b5746fd3240",
   "metadata": {},
   "outputs": [
    {
     "data": {
      "text/plain": [
       "['Shubam', 'Manish', 'Govindh']"
      ]
     },
     "execution_count": 54,
     "metadata": {},
     "output_type": "execute_result"
    }
   ],
   "source": [
    "d4={'Manish':25, 'Shubam': '20', 'Govindh':15}\n",
    "list(sorted(d4,reverse=True))"
   ]
  },
  {
   "cell_type": "code",
   "execution_count": 53,
   "id": "dc3fbbee-82c8-4b15-9f1d-832096792fd6",
   "metadata": {},
   "outputs": [
    {
     "data": {
      "text/plain": [
       "[25, 20, 15]"
      ]
     },
     "execution_count": 53,
     "metadata": {},
     "output_type": "execute_result"
    }
   ],
   "source": [
    "d3={25: 'Manish', 20: 'Shubam', 15: 'Govindh'}\n",
    "list(sorted(d3,reverse=True))"
   ]
  },
  {
   "cell_type": "code",
   "execution_count": 55,
   "id": "1cbea851-bd43-4fd8-a762-dc71ccca76bb",
   "metadata": {},
   "outputs": [
    {
     "ename": "TypeError",
     "evalue": "'<' not supported between instances of 'str' and 'int'",
     "output_type": "error",
     "traceback": [
      "\u001b[1;31m---------------------------------------------------------------------------\u001b[0m",
      "\u001b[1;31mTypeError\u001b[0m                                 Traceback (most recent call last)",
      "Cell \u001b[1;32mIn[55], line 2\u001b[0m\n\u001b[0;32m      1\u001b[0m d5\u001b[38;5;241m=\u001b[39m{\u001b[38;5;241m25\u001b[39m: \u001b[38;5;124m'\u001b[39m\u001b[38;5;124mManish\u001b[39m\u001b[38;5;124m'\u001b[39m, \u001b[38;5;124m'\u001b[39m\u001b[38;5;124m20\u001b[39m\u001b[38;5;124m'\u001b[39m: \u001b[38;5;124m'\u001b[39m\u001b[38;5;124mShubam\u001b[39m\u001b[38;5;124m'\u001b[39m, \u001b[38;5;241m15\u001b[39m: \u001b[38;5;124m'\u001b[39m\u001b[38;5;124mGovindh\u001b[39m\u001b[38;5;124m'\u001b[39m} \u001b[38;5;66;03m# Error\u001b[39;00m\n\u001b[1;32m----> 2\u001b[0m \u001b[38;5;28mlist\u001b[39m(\u001b[38;5;28msorted\u001b[39m(d5,reverse\u001b[38;5;241m=\u001b[39m\u001b[38;5;28;01mTrue\u001b[39;00m))\n",
      "\u001b[1;31mTypeError\u001b[0m: '<' not supported between instances of 'str' and 'int'"
     ]
    }
   ],
   "source": [
    "d5={25: 'Manish', '20': 'Shubam', 15: 'Govindh'} # Error\n",
    "list(sorted(d5,reverse=True))"
   ]
  },
  {
   "cell_type": "markdown",
   "id": "4dbb694b-8eb8-41ba-98e1-c47c602933a3",
   "metadata": {},
   "source": [
    "**Reversed**"
   ]
  },
  {
   "cell_type": "code",
   "execution_count": 47,
   "id": "3cb3cb32-66fa-49cc-ad2d-6a8893944bd8",
   "metadata": {},
   "outputs": [
    {
     "data": {
      "text/plain": [
       "<dict_reversekeyiterator at 0x13de5f9a7f0>"
      ]
     },
     "execution_count": 47,
     "metadata": {},
     "output_type": "execute_result"
    }
   ],
   "source": [
    "d5={25: 'Manish', '20': 'Shubam', 15: 'Govindh'} \n",
    "reversed(d5)"
   ]
  },
  {
   "cell_type": "code",
   "execution_count": 48,
   "id": "dbb25944-5cf4-4fe5-b540-0480c2c19890",
   "metadata": {},
   "outputs": [
    {
     "name": "stdout",
     "output_type": "stream",
     "text": [
      "15\n",
      "20\n",
      "25\n"
     ]
    }
   ],
   "source": [
    "for i in reversed(d5):\n",
    "    print(i)\n",
    "\n",
    "# only keys will come in reverse"
   ]
  },
  {
   "cell_type": "code",
   "execution_count": 49,
   "id": "a9cb4378-e7a9-4e09-bf1e-8c9118240d3c",
   "metadata": {},
   "outputs": [
    {
     "name": "stdout",
     "output_type": "stream",
     "text": [
      "Govindh\n",
      "Shubam\n",
      "Manish\n"
     ]
    }
   ],
   "source": [
    "for i in reversed(d4):\n",
    "    print(i)"
   ]
  },
  {
   "cell_type": "code",
   "execution_count": 50,
   "id": "d3efd40d-e916-4355-9a7e-0dc36e1cf6b6",
   "metadata": {},
   "outputs": [
    {
     "name": "stdout",
     "output_type": "stream",
     "text": [
      "Govindh\n",
      "Shubam\n",
      "Manish\n"
     ]
    }
   ],
   "source": [
    "for i in reversed(d1):\n",
    "    print(i)"
   ]
  },
  {
   "cell_type": "markdown",
   "id": "68d34404-1d15-4e32-88a9-65849f88c7e9",
   "metadata": {},
   "source": [
    "**In - operator**"
   ]
  },
  {
   "cell_type": "code",
   "execution_count": 58,
   "id": "3d07bc80-19f8-4cbe-98f4-b30f7ca32243",
   "metadata": {},
   "outputs": [
    {
     "name": "stdout",
     "output_type": "stream",
     "text": [
      "Manish\n",
      "Shubam\n",
      "Govindh\n"
     ]
    }
   ],
   "source": [
    "d1={'Manish': 25, 'Shubam':20, 'Govindh':15}\n",
    "for i in d1:\n",
    "    print(i)"
   ]
  },
  {
   "cell_type": "code",
   "execution_count": 59,
   "id": "a505bea6-61a8-4bdf-a3a9-9893b3e9e827",
   "metadata": {},
   "outputs": [
    {
     "name": "stdout",
     "output_type": "stream",
     "text": [
      "25\n",
      "20\n",
      "15\n"
     ]
    }
   ],
   "source": [
    "d5={25: 'Manish', '20': 'Shubam', 15: 'Govindh'}\n",
    "for i in d5:\n",
    "    print(i)"
   ]
  },
  {
   "cell_type": "markdown",
   "id": "b63a56b0-d4ba-4f9f-a166-31154f14ab7c",
   "metadata": {},
   "source": [
    "**Index**"
   ]
  },
  {
   "cell_type": "code",
   "execution_count": 61,
   "id": "f31b9dd4-093a-4fa9-ab98-7e735854c085",
   "metadata": {},
   "outputs": [
    {
     "data": {
      "text/plain": [
       "25"
      ]
     },
     "execution_count": 61,
     "metadata": {},
     "output_type": "execute_result"
    }
   ],
   "source": [
    "d1={'Manish': 25, 'Shubam':20, 'Govindh':15}\n",
    "# If you want retrive the values\n",
    "# python will never give 'manish':25\n",
    "d1['Manish']"
   ]
  },
  {
   "cell_type": "code",
   "execution_count": 62,
   "id": "3ea2e745-782d-44f0-8f72-c65a63e6f482",
   "metadata": {},
   "outputs": [
    {
     "data": {
      "text/plain": [
       "15"
      ]
     },
     "execution_count": 62,
     "metadata": {},
     "output_type": "execute_result"
    }
   ],
   "source": [
    "d1['Govindh']"
   ]
  },
  {
   "cell_type": "code",
   "execution_count": 64,
   "id": "594c502a-e365-44be-b186-9fbe4099fe4c",
   "metadata": {},
   "outputs": [
    {
     "data": {
      "text/plain": [
       "'Shubam'"
      ]
     },
     "execution_count": 64,
     "metadata": {},
     "output_type": "execute_result"
    }
   ],
   "source": [
    "d5={25: 'Manish', '20': 'Shubam', 15: 'Govindh'}\n",
    "d5['20']"
   ]
  },
  {
   "cell_type": "code",
   "execution_count": 65,
   "id": "adaf03d9-0bb0-484c-aae0-a4e5a9f418d2",
   "metadata": {},
   "outputs": [
    {
     "data": {
      "text/plain": [
       "'Manish'"
      ]
     },
     "execution_count": 65,
     "metadata": {},
     "output_type": "execute_result"
    }
   ],
   "source": [
    "d5[25]"
   ]
  },
  {
   "cell_type": "code",
   "execution_count": 66,
   "id": "069f8468-a9f4-490e-bba3-aa7b642470df",
   "metadata": {},
   "outputs": [
    {
     "data": {
      "text/plain": [
       "'Govindh'"
      ]
     },
     "execution_count": 66,
     "metadata": {},
     "output_type": "execute_result"
    }
   ],
   "source": [
    "d5[15]"
   ]
  },
  {
   "cell_type": "code",
   "execution_count": 5,
   "id": "d4a53916-1bd4-4d6c-a9c8-6a90da09ba7e",
   "metadata": {},
   "outputs": [
    {
     "data": {
      "text/plain": [
       "15"
      ]
     },
     "execution_count": 5,
     "metadata": {},
     "output_type": "execute_result"
    }
   ],
   "source": [
    "d1={'Manish': 25, 'Shubam':20, 'Govindh':15}\n",
    "# Dictionary is a key:value pair\n",
    "# We can not use index number directly\n",
    "# whenever you want to call a value, we will use key \n",
    "d1['Manish']\n",
    "d1['Shubam']\n",
    "d1['Govindh']"
   ]
  },
  {
   "cell_type": "code",
   "execution_count": 6,
   "id": "11786e68-ed12-4ce1-8460-698c327aec96",
   "metadata": {},
   "outputs": [
    {
     "name": "stdout",
     "output_type": "stream",
     "text": [
      "Manish has age 25\n",
      "Shubam has age 20\n",
      "Govindh has age 15\n"
     ]
    }
   ],
   "source": [
    "for i in d1:\n",
    "    print(f'{i} has age {d1[i]}')"
   ]
  },
  {
   "cell_type": "code",
   "execution_count": 10,
   "id": "4d414dd9-efd1-4534-9a98-9586a2b47727",
   "metadata": {},
   "outputs": [
    {
     "name": "stdout",
     "output_type": "stream",
     "text": [
      "Vignesh has age 20\n",
      "Mohit has age 35\n",
      "Nagesh has age 30\n"
     ]
    }
   ],
   "source": [
    "names=['Vignesh','Mohit','Nagesh']\n",
    "age=[20,35,30]\n",
    "for i,j in zip(names,age):\n",
    "    print(f'{i} has age {j}')"
   ]
  },
  {
   "cell_type": "markdown",
   "id": "971d3603-a54f-4cbc-8f98-0b2e73b9b37c",
   "metadata": {},
   "source": [
    "**Dictionary to list**"
   ]
  },
  {
   "cell_type": "code",
   "execution_count": 11,
   "id": "c4c698e7-ce5a-40c9-a26b-d2ec557371ae",
   "metadata": {},
   "outputs": [
    {
     "data": {
      "text/plain": [
       "[25, 20, 15]"
      ]
     },
     "execution_count": 11,
     "metadata": {},
     "output_type": "execute_result"
    }
   ],
   "source": [
    "d1={'Manish': 25, 'Shubam':20, 'Govindh':15}\n",
    "keys,values=[],[]\n",
    "for i in d1:\n",
    "    keys.append(i)\n",
    "    values.append(d1[i])\n",
    "values"
   ]
  },
  {
   "cell_type": "code",
   "execution_count": 12,
   "id": "8bc762b3-438c-4e73-93c2-58774a0904c6",
   "metadata": {},
   "outputs": [
    {
     "name": "stdout",
     "output_type": "stream",
     "text": [
      "['Manish', 'Shubam', 'Govindh']\n",
      "[25, 20, 15]\n"
     ]
    }
   ],
   "source": [
    "keys=[i for i in d1]\n",
    "values=[d1[i] for i in d1]\n",
    "print(keys)\n",
    "print(values)"
   ]
  },
  {
   "cell_type": "markdown",
   "id": "97fa8207-12f3-459b-9612-b2d7192629b5",
   "metadata": {},
   "source": [
    "**How to create a empty list**"
   ]
  },
  {
   "cell_type": "code",
   "execution_count": 13,
   "id": "d4c060b3-dfd7-4ea3-99dc-1d9557bc0f30",
   "metadata": {},
   "outputs": [
    {
     "data": {
      "text/plain": [
       "[20]"
      ]
     },
     "execution_count": 13,
     "metadata": {},
     "output_type": "execute_result"
    }
   ],
   "source": [
    "l=[]\n",
    "l.append(20)\n",
    "l"
   ]
  },
  {
   "cell_type": "markdown",
   "id": "873777f1-6533-4327-b3f0-8ea7d8dd7f71",
   "metadata": {},
   "source": [
    "**Empty string**"
   ]
  },
  {
   "cell_type": "code",
   "execution_count": 14,
   "id": "db5070a9-510b-4e7c-b787-90f1e9a9b652",
   "metadata": {},
   "outputs": [
    {
     "data": {
      "text/plain": [
       "'a'"
      ]
     },
     "execution_count": 14,
     "metadata": {},
     "output_type": "execute_result"
    }
   ],
   "source": [
    "s=''\n",
    "s=s+'a'\n",
    "s"
   ]
  },
  {
   "cell_type": "markdown",
   "id": "4462496e-254c-48b1-bb57-598bdf38c7e2",
   "metadata": {},
   "source": [
    "**Empty dictionary**"
   ]
  },
  {
   "cell_type": "code",
   "execution_count": 17,
   "id": "9140ddf2-2f8b-4ea5-b686-91ce994f9c7e",
   "metadata": {},
   "outputs": [
    {
     "data": {
      "text/plain": [
       "{'Girik': 25, 'sai': 15, 'rahul': 22}"
      ]
     },
     "execution_count": 17,
     "metadata": {},
     "output_type": "execute_result"
    }
   ],
   "source": [
    "#d={}\n",
    "#d[<key>]=<value>\n",
    "d={}\n",
    "d['Girik']=25\n",
    "d['sai']=15\n",
    "d['rahul']=22\n",
    "d"
   ]
  },
  {
   "cell_type": "code",
   "execution_count": 20,
   "id": "aa3534b7-fbd6-418b-8c7d-a664adfad5ee",
   "metadata": {},
   "outputs": [
    {
     "data": {
      "text/plain": [
       "{'Vignesh': 20, 'Mohit': 25, 'Nagesh': 30}"
      ]
     },
     "execution_count": 20,
     "metadata": {},
     "output_type": "execute_result"
    }
   ],
   "source": [
    "names=['Vignesh','Mohit','Nagesh']\n",
    "age=[20,25,30]\n",
    "NAMES={}\n",
    "for i,j in zip(names,age):\n",
    "    NAMES[i]=j\n",
    "NAMES"
   ]
  },
  {
   "cell_type": "markdown",
   "id": "1978bf87-36cb-48d0-94cd-75813bcaf52d",
   "metadata": {},
   "source": [
    "**string to list**"
   ]
  },
  {
   "cell_type": "code",
   "execution_count": 25,
   "id": "ee3f9e3e-f9e0-4c3c-8ff0-5c0aa359bca2",
   "metadata": {},
   "outputs": [
    {
     "data": {
      "text/plain": [
       "['hello', 'hai', 'hai', 'how', 'how', 'are', 'you']"
      ]
     },
     "execution_count": 25,
     "metadata": {},
     "output_type": "execute_result"
    }
   ],
   "source": [
    "s='hello hai hai how how are you'\n",
    "s.split()"
   ]
  },
  {
   "cell_type": "markdown",
   "id": "70033805-6603-4a00-b8a1-0f0b7fa0848e",
   "metadata": {},
   "source": [
    "**Word frequency**"
   ]
  },
  {
   "cell_type": "code",
   "execution_count": 34,
   "id": "c901fc43-4a9c-49f4-a084-ed9a41daae21",
   "metadata": {},
   "outputs": [
    {
     "data": {
      "text/plain": [
       "{'hello': 1, 'hai': 2, 'how': 2, 'are': 1, 'you': 1}"
      ]
     },
     "execution_count": 34,
     "metadata": {},
     "output_type": "execute_result"
    }
   ],
   "source": [
    "s='hello hai hai how how are you'\n",
    "words_list=s.split()\n",
    "words_list\n",
    "dict1={}\n",
    "for word in words_list:\n",
    "    dict1[word]=s.count(word)\n",
    "dict1"
   ]
  },
  {
   "cell_type": "code",
   "execution_count": 1,
   "id": "9197050e-b718-4344-919b-9a16a001c6c3",
   "metadata": {},
   "outputs": [
    {
     "name": "stdout",
     "output_type": "stream",
     "text": [
      "After removing stop words: Data science is interdisciplinary academic field that uses statistics, scientific computing, scientific methods, processes, scientific visualization, algorithms and systems to extract or extrapolate knowledge and insights from potentially noisy, structured, or unstructured data. Data science also integrates domain knowledge from underlying application domain. Data science is multifaceted and can be described as science, research paradigm, research method, discipline, workflow, and profession.\n",
      "ASCII value of 'D' in 'Data': 68\n",
      "ASCII value of 's' in 'science': 115\n"
     ]
    }
   ],
   "source": [
    "string=\"\"\"Data science is an interdisciplinary academic field that uses statistics, scientific computing, scientific methods,\n",
    "            processes, scientific visualization, algorithms and systems to extract or extrapolate knowledge and insights from \n",
    "            potentially noisy, structured, or unstructured data. \n",
    "            Data science also integrates domain knowledge from the underlying application domain. \n",
    "            Data science is multifaceted and can be described as a science, a research paradigm, a research method, \n",
    "            a discipline, a workflow, and a profession.\"\"\"\n",
    "# task-1 in the above sentence you need to remove a, an,the\n",
    "# task-2: Data science first letter ASCII value:68\n",
    "#         science first letter ascii value :115\n",
    "# {'Data':68,'science':115}\n",
    "# Task 1: Remove 'a', 'an', 'the'\n",
    "stop_words = ['a', 'an', 'the']\n",
    "words = string.split()\n",
    "filtered_words = [word for word in words if word.lower() not in stop_words]\n",
    "new_string = ' '.join(filtered_words)\n",
    "print(\"After removing stop words:\", new_string)\n",
    "\n",
    "# Task 2: ASCII values of first letters\n",
    "first_word = \"Data science\"\n",
    "first_letter_ascii = ord(first_word[0])\n",
    "second_word = \"science\"\n",
    "second_letter_ascii = ord(second_word[0])\n",
    "print(\"ASCII value of 'D' in 'Data':\", first_letter_ascii)\n",
    "print(\"ASCII value of 's' in 'science':\", second_letter_ascii)\n"
   ]
  },
  {
   "cell_type": "markdown",
   "id": "e01ad8a4-1312-4ffe-b459-51319d18cb8c",
   "metadata": {},
   "source": [
    "**mutable - immutable**\n",
    "\n",
    "- Change the elements using index\n",
    "- But in dictionary there is no index\n",
    "- In dictionary we will change the value based on key only\n",
    "- Instead of using the index, change the values using key\n",
    "- If it is change it is mutable\n",
    "- If it is not change it is immutable"
   ]
  },
  {
   "cell_type": "code",
   "execution_count": 36,
   "id": "58661819-e3b6-4d5a-b34d-53e3a77e302e",
   "metadata": {},
   "outputs": [
    {
     "data": {
      "text/plain": [
       "{'Girik': 25, 'Sai': 20, 'rahul': 22}"
      ]
     },
     "execution_count": 36,
     "metadata": {},
     "output_type": "execute_result"
    }
   ],
   "source": [
    "d={'Girik': 25, 'Sai':20, 'rahul':15}\n",
    "d['rahul']=22\n",
    "d"
   ]
  },
  {
   "cell_type": "markdown",
   "id": "9598a781-69bf-4c2f-b3b6-55b7dcf31028",
   "metadata": {},
   "source": [
    "- List and Dictionary are immutable\n",
    "- tuple and strings are immutable\n",
    "- Difference between list and tuple"
   ]
  },
  {
   "cell_type": "code",
   "execution_count": 40,
   "id": "beab39b2-fcdb-4240-b4cd-c922a7296857",
   "metadata": {},
   "outputs": [
    {
     "data": {
      "text/plain": [
       "'mango'"
      ]
     },
     "execution_count": 40,
     "metadata": {},
     "output_type": "execute_result"
    }
   ],
   "source": [
    "d={'fruites':['mango']}\n",
    "d['fruites'][0]"
   ]
  },
  {
   "cell_type": "code",
   "execution_count": 46,
   "id": "433c8651-6161-4e82-af64-314cb45ae444",
   "metadata": {},
   "outputs": [
    {
     "data": {
      "text/plain": [
       "'kashmir'"
      ]
     },
     "execution_count": 46,
     "metadata": {},
     "output_type": "execute_result"
    }
   ],
   "source": [
    "d={'fruites':[{'apple':['kashmir']}]}\n",
    "d['fruites'][0]['apple'][0]"
   ]
  },
  {
   "cell_type": "code",
   "execution_count": 57,
   "id": "e880a6c9-a6e3-49fa-8006-ecc7e40224ae",
   "metadata": {},
   "outputs": [
    {
     "data": {
      "text/plain": [
       "'India'"
      ]
     },
     "execution_count": 57,
     "metadata": {},
     "output_type": "execute_result"
    }
   ],
   "source": [
    "d={'Fruites': [\n",
    "\n",
    "{'Apple':\n",
    "\n",
    "{'Kashmir':\n",
    "\n",
    "['India']\n",
    "\n",
    "}\n",
    "\n",
    "}\n",
    "]\n",
    "}\n",
    "d['Fruites'][0]['Apple']['Kashmir'][0]"
   ]
  },
  {
   "cell_type": "code",
   "execution_count": 70,
   "id": "67e0b92e-a750-4f1e-a447-de40e2776104",
   "metadata": {},
   "outputs": [
    {
     "data": {
      "text/plain": [
       "{'Shambaji'}"
      ]
     },
     "execution_count": 70,
     "metadata": {},
     "output_type": "execute_result"
    }
   ],
   "source": [
    "d={'Fruites': {'Benganapalli': {'Mango': {'Nagpur': {'MH': {'Shivaji': {'Shambaji'}}}}}}}\n",
    "d['Fruites']['Benganapalli']['Mango']['Nagpur']['MH']['Shivaji']"
   ]
  },
  {
   "cell_type": "markdown",
   "id": "b1cdb678-3806-48e6-ba7a-59cf6bad807f",
   "metadata": {},
   "source": [
    "**Dictionary Methods**"
   ]
  },
  {
   "cell_type": "code",
   "execution_count": 2,
   "id": "c0754967-6071-43c9-b3da-0d543fc317fd",
   "metadata": {},
   "outputs": [
    {
     "data": {
      "text/plain": [
       "['__class__',\n",
       " '__class_getitem__',\n",
       " '__contains__',\n",
       " '__delattr__',\n",
       " '__delitem__',\n",
       " '__dir__',\n",
       " '__doc__',\n",
       " '__eq__',\n",
       " '__format__',\n",
       " '__ge__',\n",
       " '__getattribute__',\n",
       " '__getitem__',\n",
       " '__getstate__',\n",
       " '__gt__',\n",
       " '__hash__',\n",
       " '__init__',\n",
       " '__init_subclass__',\n",
       " '__ior__',\n",
       " '__iter__',\n",
       " '__le__',\n",
       " '__len__',\n",
       " '__lt__',\n",
       " '__ne__',\n",
       " '__new__',\n",
       " '__or__',\n",
       " '__reduce__',\n",
       " '__reduce_ex__',\n",
       " '__repr__',\n",
       " '__reversed__',\n",
       " '__ror__',\n",
       " '__setattr__',\n",
       " '__setitem__',\n",
       " '__sizeof__',\n",
       " '__str__',\n",
       " '__subclasshook__',\n",
       " 'clear',\n",
       " 'copy',\n",
       " 'fromkeys',\n",
       " 'get',\n",
       " 'items',\n",
       " 'keys',\n",
       " 'pop',\n",
       " 'popitem',\n",
       " 'setdefault',\n",
       " 'update',\n",
       " 'values']"
      ]
     },
     "execution_count": 2,
     "metadata": {},
     "output_type": "execute_result"
    }
   ],
   "source": [
    "dir('')   # string methods\n",
    "dir([])   # list methods\n",
    "dir(())   # Tuple methods\n",
    "dir({})   # Dictionary methods"
   ]
  },
  {
   "cell_type": "code",
   "execution_count": null,
   "id": "b24b23b5-868d-4da9-8e32-2d9bf7e41c5d",
   "metadata": {},
   "outputs": [],
   "source": [
    "string \n",
    "list \n",
    "tuple \n",
    "dictionary all are class objects "
   ]
  },
  {
   "cell_type": "code",
   "execution_count": null,
   "id": "069bfd93-84fb-4d84-aec4-86fffe8802f0",
   "metadata": {},
   "outputs": [],
   "source": [
    "'clear',\n",
    "'copy',\n",
    "'fromkeys',\n",
    "'get',\n",
    "'items',\n",
    "'keys',\n",
    "'pop',\n",
    "'popitem',\n",
    "'setdefault',\n",
    "'update',\n",
    "'values'"
   ]
  },
  {
   "cell_type": "markdown",
   "id": "82818035-4235-4ebe-8c02-ebee517c6a74",
   "metadata": {},
   "source": [
    "**items-keys-values**"
   ]
  },
  {
   "cell_type": "code",
   "execution_count": 3,
   "id": "b8e48f74-ace7-42dd-b95d-5cedba241376",
   "metadata": {},
   "outputs": [
    {
     "data": {
      "text/plain": [
       "{'Girik': 25, 'Sai': 20, 'rahul': 15}"
      ]
     },
     "execution_count": 3,
     "metadata": {},
     "output_type": "execute_result"
    }
   ],
   "source": [
    "d={'Girik': 25, 'Sai':20, 'rahul':15}\n",
    "d"
   ]
  },
  {
   "cell_type": "code",
   "execution_count": 4,
   "id": "a86ceab9-912d-4647-8099-d479633235fa",
   "metadata": {},
   "outputs": [
    {
     "data": {
      "text/plain": [
       "dict_items([('Girik', 25), ('Sai', 20), ('rahul', 15)])"
      ]
     },
     "execution_count": 4,
     "metadata": {},
     "output_type": "execute_result"
    }
   ],
   "source": [
    "d.items()"
   ]
  },
  {
   "cell_type": "code",
   "execution_count": 5,
   "id": "3dbd74f7-746d-4c37-8e44-cc69b7744524",
   "metadata": {},
   "outputs": [
    {
     "data": {
      "text/plain": [
       "dict_keys(['Girik', 'Sai', 'rahul'])"
      ]
     },
     "execution_count": 5,
     "metadata": {},
     "output_type": "execute_result"
    }
   ],
   "source": [
    "d.keys()"
   ]
  },
  {
   "cell_type": "code",
   "execution_count": 6,
   "id": "95f53907-c45b-45cc-943f-9d29658ed7a5",
   "metadata": {},
   "outputs": [
    {
     "data": {
      "text/plain": [
       "dict_values([25, 20, 15])"
      ]
     },
     "execution_count": 6,
     "metadata": {},
     "output_type": "execute_result"
    }
   ],
   "source": [
    "d.values()"
   ]
  },
  {
   "cell_type": "code",
   "execution_count": 8,
   "id": "107a6296-83f9-4421-b0a4-15a9c274944c",
   "metadata": {},
   "outputs": [
    {
     "data": {
      "text/plain": [
       "{}"
      ]
     },
     "execution_count": 8,
     "metadata": {},
     "output_type": "execute_result"
    }
   ],
   "source": [
    "d.clear()\n",
    "d"
   ]
  },
  {
   "cell_type": "markdown",
   "id": "33036871-62c1-4808-82ee-c072332f4a80",
   "metadata": {},
   "source": [
    "**Method-1**"
   ]
  },
  {
   "cell_type": "code",
   "execution_count": 12,
   "id": "7c825595-9ef8-49f9-be62-0e69086d15bd",
   "metadata": {},
   "outputs": [
    {
     "name": "stdout",
     "output_type": "stream",
     "text": [
      "Girik 25\n",
      "Sai 20\n",
      "rahul 15\n"
     ]
    },
    {
     "data": {
      "text/plain": [
       "(['Girik', 'Sai', 'rahul'], [25, 20, 15])"
      ]
     },
     "execution_count": 12,
     "metadata": {},
     "output_type": "execute_result"
    }
   ],
   "source": [
    "# we already learn how to make a list from dictionary\n",
    "d={'Girik': 25, 'Sai':20, 'rahul':15}\n",
    "keys,values=[],[]\n",
    "for i in d:\n",
    "    print(i,d[i])\n",
    "    keys.append(i)\n",
    "    values.append(d[i])\n",
    "keys,values"
   ]
  },
  {
   "cell_type": "code",
   "execution_count": 16,
   "id": "faaee3d6-100d-419b-98f1-b202f60f5465",
   "metadata": {},
   "outputs": [
    {
     "data": {
      "text/plain": [
       "(['Girik', 'Sai', 'rahul'], [25, 20, 15])"
      ]
     },
     "execution_count": 16,
     "metadata": {},
     "output_type": "execute_result"
    }
   ],
   "source": [
    "list(d.keys()),list(d.values())"
   ]
  },
  {
   "cell_type": "markdown",
   "id": "93adc9b4-a768-400d-8e8a-236b663195c7",
   "metadata": {},
   "source": [
    "- Dictionary keys will give dictionary keys items in a list \n",
    "- It looks like a list, but it is not a list\n",
    "- which means we can not apply list methods\n",
    "- so we need to convert into list type, by using list type casting"
   ]
  },
  {
   "cell_type": "markdown",
   "id": "798b5206-ff77-44bd-a674-217239cf1b43",
   "metadata": {},
   "source": [
    "**Method-2**"
   ]
  },
  {
   "cell_type": "code",
   "execution_count": 20,
   "id": "eb59b4a5-571f-45c3-9030-1607d5da5ab4",
   "metadata": {},
   "outputs": [
    {
     "data": {
      "text/plain": [
       "(['Girik', 'Sai', 'rahul'], [25, 20, 15])"
      ]
     },
     "execution_count": 20,
     "metadata": {},
     "output_type": "execute_result"
    }
   ],
   "source": [
    "d={'Girik': 25, 'Sai':20, 'rahul':15}\n",
    "keys=list(d.keys())\n",
    "values=list(d.values())\n",
    "keys,values"
   ]
  },
  {
   "cell_type": "code",
   "execution_count": 18,
   "id": "c5a18e18-0d9f-47ce-b355-30f265ef48c4",
   "metadata": {},
   "outputs": [
    {
     "data": {
      "text/plain": [
       "dict_items([('Girik', 25), ('Sai', 20), ('rahul', 15)])"
      ]
     },
     "execution_count": 18,
     "metadata": {},
     "output_type": "execute_result"
    }
   ],
   "source": [
    "d.items()"
   ]
  },
  {
   "cell_type": "code",
   "execution_count": 21,
   "id": "78d20e77-4e13-4a95-86b5-9fbf4117eefc",
   "metadata": {},
   "outputs": [
    {
     "name": "stdout",
     "output_type": "stream",
     "text": [
      "('Girik', 25)\n",
      "('Sai', 20)\n",
      "('rahul', 15)\n"
     ]
    }
   ],
   "source": [
    "for i in d.items():\n",
    "    print(i)"
   ]
  },
  {
   "cell_type": "markdown",
   "id": "d6783c13-2018-4271-b500-cb7aa5acef74",
   "metadata": {},
   "source": [
    "**Method-3**"
   ]
  },
  {
   "cell_type": "code",
   "execution_count": 24,
   "id": "3b78a32e-fe31-4577-80aa-342ea9e67099",
   "metadata": {},
   "outputs": [
    {
     "name": "stdout",
     "output_type": "stream",
     "text": [
      "Girik 25\n",
      "Sai 20\n",
      "rahul 15\n"
     ]
    },
    {
     "data": {
      "text/plain": [
       "(['Girik', 'Sai', 'rahul'], [25, 20, 15])"
      ]
     },
     "execution_count": 24,
     "metadata": {},
     "output_type": "execute_result"
    }
   ],
   "source": [
    "keys,values=[],[]\n",
    "for i,j in d.items():\n",
    "    print(i,j)\n",
    "    keys.append(i)\n",
    "    values.append(j)\n",
    "keys,values"
   ]
  },
  {
   "cell_type": "code",
   "execution_count": 25,
   "id": "84fad260-693a-4a32-9473-fb136f173c89",
   "metadata": {},
   "outputs": [
    {
     "data": {
      "text/plain": [
       "['__class__',\n",
       " '__class_getitem__',\n",
       " '__contains__',\n",
       " '__delattr__',\n",
       " '__delitem__',\n",
       " '__dir__',\n",
       " '__doc__',\n",
       " '__eq__',\n",
       " '__format__',\n",
       " '__ge__',\n",
       " '__getattribute__',\n",
       " '__getitem__',\n",
       " '__getstate__',\n",
       " '__gt__',\n",
       " '__hash__',\n",
       " '__init__',\n",
       " '__init_subclass__',\n",
       " '__ior__',\n",
       " '__iter__',\n",
       " '__le__',\n",
       " '__len__',\n",
       " '__lt__',\n",
       " '__ne__',\n",
       " '__new__',\n",
       " '__or__',\n",
       " '__reduce__',\n",
       " '__reduce_ex__',\n",
       " '__repr__',\n",
       " '__reversed__',\n",
       " '__ror__',\n",
       " '__setattr__',\n",
       " '__setitem__',\n",
       " '__sizeof__',\n",
       " '__str__',\n",
       " '__subclasshook__',\n",
       " 'clear',\n",
       " 'copy',\n",
       " 'fromkeys',\n",
       " 'get',\n",
       " 'items',\n",
       " 'keys',\n",
       " 'pop',\n",
       " 'popitem',\n",
       " 'setdefault',\n",
       " 'update',\n",
       " 'values']"
      ]
     },
     "execution_count": 25,
     "metadata": {},
     "output_type": "execute_result"
    }
   ],
   "source": [
    "dir({})"
   ]
  },
  {
   "cell_type": "code",
   "execution_count": null,
   "id": "ac06cc23-61d8-45d0-bacf-0d63bfaaa6c3",
   "metadata": {},
   "outputs": [],
   "source": [
    "# Assignment explore  'clear',\n",
    " 'copy',\n",
    " 'fromkeys',\n",
    " 'get',\n",
    " 'items',\n",
    " 'keys',\n",
    " 'pop',\n",
    " 'popitem',\n",
    " 'setdefault',\n",
    " 'update',\n",
    " 'values'"
   ]
  }
 ],
 "metadata": {
  "kernelspec": {
   "display_name": "Python 3 (ipykernel)",
   "language": "python",
   "name": "python3"
  },
  "language_info": {
   "codemirror_mode": {
    "name": "ipython",
    "version": 3
   },
   "file_extension": ".py",
   "mimetype": "text/x-python",
   "name": "python",
   "nbconvert_exporter": "python",
   "pygments_lexer": "ipython3",
   "version": "3.11.7"
  }
 },
 "nbformat": 4,
 "nbformat_minor": 5
}

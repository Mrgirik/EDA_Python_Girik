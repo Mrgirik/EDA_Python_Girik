{
 "cells": [
  {
   "cell_type": "markdown",
   "id": "a50e1ebc-b956-4867-a5d9-3279866a92d1",
   "metadata": {},
   "source": [
    "## DATA TYPES\n",
    "\n",
    "- In python type declare are not required\n",
    "- python will automatically takes the type based on providedvalue\n",
    "- we have many data types available\n",
    "- the main data types are\n",
    "    - interger\n",
    "    - float\n",
    "    - boolean\n",
    "    - string\n",
    "- list\n",
    "- dictionary\n",
    "- tuple\n",
    "- complex "
   ]
  },
  {
   "cell_type": "markdown",
   "id": "629b48cc-7012-4c90-8191-a0ecd3bacc95",
   "metadata": {},
   "source": [
    "### INTEGER"
   ]
  },
  {
   "cell_type": "code",
   "execution_count": 1,
   "id": "0fbd06eb-35ba-4636-aab8-6cbe73afa6a1",
   "metadata": {},
   "outputs": [
    {
     "data": {
      "text/plain": [
       "int"
      ]
     },
     "execution_count": 1,
     "metadata": {},
     "output_type": "execute_result"
    }
   ],
   "source": [
    "n=100\n",
    "type(n)"
   ]
  },
  {
   "cell_type": "markdown",
   "id": "36c589dc-eb3a-415d-9aa0-92613a5a3c6b",
   "metadata": {},
   "source": [
    "- Binary representation\n",
    "- octa representation\n",
    "- hexa representation"
   ]
  },
  {
   "cell_type": "markdown",
   "id": "71da9ab9-edea-4a79-8208-387755a25cc1",
   "metadata": {},
   "source": [
    "**Binary**\n",
    "- bi means 2\n",
    "- so it requires 2 digits\n",
    "- Generally we have 0 1 2 3 4 5 6 7 8 9\n",
    "- so it will represent with only 0 and 1\n",
    "- representation is 0b10,0b01111,0B111\n",
    "- wrong representation 0b102,0b007"
   ]
  },
  {
   "cell_type": "code",
   "execution_count": 2,
   "id": "43946b34-3f5d-4f17-b2d3-a7ee7927864b",
   "metadata": {},
   "outputs": [
    {
     "data": {
      "text/plain": [
       "5"
      ]
     },
     "execution_count": 2,
     "metadata": {},
     "output_type": "execute_result"
    }
   ],
   "source": [
    "0b101"
   ]
  },
  {
   "cell_type": "code",
   "execution_count": 3,
   "id": "a1178371-ae70-4ddb-8021-c8b7bcef55d2",
   "metadata": {},
   "outputs": [
    {
     "data": {
      "text/plain": [
       "9"
      ]
     },
     "execution_count": 3,
     "metadata": {},
     "output_type": "execute_result"
    }
   ],
   "source": [
    "0b1001"
   ]
  },
  {
   "cell_type": "code",
   "execution_count": 1,
   "id": "3d6ab144-22e2-46e2-a3f8-e4ad15489a30",
   "metadata": {},
   "outputs": [],
   "source": [
    "import os"
   ]
  },
  {
   "cell_type": "code",
   "execution_count": 3,
   "id": "9e7f895e-6394-4db3-8f9f-f03a3ed737ca",
   "metadata": {},
   "outputs": [
    {
     "data": {
      "text/plain": [
       "'C:\\\\Users\\\\Admin-ps\\\\Documents\\\\Python'"
      ]
     },
     "execution_count": 3,
     "metadata": {},
     "output_type": "execute_result"
    }
   ],
   "source": [
    "os.getcwd()\n",
    "# get current working directory \n",
    "# it will give the path\n",
    "# where our python file is located"
   ]
  },
  {
   "cell_type": "raw",
   "id": "b0024350-bbce-43f4-a20b-96c36b17c168",
   "metadata": {},
   "source": [
    " 8  4  2   1   num \n",
    " 0  0  0   0    0\n",
    " 0  0  0   1    1\n",
    " 0  0  1   0    2\n",
    " 0  0  1   1    3\n",
    " 0  1  0   0    4\n",
    " 0  1  0   1    5\n",
    " 0  1  1   0    6\n",
    " 0  1  1   1    7\n",
    " 1  0  0   0    8\n",
    " 1  0  0   1    9\n",
    " 1  0  1   0    10\n",
    " 1  0  1   1    11\n",
    " 1  1  0   0    12\n",
    " 1  1  0   1    13\n",
    " 1  1  1   0    14\n",
    " 1  1  1   1    15"
   ]
  },
  {
   "cell_type": "code",
   "execution_count": 6,
   "id": "c1c0e705-0865-4b56-97fa-ab080af11fa4",
   "metadata": {},
   "outputs": [
    {
     "data": {
      "text/plain": [
       "29"
      ]
     },
     "execution_count": 6,
     "metadata": {},
     "output_type": "execute_result"
    }
   ],
   "source": [
    "0b11101"
   ]
  },
  {
   "cell_type": "code",
   "execution_count": 7,
   "id": "eaf8f63a-d513-498f-8d5b-191da1287e29",
   "metadata": {},
   "outputs": [
    {
     "data": {
      "text/plain": [
       "59"
      ]
     },
     "execution_count": 7,
     "metadata": {},
     "output_type": "execute_result"
    }
   ],
   "source": [
    "0b111011"
   ]
  },
  {
   "cell_type": "markdown",
   "id": "4821932d-3e89-4f04-bcad-d61d3c99aa72",
   "metadata": {},
   "source": [
    "**Octa**\n",
    "- octa means 8\n",
    "- so it requires 8 digits\n",
    "- Generally we have 0 1 2 3 4 5 6 7 8 9\n",
    "- so it will represent with only 0 1 2 3 4 5 6 7\n",
    "- representation is 0o123, 0o012345, 0O7654321\n",
    "- wrong representation 0o108, 0o987"
   ]
  },
  {
   "cell_type": "code",
   "execution_count": 9,
   "id": "0822d4d1-739d-4eb0-8793-ecc785443a89",
   "metadata": {},
   "outputs": [
    {
     "data": {
      "text/plain": [
       "83"
      ]
     },
     "execution_count": 9,
     "metadata": {},
     "output_type": "execute_result"
    }
   ],
   "source": [
    "0o123"
   ]
  },
  {
   "cell_type": "code",
   "execution_count": 12,
   "id": "5ab8f44e-b48f-4e04-ad74-938024452b8b",
   "metadata": {},
   "outputs": [
    {
     "data": {
      "text/plain": [
       "668"
      ]
     },
     "execution_count": 12,
     "metadata": {},
     "output_type": "execute_result"
    }
   ],
   "source": [
    "0o1234"
   ]
  },
  {
   "cell_type": "markdown",
   "id": "34098b97-89a4-45af-8f57-83346348cc30",
   "metadata": {},
   "source": [
    "**Hexa**\n",
    "- octa means 16\n",
    "- so it requires 16 digits\n",
    "- Generally we have 0 1 2 3 4 5 6 7 8 9 A(10) B(11) C(12) D(13) E(14) F(15)\n",
    "- so it will represent with only 0-9 A-F \n",
    "- representation is 0xF9, 0X0123abc, 0xabc\n",
    "- wrong representation 0xGH, 0xABCDEFG"
   ]
  },
  {
   "cell_type": "code",
   "execution_count": 13,
   "id": "1b6f6094-e700-408f-b010-4e9439d29970",
   "metadata": {},
   "outputs": [
    {
     "data": {
      "text/plain": [
       "2748"
      ]
     },
     "execution_count": 13,
     "metadata": {},
     "output_type": "execute_result"
    }
   ],
   "source": [
    "0xabc"
   ]
  },
  {
   "cell_type": "code",
   "execution_count": 14,
   "id": "ef1e071d-8087-4484-8d07-930aa53106f3",
   "metadata": {},
   "outputs": [
    {
     "data": {
      "text/plain": [
       "4671"
      ]
     },
     "execution_count": 14,
     "metadata": {},
     "output_type": "execute_result"
    }
   ],
   "source": [
    "0x123f"
   ]
  },
  {
   "cell_type": "markdown",
   "id": "c831c270-6bbd-46ea-9602-edf8710d2f48",
   "metadata": {},
   "source": [
    "**Float**"
   ]
  },
  {
   "cell_type": "code",
   "execution_count": 17,
   "id": "e1a3b339-0c93-4fcc-8c00-5ca8de5349d3",
   "metadata": {},
   "outputs": [
    {
     "data": {
      "text/plain": [
       "float"
      ]
     },
     "execution_count": 17,
     "metadata": {},
     "output_type": "execute_result"
    }
   ],
   "source": [
    "n1=1005.00\n",
    "type(n1)"
   ]
  },
  {
   "cell_type": "code",
   "execution_count": 18,
   "id": "0d0d129f-ddff-427e-bf1b-71ee3ff40e40",
   "metadata": {},
   "outputs": [
    {
     "data": {
      "text/plain": [
       "int"
      ]
     },
     "execution_count": 18,
     "metadata": {},
     "output_type": "execute_result"
    }
   ],
   "source": [
    "n2=1005\n",
    "type(n2)"
   ]
  },
  {
   "cell_type": "code",
   "execution_count": 19,
   "id": "227bdb5f-8f2e-47fc-a133-cba8f9ded317",
   "metadata": {},
   "outputs": [
    {
     "data": {
      "text/plain": [
       "(10.0, 100.0, 1000.0, 10000.0)"
      ]
     },
     "execution_count": 19,
     "metadata": {},
     "output_type": "execute_result"
    }
   ],
   "source": [
    "1e1,1e2,1e3,1e4\n",
    "#kep=k*10^p"
   ]
  },
  {
   "cell_type": "code",
   "execution_count": 20,
   "id": "a7290985-7ac8-4d79-ae10-e36f0488dea5",
   "metadata": {},
   "outputs": [
    {
     "data": {
      "text/plain": [
       "24000.0"
      ]
     },
     "execution_count": 20,
     "metadata": {},
     "output_type": "execute_result"
    }
   ],
   "source": [
    "24e3\n",
    "#24*10^3"
   ]
  },
  {
   "cell_type": "code",
   "execution_count": 21,
   "id": "20e20ae7-de36-4a2d-ad76-60ef4f5f0c42",
   "metadata": {},
   "outputs": [
    {
     "data": {
      "text/plain": [
       "(10.0, 100.0, 1000.0, 10000.0)"
      ]
     },
     "execution_count": 21,
     "metadata": {},
     "output_type": "execute_result"
    }
   ],
   "source": [
    "1e+1,1e+2,1e+3,1e+4"
   ]
  },
  {
   "cell_type": "markdown",
   "id": "f356432b-8dca-4003-b68c-8b88c30e2074",
   "metadata": {},
   "source": [
    "#### 1e1,1e2,1e3,1e4 is as same as 1e+1,1e+2,1e+3,1e+4"
   ]
  },
  {
   "cell_type": "code",
   "execution_count": 22,
   "id": "f7a61852-693a-4bcd-91b2-063d1e4f6ec7",
   "metadata": {},
   "outputs": [
    {
     "data": {
      "text/plain": [
       "(0.1, 0.01, 0.001, 0.0001)"
      ]
     },
     "execution_count": 22,
     "metadata": {},
     "output_type": "execute_result"
    }
   ],
   "source": [
    "1e-1,1e-2,1e-3,1e-4"
   ]
  },
  {
   "cell_type": "markdown",
   "id": "4535e1aa-97da-45cb-84f9-4a4a960a7348",
   "metadata": {},
   "source": [
    "- positive sign means multiply\n",
    "- negative means divide"
   ]
  },
  {
   "cell_type": "markdown",
   "id": "25f0794e-7d4e-45d4-a04d-f15226037d54",
   "metadata": {},
   "source": [
    "**Strings**"
   ]
  },
  {
   "cell_type": "markdown",
   "id": "47c1bd80-e539-40e8-9e8f-70cffb725419",
   "metadata": {},
   "source": [
    "- Strings are used to represent the english characters generally\n",
    "- Strings will represent in \n",
    "    - sinle quotes \n",
    "    - double quotes\n",
    "    - triple quotes"
   ]
  },
  {
   "cell_type": "code",
   "execution_count": 24,
   "id": "0fec1252-f9de-47ad-bc55-588f13c8a21b",
   "metadata": {},
   "outputs": [
    {
     "data": {
      "text/plain": [
       "str"
      ]
     },
     "execution_count": 24,
     "metadata": {},
     "output_type": "execute_result"
    }
   ],
   "source": [
    "name='girik'\n",
    "type(name)"
   ]
  },
  {
   "cell_type": "code",
   "execution_count": 26,
   "id": "28d7b142-4d24-4917-b2a8-6b0fd51e0063",
   "metadata": {},
   "outputs": [
    {
     "data": {
      "text/plain": [
       "str"
      ]
     },
     "execution_count": 26,
     "metadata": {},
     "output_type": "execute_result"
    }
   ],
   "source": [
    "name1=\"girik\"\n",
    "type(name1)"
   ]
  },
  {
   "cell_type": "markdown",
   "id": "37a24e68-67f5-4b63-9a4a-0211cd74180b",
   "metadata": {},
   "source": [
    "- **RED COLOR MEANS STRING**\n",
    "\n",
    "- **GREEN COLOR MEANS KEY WORDS**\n",
    "\n",
    "- **BLACK COLOR MEANS VARIABLES**"
   ]
  },
  {
   "cell_type": "markdown",
   "id": "c9e004b3-0fa4-424b-80fa-56006166ab2a",
   "metadata": {},
   "source": [
    "- Output always comes in single quotes"
   ]
  },
  {
   "cell_type": "code",
   "execution_count": 27,
   "id": "f8662c34-ba6f-498a-b549-557ee74ee151",
   "metadata": {},
   "outputs": [
    {
     "name": "stdout",
     "output_type": "stream",
     "text": [
      "girik\n"
     ]
    }
   ],
   "source": [
    "print(name)"
   ]
  },
  {
   "cell_type": "markdown",
   "id": "c5ba5e18-5c6d-49c9-a4fc-8c85c51e88f5",
   "metadata": {},
   "source": [
    "- Whenever you print quotes will not visible"
   ]
  },
  {
   "cell_type": "code",
   "execution_count": 39,
   "id": "d88c72be-4415-4f3b-a919-ae7c2b13d98b",
   "metadata": {},
   "outputs": [
    {
     "name": "stdout",
     "output_type": "stream",
     "text": [
      "i like \"python\"\n"
     ]
    }
   ],
   "source": [
    "name='i like \"python\"'\n",
    "print(name)"
   ]
  },
  {
   "cell_type": "code",
   "execution_count": 31,
   "id": "962413ba-7880-4550-b994-60f8cab1eecc",
   "metadata": {},
   "outputs": [
    {
     "name": "stdout",
     "output_type": "stream",
     "text": [
      "i like 'python'\n"
     ]
    }
   ],
   "source": [
    "name=\"i like 'python'\"\n",
    "print(name)"
   ]
  },
  {
   "cell_type": "markdown",
   "id": "21409a34-a712-47a7-885d-1805458e880a",
   "metadata": {},
   "source": [
    "- Entire string in double quotes the highlighted words in single quotes vice versa"
   ]
  },
  {
   "cell_type": "markdown",
   "id": "e00a8402-806d-4512-9034-4530250c6c2d",
   "metadata": {},
   "source": [
    "**Triple Quotes**\n",
    "- Triple quotes is not used for coding\n",
    "- Triple quotes is used to provide the information to the user \n",
    "- In order to provide the information in jupyter notebook we will Markdown\n",
    "- In vscode or pycharm there is no markdown option\n",
    "- Thatswhy the world start used to write information in triple quotes\n",
    "- This entire process is called **Doc string**"
   ]
  },
  {
   "cell_type": "markdown",
   "id": "f49ed31b-c158-483d-bd3b-536e4c92b977",
   "metadata": {},
   "source": [
    "**Boolean**"
   ]
  },
  {
   "cell_type": "code",
   "execution_count": 32,
   "id": "52a86fbf-888f-4602-ae5f-3774b0c7f3ad",
   "metadata": {},
   "outputs": [
    {
     "data": {
      "text/plain": [
       "bool"
      ]
     },
     "execution_count": 32,
     "metadata": {},
     "output_type": "execute_result"
    }
   ],
   "source": [
    "value=True\n",
    "type(value)"
   ]
  },
  {
   "cell_type": "code",
   "execution_count": 33,
   "id": "292c1350-c1d5-4803-a319-a131c925e96c",
   "metadata": {},
   "outputs": [
    {
     "data": {
      "text/plain": [
       "bool"
      ]
     },
     "execution_count": 33,
     "metadata": {},
     "output_type": "execute_result"
    }
   ],
   "source": [
    "value1=False\n",
    "type(value1)"
   ]
  },
  {
   "cell_type": "code",
   "execution_count": 37,
   "id": "0f044838-3f2c-4b94-9d35-a812b9b15029",
   "metadata": {},
   "outputs": [
    {
     "data": {
      "text/plain": [
       "str"
      ]
     },
     "execution_count": 37,
     "metadata": {},
     "output_type": "execute_result"
    }
   ],
   "source": [
    "true='True'\n",
    "false=False\n",
    "# true and false are variables\n",
    "# type of True is string\n",
    "# type of False is boolean\n",
    "type(true)"
   ]
  },
  {
   "cell_type": "code",
   "execution_count": 38,
   "id": "bfb606cb-cee3-4492-a4f1-7ba73d29ad47",
   "metadata": {},
   "outputs": [
    {
     "data": {
      "text/plain": [
       "bool"
      ]
     },
     "execution_count": 38,
     "metadata": {},
     "output_type": "execute_result"
    }
   ],
   "source": [
    "type(false)"
   ]
  },
  {
   "cell_type": "code",
   "execution_count": null,
   "id": "2cfda6ea-a334-428d-b928-666d59fd5dca",
   "metadata": {},
   "outputs": [],
   "source": []
  }
 ],
 "metadata": {
  "kernelspec": {
   "display_name": "Python 3 (ipykernel)",
   "language": "python",
   "name": "python3"
  },
  "language_info": {
   "codemirror_mode": {
    "name": "ipython",
    "version": 3
   },
   "file_extension": ".py",
   "mimetype": "text/x-python",
   "name": "python",
   "nbconvert_exporter": "python",
   "pygments_lexer": "ipython3",
   "version": "3.11.7"
  }
 },
 "nbformat": 4,
 "nbformat_minor": 5
}

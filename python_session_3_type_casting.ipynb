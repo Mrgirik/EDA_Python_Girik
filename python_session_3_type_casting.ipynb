{
 "cells": [
  {
   "cell_type": "markdown",
   "id": "3cdac72b-a778-4bbb-8723-b359df419230",
   "metadata": {},
   "source": [
    "# TYPE CASTING\n",
    "- convert one data type to another data type is called type casting\n",
    "- which means we wants to convert\n",
    "- integer type to all other(float,str,bool) data types\n",
    "- float type to all other other(int,str,bool) data types\n",
    "- str type to all other other(int,float,bool) data types\n",
    "- bool type to all other other(int,float,str) data types"
   ]
  },
  {
   "cell_type": "markdown",
   "id": "a7b39fbb-2c4b-4d54-a6de-0e1f2180cb3f",
   "metadata": {},
   "source": [
    "## Integer to other data types"
   ]
  },
  {
   "cell_type": "markdown",
   "id": "ddf1ebf7-877e-481b-9001-4ece0ed7b944",
   "metadata": {},
   "source": [
    "$ int-float $"
   ]
  },
  {
   "cell_type": "code",
   "execution_count": 2,
   "id": "b41454d7-0a4e-4666-86e7-084769b1474c",
   "metadata": {},
   "outputs": [
    {
     "data": {
      "text/plain": [
       "int"
      ]
     },
     "execution_count": 2,
     "metadata": {},
     "output_type": "execute_result"
    }
   ],
   "source": [
    "num=100\n",
    "type(num)"
   ]
  },
  {
   "cell_type": "code",
   "execution_count": 3,
   "id": "d324f751-c94a-4a01-8690-698d40fca33d",
   "metadata": {},
   "outputs": [
    {
     "data": {
      "text/plain": [
       "float"
      ]
     },
     "execution_count": 3,
     "metadata": {},
     "output_type": "execute_result"
    }
   ],
   "source": [
    "float_num=float(num)\n",
    "type(float_num)"
   ]
  },
  {
   "cell_type": "code",
   "execution_count": 4,
   "id": "596d45b0-930d-4af3-b5bc-0c5363ea88f3",
   "metadata": {},
   "outputs": [
    {
     "data": {
      "text/plain": [
       "'100'"
      ]
     },
     "execution_count": 4,
     "metadata": {},
     "output_type": "execute_result"
    }
   ],
   "source": [
    "str_num=str(num)\n",
    "str_num"
   ]
  },
  {
   "cell_type": "code",
   "execution_count": 5,
   "id": "52db39d7-c884-44d1-83a4-0982e01fd45f",
   "metadata": {},
   "outputs": [
    {
     "data": {
      "text/plain": [
       "str"
      ]
     },
     "execution_count": 5,
     "metadata": {},
     "output_type": "execute_result"
    }
   ],
   "source": [
    "type(str_num)"
   ]
  },
  {
   "cell_type": "code",
   "execution_count": 6,
   "id": "90ba6ba6-a9d5-4b13-a05f-4011c7319ba2",
   "metadata": {},
   "outputs": [
    {
     "data": {
      "text/plain": [
       "True"
      ]
     },
     "execution_count": 6,
     "metadata": {},
     "output_type": "execute_result"
    }
   ],
   "source": [
    "bool(num)"
   ]
  },
  {
   "cell_type": "code",
   "execution_count": 7,
   "id": "13c5d668-ffcc-4699-8281-a7e00daed5e2",
   "metadata": {},
   "outputs": [
    {
     "data": {
      "text/plain": [
       "(200.0, '200', True)"
      ]
     },
     "execution_count": 7,
     "metadata": {},
     "output_type": "execute_result"
    }
   ],
   "source": [
    "float(200), str(200),bool(200)"
   ]
  },
  {
   "cell_type": "code",
   "execution_count": 8,
   "id": "6d195ef1-0d50-4007-b63a-df43fa65d06e",
   "metadata": {},
   "outputs": [
    {
     "data": {
      "text/plain": [
       "(-200.0, '-200', True)"
      ]
     },
     "execution_count": 8,
     "metadata": {},
     "output_type": "execute_result"
    }
   ],
   "source": [
    "float(-200), str(-200),bool(-200)"
   ]
  },
  {
   "cell_type": "code",
   "execution_count": 10,
   "id": "1bb834d0-4930-4e10-b3ad-303d67a5f263",
   "metadata": {},
   "outputs": [
    {
     "data": {
      "text/plain": [
       "(0.0, '0', False)"
      ]
     },
     "execution_count": 10,
     "metadata": {},
     "output_type": "execute_result"
    }
   ],
   "source": [
    "float(0), str(0),bool(0)\n",
    "# when integer of boolean conversion becomes zero"
   ]
  },
  {
   "cell_type": "markdown",
   "id": "a0bddb06-ca2e-4ce6-9231-e14acf9114db",
   "metadata": {},
   "source": [
    "**Note**\n",
    "- Integer =0 then only boolean conversion becomes false\n",
    "- Otherwise for any positive number or any negative number it becomes true"
   ]
  },
  {
   "cell_type": "markdown",
   "id": "4d299286-a31f-43dd-9206-20824ab8ab32",
   "metadata": {},
   "source": [
    "## Float to another data type"
   ]
  },
  {
   "cell_type": "code",
   "execution_count": 11,
   "id": "4829fc42-5235-4cf8-b077-7a7651003d82",
   "metadata": {},
   "outputs": [
    {
     "data": {
      "text/plain": [
       "(200, '200.5', True)"
      ]
     },
     "execution_count": 11,
     "metadata": {},
     "output_type": "execute_result"
    }
   ],
   "source": [
    "int(200.5),str(200.5),bool(200.5)"
   ]
  },
  {
   "cell_type": "markdown",
   "id": "5c5e0052-44cd-4f26-83c4-b38ff3b55958",
   "metadata": {},
   "source": [
    "## String to another data type"
   ]
  },
  {
   "cell_type": "markdown",
   "id": "2e68c5ec-56ba-4b2b-b010-53ed00202897",
   "metadata": {},
   "source": [
    "#case-1\n",
    "str='apple'\n",
    "#case-2\n",
    "str1='10'\n",
    "#case-3\n",
    "str2='10.5'"
   ]
  },
  {
   "cell_type": "code",
   "execution_count": 16,
   "id": "d016e73b-6944-4bef-9573-a113201dd047",
   "metadata": {},
   "outputs": [
    {
     "ename": "ValueError",
     "evalue": "invalid literal for int() with base 10: 'apple'",
     "output_type": "error",
     "traceback": [
      "\u001b[1;31m---------------------------------------------------------------------------\u001b[0m",
      "\u001b[1;31mValueError\u001b[0m                                Traceback (most recent call last)",
      "Cell \u001b[1;32mIn[16], line 1\u001b[0m\n\u001b[1;32m----> 1\u001b[0m \u001b[38;5;28mint\u001b[39m(\u001b[38;5;124m'\u001b[39m\u001b[38;5;124mapple\u001b[39m\u001b[38;5;124m'\u001b[39m)\n",
      "\u001b[1;31mValueError\u001b[0m: invalid literal for int() with base 10: 'apple'"
     ]
    }
   ],
   "source": [
    "int('apple')"
   ]
  },
  {
   "cell_type": "code",
   "execution_count": 17,
   "id": "0ca15f7e-9d25-4faf-8fcd-b799b9190688",
   "metadata": {},
   "outputs": [
    {
     "ename": "ValueError",
     "evalue": "could not convert string to float: 'apple'",
     "output_type": "error",
     "traceback": [
      "\u001b[1;31m---------------------------------------------------------------------------\u001b[0m",
      "\u001b[1;31mValueError\u001b[0m                                Traceback (most recent call last)",
      "Cell \u001b[1;32mIn[17], line 1\u001b[0m\n\u001b[1;32m----> 1\u001b[0m \u001b[38;5;28mfloat\u001b[39m(\u001b[38;5;124m'\u001b[39m\u001b[38;5;124mapple\u001b[39m\u001b[38;5;124m'\u001b[39m)\n",
      "\u001b[1;31mValueError\u001b[0m: could not convert string to float: 'apple'"
     ]
    }
   ],
   "source": [
    "float('apple')"
   ]
  },
  {
   "cell_type": "code",
   "execution_count": 18,
   "id": "95c8ec8e-0b60-475e-a949-dcd6e024dfb0",
   "metadata": {},
   "outputs": [
    {
     "data": {
      "text/plain": [
       "True"
      ]
     },
     "execution_count": 18,
     "metadata": {},
     "output_type": "execute_result"
    }
   ],
   "source": [
    "bool('apple')"
   ]
  },
  {
   "cell_type": "code",
   "execution_count": 19,
   "id": "24c5b1c8-ca77-4d36-ab4c-cb4b09de8817",
   "metadata": {},
   "outputs": [
    {
     "data": {
      "text/plain": [
       "(10, 10.0, True)"
      ]
     },
     "execution_count": 19,
     "metadata": {},
     "output_type": "execute_result"
    }
   ],
   "source": [
    "int('10'),float('10'),bool('10')"
   ]
  },
  {
   "cell_type": "code",
   "execution_count": 21,
   "id": "d41e5372-5dcd-4333-a649-27a2789af73e",
   "metadata": {},
   "outputs": [
    {
     "data": {
      "text/plain": [
       "(10.5, True)"
      ]
     },
     "execution_count": 21,
     "metadata": {},
     "output_type": "execute_result"
    }
   ],
   "source": [
    "float('10.5'),bool('10.5')"
   ]
  },
  {
   "cell_type": "markdown",
   "id": "5b873565-59ee-4254-affd-90af3b82ae86",
   "metadata": {},
   "source": [
    "- Float is the boss\n",
    "- Float of any value either it is integer in strings format\n",
    "- or float in strings format will works\n",
    "- But integer will works only for integer in strings format\n",
    "- Integer type casting will fail for float in strings format\n",
    "- empty string of bool always gives false\n",
    "- false means nothing either 0 or empty string"
   ]
  },
  {
   "cell_type": "code",
   "execution_count": 23,
   "id": "1de88e9a-59bc-44fd-8f53-c61d658fbf82",
   "metadata": {},
   "outputs": [
    {
     "data": {
      "text/plain": [
       "True"
      ]
     },
     "execution_count": 23,
     "metadata": {},
     "output_type": "execute_result"
    }
   ],
   "source": [
    "bool('0')"
   ]
  },
  {
   "cell_type": "markdown",
   "id": "9d8a3237-da37-42a5-9c54-0ece4efddcd1",
   "metadata": {},
   "source": [
    "## Boolean to other data types"
   ]
  },
  {
   "cell_type": "code",
   "execution_count": 24,
   "id": "4b9995dc-60ca-4712-911c-427b5e52243d",
   "metadata": {},
   "outputs": [
    {
     "data": {
      "text/plain": [
       "1"
      ]
     },
     "execution_count": 24,
     "metadata": {},
     "output_type": "execute_result"
    }
   ],
   "source": [
    "int(True)"
   ]
  },
  {
   "cell_type": "code",
   "execution_count": 34,
   "id": "48d8e9da-c26e-426a-965f-a363583c754f",
   "metadata": {},
   "outputs": [
    {
     "data": {
      "text/plain": [
       "1.0"
      ]
     },
     "execution_count": 34,
     "metadata": {},
     "output_type": "execute_result"
    }
   ],
   "source": [
    "float(True)"
   ]
  },
  {
   "cell_type": "code",
   "execution_count": null,
   "id": "968fefb5-c219-4fab-b994-821de6873461",
   "metadata": {},
   "outputs": [],
   "source": []
  }
 ],
 "metadata": {
  "kernelspec": {
   "display_name": "Python 3 (ipykernel)",
   "language": "python",
   "name": "python3"
  },
  "language_info": {
   "codemirror_mode": {
    "name": "ipython",
    "version": 3
   },
   "file_extension": ".py",
   "mimetype": "text/x-python",
   "name": "python",
   "nbconvert_exporter": "python",
   "pygments_lexer": "ipython3",
   "version": "3.11.7"
  }
 },
 "nbformat": 4,
 "nbformat_minor": 5
}

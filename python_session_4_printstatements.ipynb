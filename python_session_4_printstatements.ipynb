{
 "cells": [
  {
   "cell_type": "code",
   "execution_count": 1,
   "id": "ba7a5416-b071-47a8-ab0d-5168fdb32105",
   "metadata": {},
   "outputs": [
    {
     "name": "stdout",
     "output_type": "stream",
     "text": [
      "10\n"
     ]
    }
   ],
   "source": [
    "print(10)"
   ]
  },
  {
   "cell_type": "code",
   "execution_count": 2,
   "id": "6d73e3ef-f756-471c-badf-4641c4577d56",
   "metadata": {},
   "outputs": [
    {
     "name": "stdout",
     "output_type": "stream",
     "text": [
      "python\n"
     ]
    }
   ],
   "source": [
    "print('python')"
   ]
  },
  {
   "cell_type": "code",
   "execution_count": 3,
   "id": "5c55b44c-ad52-4228-81f8-4f68e9dfa1bf",
   "metadata": {},
   "outputs": [
    {
     "name": "stdout",
     "output_type": "stream",
     "text": [
      "10 20 30\n"
     ]
    }
   ],
   "source": [
    "print(10,20,30)"
   ]
  },
  {
   "cell_type": "code",
   "execution_count": 4,
   "id": "c9636906-7651-4f62-b8b1-0ddeb9c2c50c",
   "metadata": {},
   "outputs": [
    {
     "name": "stdout",
     "output_type": "stream",
     "text": [
      "10 10.5 Naresh IT True\n"
     ]
    }
   ],
   "source": [
    "print(10,10.5,'Naresh IT',True)"
   ]
  },
  {
   "cell_type": "code",
   "execution_count": 5,
   "id": "52b09c26-bbf4-4183-8bd2-528af697da23",
   "metadata": {},
   "outputs": [
    {
     "name": "stdout",
     "output_type": "stream",
     "text": [
      "10 20\n"
     ]
    }
   ],
   "source": [
    "n1=10\n",
    "n2=20\n",
    "print(n1,n2)"
   ]
  },
  {
   "cell_type": "code",
   "execution_count": 10,
   "id": "55e1fde6-088e-4d22-bd38-8783c5948242",
   "metadata": {},
   "outputs": [
    {
     "name": "stdout",
     "output_type": "stream",
     "text": [
      "the addition of 10 and 20 is 30\n"
     ]
    }
   ],
   "source": [
    "a=10\n",
    "b=20\n",
    "c=a+b\n",
    "print('the addition of' ,a, 'and', b, 'is',c)"
   ]
  },
  {
   "cell_type": "markdown",
   "id": "13c2063c-88e4-4b70-a445-abe67eebe333",
   "metadata": {},
   "source": [
    "**Format method**"
   ]
  },
  {
   "cell_type": "code",
   "execution_count": 11,
   "id": "25c18f5e-6c44-46ea-9cac-fb0ccc73a25d",
   "metadata": {},
   "outputs": [
    {
     "name": "stdout",
     "output_type": "stream",
     "text": [
      "the addition of 10 and 20 is 30\n"
     ]
    }
   ],
   "source": [
    "print('the addition of {} and {} is {}'.format(a,b,c))"
   ]
  },
  {
   "cell_type": "code",
   "execution_count": 16,
   "id": "bfa761e9-1714-4db3-83d3-56e02c398677",
   "metadata": {},
   "outputs": [
    {
     "name": "stdout",
     "output_type": "stream",
     "text": [
      "my name is girik im 21 years old im from hyderabad\n"
     ]
    }
   ],
   "source": [
    "name='girik'\n",
    "age=21\n",
    "city='hyderabad'\n",
    "print('my name is {} im {} years old im from {}'.format(name,age,city))"
   ]
  },
  {
   "cell_type": "code",
   "execution_count": 18,
   "id": "5bfdb8a5-f304-4e82-a07d-98ff986da748",
   "metadata": {},
   "outputs": [
    {
     "name": "stdout",
     "output_type": "stream",
     "text": [
      "my name is girik my role is developer my company name is microsoft\n"
     ]
    }
   ],
   "source": [
    "employee_name='girik'\n",
    "employee_role='developer'\n",
    "company='microsoft'\n",
    "print('my name is {} my role is {} my company name is {}'.format(employee_name,employee_role,company))"
   ]
  },
  {
   "cell_type": "markdown",
   "id": "b8e05447-104a-422b-8364-578df3a2171d",
   "metadata": {},
   "source": [
    "**f-String Method**"
   ]
  },
  {
   "cell_type": "code",
   "execution_count": 19,
   "id": "9bba8519-4dff-4cf9-8c7b-1f44f0d6afb1",
   "metadata": {},
   "outputs": [
    {
     "name": "stdout",
     "output_type": "stream",
     "text": [
      "my name is girik im 21 years old im from hyderabad\n"
     ]
    }
   ],
   "source": [
    "name='girik'\n",
    "age=21\n",
    "city='hyderabad'\n",
    "print(f'my name is {name} im {age} years old im from {city}')"
   ]
  },
  {
   "cell_type": "code",
   "execution_count": 20,
   "id": "48da883e-757a-44f5-ab71-327d2255d1de",
   "metadata": {},
   "outputs": [
    {
     "name": "stdout",
     "output_type": "stream",
     "text": [
      "my name is 10 im 20 years old im from 30\n"
     ]
    }
   ],
   "source": [
    "print(f'my name is {a} im {b} years old im from {c}')"
   ]
  },
  {
   "cell_type": "code",
   "execution_count": 1,
   "id": "fe7add21-c89e-4928-92b6-df7d21ad2dc3",
   "metadata": {},
   "outputs": [
    {
     "name": "stdout",
     "output_type": "stream",
     "text": [
      "the average of 100 and 200 is 150.0\n"
     ]
    }
   ],
   "source": [
    "num1=100\n",
    "num2=200\n",
    "average=(num1+num2)/2\n",
    "# the average of 100 and 200 is : 15\n",
    "print(f'the average of {num1} and {num2} is {average}')"
   ]
  },
  {
   "cell_type": "code",
   "execution_count": 3,
   "id": "e885a124-4c8d-4e87-85ef-b4e37578ced3",
   "metadata": {},
   "outputs": [
    {
     "name": "stdout",
     "output_type": "stream",
     "text": [
      "the average of 100 and 200 is 150.0\n"
     ]
    }
   ],
   "source": [
    "num1=100\n",
    "num2=200\n",
    "average=(num1+num2)/2\n",
    "# the average of 100 and 200 is : 15\n",
    "print('the average of {} and {} is {}'.format(num1,num2,average))"
   ]
  },
  {
   "cell_type": "code",
   "execution_count": 9,
   "id": "5976299f-1d62-4646-86e1-1ee20999c0e6",
   "metadata": {},
   "outputs": [
    {
     "name": "stdout",
     "output_type": "stream",
     "text": [
      "the area of circle is 314.0\n",
      "the area of circle is:314.0\n"
     ]
    }
   ],
   "source": [
    "#take the radius of circle \n",
    "#take the pi value =3.14\n",
    "#find the area of the circle=pi*r*r\n",
    "r=10\n",
    "pi=3.14\n",
    "a=pi*r*r\n",
    "print(f'the area of circle is {a}')\n",
    "print('the area of circle is:{}'.format(a))"
   ]
  },
  {
   "cell_type": "code",
   "execution_count": 14,
   "id": "c1b74c13-19b0-43a3-97a8-ca2d1ef7c39b",
   "metadata": {},
   "outputs": [
    {
     "name": "stdout",
     "output_type": "stream",
     "text": [
      "the area of triangle is 100.0\n",
      "the area of triangle is 100.0\n"
     ]
    }
   ],
   "source": [
    "#take the base of the triangle\n",
    "# take the height of the triangle\n",
    "#area of the triangle =1/2*base*height\n",
    "b=10\n",
    "h=20\n",
    "t=1/2*b*h\n",
    "print(f'the area of triangle is {t}')\n",
    "print('the area of triangle is {}'.format(t))"
   ]
  },
  {
   "cell_type": "code",
   "execution_count": 35,
   "id": "decd18d8-415f-4f61-a6c2-d5b0afbd897d",
   "metadata": {},
   "outputs": [
    {
     "name": "stdout",
     "output_type": "stream",
     "text": [
      "the total bill is 1100.0\n"
     ]
    }
   ],
   "source": [
    "# take the bill amount\n",
    "# take the tip percentage\n",
    "# calculate tip amount\n",
    "# calculate the total bill\n",
    "# print the total bill\n",
    "bill_amount=1000\n",
    "tip_percentage=0.1\n",
    "tip_amount=bill_amount*tip_percentage\n",
    "total_bill= bill_amount+tip_amount\n",
    "print(f\"the total bill is {total_bill}\")"
   ]
  },
  {
   "cell_type": "markdown",
   "id": "1d8fdaff-7413-4f8c-8089-234ad3b28b4e",
   "metadata": {},
   "source": [
    "$end$\n",
    "- combining multiple print statements in a sinle statement"
   ]
  },
  {
   "cell_type": "code",
   "execution_count": 33,
   "id": "58a70964-2704-4fff-9184-ab1460921028",
   "metadata": {},
   "outputs": [
    {
     "name": "stdout",
     "output_type": "stream",
     "text": [
      "10 20\n"
     ]
    }
   ],
   "source": [
    "print(10,end=' ')\n",
    "print(20)"
   ]
  },
  {
   "cell_type": "code",
   "execution_count": 34,
   "id": "084aff7f-c7d7-4499-83d3-40381246847d",
   "metadata": {},
   "outputs": [
    {
     "name": "stdout",
     "output_type": "stream",
     "text": [
      "10 20 30\n"
     ]
    }
   ],
   "source": [
    "print(10,end=' ')\n",
    "print(20,end=' ')\n",
    "print(30)"
   ]
  },
  {
   "cell_type": "markdown",
   "id": "a9a3ec90-2af3-4f5f-801c-a27941be9ade",
   "metadata": {},
   "source": [
    "$sep$\n",
    "- seperate the multiple values in a single print statement"
   ]
  },
  {
   "cell_type": "code",
   "execution_count": 38,
   "id": "1fb456f3-a7f7-455b-bfbc-fc8e4346a665",
   "metadata": {},
   "outputs": [
    {
     "name": "stdout",
     "output_type": "stream",
     "text": [
      "10---> 20---> 30\n"
     ]
    }
   ],
   "source": [
    "print(10,20,30,sep='---> ')\n"
   ]
  },
  {
   "cell_type": "code",
   "execution_count": 39,
   "id": "918c20b8-7937-4ef7-949e-5666b6ff57c1",
   "metadata": {},
   "outputs": [
    {
     "name": "stdout",
     "output_type": "stream",
     "text": [
      "the addition of 5 and 3 is 8.\n"
     ]
    }
   ],
   "source": [
    "print(f'the addition of {5} and {3} is {5+3}.')"
   ]
  },
  {
   "cell_type": "code",
   "execution_count": 41,
   "id": "f4b30c51-7fde-4751-ac15-f9e8ce3dd51c",
   "metadata": {},
   "outputs": [
    {
     "name": "stdout",
     "output_type": "stream",
     "text": [
      "the addition of 5 and 3 is 8.\n"
     ]
    }
   ],
   "source": [
    "print('the addition of {} and {} is {}.'.format(5,3,5+3))"
   ]
  },
  {
   "cell_type": "code",
   "execution_count": null,
   "id": "c9fb2437-74fd-4204-9728-3d800db2158d",
   "metadata": {},
   "outputs": [],
   "source": []
  }
 ],
 "metadata": {
  "kernelspec": {
   "display_name": "Python 3 (ipykernel)",
   "language": "python",
   "name": "python3"
  },
  "language_info": {
   "codemirror_mode": {
    "name": "ipython",
    "version": 3
   },
   "file_extension": ".py",
   "mimetype": "text/x-python",
   "name": "python",
   "nbconvert_exporter": "python",
   "pygments_lexer": "ipython3",
   "version": "3.11.7"
  }
 },
 "nbformat": 4,
 "nbformat_minor": 5
}

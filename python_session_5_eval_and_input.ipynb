{
 "cells": [
  {
   "cell_type": "code",
   "execution_count": 6,
   "id": "0073ab42-091b-4e24-9890-cc034efc1d90",
   "metadata": {},
   "outputs": [
    {
     "name": "stdout",
     "output_type": "stream",
     "text": [
      "300\n"
     ]
    }
   ],
   "source": [
    "num1=100\n",
    "num2=200\n",
    "add=num1+num2\n",
    "print(add)"
   ]
  },
  {
   "cell_type": "markdown",
   "id": "7d5c8bd7-f4e7-44c6-ab33-fb606fca29da",
   "metadata": {},
   "source": [
    "$input$\n",
    "\n",
    "- input keyword is used to take the values from user"
   ]
  },
  {
   "cell_type": "code",
   "execution_count": 3,
   "id": "647c704f-457b-4962-a4ae-b856113c922b",
   "metadata": {},
   "outputs": [
    {
     "name": "stdin",
     "output_type": "stream",
     "text": [
      " 12\n"
     ]
    },
    {
     "data": {
      "text/plain": [
       "'12'"
      ]
     },
     "execution_count": 3,
     "metadata": {},
     "output_type": "execute_result"
    }
   ],
   "source": [
    "input()"
   ]
  },
  {
   "cell_type": "code",
   "execution_count": 5,
   "id": "08988da9-6386-488c-ae03-4334923e9952",
   "metadata": {},
   "outputs": [
    {
     "name": "stdin",
     "output_type": "stream",
     "text": [
      "enter the number 100\n"
     ]
    },
    {
     "data": {
      "text/plain": [
       "'100'"
      ]
     },
     "execution_count": 5,
     "metadata": {},
     "output_type": "execute_result"
    }
   ],
   "source": [
    "input('enter the number')"
   ]
  },
  {
   "cell_type": "code",
   "execution_count": 7,
   "id": "7d86ebb6-c92e-4d53-8610-981d623f502d",
   "metadata": {},
   "outputs": [
    {
     "name": "stdin",
     "output_type": "stream",
     "text": [
      " 100\n",
      " 200\n"
     ]
    },
    {
     "data": {
      "text/plain": [
       "'200'"
      ]
     },
     "execution_count": 7,
     "metadata": {},
     "output_type": "execute_result"
    }
   ],
   "source": [
    "input()\n",
    "input()"
   ]
  },
  {
   "cell_type": "code",
   "execution_count": 8,
   "id": "0061990b-58fc-4a59-9233-b26cce2bf47c",
   "metadata": {},
   "outputs": [
    {
     "name": "stdin",
     "output_type": "stream",
     "text": [
      " 100\n",
      " 200\n",
      " 300\n"
     ]
    },
    {
     "data": {
      "text/plain": [
       "'300'"
      ]
     },
     "execution_count": 8,
     "metadata": {},
     "output_type": "execute_result"
    }
   ],
   "source": [
    "input()\n",
    "input()\n",
    "input()"
   ]
  },
  {
   "cell_type": "code",
   "execution_count": 9,
   "id": "aced4a79-b17d-494f-8e68-bd08fb82df75",
   "metadata": {},
   "outputs": [
    {
     "name": "stdin",
     "output_type": "stream",
     "text": [
      "enter the number1: 100\n",
      "enter the number2: 200\n",
      "enter the number3: 300\n"
     ]
    },
    {
     "data": {
      "text/plain": [
       "'300'"
      ]
     },
     "execution_count": 9,
     "metadata": {},
     "output_type": "execute_result"
    }
   ],
   "source": [
    "input('enter the number1:')\n",
    "input('enter the number2:')\n",
    "input('enter the number3:')"
   ]
  },
  {
   "cell_type": "code",
   "execution_count": 12,
   "id": "00ebad96-cc7e-4862-af5a-d86ac67300a7",
   "metadata": {},
   "outputs": [
    {
     "name": "stdin",
     "output_type": "stream",
     "text": [
      "enter the number1: 100\n",
      "enter the number2: 200\n"
     ]
    }
   ],
   "source": [
    "num1=input('enter the number1:')\n",
    "num2=input('enter the number2:')"
   ]
  },
  {
   "cell_type": "code",
   "execution_count": 13,
   "id": "4339367e-04ed-48bf-9a8f-2c7c9ff01d42",
   "metadata": {},
   "outputs": [
    {
     "data": {
      "text/plain": [
       "'100'"
      ]
     },
     "execution_count": 13,
     "metadata": {},
     "output_type": "execute_result"
    }
   ],
   "source": [
    "num1"
   ]
  },
  {
   "cell_type": "markdown",
   "id": "28a76262-6a36-4f25-b2fb-a8aa9baee37a",
   "metadata": {},
   "source": [
    "**Note**\n",
    "- Input alwasy gives the string data type only\n",
    "- In order to perform math calculations we need to convert in numerical format i.e., int or float"
   ]
  },
  {
   "cell_type": "code",
   "execution_count": 14,
   "id": "83d3c21b-7786-438d-94ae-5f7f2fa5364f",
   "metadata": {},
   "outputs": [
    {
     "name": "stdin",
     "output_type": "stream",
     "text": [
      " 100\n"
     ]
    },
    {
     "data": {
      "text/plain": [
       "'100'"
      ]
     },
     "execution_count": 14,
     "metadata": {},
     "output_type": "execute_result"
    }
   ],
   "source": [
    "input()"
   ]
  },
  {
   "cell_type": "code",
   "execution_count": 16,
   "id": "be285aab-791b-4773-8edc-145a3c49b775",
   "metadata": {},
   "outputs": [
    {
     "name": "stdin",
     "output_type": "stream",
     "text": [
      "enter the number: 100\n"
     ]
    },
    {
     "data": {
      "text/plain": [
       "'100'"
      ]
     },
     "execution_count": 16,
     "metadata": {},
     "output_type": "execute_result"
    }
   ],
   "source": [
    "input('enter the number:')"
   ]
  },
  {
   "cell_type": "code",
   "execution_count": 20,
   "id": "401b7a6f-5cbd-4814-8708-96f31123faea",
   "metadata": {},
   "outputs": [
    {
     "name": "stdin",
     "output_type": "stream",
     "text": [
      "enter the number1: 100\n",
      "enter the number2: 200\n"
     ]
    },
    {
     "name": "stdout",
     "output_type": "stream",
     "text": [
      "the addition of 100 and 200 is 300\n"
     ]
    }
   ],
   "source": [
    "num1=int(input('enter the number1:')) #num1=int('100')\n",
    "num2=int(input('enter the number2:'))#num2=int('200')\n",
    "add=num1+num2 # 100 + 200 = 300\n",
    "print(f'the addition of {num1} and {num2} is {add}')"
   ]
  },
  {
   "cell_type": "code",
   "execution_count": 22,
   "id": "e830aa4f-8d77-4f01-94fa-4b54b39e1f5e",
   "metadata": {},
   "outputs": [
    {
     "name": "stdin",
     "output_type": "stream",
     "text": [
      "enter the number1: 200\n",
      "enter the number2: 100\n"
     ]
    },
    {
     "data": {
      "text/plain": [
       "300"
      ]
     },
     "execution_count": 22,
     "metadata": {},
     "output_type": "execute_result"
    }
   ],
   "source": [
    "num1=input('enter the number1:') #num1=int('100')=100\n",
    "num2=input('enter the number2:') #num2=int('200')=200\n",
    "int(num1)+int(num2)"
   ]
  },
  {
   "cell_type": "markdown",
   "id": "1ba8cea2-fe6b-4fe0-9423-37e6d8682646",
   "metadata": {},
   "source": [
    "$eval$\n",
    "\n",
    "- eval means evaluate\n",
    "- eval will take the what ever the number we enter, eval will convert to corresponding data type"
   ]
  },
  {
   "cell_type": "code",
   "execution_count": 24,
   "id": "506227e4-4fb8-44ae-aa89-f73b69f1a3f5",
   "metadata": {},
   "outputs": [
    {
     "name": "stdin",
     "output_type": "stream",
     "text": [
      " 100.05\n"
     ]
    },
    {
     "data": {
      "text/plain": [
       "100.05"
      ]
     },
     "execution_count": 24,
     "metadata": {},
     "output_type": "execute_result"
    }
   ],
   "source": [
    "eval(input())"
   ]
  },
  {
   "cell_type": "code",
   "execution_count": 25,
   "id": "7bdef0f2-dbfb-4231-99d2-9143a59cf9a1",
   "metadata": {},
   "outputs": [
    {
     "name": "stdin",
     "output_type": "stream",
     "text": [
      "enter the number1: 100\n",
      "enter the number2: 200\n"
     ]
    },
    {
     "name": "stdout",
     "output_type": "stream",
     "text": [
      "the addition of 100 and 200 is 300\n"
     ]
    }
   ],
   "source": [
    "num1=eval(input('enter the number1:')) #num1=int('100')\n",
    "num2=eval(input('enter the number2:'))#num2=int('200')\n",
    "add=num1+num2 # 100 + 200 = 300\n",
    "print(f'the addition of {num1} and {num2} is {add}')"
   ]
  },
  {
   "cell_type": "code",
   "execution_count": null,
   "id": "8c6b24ed-ccf9-4ba5-a0ec-61d3ec31748d",
   "metadata": {},
   "outputs": [],
   "source": [
    "# wap ask the user enter 3 numbers  calculate average\n",
    "# wap ask the user enter the 2 numbers find the substraction , addition,multiplication and division\n",
    "# wap ask the user enter radius values find the area of circle\n",
    "# wap ask the user bill amount,\n",
    "#        ask the user how much tip you want to pay in percentage \n",
    "#        calculate total bill\n",
    "# wap ask the user bill amount in dollars\n",
    "#    ask the user one dollar  is equal to\n",
    "#   print the bill amount in rupees\n",
    "\n",
    "#wap ask the user enter base height calculate area of the triangle \n",
    "# wap ask the user enter length and breath calculate area of the rectangle"
   ]
  },
  {
   "cell_type": "code",
   "execution_count": 29,
   "id": "e8dd1161-52ba-47cc-920d-10a048f7376b",
   "metadata": {},
   "outputs": [
    {
     "name": "stdin",
     "output_type": "stream",
     "text": [
      "enter a number : 100\n",
      "enter a number : 200\n"
     ]
    },
    {
     "name": "stdout",
     "output_type": "stream",
     "text": [
      "the average of 100 and 200 is 150.0\n"
     ]
    }
   ],
   "source": [
    "# wap ask the user enter 3 numbers  calculate average\n",
    "num1=eval(input('enter a number :'))\n",
    "num2=eval(input('enter a number :'))\n",
    "average=(num1+num2)/2\n",
    "# the average of 100 and 200 is : 15\n",
    "print('the average of {} and {} is {}'.format(num1,num2,average))"
   ]
  },
  {
   "cell_type": "code",
   "execution_count": 30,
   "id": "6af95145-c138-44c2-9848-3eacf22fea8e",
   "metadata": {},
   "outputs": [
    {
     "name": "stdin",
     "output_type": "stream",
     "text": [
      "enter a number1 : 20\n",
      "enter a number2 : 20\n"
     ]
    },
    {
     "name": "stdout",
     "output_type": "stream",
     "text": [
      "the addition of 20 and 20 is 40\n",
      "the substraction of 20 and 20 is 0\n",
      "the multiplication of 20 and 20 is 400\n",
      "the division of 20 and 20 is 1.0\n"
     ]
    }
   ],
   "source": [
    "# wap ask the user enter the 2 numbers find the substraction , addition,multiplication and division\n",
    "a=eval(input('enter a number1 :'))\n",
    "b=eval(input('enter a number2 :'))\n",
    "c=a+b\n",
    "d=a-b\n",
    "e=a*b\n",
    "g=a/b\n",
    "print(f'the addition of {a} and {b} is {c}')\n",
    "print(f'the substraction of {a} and {b} is {d}')\n",
    "print(f'the multiplication of {a} and {b} is {e}')\n",
    "print(f'the division of {a} and {b} is {g}')"
   ]
  },
  {
   "cell_type": "code",
   "execution_count": 34,
   "id": "39ddf2c2-63dd-475b-91dc-c50a18884cb3",
   "metadata": {},
   "outputs": [
    {
     "name": "stdin",
     "output_type": "stream",
     "text": [
      "enter the radius : 100\n"
     ]
    },
    {
     "name": "stdout",
     "output_type": "stream",
     "text": [
      "the area of circle is 31400.0\n",
      "the area of circle is:31400.0\n"
     ]
    }
   ],
   "source": [
    "# wap ask the user enter radius values find the area of circle\n",
    "r=eval(input('enter the radius :'))\n",
    "pi=3.14\n",
    "a=pi*r*r\n",
    "print(f'the area of circle is {a}')\n",
    "print('the area of circle is:{}'.format(a))"
   ]
  },
  {
   "cell_type": "code",
   "execution_count": 33,
   "id": "14876c5a-7fc4-4a42-bbfb-c259f1d1d65a",
   "metadata": {},
   "outputs": [
    {
     "name": "stdin",
     "output_type": "stream",
     "text": [
      "enter amount : 1000\n",
      "enter percentage : 0.1\n"
     ]
    },
    {
     "name": "stdout",
     "output_type": "stream",
     "text": [
      "the total bill is 1100.0\n"
     ]
    }
   ],
   "source": [
    "# wap ask the user bill amount,\n",
    "#        ask the user how much tip you want to pay in percentage \n",
    "#        calculate total bill\n",
    "bill_amount=eval(input('enter amount :'))\n",
    "tip_percentage=eval(input('enter percentage :'))\n",
    "tip_amount=bill_amount*tip_percentage\n",
    "total_bill= bill_amount+tip_amount\n",
    "print(f\"the total bill is {total_bill}\")"
   ]
  },
  {
   "cell_type": "code",
   "execution_count": null,
   "id": "512eeb59-7b22-4104-8881-d0225389a896",
   "metadata": {},
   "outputs": [],
   "source": []
  }
 ],
 "metadata": {
  "kernelspec": {
   "display_name": "Python 3 (ipykernel)",
   "language": "python",
   "name": "python3"
  },
  "language_info": {
   "codemirror_mode": {
    "name": "ipython",
    "version": 3
   },
   "file_extension": ".py",
   "mimetype": "text/x-python",
   "name": "python",
   "nbconvert_exporter": "python",
   "pygments_lexer": "ipython3",
   "version": "3.11.7"
  }
 },
 "nbformat": 4,
 "nbformat_minor": 5
}

{
 "cells": [
  {
   "cell_type": "markdown",
   "id": "419ea88e-e37e-4ed1-bf14-66d5f66083e7",
   "metadata": {},
   "source": [
    "- lets assume that our frnd is a coder\n",
    "- he created an addition program\n",
    "- he feels that he only created an addition program\n",
    "- he wants to give this program to every one === package\n",
    "- he went to anaconda organisation\n",
    "- he makes a deal\n",
    "- who ever installed anaconda my package also automatically download\n",
    "- thats why when you are downlading anaconda a green color pop is comes means so many\n",
    "- packages are tie with anaconda downloading in your local laptop"
   ]
  },
  {
   "cell_type": "markdown",
   "id": "458ebdf9-7702-490b-9f1e-f5b52d0a6d8f",
   "metadata": {},
   "source": [
    "**import**"
   ]
  },
  {
   "cell_type": "code",
   "execution_count": null,
   "id": "ecf16306-a08c-402c-bc3d-792fef3f9104",
   "metadata": {},
   "outputs": [],
   "source": [
    "# syntax\n",
    "#inport <package_name>"
   ]
  },
  {
   "cell_type": "code",
   "execution_count": 2,
   "id": "b8bbb44b-59fb-40e6-8e05-aa8a410ad9ab",
   "metadata": {},
   "outputs": [],
   "source": [
    "#package name:random\n",
    "import random"
   ]
  },
  {
   "cell_type": "code",
   "execution_count": 3,
   "id": "5b6cedcc-3f88-4f22-8601-e00a545dac93",
   "metadata": {},
   "outputs": [],
   "source": [
    "# pacakge name: time\n",
    "import time"
   ]
  },
  {
   "cell_type": "code",
   "execution_count": 5,
   "id": "337eeb53-3696-4085-8b0a-a96f81b7f55e",
   "metadata": {},
   "outputs": [],
   "source": [
    "# package name: math\n",
    "import math"
   ]
  },
  {
   "cell_type": "code",
   "execution_count": 6,
   "id": "4127efd1-d8b9-4b36-9516-634c2933ebfa",
   "metadata": {},
   "outputs": [],
   "source": [
    "# package name: streamlit\n",
    "import streamlit"
   ]
  },
  {
   "cell_type": "code",
   "execution_count": 8,
   "id": "0f87b51d-0b62-4154-9708-6a92aee475f8",
   "metadata": {},
   "outputs": [],
   "source": [
    "# Module not found \n",
    "# package or module both are same "
   ]
  },
  {
   "cell_type": "code",
   "execution_count": null,
   "id": "e6d5f3c5-7f38-4f52-b924-b54bc910172e",
   "metadata": {},
   "outputs": [],
   "source": [
    "import cv2\n",
    "cv2 guy not tie with anaconda\n",
    "no module name : cv2"
   ]
  },
  {
   "cell_type": "raw",
   "id": "3585fb6c-a3b9-4ec3-825b-970350e9ebdf",
   "metadata": {},
   "source": [
    "math operations\n",
    "    addition\n",
    "    substraction\n",
    "    multiplication\n",
    "    division"
   ]
  },
  {
   "cell_type": "code",
   "execution_count": 11,
   "id": "41e377b6-ce77-4662-a1b5-065ada1d89c4",
   "metadata": {},
   "outputs": [
    {
     "data": {
      "text/plain": [
       "['BPF',\n",
       " 'LOG4',\n",
       " 'NV_MAGICCONST',\n",
       " 'RECIP_BPF',\n",
       " 'Random',\n",
       " 'SG_MAGICCONST',\n",
       " 'SystemRandom',\n",
       " 'TWOPI',\n",
       " '_ONE',\n",
       " '_Sequence',\n",
       " '_Set',\n",
       " '__all__',\n",
       " '__builtins__',\n",
       " '__cached__',\n",
       " '__doc__',\n",
       " '__file__',\n",
       " '__loader__',\n",
       " '__name__',\n",
       " '__package__',\n",
       " '__spec__',\n",
       " '_accumulate',\n",
       " '_acos',\n",
       " '_bisect',\n",
       " '_ceil',\n",
       " '_cos',\n",
       " '_e',\n",
       " '_exp',\n",
       " '_floor',\n",
       " '_index',\n",
       " '_inst',\n",
       " '_isfinite',\n",
       " '_log',\n",
       " '_os',\n",
       " '_pi',\n",
       " '_random',\n",
       " '_repeat',\n",
       " '_sha512',\n",
       " '_sin',\n",
       " '_sqrt',\n",
       " '_test',\n",
       " '_test_generator',\n",
       " '_urandom',\n",
       " '_warn',\n",
       " 'betavariate',\n",
       " 'choice',\n",
       " 'choices',\n",
       " 'expovariate',\n",
       " 'gammavariate',\n",
       " 'gauss',\n",
       " 'getrandbits',\n",
       " 'getstate',\n",
       " 'lognormvariate',\n",
       " 'normalvariate',\n",
       " 'paretovariate',\n",
       " 'randbytes',\n",
       " 'randint',\n",
       " 'random',\n",
       " 'randrange',\n",
       " 'sample',\n",
       " 'seed',\n",
       " 'setstate',\n",
       " 'shuffle',\n",
       " 'triangular',\n",
       " 'uniform',\n",
       " 'vonmisesvariate',\n",
       " 'weibullvariate']"
      ]
     },
     "execution_count": 11,
     "metadata": {},
     "output_type": "execute_result"
    }
   ],
   "source": [
    "import random\n",
    "dir(random)"
   ]
  },
  {
   "cell_type": "code",
   "execution_count": 12,
   "id": "43f3e463-e357-4c33-9264-a8006b282495",
   "metadata": {},
   "outputs": [],
   "source": [
    "# syntax\n",
    "# <package_name>.<method_name>\n",
    "#packagename: random\n",
    "#methodname: randint"
   ]
  },
  {
   "cell_type": "code",
   "execution_count": 13,
   "id": "73bfad40-f0b3-484b-8b65-9cb5d9d37ee7",
   "metadata": {},
   "outputs": [
    {
     "name": "stdout",
     "output_type": "stream",
     "text": [
      "Help on method randint in module random:\n",
      "\n",
      "randint(a, b) method of random.Random instance\n",
      "    Return random integer in range [a, b], including both end points.\n",
      "\n"
     ]
    }
   ],
   "source": [
    "#help(<package_name.methodname>)\n",
    "# help will give the understanding of \n",
    "# here i want to know what randint will do?\n",
    "help(random.randint)"
   ]
  },
  {
   "cell_type": "code",
   "execution_count": 19,
   "id": "3c1afe02-605d-4c50-af48-9f33a381718c",
   "metadata": {},
   "outputs": [
    {
     "data": {
      "text/plain": [
       "9"
      ]
     },
     "execution_count": 19,
     "metadata": {},
     "output_type": "execute_result"
    }
   ],
   "source": [
    "random.randint(1,9)"
   ]
  },
  {
   "cell_type": "code",
   "execution_count": 20,
   "id": "8c19feb7-63fd-4a1e-b313-0ee9e3c427ce",
   "metadata": {},
   "outputs": [
    {
     "name": "stdout",
     "output_type": "stream",
     "text": [
      "Help on method randint in module random:\n",
      "\n",
      "randint(a, b) method of random.Random instance\n",
      "    Return random integer in range [a, b], including both end points.\n",
      "\n"
     ]
    }
   ],
   "source": [
    "#step-1: import<package_name>\n",
    "#step-2: dir(<package_name>)\n",
    "#step-3: help(<package_name>.<method_name>)\n",
    "#step-4: \n",
    "help(random.randint)"
   ]
  },
  {
   "cell_type": "code",
   "execution_count": 22,
   "id": "2b990648-b483-44f8-a973-60b60befa063",
   "metadata": {},
   "outputs": [
    {
     "data": {
      "text/plain": [
       "3"
      ]
     },
     "execution_count": 22,
     "metadata": {},
     "output_type": "execute_result"
    }
   ],
   "source": [
    "random.randint(1,20)"
   ]
  },
  {
   "cell_type": "code",
   "execution_count": 24,
   "id": "e350a312-6deb-4d18-914b-2fe750dacc44",
   "metadata": {},
   "outputs": [
    {
     "name": "stdout",
     "output_type": "stream",
     "text": [
      "Help on built-in function random:\n",
      "\n",
      "random() method of random.Random instance\n",
      "    random() -> x in the interval [0, 1).\n",
      "\n"
     ]
    }
   ],
   "source": [
    "import random\n",
    "dir(random)\n",
    "help(random.random)"
   ]
  },
  {
   "cell_type": "code",
   "execution_count": 26,
   "id": "551f79fe-dae7-49a3-bb5c-9a5012e9e4fd",
   "metadata": {},
   "outputs": [
    {
     "data": {
      "text/plain": [
       "0.9785434396761241"
      ]
     },
     "execution_count": 26,
     "metadata": {},
     "output_type": "execute_result"
    }
   ],
   "source": [
    "random.random()"
   ]
  },
  {
   "cell_type": "markdown",
   "id": "c877995d-18a2-4b0e-95b0-8bf51c70f6da",
   "metadata": {},
   "source": [
    "**math**"
   ]
  },
  {
   "cell_type": "code",
   "execution_count": 34,
   "id": "ba5e6fe5-ff87-4d52-8d96-84ea1806636f",
   "metadata": {},
   "outputs": [],
   "source": [
    "#packagename:math\n",
    "  #method pi\n",
    "  #sqrt\n",
    "  #sin\n",
    "import math\n"
   ]
  },
  {
   "cell_type": "code",
   "execution_count": 36,
   "id": "63b095cb-54b4-4991-925b-54503f0351ba",
   "metadata": {},
   "outputs": [
    {
     "data": {
      "text/plain": [
       "['__doc__',\n",
       " '__loader__',\n",
       " '__name__',\n",
       " '__package__',\n",
       " '__spec__',\n",
       " 'acos',\n",
       " 'acosh',\n",
       " 'asin',\n",
       " 'asinh',\n",
       " 'atan',\n",
       " 'atan2',\n",
       " 'atanh',\n",
       " 'cbrt',\n",
       " 'ceil',\n",
       " 'comb',\n",
       " 'copysign',\n",
       " 'cos',\n",
       " 'cosh',\n",
       " 'degrees',\n",
       " 'dist',\n",
       " 'e',\n",
       " 'erf',\n",
       " 'erfc',\n",
       " 'exp',\n",
       " 'exp2',\n",
       " 'expm1',\n",
       " 'fabs',\n",
       " 'factorial',\n",
       " 'floor',\n",
       " 'fmod',\n",
       " 'frexp',\n",
       " 'fsum',\n",
       " 'gamma',\n",
       " 'gcd',\n",
       " 'hypot',\n",
       " 'inf',\n",
       " 'isclose',\n",
       " 'isfinite',\n",
       " 'isinf',\n",
       " 'isnan',\n",
       " 'isqrt',\n",
       " 'lcm',\n",
       " 'ldexp',\n",
       " 'lgamma',\n",
       " 'log',\n",
       " 'log10',\n",
       " 'log1p',\n",
       " 'log2',\n",
       " 'modf',\n",
       " 'nan',\n",
       " 'nextafter',\n",
       " 'perm',\n",
       " 'pi',\n",
       " 'pow',\n",
       " 'prod',\n",
       " 'radians',\n",
       " 'remainder',\n",
       " 'sin',\n",
       " 'sinh',\n",
       " 'sqrt',\n",
       " 'tan',\n",
       " 'tanh',\n",
       " 'tau',\n",
       " 'trunc',\n",
       " 'ulp']"
      ]
     },
     "execution_count": 36,
     "metadata": {},
     "output_type": "execute_result"
    }
   ],
   "source": [
    "dir(math)"
   ]
  },
  {
   "cell_type": "code",
   "execution_count": 37,
   "id": "8cd790e4-4284-437a-8e9c-ed50e1e8bac9",
   "metadata": {},
   "outputs": [
    {
     "name": "stdout",
     "output_type": "stream",
     "text": [
      "Help on built-in function sqrt in module math:\n",
      "\n",
      "sqrt(x, /)\n",
      "    Return the square root of x.\n",
      "\n"
     ]
    }
   ],
   "source": [
    "help(math.sqrt)"
   ]
  },
  {
   "cell_type": "code",
   "execution_count": 38,
   "id": "2b67cb3f-80cb-4484-9b27-e47a3328f5c2",
   "metadata": {},
   "outputs": [
    {
     "data": {
      "text/plain": [
       "2.0"
      ]
     },
     "execution_count": 38,
     "metadata": {},
     "output_type": "execute_result"
    }
   ],
   "source": [
    "math.sqrt(4)"
   ]
  },
  {
   "cell_type": "code",
   "execution_count": 39,
   "id": "d8ebba80-00c7-4761-b0a2-775d36eb76be",
   "metadata": {},
   "outputs": [
    {
     "name": "stdout",
     "output_type": "stream",
     "text": [
      "Help on built-in function pow in module math:\n",
      "\n",
      "pow(x, y, /)\n",
      "    Return x**y (x to the power of y).\n",
      "\n"
     ]
    }
   ],
   "source": [
    "help(math.pow)"
   ]
  },
  {
   "cell_type": "code",
   "execution_count": 40,
   "id": "2f7b99ae-58fc-4f16-bee6-8dd95ffa2aa9",
   "metadata": {},
   "outputs": [
    {
     "data": {
      "text/plain": [
       "8.0"
      ]
     },
     "execution_count": 40,
     "metadata": {},
     "output_type": "execute_result"
    }
   ],
   "source": [
    "math.pow(2,3)"
   ]
  },
  {
   "cell_type": "code",
   "execution_count": 41,
   "id": "fe054fa6-cbfb-4f10-a9da-cfa366e0db85",
   "metadata": {},
   "outputs": [
    {
     "name": "stdout",
     "output_type": "stream",
     "text": [
      "Help on built-in function sin in module math:\n",
      "\n",
      "sin(x, /)\n",
      "    Return the sine of x (measured in radians).\n",
      "\n"
     ]
    }
   ],
   "source": [
    "help(math.sin)"
   ]
  },
  {
   "cell_type": "code",
   "execution_count": 42,
   "id": "2aa7a86b-9de2-4233-a243-04100c4e02b7",
   "metadata": {},
   "outputs": [
    {
     "data": {
      "text/plain": [
       "0.8939966636005579"
      ]
     },
     "execution_count": 42,
     "metadata": {},
     "output_type": "execute_result"
    }
   ],
   "source": [
    "math.sin(90)"
   ]
  },
  {
   "cell_type": "code",
   "execution_count": 44,
   "id": "af90c2cc-c18f-4b9d-af8a-441d9029ac00",
   "metadata": {},
   "outputs": [
    {
     "name": "stdout",
     "output_type": "stream",
     "text": [
      "5.0\n",
      "8.0\n",
      "0.8939966636005579\n"
     ]
    }
   ],
   "source": [
    "print(math.sqrt(25))\n",
    "print(math.pow(2,3))\n",
    "print(math.sin(90))"
   ]
  },
  {
   "cell_type": "markdown",
   "id": "7e2eeb32-e68c-46ab-b525-16aa7890f5d1",
   "metadata": {},
   "source": [
    "- function means we are forgetting the brackets\n",
    "- we need to keep brackets\n",
    "- bound method also means forgetting the bracktes only\n",
    "- not callable means remove the brackets\n",
    "- whenever you see slash dont provide value\n",
    "- directly give slash"
   ]
  },
  {
   "cell_type": "code",
   "execution_count": 45,
   "id": "6b28d429-356d-4ebe-b638-e8cd8f97c110",
   "metadata": {},
   "outputs": [
    {
     "data": {
      "text/plain": [
       "5.0"
      ]
     },
     "execution_count": 45,
     "metadata": {},
     "output_type": "execute_result"
    }
   ],
   "source": [
    "math.sqrt(25)"
   ]
  },
  {
   "cell_type": "code",
   "execution_count": 49,
   "id": "16a1222c-5a92-4b3c-b30e-d92fbb9076d2",
   "metadata": {},
   "outputs": [
    {
     "data": {
      "text/plain": [
       "0.4319852074258469"
      ]
     },
     "execution_count": 49,
     "metadata": {},
     "output_type": "execute_result"
    }
   ],
   "source": [
    "random.random()"
   ]
  },
  {
   "cell_type": "code",
   "execution_count": 50,
   "id": "26dfc5a2-c816-4baf-9310-1289346d00e1",
   "metadata": {},
   "outputs": [
    {
     "data": {
      "text/plain": [
       "3.141592653589793"
      ]
     },
     "execution_count": 50,
     "metadata": {},
     "output_type": "execute_result"
    }
   ],
   "source": [
    "math.pi\n",
    "#direct values never includes brackets"
   ]
  },
  {
   "cell_type": "code",
   "execution_count": 51,
   "id": "044a8a51-53d6-4de9-9f95-8375733d9bf6",
   "metadata": {},
   "outputs": [],
   "source": [
    "# package name: keyword\n",
    "# method name: kwlist\n",
    "import keyword"
   ]
  },
  {
   "cell_type": "code",
   "execution_count": 52,
   "id": "a0d4216c-2f5e-4bc7-a51a-aea9dc160c69",
   "metadata": {},
   "outputs": [
    {
     "data": {
      "text/plain": [
       "['__all__',\n",
       " '__builtins__',\n",
       " '__cached__',\n",
       " '__doc__',\n",
       " '__file__',\n",
       " '__loader__',\n",
       " '__name__',\n",
       " '__package__',\n",
       " '__spec__',\n",
       " 'iskeyword',\n",
       " 'issoftkeyword',\n",
       " 'kwlist',\n",
       " 'softkwlist']"
      ]
     },
     "execution_count": 52,
     "metadata": {},
     "output_type": "execute_result"
    }
   ],
   "source": [
    "dir(keyword)"
   ]
  },
  {
   "cell_type": "code",
   "execution_count": 55,
   "id": "f0b00427-cc85-4bef-aaf0-82f71d6cfb61",
   "metadata": {},
   "outputs": [
    {
     "data": {
      "text/plain": [
       "35"
      ]
     },
     "execution_count": 55,
     "metadata": {},
     "output_type": "execute_result"
    }
   ],
   "source": [
    "len(keyword.kwlist)"
   ]
  },
  {
   "cell_type": "code",
   "execution_count": 1,
   "id": "f9aa7ab7-1dfa-4a63-a044-489696681b08",
   "metadata": {},
   "outputs": [],
   "source": [
    "import math"
   ]
  },
  {
   "cell_type": "markdown",
   "id": "ada57493-a6ee-4242-9afd-b5f39b162050",
   "metadata": {},
   "source": [
    "- () : function or methods\n",
    "- only functions or methods callable \n",
    "- if something says not callable means, it is not a function\n",
    "- it is not a function means, you need to remove bracket\n",
    "- bound method means === add the brackets\n",
    "- functions means === add the brackets\n",
    "- not callabe means === remove brackets"
   ]
  },
  {
   "cell_type": "markdown",
   "id": "ee19fd4f-f113-4171-95b9-35fcdf1ea8a1",
   "metadata": {},
   "source": [
    "- random\n",
    "- math\n",
    "- keyword"
   ]
  },
  {
   "cell_type": "markdown",
   "id": "311b1461-be69-4d2c-97e1-f80fe8590ddc",
   "metadata": {},
   "source": [
    "**time package**"
   ]
  },
  {
   "cell_type": "code",
   "execution_count": 10,
   "id": "9a40d13e-a314-470c-815c-c580f5c878ec",
   "metadata": {},
   "outputs": [
    {
     "name": "stdout",
     "output_type": "stream",
     "text": [
      "Father:hello\n",
      "D: hai papa how are you\n",
      "Father: do you have school today\n"
     ]
    }
   ],
   "source": [
    "import time\n",
    "\n",
    "print(\"Father:hello\")\n",
    "time.sleep(2)\n",
    "print(\"D: hai papa how are you\")\n",
    "time.sleep(2)\n",
    "print(\"Father: do you have school today\")"
   ]
  },
  {
   "cell_type": "markdown",
   "id": "03f52f92-2f1e-4416-b1ec-7e53ac89a486",
   "metadata": {},
   "source": [
    "- computer vision is used to image operations video operations\n",
    "- we call it as opencv\n",
    "- pacakage name:cv2"
   ]
  },
  {
   "cell_type": "code",
   "execution_count": 15,
   "id": "d60aacde-0c43-4c6a-a613-ef73ac99e763",
   "metadata": {},
   "outputs": [],
   "source": [
    "import cv2"
   ]
  },
  {
   "cell_type": "markdown",
   "id": "79810195-2b07-43f7-b6be-bc7922565334",
   "metadata": {},
   "source": [
    "- whenever module not found we need to install it\n",
    "- here our package name is cv2\n",
    "- 99% the installation will be like this \n",
    "- pip install (packagename)\n",
    "- some packages installation name will be different and python import name is different\n",
    "- in order to install the packages we need internet\n",
    "- if internet problem occurs while installing we will get http error"
   ]
  },
  {
   "cell_type": "code",
   "execution_count": 17,
   "id": "66eccce0-be3b-468b-b355-3b1757d6654c",
   "metadata": {},
   "outputs": [],
   "source": [
    "import streamlit"
   ]
  },
  {
   "cell_type": "markdown",
   "id": "7ee55ccd-1437-4916-ab8f-b5e1dd7e7f7f",
   "metadata": {},
   "source": [
    "**Note**\n",
    "\n",
    "- pip freeze is the command to know the already existed packages in our laptop"
   ]
  },
  {
   "cell_type": "code",
   "execution_count": 18,
   "id": "02b52734-a490-4772-81ea-cd4a457f8985",
   "metadata": {},
   "outputs": [],
   "source": [
    "import numpy"
   ]
  },
  {
   "cell_type": "code",
   "execution_count": 19,
   "id": "4858c4df-8806-447e-b2bf-4a6cac26639b",
   "metadata": {},
   "outputs": [
    {
     "data": {
      "text/plain": [
       "<module 'numpy' from 'C:\\\\Users\\\\Admin-ps\\\\anaconda3\\\\Lib\\\\site-packages\\\\numpy\\\\__init__.py'>"
      ]
     },
     "execution_count": 19,
     "metadata": {},
     "output_type": "execute_result"
    }
   ],
   "source": [
    "numpy"
   ]
  },
  {
   "cell_type": "markdown",
   "id": "d17f23be-b678-45b0-ab64-2eb5510aaf44",
   "metadata": {},
   "source": [
    "- !pip install opencv-python\n",
    "- in jupitor notebook we need to add ! mark \n",
    "- in anaconda prompt no need of ! mark directly name we can provide"
   ]
  },
  {
   "cell_type": "code",
   "execution_count": 21,
   "id": "82b7c41b-6c72-4b31-85b2-101b70b9ba91",
   "metadata": {},
   "outputs": [
    {
     "name": "stdout",
     "output_type": "stream",
     "text": [
      "30\n"
     ]
    }
   ],
   "source": [
    "#hard coding : static\n",
    "#we are fixing the values\n",
    "number1=10\n",
    "number2=20\n",
    "add=number1+number2\n",
    "print(add)"
   ]
  },
  {
   "cell_type": "code",
   "execution_count": 22,
   "id": "58e4b8f5-a881-42b6-a7ca-7f3bcedea2e0",
   "metadata": {},
   "outputs": [
    {
     "name": "stdin",
     "output_type": "stream",
     "text": [
      "enter the number 1: 10\n",
      "enter the number 2: 20\n"
     ]
    },
    {
     "name": "stdout",
     "output_type": "stream",
     "text": [
      "30\n"
     ]
    }
   ],
   "source": [
    "#dynamic\n",
    "number1=eval(input(\"enter the number 1:\"))\n",
    "number2=eval(input(\"enter the number 2:\"))\n",
    "add=number1+number2\n",
    "print(add)"
   ]
  },
  {
   "cell_type": "code",
   "execution_count": 30,
   "id": "978aac5b-4faf-4c84-baf5-cd9b7523231b",
   "metadata": {},
   "outputs": [
    {
     "name": "stdout",
     "output_type": "stream",
     "text": [
      "the addition of 73 and 150 is 223\n"
     ]
    }
   ],
   "source": [
    "# we can take the numbers randomly also\n",
    "import random\n",
    "number1=random.randint(1,100)\n",
    "number2=random.randint(100,200)\n",
    "add=number1+number2\n",
    "print(f\"the addition of {number1} and {number2} is {add}\")"
   ]
  },
  {
   "cell_type": "markdown",
   "id": "6efdd843-860e-47e0-8d1c-146d5b3f23ac",
   "metadata": {},
   "source": [
    "**how we pass the number**\n",
    "\n",
    "- hard codings (static)\n",
    "- using keyboard (dynamic)\n",
    "- using random package, taking numbers randomly    "
   ]
  },
  {
   "cell_type": "code",
   "execution_count": 33,
   "id": "59574b92-9e68-4d6e-9e81-06d13a79dd21",
   "metadata": {},
   "outputs": [
    {
     "name": "stdin",
     "output_type": "stream",
     "text": [
      "enter the n2: 10\n"
     ]
    },
    {
     "name": "stdout",
     "output_type": "stream",
     "text": [
      "The average of 10,10 and 11 is: 10.333333333333334\n"
     ]
    }
   ],
   "source": [
    "n1=10\n",
    "n2=eval(input(\"enter the n2:\"))\n",
    "n3=random.randint(1,100)\n",
    "avg=(n1+n2+n3)/3\n",
    "print(f\"The average of {n1},{n2} and {n3} is: {avg}\")"
   ]
  },
  {
   "cell_type": "code",
   "execution_count": null,
   "id": "1c96cec4-23b9-4e55-9655-d4daf5ae368c",
   "metadata": {},
   "outputs": [],
   "source": [
    "#assignemnt-2\n",
    "#assignment-1 qns only but\n",
    "#you need to take random values every\n",
    "#11 the print statement using time : sleep"
   ]
  },
  {
   "cell_type": "markdown",
   "id": "72b1be44-75d1-42c3-aa5b-3a21356ad392",
   "metadata": {},
   "source": [
    "**round**"
   ]
  },
  {
   "cell_type": "code",
   "execution_count": 34,
   "id": "8835f290-13e9-44aa-9f68-28209b94cd0d",
   "metadata": {},
   "outputs": [
    {
     "data": {
      "text/plain": [
       "23"
      ]
     },
     "execution_count": 34,
     "metadata": {},
     "output_type": "execute_result"
    }
   ],
   "source": [
    "avg=22.66666666666666668\n",
    "round(avg)"
   ]
  },
  {
   "cell_type": "code",
   "execution_count": 35,
   "id": "f06e88b5-7b89-4bc0-8abb-a74160dc554a",
   "metadata": {},
   "outputs": [
    {
     "data": {
      "text/plain": [
       "22.667"
      ]
     },
     "execution_count": 35,
     "metadata": {},
     "output_type": "execute_result"
    }
   ],
   "source": [
    "avg=22.6666666666666668\n",
    "round(avg,3)"
   ]
  },
  {
   "cell_type": "code",
   "execution_count": 36,
   "id": "d27d3061-85e9-4968-8e1e-c00777764f9f",
   "metadata": {},
   "outputs": [
    {
     "name": "stdin",
     "output_type": "stream",
     "text": [
      "enter the n2: 10\n"
     ]
    },
    {
     "name": "stdout",
     "output_type": "stream",
     "text": [
      "The average of 10,10 and 69 is: (29.666666666666668,)\n"
     ]
    }
   ],
   "source": [
    "n1=10\n",
    "n2=eval(input(\"enter the n2:\"))\n",
    "n3=random.randint(1,100)\n",
    "avg=((n1+n2+n3)/3,)\n",
    "print(f\"The average of {n1},{n2} and {n3} is: {avg}\")"
   ]
  },
  {
   "cell_type": "code",
   "execution_count": 37,
   "id": "074623da-b15e-4817-9ad5-e02b826348e6",
   "metadata": {},
   "outputs": [
    {
     "name": "stdin",
     "output_type": "stream",
     "text": [
      "enter the n2: 10\n"
     ]
    },
    {
     "name": "stdout",
     "output_type": "stream",
     "text": [
      "The average of 10,10 and 85 is: 35.0\n"
     ]
    }
   ],
   "source": [
    "n1=10\n",
    "n2=eval(input(\"enter the n2:\"))\n",
    "n3=random.randint(1,100)\n",
    "avg=(n1+n2+n3)/3\n",
    "avg1=round(avg,2)\n",
    "print(f\"The average of {n1},{n2} and {n3} is: {avg1}\")"
   ]
  },
  {
   "cell_type": "code",
   "execution_count": 38,
   "id": "7f5770f0-a258-4afa-b83e-07dc27512c5a",
   "metadata": {},
   "outputs": [
    {
     "name": "stdout",
     "output_type": "stream",
     "text": [
      "aiobotocore @ file:///C:/b/abs_3cwz1w13nn/croot/aiobotocore_1701291550158/work\n",
      "aiohttp @ file:///C:/b/abs_27h_1rpxgd/croot/aiohttp_1707342354614/work\n",
      "aioitertools @ file:///tmp/build/80754af9/aioitertools_1607109665762/work\n",
      "aiosignal @ file:///tmp/build/80754af9/aiosignal_1637843061372/work\n",
      "alabaster @ file:///home/ktietz/src/ci/alabaster_1611921544520/work\n",
      "altair @ file:///C:/b/abs_27reu1igbg/croot/altair_1687526066495/work\n",
      "anaconda-anon-usage @ file:///C:/b/abs_95v3x0wy8p/croot/anaconda-anon-usage_1697038984188/work\n",
      "anaconda-catalogs @ file:///C:/b/abs_8btyy0o8s8/croot/anaconda-catalogs_1685727315626/work\n",
      "anaconda-client @ file:///C:/b/abs_34txutm0ue/croot/anaconda-client_1708640705294/work\n",
      "anaconda-cloud-auth @ file:///C:/b/abs_410afndtyf/croot/anaconda-cloud-auth_1697462767853/work\n",
      "anaconda-navigator @ file:///C:/b/abs_cfvv8k_j21/croot/anaconda-navigator_1704813334508/work\n",
      "anaconda-project @ file:///C:/ci_311/anaconda-project_1676458365912/work\n",
      "anyio @ file:///C:/b/abs_847uobe7ea/croot/anyio_1706220224037/work\n",
      "appdirs==1.4.4\n",
      "archspec @ file:///croot/archspec_1697725767277/work\n",
      "argon2-cffi @ file:///opt/conda/conda-bld/argon2-cffi_1645000214183/work\n",
      "argon2-cffi-bindings @ file:///C:/ci_311/argon2-cffi-bindings_1676424443321/work\n",
      "arrow @ file:///C:/ci_311/arrow_1678249767083/work\n",
      "astroid @ file:///C:/ci_311/astroid_1678740610167/work\n",
      "astropy @ file:///C:/b/abs_2fb3x_tapx/croot/astropy_1697468987983/work\n",
      "asttokens @ file:///opt/conda/conda-bld/asttokens_1646925590279/work\n",
      "async-lru @ file:///C:/b/abs_e0hjkvwwb5/croot/async-lru_1699554572212/work\n",
      "atomicwrites==1.4.0\n",
      "attrs @ file:///C:/b/abs_35n0jusce8/croot/attrs_1695717880170/work\n",
      "Automat @ file:///tmp/build/80754af9/automat_1600298431173/work\n",
      "autopep8 @ file:///opt/conda/conda-bld/autopep8_1650463822033/work\n",
      "Babel @ file:///C:/ci_311/babel_1676427169844/work\n",
      "backports.functools-lru-cache @ file:///tmp/build/80754af9/backports.functools_lru_cache_1618170165463/work\n",
      "backports.tempfile @ file:///home/linux1/recipes/ci/backports.tempfile_1610991236607/work\n",
      "backports.weakref==1.0.post1\n",
      "bcrypt @ file:///C:/ci_311/bcrypt_1676435170049/work\n",
      "beautifulsoup4 @ file:///C:/b/abs_0agyz1wsr4/croot/beautifulsoup4-split_1681493048687/work\n",
      "binaryornot @ file:///tmp/build/80754af9/binaryornot_1617751525010/work\n",
      "black @ file:///C:/b/abs_29gqa9a44y/croot/black_1701097690150/work\n",
      "bleach @ file:///opt/conda/conda-bld/bleach_1641577558959/work\n",
      "blinker @ file:///C:/b/abs_d9y2dm7cw2/croot/blinker_1696539752170/work\n",
      "bokeh @ file:///C:/b/abs_74ungdyhwc/croot/bokeh_1706912192007/work\n",
      "boltons @ file:///C:/ci_311/boltons_1677729932371/work\n",
      "botocore @ file:///C:/b/abs_5a285dtc94/croot/botocore_1701286504141/work\n",
      "Bottleneck @ file:///C:/b/abs_f05kqh7yvj/croot/bottleneck_1707864273291/work\n",
      "Brotli @ file:///C:/ci_311/brotli-split_1676435766766/work\n",
      "cachetools @ file:///tmp/build/80754af9/cachetools_1619597386817/work\n",
      "certifi @ file:///C:/b/abs_35d7n66oz9/croot/certifi_1707229248467/work/certifi\n",
      "cffi @ file:///C:/b/abs_924gv1kxzj/croot/cffi_1700254355075/work\n",
      "chardet @ file:///C:/ci_311/chardet_1676436134885/work\n",
      "charset-normalizer @ file:///tmp/build/80754af9/charset-normalizer_1630003229654/work\n",
      "click @ file:///C:/b/abs_f9ihnt72pu/croot/click_1698129847492/work\n",
      "cloudpickle @ file:///C:/b/abs_3796yxesic/croot/cloudpickle_1683040098851/work\n",
      "clyent==1.2.2\n",
      "colorama @ file:///C:/ci_311/colorama_1676422310965/work\n",
      "colorcet @ file:///C:/ci_311/colorcet_1676440389947/work\n",
      "comm @ file:///C:/ci_311/comm_1678376562840/work\n",
      "conda @ file:///C:/b/abs_89vd8hj61u/croot/conda_1708369170790/work\n",
      "conda-build @ file:///C:/b/abs_3ed9gavxgz/croot/conda-build_1708025907525/work\n",
      "conda-content-trust @ file:///C:/b/abs_e3bcpyv7sw/croot/conda-content-trust_1693490654398/work\n",
      "conda-libmamba-solver @ file:///croot/conda-libmamba-solver_1706733287605/work/src\n",
      "conda-pack @ file:///tmp/build/80754af9/conda-pack_1611163042455/work\n",
      "conda-package-handling @ file:///C:/b/abs_b9wp3lr1gn/croot/conda-package-handling_1691008700066/work\n",
      "conda-repo-cli==1.0.75\n",
      "conda-token @ file:///Users/paulyim/miniconda3/envs/c3i/conda-bld/conda-token_1662660369760/work\n",
      "conda-verify==3.4.2\n",
      "conda_index @ file:///croot/conda-index_1706633791028/work\n",
      "conda_package_streaming @ file:///C:/b/abs_6c28n38aaj/croot/conda-package-streaming_1690988019210/work\n",
      "constantly @ file:///C:/b/abs_cbuavw4443/croot/constantly_1703165617403/work\n",
      "contourpy @ file:///C:/b/abs_853rfy8zse/croot/contourpy_1700583617587/work\n",
      "cookiecutter @ file:///C:/b/abs_3d1730toam/croot/cookiecutter_1700677089156/work\n",
      "cryptography @ file:///C:/b/abs_531eqmhgsd/croot/cryptography_1707523768330/work\n",
      "cssselect @ file:///C:/b/abs_71gnjab7b0/croot/cssselect_1707339955530/work\n",
      "cycler @ file:///tmp/build/80754af9/cycler_1637851556182/work\n",
      "cytoolz @ file:///C:/b/abs_d43s8lnb60/croot/cytoolz_1701723636699/work\n",
      "dask @ file:///C:/b/abs_1899k8plyj/croot/dask-core_1701396135885/work\n",
      "datashader @ file:///C:/b/abs_cb5s63ty8z/croot/datashader_1699544282143/work\n",
      "debugpy @ file:///C:/b/abs_c0y1fjipt2/croot/debugpy_1690906864587/work\n",
      "decorator @ file:///opt/conda/conda-bld/decorator_1643638310831/work\n",
      "defusedxml @ file:///tmp/build/80754af9/defusedxml_1615228127516/work\n",
      "diff-match-patch @ file:///Users/ktietz/demo/mc3/conda-bld/diff-match-patch_1630511840874/work\n",
      "dill @ file:///C:/b/abs_084unuus3z/croot/dill_1692271268687/work\n",
      "distributed @ file:///C:/b/abs_5eren88ku4/croot/distributed_1701398076011/work\n",
      "distro @ file:///C:/b/abs_a3uni_yez3/croot/distro_1701455052240/work\n",
      "docstring-to-markdown @ file:///C:/ci_311/docstring-to-markdown_1677742566583/work\n",
      "docutils @ file:///C:/ci_311/docutils_1676428078664/work\n",
      "entrypoints @ file:///C:/ci_311/entrypoints_1676423328987/work\n",
      "et-xmlfile==1.1.0\n",
      "executing @ file:///opt/conda/conda-bld/executing_1646925071911/work\n",
      "fastjsonschema @ file:///C:/ci_311/python-fastjsonschema_1679500568724/work\n",
      "filelock @ file:///C:/b/abs_f2gie28u58/croot/filelock_1700591233643/work\n",
      "flake8 @ file:///C:/ci_311/flake8_1678376624746/work\n",
      "Flask @ file:///C:/b/abs_efc024w7fv/croot/flask_1702980041157/work\n",
      "fonttools==4.25.0\n",
      "frozenlist @ file:///C:/b/abs_d8e__s1ys3/croot/frozenlist_1698702612014/work\n",
      "fsspec @ file:///C:/b/abs_97mpfsesn0/croot/fsspec_1701286534629/work\n",
      "future @ file:///C:/ci_311_rebuilds/future_1678998246262/work\n",
      "gensim @ file:///C:/ci_311/gensim_1677743037820/work\n",
      "gitdb @ file:///tmp/build/80754af9/gitdb_1617117951232/work\n",
      "GitPython @ file:///C:/b/abs_e1lwow9h41/croot/gitpython_1696937027832/work\n",
      "gmpy2 @ file:///C:/ci_311/gmpy2_1677743390134/work\n",
      "greenlet @ file:///C:/b/abs_a6c75ie0bc/croot/greenlet_1702060012174/work\n",
      "h5py @ file:///C:/b/abs_17fav01gwy/croot/h5py_1691589733413/work\n",
      "HeapDict @ file:///Users/ktietz/demo/mc3/conda-bld/heapdict_1630598515714/work\n",
      "holoviews @ file:///C:/b/abs_704uucojt7/croot/holoviews_1707836477070/work\n",
      "hvplot @ file:///C:/b/abs_3627uzd5h0/croot/hvplot_1706712443782/work\n",
      "hyperlink @ file:///tmp/build/80754af9/hyperlink_1610130746837/work\n",
      "idna @ file:///C:/ci_311/idna_1676424932545/work\n",
      "imagecodecs @ file:///C:/b/abs_e2g5zbs1q0/croot/imagecodecs_1695065012000/work\n",
      "imageio @ file:///C:/b/abs_aeqerw_nps/croot/imageio_1707247365204/work\n",
      "imagesize @ file:///C:/ci_311/imagesize_1676431905616/work\n",
      "imbalanced-learn @ file:///C:/b/abs_87es3kd5fi/croot/imbalanced-learn_1700648276799/work\n",
      "importlib-metadata @ file:///C:/b/abs_c1egths604/croot/importlib_metadata-suite_1704813568388/work\n",
      "incremental @ file:///croot/incremental_1708639938299/work\n",
      "inflection==0.5.1\n",
      "iniconfig @ file:///home/linux1/recipes/ci/iniconfig_1610983019677/work\n",
      "intake @ file:///C:/ci_311_rebuilds/intake_1678999914269/work\n",
      "intervaltree @ file:///Users/ktietz/demo/mc3/conda-bld/intervaltree_1630511889664/work\n",
      "ipykernel @ file:///C:/b/abs_c2u94kxcy6/croot/ipykernel_1705933907920/work\n",
      "ipython @ file:///C:/b/abs_b6pfgmrqnd/croot/ipython_1704833422163/work\n",
      "ipython-genutils @ file:///tmp/build/80754af9/ipython_genutils_1606773439826/work\n",
      "ipywidgets @ file:///croot/ipywidgets_1701289330913/work\n",
      "isort @ file:///tmp/build/80754af9/isort_1628603791788/work\n",
      "itemadapter @ file:///tmp/build/80754af9/itemadapter_1626442940632/work\n",
      "itemloaders @ file:///C:/b/abs_5e3azgv25z/croot/itemloaders_1708639993442/work\n",
      "itsdangerous @ file:///tmp/build/80754af9/itsdangerous_1621432558163/work\n",
      "jaraco.classes @ file:///tmp/build/80754af9/jaraco.classes_1620983179379/work\n",
      "jedi @ file:///C:/ci_311/jedi_1679427407646/work\n",
      "jellyfish @ file:///C:/b/abs_50kgvtnrbj/croot/jellyfish_1695193564091/work\n",
      "Jinja2 @ file:///C:/b/abs_f7x5a8op2h/croot/jinja2_1706733672594/work\n",
      "jmespath @ file:///C:/b/abs_59jpuaows7/croot/jmespath_1700144635019/work\n",
      "joblib @ file:///C:/b/abs_1anqjntpan/croot/joblib_1685113317150/work\n",
      "json5 @ file:///tmp/build/80754af9/json5_1624432770122/work\n",
      "jsonpatch @ file:///tmp/build/80754af9/jsonpatch_1615747632069/work\n",
      "jsonpointer==2.1\n",
      "jsonschema @ file:///C:/b/abs_d1c4sm8drk/croot/jsonschema_1699041668863/work\n",
      "jsonschema-specifications @ file:///C:/b/abs_0brvm6vryw/croot/jsonschema-specifications_1699032417323/work\n",
      "jupyter @ file:///C:/b/abs_4e102rc6e5/croot/jupyter_1707947170513/work\n",
      "jupyter-console @ file:///C:/b/abs_82xaa6i2y4/croot/jupyter_console_1680000189372/work\n",
      "jupyter-events @ file:///C:/b/abs_17ajfqnlz0/croot/jupyter_events_1699282519713/work\n",
      "jupyter-lsp @ file:///C:/b/abs_ecle3em9d4/croot/jupyter-lsp-meta_1699978291372/work\n",
      "jupyter_client @ file:///C:/b/abs_a6h3c8hfdq/croot/jupyter_client_1699455939372/work\n",
      "jupyter_core @ file:///C:/b/abs_c769pbqg9b/croot/jupyter_core_1698937367513/work\n",
      "jupyter_server @ file:///C:/b/abs_7esjvdakg9/croot/jupyter_server_1699466495151/work\n",
      "jupyter_server_terminals @ file:///C:/b/abs_ec0dq4b50j/croot/jupyter_server_terminals_1686870763512/work\n",
      "jupyterlab @ file:///C:/b/abs_43venm28fu/croot/jupyterlab_1706802651134/work\n",
      "jupyterlab-pygments @ file:///tmp/build/80754af9/jupyterlab_pygments_1601490720602/work\n",
      "jupyterlab-widgets @ file:///C:/b/abs_adrrqr26no/croot/jupyterlab_widgets_1700169018974/work\n",
      "jupyterlab_server @ file:///C:/b/abs_e08i7qn9m8/croot/jupyterlab_server_1699555481806/work\n",
      "keyring @ file:///C:/b/abs_dbjc7g0dh2/croot/keyring_1678999228878/work\n",
      "kiwisolver @ file:///C:/ci_311/kiwisolver_1676431979301/work\n",
      "lazy-object-proxy @ file:///C:/ci_311/lazy-object-proxy_1676432050939/work\n",
      "lazy_loader @ file:///C:/b/abs_3bn4_r4g42/croot/lazy_loader_1695850158046/work\n",
      "lckr_jupyterlab_variableinspector @ file:///C:/b/abs_b5yb2mprx2/croot/jupyterlab-variableinspector_1701096592545/work\n",
      "libarchive-c @ file:///tmp/build/80754af9/python-libarchive-c_1617780486945/work\n",
      "libmambapy @ file:///C:/b/abs_2euls_1a38/croot/mamba-split_1704219444888/work/libmambapy\n",
      "linkify-it-py @ file:///C:/ci_311/linkify-it-py_1676474436187/work\n",
      "llvmlite @ file:///C:/b/abs_da15r8vkf8/croot/llvmlite_1706910779994/work\n",
      "lmdb @ file:///C:/b/abs_556ronuvb2/croot/python-lmdb_1682522366268/work\n",
      "locket @ file:///C:/ci_311/locket_1676428325082/work\n",
      "lxml @ file:///C:/b/abs_9e7tpg2vv9/croot/lxml_1695058219431/work\n",
      "lz4 @ file:///C:/b/abs_064u6aszy3/croot/lz4_1686057967376/work\n",
      "Markdown @ file:///C:/ci_311/markdown_1676437912393/work\n",
      "markdown-it-py @ file:///C:/b/abs_a5bfngz6fu/croot/markdown-it-py_1684279915556/work\n",
      "MarkupSafe @ file:///C:/b/abs_ecfdqh67b_/croot/markupsafe_1704206030535/work\n",
      "matplotlib @ file:///C:/b/abs_e26vnvd5s1/croot/matplotlib-suite_1698692153288/work\n",
      "matplotlib-inline @ file:///C:/ci_311/matplotlib-inline_1676425798036/work\n",
      "mccabe @ file:///opt/conda/conda-bld/mccabe_1644221741721/work\n",
      "mdit-py-plugins @ file:///C:/ci_311/mdit-py-plugins_1676481827414/work\n",
      "mdurl @ file:///C:/ci_311/mdurl_1676442676678/work\n",
      "menuinst @ file:///C:/b/abs_099kybla52/croot/menuinst_1706732987063/work\n",
      "mistune @ file:///C:/ci_311/mistune_1676425111783/work\n",
      "mkl-fft @ file:///C:/b/abs_19i1y8ykas/croot/mkl_fft_1695058226480/work\n",
      "mkl-random @ file:///C:/b/abs_edwkj1_o69/croot/mkl_random_1695059866750/work\n",
      "mkl-service==2.4.0\n",
      "more-itertools @ file:///C:/b/abs_36p38zj5jx/croot/more-itertools_1700662194485/work\n",
      "mpmath @ file:///C:/b/abs_7833jrbiox/croot/mpmath_1690848321154/work\n",
      "msgpack @ file:///C:/ci_311/msgpack-python_1676427482892/work\n",
      "multidict @ file:///C:/b/abs_44ido987fv/croot/multidict_1701097803486/work\n",
      "multipledispatch @ file:///C:/ci_311/multipledispatch_1676442767760/work\n",
      "munkres==1.1.4\n",
      "mypy @ file:///C:/b/abs_3880czibje/croot/mypy-split_1708366584048/work\n",
      "mypy-extensions @ file:///C:/b/abs_8f7xiidjya/croot/mypy_extensions_1695131051147/work\n",
      "navigator-updater @ file:///C:/b/abs_895otdwmo9/croot/navigator-updater_1695210220239/work\n",
      "nbclient @ file:///C:/b/abs_cal0q5fyju/croot/nbclient_1698934263135/work\n",
      "nbconvert @ file:///C:/b/abs_17p29f_rx4/croot/nbconvert_1699022793097/work\n",
      "nbformat @ file:///C:/b/abs_5a2nea1iu2/croot/nbformat_1694616866197/work\n",
      "nest-asyncio @ file:///C:/b/abs_65d6lblmoi/croot/nest-asyncio_1708532721305/work\n",
      "networkx @ file:///C:/b/abs_e6gi1go5op/croot/networkx_1690562046966/work\n",
      "nltk @ file:///C:/b/abs_a638z6l1z0/croot/nltk_1688114186909/work\n",
      "notebook @ file:///C:/b/abs_65xjlnf9q4/croot/notebook_1708029957105/work\n",
      "notebook_shim @ file:///C:/b/abs_a5xysln3lb/croot/notebook-shim_1699455926920/work\n",
      "numba @ file:///C:/b/abs_3e3co1qfvo/croot/numba_1707085143481/work\n",
      "numexpr @ file:///C:/b/abs_5fucrty5dc/croot/numexpr_1696515448831/work\n",
      "numpy @ file:///C:/b/abs_c1ywpu18ar/croot/numpy_and_numpy_base_1708638681471/work/dist/numpy-1.26.4-cp311-cp311-win_amd64.whl#sha256=5dfd3e04dc1c2826d3f404fdc7f93c097901f5da9b91f4f394f79d4e038ed81d\n",
      "numpydoc @ file:///C:/ci_311/numpydoc_1676453412027/work\n",
      "opencv-python==4.10.0.84\n",
      "openpyxl==3.0.10\n",
      "overrides @ file:///C:/b/abs_cfh89c8yf4/croot/overrides_1699371165349/work\n",
      "packaging @ file:///C:/b/abs_28t5mcoltc/croot/packaging_1693575224052/work\n",
      "pandas @ file:///C:/b/abs_fej9bi0gew/croot/pandas_1702318041921/work/dist/pandas-2.1.4-cp311-cp311-win_amd64.whl#sha256=d3609b7cc3e3c4d99ad640a4b8e710ba93ccf967ab8e5245b91033e0200f9286\n",
      "pandocfilters @ file:///opt/conda/conda-bld/pandocfilters_1643405455980/work\n",
      "panel @ file:///C:/b/abs_abnm_ot327/croot/panel_1706539613212/work\n",
      "param @ file:///C:/b/abs_39ncjvb7lu/croot/param_1705937833389/work\n",
      "paramiko @ file:///opt/conda/conda-bld/paramiko_1640109032755/work\n",
      "parsel @ file:///C:/b/abs_ebc3tzm_c4/croot/parsel_1707503517596/work\n",
      "parso @ file:///opt/conda/conda-bld/parso_1641458642106/work\n",
      "partd @ file:///C:/b/abs_46awex0fd7/croot/partd_1698702622970/work\n",
      "pathlib @ file:///Users/ktietz/demo/mc3/conda-bld/pathlib_1629713961906/work\n",
      "pathspec @ file:///C:/ci_311/pathspec_1679427644142/work\n",
      "patsy==0.5.3\n",
      "pexpect @ file:///tmp/build/80754af9/pexpect_1605563209008/work\n",
      "pickleshare @ file:///tmp/build/80754af9/pickleshare_1606932040724/work\n",
      "pillow @ file:///C:/b/abs_e22m71t0cb/croot/pillow_1707233126420/work\n",
      "pkce @ file:///C:/b/abs_d0z4444tb0/croot/pkce_1690384879799/work\n",
      "pkginfo @ file:///C:/b/abs_d18srtr68x/croot/pkginfo_1679431192239/work\n",
      "platformdirs @ file:///C:/b/abs_b6z_yqw_ii/croot/platformdirs_1692205479426/work\n",
      "plotly @ file:///C:/ci_311/plotly_1676443558683/work\n",
      "pluggy @ file:///C:/ci_311/pluggy_1676422178143/work\n",
      "ply==3.11\n",
      "prometheus-client @ file:///C:/ci_311/prometheus_client_1679591942558/work\n",
      "prompt-toolkit @ file:///C:/b/abs_68uwr58ed1/croot/prompt-toolkit_1704404394082/work\n",
      "Protego @ file:///tmp/build/80754af9/protego_1598657180827/work\n",
      "protobuf==3.20.3\n",
      "psutil @ file:///C:/ci_311_rebuilds/psutil_1679005906571/work\n",
      "ptyprocess @ file:///tmp/build/80754af9/ptyprocess_1609355006118/work/dist/ptyprocess-0.7.0-py2.py3-none-any.whl\n",
      "pure-eval @ file:///opt/conda/conda-bld/pure_eval_1646925070566/work\n",
      "py-cpuinfo @ file:///C:/b/abs_9ej7u6shci/croot/py-cpuinfo_1698068121579/work\n",
      "pyarrow @ file:///C:/b/abs_93i_y2dub4/croot/pyarrow_1707330894046/work/python\n",
      "pyasn1 @ file:///Users/ktietz/demo/mc3/conda-bld/pyasn1_1629708007385/work\n",
      "pyasn1-modules==0.2.8\n",
      "pycodestyle @ file:///C:/ci_311/pycodestyle_1678376707834/work\n",
      "pycosat @ file:///C:/b/abs_31zywn1be3/croot/pycosat_1696537126223/work\n",
      "pycparser @ file:///tmp/build/80754af9/pycparser_1636541352034/work\n",
      "pyct @ file:///C:/ci_311/pyct_1676438538057/work\n",
      "pycurl==7.45.2\n",
      "pydantic @ file:///C:/b/abs_9byjrk31gl/croot/pydantic_1695798904828/work\n",
      "pydeck @ file:///C:/b/abs_ad9p880wi1/croot/pydeck_1706194121328/work\n",
      "PyDispatcher==2.0.5\n",
      "pydocstyle @ file:///C:/ci_311/pydocstyle_1678402028085/work\n",
      "pyerfa @ file:///C:/ci_311/pyerfa_1676503994641/work\n",
      "pyflakes @ file:///C:/ci_311/pyflakes_1678402101687/work\n",
      "Pygments @ file:///C:/b/abs_fay9dpq4n_/croot/pygments_1684279990574/work\n",
      "PyJWT @ file:///C:/ci_311/pyjwt_1676438890509/work\n",
      "pylint @ file:///C:/ci_311/pylint_1678740302984/work\n",
      "pylint-venv @ file:///C:/ci_311/pylint-venv_1678402170638/work\n",
      "pyls-spyder==0.4.0\n",
      "PyNaCl @ file:///C:/ci_311/pynacl_1676445861112/work\n",
      "pyodbc @ file:///C:/b/abs_90kly0uuwz/croot/pyodbc_1705431396548/work\n",
      "pyOpenSSL @ file:///C:/b/abs_baj0aupznq/croot/pyopenssl_1708380486701/work\n",
      "pyparsing @ file:///C:/ci_311/pyparsing_1678502182533/work\n",
      "PyQt5==5.15.10\n",
      "PyQt5-sip @ file:///C:/b/abs_c0pi2mimq3/croot/pyqt-split_1698769125270/work/pyqt_sip\n",
      "PyQtWebEngine==5.15.6\n",
      "PySocks @ file:///C:/ci_311/pysocks_1676425991111/work\n",
      "pytest @ file:///C:/b/abs_48heoo_k8y/croot/pytest_1690475385915/work\n",
      "python-dateutil @ file:///tmp/build/80754af9/python-dateutil_1626374649649/work\n",
      "python-dotenv @ file:///C:/ci_311/python-dotenv_1676455170580/work\n",
      "python-json-logger @ file:///C:/b/abs_cblnsm6puj/croot/python-json-logger_1683824130469/work\n",
      "python-lsp-black @ file:///C:/ci_311/python-lsp-black_1678721855627/work\n",
      "python-lsp-jsonrpc==1.0.0\n",
      "python-lsp-server @ file:///C:/b/abs_catecj7fv1/croot/python-lsp-server_1681930405912/work\n",
      "python-slugify @ file:///tmp/build/80754af9/python-slugify_1620405669636/work\n",
      "python-snappy @ file:///C:/ci_311/python-snappy_1676446060182/work\n",
      "pytoolconfig @ file:///C:/b/abs_f2j_xsvrpn/croot/pytoolconfig_1701728751207/work\n",
      "pytz @ file:///C:/b/abs_19q3ljkez4/croot/pytz_1695131651401/work\n",
      "pyviz_comms @ file:///C:/b/abs_31r9afnand/croot/pyviz_comms_1701728067143/work\n",
      "pywavelets @ file:///C:/b/abs_7est386xsb/croot/pywavelets_1705049855879/work\n",
      "pywin32==305.1\n",
      "pywin32-ctypes @ file:///C:/ci_311/pywin32-ctypes_1676427747089/work\n",
      "pywinpty @ file:///C:/ci_311/pywinpty_1677707791185/work/target/wheels/pywinpty-2.0.10-cp311-none-win_amd64.whl\n",
      "PyYAML @ file:///C:/b/abs_782o3mbw7z/croot/pyyaml_1698096085010/work\n",
      "pyzmq @ file:///C:/b/abs_89aq69t0up/croot/pyzmq_1705605705281/work\n",
      "QDarkStyle @ file:///tmp/build/80754af9/qdarkstyle_1617386714626/work\n",
      "qstylizer @ file:///C:/ci_311/qstylizer_1678502012152/work/dist/qstylizer-0.2.2-py2.py3-none-any.whl\n",
      "QtAwesome @ file:///C:/ci_311/qtawesome_1678402331535/work\n",
      "qtconsole @ file:///C:/b/abs_eb4u9jg07y/croot/qtconsole_1681402843494/work\n",
      "QtPy @ file:///C:/b/abs_derqu__3p8/croot/qtpy_1700144907661/work\n",
      "queuelib @ file:///C:/b/abs_563lpxcne9/croot/queuelib_1696951148213/work\n",
      "referencing @ file:///C:/b/abs_09f4hj6adf/croot/referencing_1699012097448/work\n",
      "regex @ file:///C:/b/abs_d5e2e5uqmr/croot/regex_1696515472506/work\n",
      "requests @ file:///C:/b/abs_474vaa3x9e/croot/requests_1707355619957/work\n",
      "requests-file @ file:///Users/ktietz/demo/mc3/conda-bld/requests-file_1629455781986/work\n",
      "requests-toolbelt @ file:///C:/b/abs_2fsmts66wp/croot/requests-toolbelt_1690874051210/work\n",
      "rfc3339-validator @ file:///C:/b/abs_ddfmseb_vm/croot/rfc3339-validator_1683077054906/work\n",
      "rfc3986-validator @ file:///C:/b/abs_6e9azihr8o/croot/rfc3986-validator_1683059049737/work\n",
      "rich @ file:///C:/b/abs_09j2g5qnu8/croot/rich_1684282185530/work\n",
      "rope @ file:///C:/ci_311/rope_1678402524346/work\n",
      "rpds-py @ file:///C:/b/abs_76j4g4la23/croot/rpds-py_1698947348047/work\n",
      "Rtree @ file:///C:/ci_311/rtree_1676455758391/work\n",
      "ruamel-yaml-conda @ file:///C:/ci_311/ruamel_yaml_1676455799258/work\n",
      "ruamel.yaml @ file:///C:/ci_311/ruamel.yaml_1676439214109/work\n",
      "s3fs @ file:///C:/b/abs_24vbfcawyu/croot/s3fs_1701294224436/work\n",
      "scikit-image @ file:///C:/b/abs_f7z1pjjn6f/croot/scikit-image_1707346180040/work\n",
      "scikit-learn @ file:///C:/b/abs_38k7ridbgr/croot/scikit-learn_1684954723009/work\n",
      "scipy==1.11.4\n",
      "Scrapy @ file:///C:/ci_311/scrapy_1678502587780/work\n",
      "seaborn @ file:///C:/ci_311/seaborn_1676446547861/work\n",
      "semver @ file:///tmp/build/80754af9/semver_1603822362442/work\n",
      "Send2Trash @ file:///C:/b/abs_08dh49ew26/croot/send2trash_1699371173324/work\n",
      "service-identity @ file:///Users/ktietz/demo/mc3/conda-bld/service_identity_1629460757137/work\n",
      "sip @ file:///C:/b/abs_edevan3fce/croot/sip_1698675983372/work\n",
      "six @ file:///tmp/build/80754af9/six_1644875935023/work\n",
      "smart-open @ file:///C:/ci_311/smart_open_1676439339434/work\n",
      "smmap @ file:///tmp/build/80754af9/smmap_1611694433573/work\n",
      "sniffio @ file:///C:/b/abs_3akdewudo_/croot/sniffio_1705431337396/work\n",
      "snowballstemmer @ file:///tmp/build/80754af9/snowballstemmer_1637937080595/work\n",
      "sortedcontainers @ file:///tmp/build/80754af9/sortedcontainers_1623949099177/work\n",
      "soupsieve @ file:///C:/b/abs_bbsvy9t4pl/croot/soupsieve_1696347611357/work\n",
      "Sphinx @ file:///C:/ci_311/sphinx_1676434546244/work\n",
      "sphinxcontrib-applehelp @ file:///home/ktietz/src/ci/sphinxcontrib-applehelp_1611920841464/work\n",
      "sphinxcontrib-devhelp @ file:///home/ktietz/src/ci/sphinxcontrib-devhelp_1611920923094/work\n",
      "sphinxcontrib-htmlhelp @ file:///tmp/build/80754af9/sphinxcontrib-htmlhelp_1623945626792/work\n",
      "sphinxcontrib-jsmath @ file:///home/ktietz/src/ci/sphinxcontrib-jsmath_1611920942228/work\n",
      "sphinxcontrib-qthelp @ file:///home/ktietz/src/ci/sphinxcontrib-qthelp_1611921055322/work\n",
      "sphinxcontrib-serializinghtml @ file:///tmp/build/80754af9/sphinxcontrib-serializinghtml_1624451540180/work\n",
      "spyder @ file:///C:/b/abs_e99kl7d8t0/croot/spyder_1681934304813/work\n",
      "spyder-kernels @ file:///C:/b/abs_e788a8_4y9/croot/spyder-kernels_1691599588437/work\n",
      "SQLAlchemy @ file:///C:/b/abs_876dxwqqu8/croot/sqlalchemy_1705089154696/work\n",
      "stack-data @ file:///opt/conda/conda-bld/stack_data_1646927590127/work\n",
      "statsmodels @ file:///C:/b/abs_7bth810rna/croot/statsmodels_1689937298619/work\n",
      "streamlit @ file:///C:/b/abs_ba5je7xxy7/croot/streamlit_1706200559831/work\n",
      "sympy @ file:///C:/b/abs_82njkonm7f/croot/sympy_1701397685028/work\n",
      "tables @ file:///C:/b/abs_411740ajo7/croot/pytables_1705614883108/work\n",
      "tabulate @ file:///C:/b/abs_21rf8iibnh/croot/tabulate_1701354830521/work\n",
      "tblib @ file:///Users/ktietz/demo/mc3/conda-bld/tblib_1629402031467/work\n",
      "tenacity @ file:///C:/b/abs_ddkoa9nju6/croot/tenacity_1682972298929/work\n",
      "terminado @ file:///C:/ci_311/terminado_1678228513830/work\n",
      "text-unidecode @ file:///Users/ktietz/demo/mc3/conda-bld/text-unidecode_1629401354553/work\n",
      "textdistance @ file:///tmp/build/80754af9/textdistance_1612461398012/work\n",
      "threadpoolctl @ file:///Users/ktietz/demo/mc3/conda-bld/threadpoolctl_1629802263681/work\n",
      "three-merge @ file:///tmp/build/80754af9/three-merge_1607553261110/work\n",
      "tifffile @ file:///C:/b/abs_45o5chuqwt/croot/tifffile_1695107511025/work\n",
      "tinycss2 @ file:///C:/ci_311/tinycss2_1676425376744/work\n",
      "tldextract @ file:///opt/conda/conda-bld/tldextract_1646638314385/work\n",
      "toml @ file:///tmp/build/80754af9/toml_1616166611790/work\n",
      "tomlkit @ file:///C:/ci_311/tomlkit_1676425418821/work\n",
      "toolz @ file:///C:/ci_311/toolz_1676431406517/work\n",
      "tornado @ file:///C:/b/abs_0cbrstidzg/croot/tornado_1696937003724/work\n",
      "tqdm @ file:///C:/b/abs_f76j9hg7pv/croot/tqdm_1679561871187/work\n",
      "traitlets @ file:///C:/ci_311/traitlets_1676423290727/work\n",
      "truststore @ file:///C:/b/abs_55z7b3r045/croot/truststore_1695245455435/work\n",
      "Twisted @ file:///C:/b/abs_e7yqd811in/croot/twisted_1708702883769/work\n",
      "twisted-iocpsupport @ file:///C:/ci_311/twisted-iocpsupport_1676447612160/work\n",
      "typing_extensions @ file:///C:/b/abs_72cdotwc_6/croot/typing_extensions_1705599364138/work\n",
      "tzdata @ file:///croot/python-tzdata_1690578112552/work\n",
      "tzlocal @ file:///C:/ci_311/tzlocal_1676439620276/work\n",
      "uc-micro-py @ file:///C:/ci_311/uc-micro-py_1676457695423/work\n",
      "ujson @ file:///C:/ci_311/ujson_1676434714224/work\n",
      "Unidecode @ file:///tmp/build/80754af9/unidecode_1614712377438/work\n",
      "urllib3 @ file:///C:/b/abs_0c3739ssy1/croot/urllib3_1707349314852/work\n",
      "validators @ file:///tmp/build/80754af9/validators_1612286467315/work\n",
      "w3lib @ file:///C:/b/abs_957begrwnl/croot/w3lib_1708640020760/work\n",
      "watchdog @ file:///C:/ci_311/watchdog_1676457923624/work\n",
      "wcwidth @ file:///Users/ktietz/demo/mc3/conda-bld/wcwidth_1629357192024/work\n",
      "webencodings==0.5.1\n",
      "websocket-client @ file:///C:/ci_311/websocket-client_1676426063281/work\n",
      "Werkzeug @ file:///C:/b/abs_8578rs2ra_/croot/werkzeug_1679489759009/work\n",
      "whatthepatch @ file:///C:/ci_311/whatthepatch_1678402578113/work\n",
      "widgetsnbextension @ file:///C:/b/abs_derxhz1biv/croot/widgetsnbextension_1701273671518/work\n",
      "win-inet-pton @ file:///C:/ci_311/win_inet_pton_1676425458225/work\n",
      "wrapt @ file:///C:/ci_311/wrapt_1676432805090/work\n",
      "xarray @ file:///C:/b/abs_5bkjiynp4e/croot/xarray_1689041498548/work\n",
      "xlwings @ file:///C:/ci_311_rebuilds/xlwings_1679013429160/work\n",
      "xyzservices @ file:///C:/ci_311/xyzservices_1676434829315/work\n",
      "yapf @ file:///tmp/build/80754af9/yapf_1615749224965/work\n",
      "yarl @ file:///C:/b/abs_8bxwdyhjvp/croot/yarl_1701105248152/work\n",
      "zict @ file:///C:/b/abs_780gyydtbp/croot/zict_1695832899404/work\n",
      "zipp @ file:///C:/b/abs_b0beoc27oa/croot/zipp_1704206963359/work\n",
      "zope.interface @ file:///C:/ci_311/zope.interface_1676439868776/work\n",
      "zstandard==0.19.0\n"
     ]
    }
   ],
   "source": [
    "!pip freeze "
   ]
  },
  {
   "cell_type": "code",
   "execution_count": null,
   "id": "23e6ddf2-d96f-4b45-a3c6-77ad6cf7c7e2",
   "metadata": {},
   "outputs": [],
   "source": []
  }
 ],
 "metadata": {
  "kernelspec": {
   "display_name": "Python 3 (ipykernel)",
   "language": "python",
   "name": "python3"
  },
  "language_info": {
   "codemirror_mode": {
    "name": "ipython",
    "version": 3
   },
   "file_extension": ".py",
   "mimetype": "text/x-python",
   "name": "python",
   "nbconvert_exporter": "python",
   "pygments_lexer": "ipython3",
   "version": "3.11.7"
  }
 },
 "nbformat": 4,
 "nbformat_minor": 5
}

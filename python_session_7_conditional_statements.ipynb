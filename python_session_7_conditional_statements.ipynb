{
 "cells": [
  {
   "cell_type": "markdown",
   "id": "362243e9-c65e-4ce8-93ff-35d01df2cc81",
   "metadata": {},
   "source": [
    "**Conditinal statements**"
   ]
  },
  {
   "cell_type": "markdown",
   "id": "ea5b54d6-d7b7-40dc-ba13-d147fe56df19",
   "metadata": {},
   "source": [
    "- conditinal statements means we want to run the code lines based on condition\n",
    "- If rain comes ill not go to school otherwise i will go to movie\n",
    "- Rain is there will effecr on process\n",
    "- Rain is not there it will effect another process\n",
    "- if\n",
    "- elif\n",
    "- else"
   ]
  },
  {
   "cell_type": "markdown",
   "id": "17aa9bcc-dd1d-4305-a293-1f2fb2311fdb",
   "metadata": {},
   "source": [
    "**If**"
   ]
  },
  {
   "cell_type": "code",
   "execution_count": null,
   "id": "e3027e75-6e38-465e-bd71-ba2bd29baaa3",
   "metadata": {},
   "outputs": [],
   "source": [
    "# syntax\n",
    "if <condition>:\n",
    "    <codeline1>\n",
    "    <codeline2>"
   ]
  },
  {
   "cell_type": "markdown",
   "id": "b2fdefee-6d1d-41e9-99cd-94f1b7700c0a",
   "metadata": {},
   "source": [
    "- whenever any line start with **keyword(green)** at the end of the line we have **colon(:)**\n",
    "- whenever we have a **colon(:)** the next lines start with some **gap**\n",
    "- and this gap is called as **indentation**\n",
    "- how many lines we are maintaining gap (indentation) that all are under one area"
   ]
  },
  {
   "cell_type": "markdown",
   "id": "af23ca7b-83e2-4e6e-a094-2102cfe87711",
   "metadata": {},
   "source": [
    "- if is a conditinal statement , it will check is true or false \n",
    "- if the condition will true then only it will enter inside the if area\n",
    "- and execute those code lines\n",
    "- if that condition will false, then it will not enter inside the if area\n",
    "- and it will not execute those code lines"
   ]
  },
  {
   "cell_type": "code",
   "execution_count": 1,
   "id": "c71e9c4c-1a66-4ee0-916a-80ebbb564b61",
   "metadata": {},
   "outputs": [
    {
     "data": {
      "text/plain": [
       "True"
      ]
     },
     "execution_count": 1,
     "metadata": {},
     "output_type": "execute_result"
    }
   ],
   "source": [
    "100>10"
   ]
  },
  {
   "cell_type": "code",
   "execution_count": 4,
   "id": "1b9822ea-99cb-4f72-87d4-6ab1cd6784fe",
   "metadata": {},
   "outputs": [
    {
     "name": "stdout",
     "output_type": "stream",
     "text": [
      "Hello\n"
     ]
    }
   ],
   "source": [
    "if 100>10:                       #if True:\n",
    "    print('Hello')\n",
    "# Indentation require four spaces"
   ]
  },
  {
   "cell_type": "markdown",
   "id": "2f143de8-09b3-44ce-9675-d8b64f7449fb",
   "metadata": {},
   "source": [
    "**Mistakes**\n",
    "- indentation\n",
    "- syntax colon(:) space after if\n",
    "- if will expect condition\n",
    "- missing brackets\n",
    "- never assign a variable to a print statement. print we are using to see the answer\n",
    "- all types of syntax errors"
   ]
  },
  {
   "cell_type": "code",
   "execution_count": 6,
   "id": "7ea31b46-a9de-42bc-bfb5-ab16398ba5d8",
   "metadata": {},
   "outputs": [
    {
     "name": "stdout",
     "output_type": "stream",
     "text": [
      "hello\n",
      "good morning\n"
     ]
    }
   ],
   "source": [
    "if 100>10:\n",
    "    print('hello')\n",
    "    print('good morning')"
   ]
  },
  {
   "cell_type": "code",
   "execution_count": 7,
   "id": "d33cf2a9-4e47-4e73-8e53-ba70b73e188f",
   "metadata": {},
   "outputs": [
    {
     "name": "stdout",
     "output_type": "stream",
     "text": [
      "hello\n",
      "good morning\n",
      "okay\n",
      "bye\n"
     ]
    }
   ],
   "source": [
    "if 100>10:\n",
    "    print('hello')\n",
    "    print('good morning')\n",
    "#################################\n",
    "print('okay')\n",
    "print('bye')"
   ]
  },
  {
   "cell_type": "code",
   "execution_count": 8,
   "id": "8ba697de-9c3d-490d-a70f-ed9f53244c33",
   "metadata": {},
   "outputs": [
    {
     "name": "stdout",
     "output_type": "stream",
     "text": [
      "10\n",
      "20\n",
      "hello\n",
      "good morning\n",
      "okay\n",
      "bye\n"
     ]
    }
   ],
   "source": [
    "print(10)\n",
    "print(20)\n",
    "########################\n",
    "if 100>10:\n",
    "    print('hello')\n",
    "    print('good morning')\n",
    "########################\n",
    "print('okay')\n",
    "print('bye')"
   ]
  },
  {
   "cell_type": "code",
   "execution_count": 11,
   "id": "31395fdd-cdab-4b8d-8ac9-1e08746d51a5",
   "metadata": {},
   "outputs": [
    {
     "name": "stdout",
     "output_type": "stream",
     "text": [
      "10\n",
      "hello\n",
      "good morning\n",
      "okay\n",
      "bye\n"
     ]
    }
   ],
   "source": [
    "print(10)\n",
    "if True:\n",
    "    print('hello')\n",
    "    print('good morning')\n",
    "print('okay')\n",
    "print('bye')"
   ]
  },
  {
   "cell_type": "code",
   "execution_count": 12,
   "id": "0f39acd8-4566-455b-b309-0d8a315d9e73",
   "metadata": {},
   "outputs": [
    {
     "name": "stdout",
     "output_type": "stream",
     "text": [
      "10\n",
      "okay\n",
      "bye\n"
     ]
    }
   ],
   "source": [
    "print(10)\n",
    "if 100<10:\n",
    "    print('hello')\n",
    "    print('good morning')\n",
    "print('okay')\n",
    "print('bye')"
   ]
  },
  {
   "cell_type": "code",
   "execution_count": 13,
   "id": "664a33af-4e1f-4b1c-a05b-5a01df57a56c",
   "metadata": {},
   "outputs": [
    {
     "data": {
      "text/plain": [
       "True"
      ]
     },
     "execution_count": 13,
     "metadata": {},
     "output_type": "execute_result"
    }
   ],
   "source": [
    "bool(100)"
   ]
  },
  {
   "cell_type": "code",
   "execution_count": 14,
   "id": "a368175f-07ae-4ddb-884d-ca6a8a3bf63e",
   "metadata": {},
   "outputs": [
    {
     "name": "stdout",
     "output_type": "stream",
     "text": [
      "10\n",
      "hello\n",
      "good morning\n",
      "okay\n",
      "bye\n"
     ]
    }
   ],
   "source": [
    "print(10)\n",
    "if 100:\n",
    "    print('hello')\n",
    "    print('good morning')\n",
    "print('okay')\n",
    "print('bye')"
   ]
  },
  {
   "cell_type": "code",
   "execution_count": 15,
   "id": "ce059068-6043-4e33-80ce-eeb1c7e26ace",
   "metadata": {},
   "outputs": [
    {
     "name": "stdout",
     "output_type": "stream",
     "text": [
      "10\n",
      "okay\n",
      "bye\n"
     ]
    }
   ],
   "source": [
    "print(10)\n",
    "if 0:\n",
    "    print('hello')\n",
    "    print('good morning')\n",
    "print('okay')\n",
    "print('bye')"
   ]
  },
  {
   "cell_type": "code",
   "execution_count": 16,
   "id": "2b65dad0-e045-40e2-b391-c5ebeafd82ee",
   "metadata": {},
   "outputs": [
    {
     "name": "stdout",
     "output_type": "stream",
     "text": [
      "10\n",
      "hello\n",
      "good morning\n",
      "okay\n",
      "bye\n"
     ]
    }
   ],
   "source": [
    "print(10)\n",
    "if 'hello':\n",
    "    print('hello')\n",
    "    print('good morning')\n",
    "print('okay')\n",
    "print('bye')"
   ]
  },
  {
   "cell_type": "markdown",
   "id": "cf6feb2e-d46c-4497-8bca-440694ddc780",
   "metadata": {},
   "source": [
    "**if-else**"
   ]
  },
  {
   "cell_type": "markdown",
   "id": "115aeacd-8e7b-4688-b3ee-3a2326eafc0d",
   "metadata": {},
   "source": [
    "- if the reequired condition\n",
    "- if that condition is true, then it will execute if block\n",
    "- otherwise it can directly go to else block\n",
    "- so else block does not require any condition"
   ]
  },
  {
   "cell_type": "code",
   "execution_count": null,
   "id": "b0c7e33c-76af-4eba-8685-4735ac5ceab5",
   "metadata": {},
   "outputs": [],
   "source": [
    "# syntax\n",
    "\n",
    "if <condition>:\n",
    "    <code line>\n",
    "else:\n",
    "    <code line>"
   ]
  },
  {
   "cell_type": "code",
   "execution_count": 17,
   "id": "52c46984-a1b0-4fe8-8f66-1a18510fba17",
   "metadata": {},
   "outputs": [
    {
     "name": "stdout",
     "output_type": "stream",
     "text": [
      "condn is correct\n"
     ]
    }
   ],
   "source": [
    "if 100>10:\n",
    "    print('condn is correct')\n",
    "else:\n",
    "    print('not good')"
   ]
  },
  {
   "cell_type": "code",
   "execution_count": 20,
   "id": "647eac71-006d-4a26-a2cc-349b8e91f4bd",
   "metadata": {},
   "outputs": [
    {
     "name": "stdout",
     "output_type": "stream",
     "text": [
      "hello\n",
      "condn is correct\n",
      "bye\n"
     ]
    }
   ],
   "source": [
    "print('hello')\n",
    "if 100>10:\n",
    "    print('condn is correct')\n",
    "else:\n",
    "    print('not good')\n",
    "print('bye')"
   ]
  },
  {
   "cell_type": "code",
   "execution_count": 21,
   "id": "d4d8e7c8-59a8-408e-b226-daf16cd9443b",
   "metadata": {},
   "outputs": [
    {
     "name": "stdout",
     "output_type": "stream",
     "text": [
      "10\n",
      "0\n",
      "10\n",
      "0.0\n"
     ]
    },
    {
     "ename": "ZeroDivisionError",
     "evalue": "division by zero",
     "output_type": "error",
     "traceback": [
      "\u001b[1;31m---------------------------------------------------------------------------\u001b[0m",
      "\u001b[1;31mZeroDivisionError\u001b[0m                         Traceback (most recent call last)",
      "Cell \u001b[1;32mIn[21], line 10\u001b[0m\n\u001b[0;32m      8\u001b[0m d\u001b[38;5;241m=\u001b[39mb\u001b[38;5;241m/\u001b[39ma\n\u001b[0;32m      9\u001b[0m \u001b[38;5;28mprint\u001b[39m(d)\n\u001b[1;32m---> 10\u001b[0m e\u001b[38;5;241m=\u001b[39ma\u001b[38;5;241m/\u001b[39mb\n\u001b[0;32m     11\u001b[0m \u001b[38;5;28mprint\u001b[39m(e)\n",
      "\u001b[1;31mZeroDivisionError\u001b[0m: division by zero"
     ]
    }
   ],
   "source": [
    "if True:\n",
    "    a=10\n",
    "    b=0\n",
    "    print(a)\n",
    "    print(b)\n",
    "    c=a+b\n",
    "    print(c)\n",
    "    d=b/a\n",
    "    print(d)\n",
    "    e=a/b\n",
    "    print(e)"
   ]
  },
  {
   "cell_type": "code",
   "execution_count": 22,
   "id": "84338267-d8e6-47a2-8b06-a2363d2dde5a",
   "metadata": {},
   "outputs": [
    {
     "data": {
      "text/plain": [
       "1.25"
      ]
     },
     "execution_count": 22,
     "metadata": {},
     "output_type": "execute_result"
    }
   ],
   "source": [
    "5/4   # normal divison"
   ]
  },
  {
   "cell_type": "code",
   "execution_count": 23,
   "id": "0d86473d-0e55-4a4d-9265-564b3a549877",
   "metadata": {},
   "outputs": [
    {
     "data": {
      "text/plain": [
       "1"
      ]
     },
     "execution_count": 23,
     "metadata": {},
     "output_type": "execute_result"
    }
   ],
   "source": [
    "5//4   #floor divison"
   ]
  },
  {
   "cell_type": "code",
   "execution_count": 24,
   "id": "21e49e1b-0f57-4480-977d-ddb3d8aa7999",
   "metadata": {},
   "outputs": [
    {
     "data": {
      "text/plain": [
       "1"
      ]
     },
     "execution_count": 24,
     "metadata": {},
     "output_type": "execute_result"
    }
   ],
   "source": [
    "#modulus operator\n",
    "5%4 #reminder"
   ]
  },
  {
   "cell_type": "code",
   "execution_count": null,
   "id": "d6660635-586a-43f4-9b93-0397cbe96873",
   "metadata": {},
   "outputs": [],
   "source": [
    "/ --- normal divison(return type float)\n",
    "// --- floor divison (return type int)\n",
    "% --- "
   ]
  },
  {
   "cell_type": "code",
   "execution_count": 25,
   "id": "668b2092-f8c8-4c8c-826b-0ff745990ed9",
   "metadata": {},
   "outputs": [
    {
     "name": "stdin",
     "output_type": "stream",
     "text": [
      "enter the number 10\n"
     ]
    },
    {
     "name": "stdout",
     "output_type": "stream",
     "text": [
      "the number is even\n"
     ]
    }
   ],
   "source": [
    "# wap ask the user enter a number\n",
    "# find it is a even number or odd number\n",
    "#idea: any number divide by 2, the remainder=0\n",
    "# it is called as even number\n",
    "\n",
    "num=eval(input('enter the number'))\n",
    "if num%2==0:\n",
    "    print('the number is even')\n",
    "else:\n",
    "    print('the number is odd')"
   ]
  },
  {
   "cell_type": "code",
   "execution_count": 2,
   "id": "8f8cc363-e75a-412d-8f6d-378357c87870",
   "metadata": {},
   "outputs": [
    {
     "name": "stdout",
     "output_type": "stream",
     "text": [
      "the number is 60\n",
      "the number is even\n"
     ]
    }
   ],
   "source": [
    "#i implement the above prblm by taking a random input between 1,100\n",
    "import random\n",
    "num=random.randint(1,100)\n",
    "print(f'the number is {num}')\n",
    "if num%2==0:\n",
    "    print('the number is even')\n",
    "else:\n",
    "    print('the number is odd')\n",
    "    "
   ]
  },
  {
   "cell_type": "code",
   "execution_count": 3,
   "id": "f219f41e-18e0-44d4-888f-507d439b2fcb",
   "metadata": {},
   "outputs": [
    {
     "name": "stdin",
     "output_type": "stream",
     "text": [
      "enter the start value 10\n",
      "enter the end value 100\n"
     ]
    },
    {
     "name": "stdout",
     "output_type": "stream",
     "text": [
      "the number is even\n"
     ]
    }
   ],
   "source": [
    "\n",
    "start=eval(input('enter the start value'))\n",
    "end=eval(input(\"enter the end value\"))\n",
    "num=random.randint(start,end)\n",
    "if num%2==0:\n",
    "    print('the number is even')\n",
    "else:\n",
    "    print('the number is odd')"
   ]
  },
  {
   "cell_type": "markdown",
   "id": "9ef6d686-5b7f-4a3b-a9b8-3d1be8062310",
   "metadata": {},
   "source": [
    "- we are providing means it is hard coded\n",
    "- code should be always generic, with out hard codings"
   ]
  },
  {
   "cell_type": "code",
   "execution_count": 13,
   "id": "f37e4ddc-92f9-4705-a355-b574b3b99ece",
   "metadata": {},
   "outputs": [
    {
     "name": "stdin",
     "output_type": "stream",
     "text": [
      "enter the distance: 100\n",
      "enter the charge in rs 5\n"
     ]
    },
    {
     "name": "stdout",
     "output_type": "stream",
     "text": [
      "the total charge is: 500\n"
     ]
    }
   ],
   "source": [
    "# wap ask the user enter the distance\n",
    "# if distance greater than 25km\n",
    "# then enter the charge\n",
    "# print the total cost \n",
    "# otherwise\n",
    "# print free ride\n",
    "\n",
    "distance=eval(input('enter the distance:'))\n",
    "if distance>25:\n",
    "    charge=eval(input('enter the charge in rs'))\n",
    "    cost=distance*charge\n",
    "    print(\"the total charge is:\",cost)\n",
    "else:\n",
    "    print(\"enjoy the free ride\")"
   ]
  },
  {
   "cell_type": "code",
   "execution_count": 16,
   "id": "bde1da3b-8e5d-41e4-ae58-58e31b88406f",
   "metadata": {},
   "outputs": [
    {
     "name": "stdin",
     "output_type": "stream",
     "text": [
      "enter the distance: 100\n",
      "enter the cut off distance in km: 50\n"
     ]
    },
    {
     "name": "stdout",
     "output_type": "stream",
     "text": [
      "kudos to you the chargable distance is: 50\n"
     ]
    },
    {
     "name": "stdin",
     "output_type": "stream",
     "text": [
      "enter the charge in rs 5\n"
     ]
    },
    {
     "name": "stdout",
     "output_type": "stream",
     "text": [
      "the total charge is: 250\n"
     ]
    }
   ],
   "source": [
    "# wap ask the user enter the distance\n",
    "# cutoff distance enter 25\n",
    "#if distance greater \n",
    "# print(\"good news your charge is applicable only remaining of 25\")\n",
    "# then enter the charge\n",
    "# print the total cost \n",
    "# otherwise\n",
    "# print free ride\n",
    "\n",
    "distance=eval(input('enter the distance:'))\n",
    "cutoff_distance=eval(input(\"enter the cut off distance in km:\"))\n",
    "if distance>cutoff_distance:\n",
    "    chargable_distance=distance-cutoff_distance\n",
    "    print(\"kudos to you the chargable distance is:\",chargable_distance)\n",
    "    charge=eval(input('enter the charge in rs'))\n",
    "    cost=chargable_distance*charge\n",
    "    print(\"the total charge is:\",cost)\n",
    "else:\n",
    "    print(\"enjoy the free ride\")"
   ]
  },
  {
   "cell_type": "code",
   "execution_count": 19,
   "id": "c2aa65d7-de2e-4f44-8f0e-f219e3e1b9f9",
   "metadata": {},
   "outputs": [
    {
     "name": "stdin",
     "output_type": "stream",
     "text": [
      "enter the course name datascience\n",
      "enter the institute name naresh it\n"
     ]
    },
    {
     "name": "stdout",
     "output_type": "stream",
     "text": [
      "good\n"
     ]
    }
   ],
   "source": [
    "# wap ask the user enter the course\n",
    "# ask the user enter the institute\n",
    "# if the course equal to data science and institute equal to naresh it \n",
    "# then you are good\n",
    "# otherwise\n",
    "# you are bad\n",
    "\n",
    "course=input(\"enter the course name\")\n",
    "institute=input(\"enter the institute name\")\n",
    "if course=='datascience' and institute=='naresh it':\n",
    "    print(\"good\")\n",
    "else:\n",
    "    print(\"bad\")"
   ]
  },
  {
   "cell_type": "code",
   "execution_count": 20,
   "id": "d0771702-af40-42c8-9d45-9775c624107f",
   "metadata": {},
   "outputs": [
    {
     "name": "stdin",
     "output_type": "stream",
     "text": [
      "enter the course name python\n",
      "enter the institute name naresh it\n"
     ]
    },
    {
     "name": "stdout",
     "output_type": "stream",
     "text": [
      "good\n"
     ]
    }
   ],
   "source": [
    "course=input(\"enter the course name\")\n",
    "institute=input(\"enter the institute name\")\n",
    "if course=='datascience' or institute=='naresh it':\n",
    "    print(\"good\")\n",
    "else:\n",
    "    print(\"bad\")"
   ]
  },
  {
   "cell_type": "markdown",
   "id": "6464e9cb-06c0-47d5-97b9-221223cd9c1e",
   "metadata": {},
   "source": [
    "- and means two conditions need to satisfy \n",
    "- or means any one condition enough to satisfy"
   ]
  },
  {
   "cell_type": "code",
   "execution_count": 25,
   "id": "4b6a250b-3ff6-4247-be72-e3ad91d0599c",
   "metadata": {},
   "outputs": [
    {
     "name": "stdin",
     "output_type": "stream",
     "text": [
      "enter num2: 9\n"
     ]
    },
    {
     "name": "stdout",
     "output_type": "stream",
     "text": [
      "you won\n"
     ]
    }
   ],
   "source": [
    "# wap ask the user enter a random number between 1 to 10\n",
    "# ask the user enter number to another number from keyboard\n",
    "# if num1 = num2\n",
    "# print you won \n",
    "# otherwise print you lost\n",
    "num1=random.randint(1,10)\n",
    "num2=eval(input(\"enter num2:\"))\n",
    "if num1==num2:\n",
    "    print(\"you won\")\n",
    "else:\n",
    "    print(\"you loose\")\n"
   ]
  },
  {
   "cell_type": "markdown",
   "id": "e165b00e-2823-4cf2-856c-f7d702914082",
   "metadata": {},
   "source": [
    "- Till now we have seen one condition problem\n",
    "- which means if that condition is True will get one answer\n",
    "- if that condition False then will get another answer\n",
    "- How about if we have more than 2 conditions \n",
    "- if-elif-else\n",
    "- Two conditions means 3 results\n",
    "- if has one condition\n",
    "- elif had second condition\n",
    "- if both are false then result is else"
   ]
  },
  {
   "cell_type": "raw",
   "id": "69291aba-7426-4b84-a78a-c9a1b6f893df",
   "metadata": {},
   "source": [
    "if <condition>:\n",
    "    <statements>\n",
    "elif <conditions>:\n",
    "    <statements>\n",
    "else:\n",
    "    <statement>\n",
    "\n",
    "if-else(1)\n",
    "if-elif-else(2)\n",
    "if-elif-elif-else(3)"
   ]
  },
  {
   "cell_type": "code",
   "execution_count": 26,
   "id": "183829c2-b3b1-4a15-9009-a9d3dcd9c45e",
   "metadata": {},
   "outputs": [
    {
     "name": "stdin",
     "output_type": "stream",
     "text": [
      "enter the number 5\n"
     ]
    },
    {
     "name": "stdout",
     "output_type": "stream",
     "text": [
      "enter the valid number\n"
     ]
    }
   ],
   "source": [
    "# wap ask the user enter number\n",
    "# if number equal to 1 then print one \n",
    "# if number equal to 2 then print two\n",
    "# if number equal to 3 then print three\n",
    "# otherwise print enter a valid number \n",
    "\n",
    "num=eval(input('enter the number'))\n",
    "if num==1:print(\"one\")\n",
    "elif num==2:print(\"two\")\n",
    "elif num==3:print(\"three\")\n",
    "else:print(\"enter the valid number\")"
   ]
  },
  {
   "cell_type": "code",
   "execution_count": 30,
   "id": "0be615fc-b481-4a10-99d5-0399e0412452",
   "metadata": {},
   "outputs": [
    {
     "name": "stdin",
     "output_type": "stream",
     "text": [
      "enter a number 0\n"
     ]
    },
    {
     "name": "stdout",
     "output_type": "stream",
     "text": [
      "zero\n"
     ]
    }
   ],
   "source": [
    "# wap ask the user enter a number\n",
    "# if that number greater than zero print positive \n",
    "# if that number less than zero print negative \n",
    "# otherwise print zero\n",
    "\n",
    "num=eval(input('enter a number'))\n",
    "if num > 0:\n",
    "    print(\"positive\")\n",
    "elif num < 0:\n",
    "    print(\"negative\")\n",
    "else:\n",
    "    print(\"zero\")"
   ]
  },
  {
   "cell_type": "code",
   "execution_count": 35,
   "id": "dda87799-8811-47b9-9b9d-b8f78a9e1b9f",
   "metadata": {},
   "outputs": [
    {
     "name": "stdin",
     "output_type": "stream",
     "text": [
      "enter the marks 35\n"
     ]
    },
    {
     "name": "stdout",
     "output_type": "stream",
     "text": [
      "you got D grade\n"
     ]
    }
   ],
   "source": [
    "# wap ask the user enter the percentage of marks 0 to 100\n",
    "# if percentage greater than 90 print A grade\n",
    "# if percentage between 75 to  90 print B grade \n",
    "# if percentage between 50 to 75 print C grade \n",
    "# if percentage between 35 to 50 print D grade \n",
    "# if percentage less than 35 print fail\n",
    "\n",
    "percentage=eval(input(\"enter the marks\"))\n",
    "if percentage>90:\n",
    "    print(\"you got A grade\")\n",
    "elif percentage>=75:\n",
    "    print(\"you got B grade\")\n",
    "elif percentage>=50:\n",
    "    print(\"you got C grade\")\n",
    "elif percentage>=35:\n",
    "    print(\"you got D grade\")\n",
    "else:\n",
    "    print(\"you are Fail\")"
   ]
  },
  {
   "cell_type": "code",
   "execution_count": 36,
   "id": "fe901fa0-6192-498f-83d7-a7416d85f2c1",
   "metadata": {},
   "outputs": [
    {
     "name": "stdin",
     "output_type": "stream",
     "text": [
      "enter the age 4\n"
     ]
    },
    {
     "name": "stdout",
     "output_type": "stream",
     "text": [
      "you are a kid\n"
     ]
    }
   ],
   "source": [
    "# wap ask the user enter the age\n",
    "# if the age if greater than 100 print you are lucky\n",
    "# if the age greater than 75 print old age \n",
    "# if the age between 50 to 75 senior citizen\n",
    "# if the age between 30 to 50 print middle age\n",
    "# if the age between 15 to 30 print young age\n",
    "# if the age is less than 15 print kid\n",
    "\n",
    "age=eval(input('enter the age'))\n",
    "if age>=100:\n",
    "    print('you are lucky')\n",
    "elif age>=75:\n",
    "    print('you are old age')\n",
    "elif age>=50:\n",
    "    print('you are senior citizen')\n",
    "elif age>=30:\n",
    "    print('you are middle age')\n",
    "elif age>=15:\n",
    "    print('you are young age')\n",
    "else:\n",
    "    print('you are a kid')"
   ]
  },
  {
   "cell_type": "code",
   "execution_count": 4,
   "id": "436036be-4653-4266-9363-f9acd9b20cef",
   "metadata": {},
   "outputs": [
    {
     "name": "stdin",
     "output_type": "stream",
     "text": [
      "enter num1 10\n",
      "enter num2 29\n"
     ]
    },
    {
     "name": "stdout",
     "output_type": "stream",
     "text": [
      "enter operation 1 for addition\n",
      "enter operation 2 for multiplication\n",
      "enter operation 3 for substraction\n",
      "enter operation 4 for division\n"
     ]
    },
    {
     "name": "stdin",
     "output_type": "stream",
     "text": [
      "enter the number 1/2/3/4 5\n"
     ]
    },
    {
     "name": "stdout",
     "output_type": "stream",
     "text": [
      "enter a valid number\n"
     ]
    }
   ],
   "source": [
    "# wap ask the user enter 2 numbers \n",
    "# num1\n",
    "# num2\n",
    "# you nedd to print\n",
    "# enter operation 1 for addition\n",
    "# enter operation 2 for multiplication\n",
    "# enter oper 3 for sub\n",
    "# enter oper 4 for div\n",
    "# enter the operation between 1 to 4\n",
    "# if operation equal to 1 then do add\n",
    "# if operation equal to 2 then do mul\n",
    "# if operation equal to 3 then do sub \n",
    "# if operation equal to 4 then do div \n",
    "# otherwise print enter a vaild number\n",
    "\n",
    "num1=eval(input('enter num1'))\n",
    "num2=eval(input('enter num2'))\n",
    "print('enter operation 1 for addition')\n",
    "print('enter operation 2 for multiplication')\n",
    "print('enter operation 3 for substraction')\n",
    "print('enter operation 4 for division')\n",
    "op=eval(input('enter the number 1/2/3/4'))\n",
    "if op==1:\n",
    "    add=num1+num2\n",
    "    print(f'Addition of two number is {add}')\n",
    "elif op==2:\n",
    "    mul=num1*num2\n",
    "    print(f'multiplication of two number is {mul}')\n",
    "elif op==3:\n",
    "    sub=num1-num2\n",
    "    print(f'substraction of two number is {sub}')\n",
    "elif op==4:\n",
    "    div=num1/num2\n",
    "    print(f'division of two number is {div}')\n",
    "else:\n",
    "    print('enter a valid number')"
   ]
  },
  {
   "cell_type": "code",
   "execution_count": 14,
   "id": "fc1b429b-6168-41d0-8318-317365e41627",
   "metadata": {},
   "outputs": [
    {
     "name": "stdin",
     "output_type": "stream",
     "text": [
      "enter the gender \"male or female\" female\n",
      "enter your age 34\n"
     ]
    },
    {
     "name": "stdout",
     "output_type": "stream",
     "text": [
      "you are middle age woman\n"
     ]
    }
   ],
   "source": [
    "# wap ask the user enter the gender \n",
    "# if gender equal to male\n",
    "#     ask the user enter age\n",
    "#     if the age greater than 60 print ss\n",
    "#     if the age between 30 to 60 print maman\n",
    "#     if the age between 15 to 30 print young man \n",
    "#     otherwise print boy\n",
    "# if gender equal to female\n",
    "#     ask the user enter age\n",
    "#     if the age greater than 60 print ss\n",
    "#     if the age between 30 to 60 print mawoman\n",
    "#     if the age between 15 to 30 print young girl \n",
    "#     otherwise print girl\n",
    "# otherwise:\n",
    "# print enter a valid gender\n",
    "\n",
    "gender=input('enter the gender \"male or female\"')\n",
    "if gender=='male':\n",
    "    age=int(input('enter your age'))\n",
    "    if age>60:\n",
    "        print('you are senior citizen')\n",
    "    elif age>30:\n",
    "        print('you are middle age man')\n",
    "    elif age>15:\n",
    "        print('you are a young boy')\n",
    "    else:\n",
    "        print('you are a boy')\n",
    "elif gender=='female':\n",
    "    age=int(input('enter your age'))\n",
    "    if age>60:\n",
    "        print('you are senior citizen')\n",
    "    elif age>30:\n",
    "        print('you are middle age woman')\n",
    "    elif age>15:\n",
    "        print('you are a young girl')\n",
    "    else:\n",
    "        print('you are a girl')\n",
    "else:\n",
    "    print('enter a valid gender')"
   ]
  },
  {
   "cell_type": "code",
   "execution_count": 18,
   "id": "7bab673c-3a09-435b-99ef-61ab54ea5860",
   "metadata": {},
   "outputs": [
    {
     "name": "stdin",
     "output_type": "stream",
     "text": [
      "enter a number 0\n"
     ]
    },
    {
     "name": "stdout",
     "output_type": "stream",
     "text": [
      "zero\n"
     ]
    }
   ],
   "source": [
    "# wap ask the user enter a number\n",
    "# if that number greater than or equal to zero\n",
    "#     if number equal to zero\n",
    "#        print zero\n",
    "#     else \n",
    "#        print positive number \n",
    "# else\n",
    "#      print negative number\n",
    "\n",
    "number=eval(input('enter a number'))\n",
    "if number>=0:\n",
    "    if number==0:\n",
    "        print('zero')\n",
    "    else:\n",
    "        print('positive number')\n",
    "else:\n",
    "    print('negative number')"
   ]
  },
  {
   "cell_type": "code",
   "execution_count": 20,
   "id": "69fb7e52-f956-4931-9fbb-273f4e647f48",
   "metadata": {},
   "outputs": [
    {
     "name": "stdin",
     "output_type": "stream",
     "text": [
      "enter the number1 10\n",
      "enter the number2 30\n",
      "enter the number3 20\n"
     ]
    },
    {
     "name": "stdout",
     "output_type": "stream",
     "text": [
      "the max value is 30\n"
     ]
    }
   ],
   "source": [
    "# take 3 numbers\n",
    "# num1 num2 num3\n",
    "# find the maximum value\n",
    "\n",
    "num1=eval(input('enter the number1'))\n",
    "num2=eval(input('enter the number2'))\n",
    "num3=eval(input('enter the number3'))\n",
    "if num1>num2:\n",
    "    print(f'the max value is {num1}')\n",
    "elif num2>num3:\n",
    "    print(f'the max value is {num2}')\n",
    "else:\n",
    "    print(f'the max value is {num3}')"
   ]
  },
  {
   "cell_type": "code",
   "execution_count": null,
   "id": "7d80bbe0-0e29-4934-91e7-460508be896f",
   "metadata": {},
   "outputs": [],
   "source": []
  }
 ],
 "metadata": {
  "kernelspec": {
   "display_name": "Python 3 (ipykernel)",
   "language": "python",
   "name": "python3"
  },
  "language_info": {
   "codemirror_mode": {
    "name": "ipython",
    "version": 3
   },
   "file_extension": ".py",
   "mimetype": "text/x-python",
   "name": "python",
   "nbconvert_exporter": "python",
   "pygments_lexer": "ipython3",
   "version": "3.11.7"
  }
 },
 "nbformat": 4,
 "nbformat_minor": 5
}

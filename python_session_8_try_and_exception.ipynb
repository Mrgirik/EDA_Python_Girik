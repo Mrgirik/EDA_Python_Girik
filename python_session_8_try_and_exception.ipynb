{
 "cells": [
  {
   "cell_type": "markdown",
   "id": "6fc57d06-69e1-4c65-9d11-26bea8786553",
   "metadata": {},
   "source": [
    "**Try and except**"
   ]
  },
  {
   "cell_type": "markdown",
   "id": "ef4a7f4e-17ae-4fdd-bb54-24aada91bb6a",
   "metadata": {},
   "source": [
    "- Generally in real time we will write 'n' number of python lines\n",
    "- There is a situation we might get an error, that error might be unknown\n",
    "- this unknowm error does not cause any harm\n",
    "- even though we are getting error we need to proceed further\n",
    "- alse we need to catch that error\n",
    "- Because we alreay know python is a sequential process\n",
    "- Means the lines will execute step by step\n",
    "- Suppose you have an error at particular line, the code will not stop at that line only\n",
    "- But you know that error is not harmful\n",
    "- so you want to continue the execution\n",
    "- then we required try-exception"
   ]
  },
  {
   "cell_type": "markdown",
   "id": "e5aaf72f-3396-4356-b6c5-b0b49ee465f7",
   "metadata": {},
   "source": [
    "- try-except has two blocks\n",
    "- try block as actual code\n",
    "- except block will catch the error"
   ]
  },
  {
   "cell_type": "code",
   "execution_count": 1,
   "id": "b98d8078-daf0-48e3-990b-e0433585a120",
   "metadata": {},
   "outputs": [
    {
     "name": "stdin",
     "output_type": "stream",
     "text": [
      "enter the number1: 10\n",
      "enter the number2: ten\n"
     ]
    },
    {
     "name": "stdout",
     "output_type": "stream",
     "text": [
      "hello\n",
      "you are getting error\n",
      "check the code properly\n"
     ]
    }
   ],
   "source": [
    "try:\n",
    "    n1=eval(input('enter the number1:'))\n",
    "    n2=eval(input('enter the number2:'))\n",
    "    add=n1+n2\n",
    "    print(add)\n",
    "except:\n",
    "    print('hello')\n",
    "    print('you are getting error')\n",
    "    print('check the code properly')"
   ]
  },
  {
   "cell_type": "markdown",
   "id": "beb7bf4f-7ac3-48c3-98b7-002e19d78666",
   "metadata": {},
   "source": [
    "**Note**\n",
    "- Generally try except block will use to catch the errors"
   ]
  },
  {
   "cell_type": "code",
   "execution_count": 8,
   "id": "d783b05f-d510-4b64-a6c3-21bdad880755",
   "metadata": {},
   "outputs": [
    {
     "name": "stdin",
     "output_type": "stream",
     "text": [
      "enter the number1: 2\n",
      "enter the number2: 3\n"
     ]
    },
    {
     "name": "stdout",
     "output_type": "stream",
     "text": [
      "the addition of 2 and 3 is 5\n",
      "the division of 2 and 3 is 0.6666666666666666\n"
     ]
    }
   ],
   "source": [
    "try:\n",
    "    n1=eval(input('enter the number1:'))\n",
    "    n2=eval(input('enter the number2:'))\n",
    "    add=n1+n2\n",
    "    div=n1/n2\n",
    "    print(f'the addition of {n1} and {n2} is {add}')\n",
    "    print(f'the division of {n1} and {n2} is {div}')\n",
    "except Exception as e:\n",
    "    print(f'the error is{e}')"
   ]
  },
  {
   "cell_type": "code",
   "execution_count": null,
   "id": "e3a6db2d-922c-4271-a2ea-0b142623b9bd",
   "metadata": {},
   "outputs": [],
   "source": [
    "# Now onwars every code \n",
    "# need to use try-except"
   ]
  },
  {
   "cell_type": "code",
   "execution_count": 10,
   "id": "11a4b4fd-81d5-4644-8a87-28dec8a6cb08",
   "metadata": {},
   "outputs": [
    {
     "name": "stdin",
     "output_type": "stream",
     "text": [
      "enter the number 1\n"
     ]
    },
    {
     "name": "stdout",
     "output_type": "stream",
     "text": [
      "the number is odd\n"
     ]
    }
   ],
   "source": [
    "try:\n",
    "    num=eval(input('enter the number'))\n",
    "    if num%2==0:\n",
    "        print('the number is even')\n",
    "    else:\n",
    "        print('the number is odd')\n",
    "except Exception as e:\n",
    "    print(e)"
   ]
  },
  {
   "cell_type": "code",
   "execution_count": 14,
   "id": "eef2194d-8a3b-4750-8235-f4dc45102cba",
   "metadata": {},
   "outputs": [
    {
     "name": "stdout",
     "output_type": "stream",
     "text": [
      "the number is 7\n",
      "the number is odd\n"
     ]
    }
   ],
   "source": [
    "try:\n",
    "    import random\n",
    "    num=random.randint(1,100)\n",
    "    print(f'the number is {num}')\n",
    "    if num%2==0:\n",
    "        print('the number is even')\n",
    "    else:\n",
    "        print('the number is odd')\n",
    "except Exception as e:\n",
    "    print(e)"
   ]
  },
  {
   "cell_type": "code",
   "execution_count": 16,
   "id": "0cb96e0f-51e5-4f85-ab19-fc92dabf1593",
   "metadata": {},
   "outputs": [
    {
     "name": "stdin",
     "output_type": "stream",
     "text": [
      "enter the distance: ten\n"
     ]
    },
    {
     "name": "stdout",
     "output_type": "stream",
     "text": [
      "name 'ten' is not defined\n"
     ]
    }
   ],
   "source": [
    "try:\n",
    "    distance=eval(input('enter the distance:'))\n",
    "    if distance>25:\n",
    "        charge=eval(input('enter the charge in rs'))\n",
    "        cost=distance*charge\n",
    "        print(\"the total charge is:\",cost)\n",
    "    else:\n",
    "        print(\"enjoy the free ride\")\n",
    "except Exception as e:\n",
    "    print(e)"
   ]
  },
  {
   "cell_type": "code",
   "execution_count": null,
   "id": "2d4aaf3b-0cc5-4709-aa22-4d0c26618495",
   "metadata": {},
   "outputs": [],
   "source": []
  }
 ],
 "metadata": {
  "kernelspec": {
   "display_name": "Python 3 (ipykernel)",
   "language": "python",
   "name": "python3"
  },
  "language_info": {
   "codemirror_mode": {
    "name": "ipython",
    "version": 3
   },
   "file_extension": ".py",
   "mimetype": "text/x-python",
   "name": "python",
   "nbconvert_exporter": "python",
   "pygments_lexer": "ipython3",
   "version": "3.11.7"
  }
 },
 "nbformat": 4,
 "nbformat_minor": 5
}
